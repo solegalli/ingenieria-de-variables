{
 "cells": [
  {
   "cell_type": "markdown",
   "metadata": {},
   "source": [
    "## Ejemplo 1: Préstamos Peer-to-Peer (Finanza)\n",
    "\n",
    "\n",
    "### El Modelo de Negocio\n",
    "\n",
    "Préstamos Peer-to-peer (abreviado P2P) ocurren cuando inversores prestan dinero directamente a personas o negocios a través de una plataforma online. La plataforma online pone en contacto de manera digital y automática a los prestamistas con los inversores, y conduce también el análisis crediticio y de riesgo necesario para determinar el riesgo del préstamo y la tasa de interés adecuada. Suele haber un menor costo de operación en los prestamos P2P, por esto los inversores obtienen retornos más altos, y los prestamistas intereses más bajos. Aunque hoy en día, esto ya no suele ser siempre así.\n",
    "\n",
    "### Compañía: Lending Club\n",
    "\n",
    "**Lending Club** es una compañía de préstamos P2P de los Estados Unidos. El trabajo de  Lending Club es poner en contacto, de manera digital, inversores con prestamistas. Cuando los inversores prestan dinero a través de Lending Club, el dinero es distribuido a los prestamistas, y cuando estos últimos devuelven el préstamo, el capital y el interés es devuelto a los inversores. \n",
    "Si quieres saber más acerca de Lending Club visita su [página web](https://www.lendingclub.com/).\n",
    "\n",
    "### El set de datos\n",
    "\n",
    "El set de datos proveniente de Lending Club contiene datos sobre préstamos desembolsados por la compañía, incluyendo el estado actual del préstamo al crearse el set de datos, (Current, Late, Fully Paid, etc.) e información acerca de pagos. Las variables incluyen también información acerca de la situación financiera y otros datos acerca del prestamista. \n",
    "El set de datos contiene alrededor de 890 mil observaciones y 75 variables. Puedes encontrar más detalles acerca de este set de datos en la página online de [Kaggle](https://www.kaggle.com/wendykan/lending-club-loan-data)\n",
    "\n",
    "### Bajar y guardar\n",
    "\n",
    "Para bajar el set de datos:\n",
    "\n",
    "- Visita la página de [Kaggle](https://www.kaggle.com/wendykan/lending-club-loan-data)\n",
    "- Navega hacia abajo y haz clic en el archivo llamado \"loan.csv\"\n",
    "- Haz clic luego el botón \"Download\" arriba de la pantalla\n",
    "- Descomprime el archivo\n",
    "- Mantiene el nombre del set de datos como \"loan.csv\"\n",
    "- Guarda el archivo en la carpeta que contiene los Jupyter notebooks en donde vez el archivo “GUARDA_DATASETS_AQUI”.\n",
    "\n",
    "**Atención:**\n",
    "- Necesitas estar logueado en Kaggle para bajar el set de datos.\n",
    "- Necesitas aceptar los términos y condiciones"
   ]
  },
  {
   "cell_type": "markdown",
   "metadata": {},
   "source": [
    "## Ejemplo 2: Predecir el precio de venta de casas\n",
    "\n",
    "En este set de datos, tenemos variables con características de las casas y los barrios en donde se encuentran localizadas, y el objetivo es predecir el precio de venta en base a estas variables. Predecir el precio de venta suele ser un dato útil para anticipar áreas en donde hacer futuras inversiones.\n",
    "\n",
    "### Bajar y guardar\n",
    "\n",
    "Par bajar el código haz lo siguiente:\n",
    "\n",
    "- Visita la [página web House Sale Price competition](https://www.kaggle.com/c/house-prices-advanced-regression-techniques/data)\n",
    "- Navega hacia abajo y haz clic en “train.csv” y luego en el botón de “Download” a la derecha\n",
    "- Cámbiale el nombre al set de datos a “houseprice.csv”\n",
    "- Guarda el set de datos en la carpeta que contiene los Jupyter notebooks, en donde vez el archivo “GUARDA_DATASETS_AQUI”.\n"
   ]
  },
  {
   "cell_type": "markdown",
   "metadata": {},
   "source": [
    "## Ejemplo 3: Predecir sobrevivencia en el Titanic\n",
    "\n",
    "### Historia\n",
    "Como probablemente sabes, el Titanic fue un lamentable hecho en donde el barco llamado Titanic choca con in tempano de hielo, y se hunde, terminando con la vida de 1502 de sus 2224 pasajeros. Es curioso, como el análisis de las características de los pasajeros revela datos interesantes acerca de quienes fueron priorizados al momento del salvataje, siendo la mayoría de los sobrevivientes mujeres y niños de clase alta. \n",
    "\n",
    "### Para generar el set de datos, sigue estas instrucciones"
   ]
  },
  {
   "cell_type": "code",
   "execution_count": 1,
   "metadata": {},
   "outputs": [],
   "source": [
    "import pandas as pd\n",
    "import numpy as np"
   ]
  },
  {
   "cell_type": "code",
   "execution_count": 2,
   "metadata": {},
   "outputs": [
    {
     "data": {
      "text/html": [
       "<div>\n",
       "<style scoped>\n",
       "    .dataframe tbody tr th:only-of-type {\n",
       "        vertical-align: middle;\n",
       "    }\n",
       "\n",
       "    .dataframe tbody tr th {\n",
       "        vertical-align: top;\n",
       "    }\n",
       "\n",
       "    .dataframe thead th {\n",
       "        text-align: right;\n",
       "    }\n",
       "</style>\n",
       "<table border=\"1\" class=\"dataframe\">\n",
       "  <thead>\n",
       "    <tr style=\"text-align: right;\">\n",
       "      <th></th>\n",
       "      <th>pclass</th>\n",
       "      <th>survived</th>\n",
       "      <th>name</th>\n",
       "      <th>sex</th>\n",
       "      <th>age</th>\n",
       "      <th>sibsp</th>\n",
       "      <th>parch</th>\n",
       "      <th>ticket</th>\n",
       "      <th>fare</th>\n",
       "      <th>cabin</th>\n",
       "      <th>embarked</th>\n",
       "      <th>boat</th>\n",
       "      <th>body</th>\n",
       "      <th>home.dest</th>\n",
       "    </tr>\n",
       "  </thead>\n",
       "  <tbody>\n",
       "    <tr>\n",
       "      <th>0</th>\n",
       "      <td>1</td>\n",
       "      <td>1</td>\n",
       "      <td>Allen, Miss. Elisabeth Walton</td>\n",
       "      <td>female</td>\n",
       "      <td>29</td>\n",
       "      <td>0</td>\n",
       "      <td>0</td>\n",
       "      <td>24160</td>\n",
       "      <td>211.3375</td>\n",
       "      <td>B5</td>\n",
       "      <td>S</td>\n",
       "      <td>2</td>\n",
       "      <td>?</td>\n",
       "      <td>St Louis, MO</td>\n",
       "    </tr>\n",
       "    <tr>\n",
       "      <th>1</th>\n",
       "      <td>1</td>\n",
       "      <td>1</td>\n",
       "      <td>Allison, Master. Hudson Trevor</td>\n",
       "      <td>male</td>\n",
       "      <td>0.9167</td>\n",
       "      <td>1</td>\n",
       "      <td>2</td>\n",
       "      <td>113781</td>\n",
       "      <td>151.55</td>\n",
       "      <td>C22 C26</td>\n",
       "      <td>S</td>\n",
       "      <td>11</td>\n",
       "      <td>?</td>\n",
       "      <td>Montreal, PQ / Chesterville, ON</td>\n",
       "    </tr>\n",
       "    <tr>\n",
       "      <th>2</th>\n",
       "      <td>1</td>\n",
       "      <td>0</td>\n",
       "      <td>Allison, Miss. Helen Loraine</td>\n",
       "      <td>female</td>\n",
       "      <td>2</td>\n",
       "      <td>1</td>\n",
       "      <td>2</td>\n",
       "      <td>113781</td>\n",
       "      <td>151.55</td>\n",
       "      <td>C22 C26</td>\n",
       "      <td>S</td>\n",
       "      <td>?</td>\n",
       "      <td>?</td>\n",
       "      <td>Montreal, PQ / Chesterville, ON</td>\n",
       "    </tr>\n",
       "    <tr>\n",
       "      <th>3</th>\n",
       "      <td>1</td>\n",
       "      <td>0</td>\n",
       "      <td>Allison, Mr. Hudson Joshua Creighton</td>\n",
       "      <td>male</td>\n",
       "      <td>30</td>\n",
       "      <td>1</td>\n",
       "      <td>2</td>\n",
       "      <td>113781</td>\n",
       "      <td>151.55</td>\n",
       "      <td>C22 C26</td>\n",
       "      <td>S</td>\n",
       "      <td>?</td>\n",
       "      <td>135</td>\n",
       "      <td>Montreal, PQ / Chesterville, ON</td>\n",
       "    </tr>\n",
       "    <tr>\n",
       "      <th>4</th>\n",
       "      <td>1</td>\n",
       "      <td>0</td>\n",
       "      <td>Allison, Mrs. Hudson J C (Bessie Waldo Daniels)</td>\n",
       "      <td>female</td>\n",
       "      <td>25</td>\n",
       "      <td>1</td>\n",
       "      <td>2</td>\n",
       "      <td>113781</td>\n",
       "      <td>151.55</td>\n",
       "      <td>C22 C26</td>\n",
       "      <td>S</td>\n",
       "      <td>?</td>\n",
       "      <td>?</td>\n",
       "      <td>Montreal, PQ / Chesterville, ON</td>\n",
       "    </tr>\n",
       "  </tbody>\n",
       "</table>\n",
       "</div>"
      ],
      "text/plain": [
       "   pclass  survived                                             name     sex  \\\n",
       "0       1         1                    Allen, Miss. Elisabeth Walton  female   \n",
       "1       1         1                   Allison, Master. Hudson Trevor    male   \n",
       "2       1         0                     Allison, Miss. Helen Loraine  female   \n",
       "3       1         0             Allison, Mr. Hudson Joshua Creighton    male   \n",
       "4       1         0  Allison, Mrs. Hudson J C (Bessie Waldo Daniels)  female   \n",
       "\n",
       "      age  sibsp  parch  ticket      fare    cabin embarked boat body  \\\n",
       "0      29      0      0   24160  211.3375       B5        S    2    ?   \n",
       "1  0.9167      1      2  113781    151.55  C22 C26        S   11    ?   \n",
       "2       2      1      2  113781    151.55  C22 C26        S    ?    ?   \n",
       "3      30      1      2  113781    151.55  C22 C26        S    ?  135   \n",
       "4      25      1      2  113781    151.55  C22 C26        S    ?    ?   \n",
       "\n",
       "                         home.dest  \n",
       "0                     St Louis, MO  \n",
       "1  Montreal, PQ / Chesterville, ON  \n",
       "2  Montreal, PQ / Chesterville, ON  \n",
       "3  Montreal, PQ / Chesterville, ON  \n",
       "4  Montreal, PQ / Chesterville, ON  "
      ]
     },
     "execution_count": 2,
     "metadata": {},
     "output_type": "execute_result"
    }
   ],
   "source": [
    "data = pd.read_csv('https://www.openml.org/data/get_csv/16826755/phpMYEkMl')\n",
    "data.head()"
   ]
  },
  {
   "cell_type": "code",
   "execution_count": 3,
   "metadata": {},
   "outputs": [
    {
     "data": {
      "text/plain": [
       "pclass          0\n",
       "survived        0\n",
       "name            0\n",
       "sex             0\n",
       "age           263\n",
       "sibsp           0\n",
       "parch           0\n",
       "ticket          0\n",
       "fare            1\n",
       "cabin        1014\n",
       "embarked        2\n",
       "boat          823\n",
       "body         1188\n",
       "home.dest     564\n",
       "dtype: int64"
      ]
     },
     "execution_count": 3,
     "metadata": {},
     "output_type": "execute_result"
    }
   ],
   "source": [
    "data = data.replace('?', np.nan)\n",
    "data.isnull().sum()"
   ]
  },
  {
   "cell_type": "code",
   "execution_count": 4,
   "metadata": {},
   "outputs": [],
   "source": [
    "def get_first_cabin(row):\n",
    "    try:\n",
    "        return row.split()[0]\n",
    "    except:\n",
    "        return np.nan "
   ]
  },
  {
   "cell_type": "code",
   "execution_count": 5,
   "metadata": {},
   "outputs": [],
   "source": [
    "data['cabin'] = data['cabin'].apply(get_first_cabin)"
   ]
  },
  {
   "cell_type": "code",
   "execution_count": 6,
   "metadata": {},
   "outputs": [],
   "source": [
    "data.to_csv('../titanic.csv', index=False)"
   ]
  },
  {
   "cell_type": "markdown",
   "metadata": {},
   "source": [
    "**Atención**\n",
    "\n",
    "Si ejecutas ese Jupyter notebook desde donde se localiza en la carpeta que contiene los Jupyter notebooks, el set de datos del titanic, se guardara en la carpeta adecuada.\n",
    "\n",
    "Sino, asegurate de que ese guardado en la carpeta que contiene los Jupyter notebooks, en donde vez el archivo que dice GUARDAR_DATASETS_AQUI\n"
   ]
  },
  {
   "cell_type": "code",
   "execution_count": null,
   "metadata": {},
   "outputs": [],
   "source": []
  }
 ],
 "metadata": {
  "kernelspec": {
   "display_name": "Python 3",
   "language": "python",
   "name": "python3"
  },
  "language_info": {
   "codemirror_mode": {
    "name": "ipython",
    "version": 3
   },
   "file_extension": ".py",
   "mimetype": "text/x-python",
   "name": "python",
   "nbconvert_exporter": "python",
   "pygments_lexer": "ipython3",
   "version": "3.7.3"
  },
  "toc": {
   "nav_menu": {},
   "number_sections": true,
   "sideBar": true,
   "skip_h1_title": false,
   "toc_cell": false,
   "toc_position": {},
   "toc_section_display": true,
   "toc_window_display": true
  }
 },
 "nbformat": 4,
 "nbformat_minor": 2
}
