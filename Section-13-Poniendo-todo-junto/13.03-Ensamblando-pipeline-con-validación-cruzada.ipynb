{
 "cells": [
  {
   "cell_type": "markdown",
   "metadata": {},
   "source": [
    "## Ensamblando un Pipeline the ingeniería de variables utilizando Feature-engine y validación cruzada\n",
    "\n",
    "En este notebook, te mostraremos cómo usar Feature-engine con el Pipeline (tubería) de Scikit-learn, utilizando validación cruzada. \n",
    "\n",
    "Te mostraremos como:\n",
    "- construir un árbol de potenciación de gradiente\n",
    "- usar feature-engine para los pasos de ingeniería de variables\n",
    "- construir un pipeline para toda la ingeniería de variables y predicción utilizando Scikit-learn Pipeline\n",
    "- entrenar un pipeline con validación cruzada, evaluando diferentes parámetros para la ingeniería de variables\n",
    "\n",
    "============================================================================\n",
    "\n",
    "## En este demo:\n",
    "\n",
    "Usaremos los datos del Titanic. Revisa la lección de Datos de la Sección 1 del curso, en donde encontrarás las instrucciones de como descargar los datos."
   ]
  },
  {
   "cell_type": "code",
   "execution_count": 1,
   "metadata": {},
   "outputs": [],
   "source": [
    "import pandas as pd\n",
    "import numpy as np\n",
    "import matplotlib.pyplot as plt\n",
    "\n",
    "# para el modelo\n",
    "from sklearn.model_selection import train_test_split, GridSearchCV\n",
    "from sklearn.ensemble import GradientBoostingClassifier\n",
    "from sklearn.metrics import roc_auc_score\n",
    "from sklearn.pipeline import Pipeline\n",
    "\n",
    "# para la ingeniería de variables\n",
    "from feature_engine import missing_data_imputers as mdi\n",
    "from feature_engine import discretisers as dsc\n",
    "from feature_engine import categorical_encoders as ce"
   ]
  },
  {
   "cell_type": "code",
   "execution_count": 2,
   "metadata": {},
   "outputs": [
    {
     "data": {
      "text/html": [
       "<div>\n",
       "<style scoped>\n",
       "    .dataframe tbody tr th:only-of-type {\n",
       "        vertical-align: middle;\n",
       "    }\n",
       "\n",
       "    .dataframe tbody tr th {\n",
       "        vertical-align: top;\n",
       "    }\n",
       "\n",
       "    .dataframe thead th {\n",
       "        text-align: right;\n",
       "    }\n",
       "</style>\n",
       "<table border=\"1\" class=\"dataframe\">\n",
       "  <thead>\n",
       "    <tr style=\"text-align: right;\">\n",
       "      <th></th>\n",
       "      <th>pclass</th>\n",
       "      <th>survived</th>\n",
       "      <th>sex</th>\n",
       "      <th>age</th>\n",
       "      <th>sibsp</th>\n",
       "      <th>parch</th>\n",
       "      <th>fare</th>\n",
       "      <th>cabin</th>\n",
       "      <th>embarked</th>\n",
       "    </tr>\n",
       "  </thead>\n",
       "  <tbody>\n",
       "    <tr>\n",
       "      <th>0</th>\n",
       "      <td>1</td>\n",
       "      <td>1</td>\n",
       "      <td>female</td>\n",
       "      <td>29.0000</td>\n",
       "      <td>0</td>\n",
       "      <td>0</td>\n",
       "      <td>211.3375</td>\n",
       "      <td>B5</td>\n",
       "      <td>S</td>\n",
       "    </tr>\n",
       "    <tr>\n",
       "      <th>1</th>\n",
       "      <td>1</td>\n",
       "      <td>1</td>\n",
       "      <td>male</td>\n",
       "      <td>0.9167</td>\n",
       "      <td>1</td>\n",
       "      <td>2</td>\n",
       "      <td>151.5500</td>\n",
       "      <td>C22</td>\n",
       "      <td>S</td>\n",
       "    </tr>\n",
       "    <tr>\n",
       "      <th>2</th>\n",
       "      <td>1</td>\n",
       "      <td>0</td>\n",
       "      <td>female</td>\n",
       "      <td>2.0000</td>\n",
       "      <td>1</td>\n",
       "      <td>2</td>\n",
       "      <td>151.5500</td>\n",
       "      <td>C22</td>\n",
       "      <td>S</td>\n",
       "    </tr>\n",
       "    <tr>\n",
       "      <th>3</th>\n",
       "      <td>1</td>\n",
       "      <td>0</td>\n",
       "      <td>male</td>\n",
       "      <td>30.0000</td>\n",
       "      <td>1</td>\n",
       "      <td>2</td>\n",
       "      <td>151.5500</td>\n",
       "      <td>C22</td>\n",
       "      <td>S</td>\n",
       "    </tr>\n",
       "    <tr>\n",
       "      <th>4</th>\n",
       "      <td>1</td>\n",
       "      <td>0</td>\n",
       "      <td>female</td>\n",
       "      <td>25.0000</td>\n",
       "      <td>1</td>\n",
       "      <td>2</td>\n",
       "      <td>151.5500</td>\n",
       "      <td>C22</td>\n",
       "      <td>S</td>\n",
       "    </tr>\n",
       "  </tbody>\n",
       "</table>\n",
       "</div>"
      ],
      "text/plain": [
       "   pclass  survived     sex      age  sibsp  parch      fare cabin embarked\n",
       "0       1         1  female  29.0000      0      0  211.3375    B5        S\n",
       "1       1         1    male   0.9167      1      2  151.5500   C22        S\n",
       "2       1         0  female   2.0000      1      2  151.5500   C22        S\n",
       "3       1         0    male  30.0000      1      2  151.5500   C22        S\n",
       "4       1         0  female  25.0000      1      2  151.5500   C22        S"
      ]
     },
     "execution_count": 2,
     "metadata": {},
     "output_type": "execute_result"
    }
   ],
   "source": [
    "# cargar los datos\n",
    "\n",
    "cols = [\n",
    "    'pclass', 'sex', 'age', 'sibsp', 'parch', 'fare', 'cabin',\n",
    "    'embarked', 'survived'\n",
    "]\n",
    "\n",
    "data = pd.read_csv('../titanic.csv', usecols=cols)\n",
    "\n",
    "data.head()"
   ]
  },
  {
   "cell_type": "code",
   "execution_count": 3,
   "metadata": {},
   "outputs": [],
   "source": [
    "# Cabin: extraer la parte numérica y categórica y\n",
    "# borrar la variable original\n",
    "\n",
    "data['cabin_num'] = data['cabin'].str.extract('(\\d+)') # captura la parte numérica\n",
    "data['cabin_num'] = data['cabin_num'].astype('float')\n",
    "data['cabin_cat'] = data['cabin'].str[0] # captura la primera letra \n",
    "\n",
    "data.drop(['cabin'], axis=1, inplace=True)"
   ]
  },
  {
   "cell_type": "code",
   "execution_count": 4,
   "metadata": {},
   "outputs": [
    {
     "name": "stdout",
     "output_type": "stream",
     "text": [
      "Hay 3 variables discretas\n",
      "Hay 3 variables continuas\n",
      "Hay 3 variables categóricas\n"
     ]
    }
   ],
   "source": [
    "# crear lista con los tipos de variables\n",
    "\n",
    "# numérica: discreta y continua\n",
    "discrete = [\n",
    "    var for var in data.columns if data[var].dtype != 'O' and var != 'survived'\n",
    "    and data[var].nunique() < 10\n",
    "]\n",
    "continuous = [\n",
    "    var for var in data.columns\n",
    "    if data[var].dtype != 'O' and var != 'survived' and var not in discrete\n",
    "]\n",
    "\n",
    "# categórica\n",
    "categorical = [var for var in data.columns if data[var].dtype == 'O']\n",
    "\n",
    "print('Hay {} variables discretas'.format(len(discrete)))\n",
    "print('Hay {} variables continuas'.format(len(continuous)))\n",
    "print('Hay {} variables categóricas'.format(len(categorical)))"
   ]
  },
  {
   "cell_type": "code",
   "execution_count": 5,
   "metadata": {},
   "outputs": [
    {
     "data": {
      "text/plain": [
       "((1178, 9), (131, 9))"
      ]
     },
     "execution_count": 5,
     "metadata": {},
     "output_type": "execute_result"
    }
   ],
   "source": [
    "# separar en sets de entrenamiento y prueba \n",
    "\n",
    "X_train, X_test, y_train, y_test = train_test_split(\n",
    "    data.drop('survived', axis=1),  # predictores\n",
    "    data['survived'],  # target\n",
    "    test_size=0.1,  # porcentaje de obs in set de prueba\n",
    "    random_state=0)  # semilla para garantizar reproducibilidad\n",
    "X_train.shape, X_test.shape"
   ]
  },
  {
   "cell_type": "markdown",
   "metadata": {},
   "source": [
    "### Contruir pipeline (tubería)"
   ]
  },
  {
   "cell_type": "code",
   "execution_count": 6,
   "metadata": {},
   "outputs": [],
   "source": [
    "titanic_pipe = Pipeline([\n",
    "\n",
    "    # imputación datos faltantes- sección 4\n",
    "    ('imputer_num',\n",
    "     mdi.ArbitraryNumberImputer(arbitrary_number=-1,\n",
    "                                variables=['age', 'fare', 'cabin_num'])),\n",
    "    ('imputer_cat',\n",
    "     mdi.CategoricalVariableImputer(variables=['embarked', 'cabin_cat'])),\n",
    "\n",
    "    # codificación variables categóricas - sección 6\n",
    "    ('encoder_rare_label',\n",
    "     ce.RareLabelCategoricalEncoder(tol=0.01,\n",
    "                                    n_categories=2,\n",
    "                                    variables=['embarked', 'cabin_cat'])),\n",
    "    ('categorical_encoder',\n",
    "     ce.OrdinalCategoricalEncoder(encoding_method='ordered',\n",
    "                                  variables=['cabin_cat', 'sex', 'embarked'])),\n",
    "\n",
    "    # máquina de potenciación de gradiente\n",
    "    ('gbm', GradientBoostingClassifier(random_state=0))\n",
    "])"
   ]
  },
  {
   "cell_type": "markdown",
   "metadata": {},
   "source": [
    "## Cuadrícula de parámetros y estrategia de validación cruzada "
   ]
  },
  {
   "cell_type": "code",
   "execution_count": 7,
   "metadata": {},
   "outputs": [],
   "source": [
    "# creamos la cuadrícula con todos los parámetros\n",
    "# that we would like to test\n",
    "\n",
    "param_grid = {\n",
    "    # evaluar diferentes opciones de ingeniería de variables\n",
    "    'imputer_num__arbitrary_number': [-1, 99],\n",
    "    'encoder_rare_label__tol': [0.1, 0.2],\n",
    "    'categorical_encoder__encoding_method': ['ordered', 'arbitrary'],\n",
    "    \n",
    "    # evaluar diferentes parámetros máquina de potenciación de gradiente\n",
    "    'gbm__max_depth': [None, 1, 3],\n",
    "}\n",
    "\n",
    "\n",
    "# cuadrícula para la búsqueda de parámetros (GridSearch)\n",
    "# with validación cruzada \n",
    "grid_search = GridSearchCV(titanic_pipe, param_grid,\n",
    "                           cv=5, iid=False, n_jobs=-1, scoring='roc_auc')\n",
    "\n",
    "# cv=5 número de pasos validación cruzada\n",
    "# no_jobs =-1 indica que todos los cpus se deben usar\n",
    "# scoring='roc-auc' indica que el desempeño del modelo se debe evaluar \n",
    "# con el roc-auc\n",
    "\n",
    "# si quieres más información acerca de los parámetros visita el\n",
    "# siguiente enlace de skitlearn\n",
    "# https://scikit-learn.org/stable/modules/generated/sklearn.model_selection.GridSearchCV.html"
   ]
  },
  {
   "cell_type": "code",
   "execution_count": 8,
   "metadata": {},
   "outputs": [
    {
     "name": "stdout",
     "output_type": "stream",
     "text": [
      "Mejor roc-auc en la cuadricula para la búsqueda de parámetros: 0.930\n"
     ]
    }
   ],
   "source": [
    "# y ahora entrenamos evaluando todas las combinaciones \n",
    "# de los parámetros fijados en la celda anterior\n",
    "grid_search.fit(X_train, y_train)\n",
    "\n",
    "# imprimimos el mejor puntaje en el set de entrenamiento\n",
    "print((\"Mejor roc-auc en la cuadricula para la búsqueda de parámetros: %.3f\"\n",
    "       % grid_search.score(X_train, y_train)))"
   ]
  },
  {
   "cell_type": "code",
   "execution_count": 9,
   "metadata": {},
   "outputs": [
    {
     "data": {
      "text/plain": [
       "Pipeline(memory=None,\n",
       "         steps=[('imputer_num',\n",
       "                 ArbitraryNumberImputer(arbitrary_number=99,\n",
       "                                        variables=['age', 'fare',\n",
       "                                                   'cabin_num'])),\n",
       "                ('imputer_cat',\n",
       "                 CategoricalVariableImputer(variables=['embarked',\n",
       "                                                       'cabin_cat'])),\n",
       "                ('encoder_rare_label',\n",
       "                 RareLabelCategoricalEncoder(n_categories=2, tol=0.1,\n",
       "                                             variables=['embarked',\n",
       "                                                        'cabin_cat'])),\n",
       "                ('categorical_encoder',\n",
       "                 OrdinalCatego...\n",
       "                                            learning_rate=0.1, loss='deviance',\n",
       "                                            max_depth=3, max_features=None,\n",
       "                                            max_leaf_nodes=None,\n",
       "                                            min_impurity_decrease=0.0,\n",
       "                                            min_impurity_split=None,\n",
       "                                            min_samples_leaf=1,\n",
       "                                            min_samples_split=2,\n",
       "                                            min_weight_fraction_leaf=0.0,\n",
       "                                            n_estimators=100,\n",
       "                                            n_iter_no_change=None,\n",
       "                                            presort='auto', random_state=0,\n",
       "                                            subsample=1.0, tol=0.0001,\n",
       "                                            validation_fraction=0.1, verbose=0,\n",
       "                                            warm_start=False))],\n",
       "         verbose=False)"
      ]
     },
     "execution_count": 9,
     "metadata": {},
     "output_type": "execute_result"
    }
   ],
   "source": [
    "# también podemos imprimir los parámetros\n",
    "# para el mejor estimador así:\n",
    "grid_search.best_estimator_"
   ]
  },
  {
   "cell_type": "code",
   "execution_count": 10,
   "metadata": {},
   "outputs": [
    {
     "data": {
      "text/plain": [
       "{'categorical_encoder__encoding_method': 'ordered',\n",
       " 'encoder_rare_label__tol': 0.1,\n",
       " 'gbm__max_depth': 3,\n",
       " 'imputer_num__arbitrary_number': 99}"
      ]
     },
     "execution_count": 10,
     "metadata": {},
     "output_type": "execute_result"
    }
   ],
   "source": [
    "# y podemos ver los parámetros óptimos encontrados de la cuadrícula así:\n",
    "grid_search.best_params_"
   ]
  },
  {
   "cell_type": "code",
   "execution_count": 11,
   "metadata": {
    "scrolled": true
   },
   "outputs": [
    {
     "data": {
      "text/plain": [
       "[{'categorical_encoder__encoding_method': 'ordered',\n",
       "  'encoder_rare_label__tol': 0.1,\n",
       "  'gbm__max_depth': None,\n",
       "  'imputer_num__arbitrary_number': -1},\n",
       " {'categorical_encoder__encoding_method': 'ordered',\n",
       "  'encoder_rare_label__tol': 0.1,\n",
       "  'gbm__max_depth': None,\n",
       "  'imputer_num__arbitrary_number': 99},\n",
       " {'categorical_encoder__encoding_method': 'ordered',\n",
       "  'encoder_rare_label__tol': 0.1,\n",
       "  'gbm__max_depth': 1,\n",
       "  'imputer_num__arbitrary_number': -1},\n",
       " {'categorical_encoder__encoding_method': 'ordered',\n",
       "  'encoder_rare_label__tol': 0.1,\n",
       "  'gbm__max_depth': 1,\n",
       "  'imputer_num__arbitrary_number': 99},\n",
       " {'categorical_encoder__encoding_method': 'ordered',\n",
       "  'encoder_rare_label__tol': 0.1,\n",
       "  'gbm__max_depth': 3,\n",
       "  'imputer_num__arbitrary_number': -1},\n",
       " {'categorical_encoder__encoding_method': 'ordered',\n",
       "  'encoder_rare_label__tol': 0.1,\n",
       "  'gbm__max_depth': 3,\n",
       "  'imputer_num__arbitrary_number': 99},\n",
       " {'categorical_encoder__encoding_method': 'ordered',\n",
       "  'encoder_rare_label__tol': 0.2,\n",
       "  'gbm__max_depth': None,\n",
       "  'imputer_num__arbitrary_number': -1},\n",
       " {'categorical_encoder__encoding_method': 'ordered',\n",
       "  'encoder_rare_label__tol': 0.2,\n",
       "  'gbm__max_depth': None,\n",
       "  'imputer_num__arbitrary_number': 99},\n",
       " {'categorical_encoder__encoding_method': 'ordered',\n",
       "  'encoder_rare_label__tol': 0.2,\n",
       "  'gbm__max_depth': 1,\n",
       "  'imputer_num__arbitrary_number': -1},\n",
       " {'categorical_encoder__encoding_method': 'ordered',\n",
       "  'encoder_rare_label__tol': 0.2,\n",
       "  'gbm__max_depth': 1,\n",
       "  'imputer_num__arbitrary_number': 99},\n",
       " {'categorical_encoder__encoding_method': 'ordered',\n",
       "  'encoder_rare_label__tol': 0.2,\n",
       "  'gbm__max_depth': 3,\n",
       "  'imputer_num__arbitrary_number': -1},\n",
       " {'categorical_encoder__encoding_method': 'ordered',\n",
       "  'encoder_rare_label__tol': 0.2,\n",
       "  'gbm__max_depth': 3,\n",
       "  'imputer_num__arbitrary_number': 99},\n",
       " {'categorical_encoder__encoding_method': 'arbitrary',\n",
       "  'encoder_rare_label__tol': 0.1,\n",
       "  'gbm__max_depth': None,\n",
       "  'imputer_num__arbitrary_number': -1},\n",
       " {'categorical_encoder__encoding_method': 'arbitrary',\n",
       "  'encoder_rare_label__tol': 0.1,\n",
       "  'gbm__max_depth': None,\n",
       "  'imputer_num__arbitrary_number': 99},\n",
       " {'categorical_encoder__encoding_method': 'arbitrary',\n",
       "  'encoder_rare_label__tol': 0.1,\n",
       "  'gbm__max_depth': 1,\n",
       "  'imputer_num__arbitrary_number': -1},\n",
       " {'categorical_encoder__encoding_method': 'arbitrary',\n",
       "  'encoder_rare_label__tol': 0.1,\n",
       "  'gbm__max_depth': 1,\n",
       "  'imputer_num__arbitrary_number': 99},\n",
       " {'categorical_encoder__encoding_method': 'arbitrary',\n",
       "  'encoder_rare_label__tol': 0.1,\n",
       "  'gbm__max_depth': 3,\n",
       "  'imputer_num__arbitrary_number': -1},\n",
       " {'categorical_encoder__encoding_method': 'arbitrary',\n",
       "  'encoder_rare_label__tol': 0.1,\n",
       "  'gbm__max_depth': 3,\n",
       "  'imputer_num__arbitrary_number': 99},\n",
       " {'categorical_encoder__encoding_method': 'arbitrary',\n",
       "  'encoder_rare_label__tol': 0.2,\n",
       "  'gbm__max_depth': None,\n",
       "  'imputer_num__arbitrary_number': -1},\n",
       " {'categorical_encoder__encoding_method': 'arbitrary',\n",
       "  'encoder_rare_label__tol': 0.2,\n",
       "  'gbm__max_depth': None,\n",
       "  'imputer_num__arbitrary_number': 99},\n",
       " {'categorical_encoder__encoding_method': 'arbitrary',\n",
       "  'encoder_rare_label__tol': 0.2,\n",
       "  'gbm__max_depth': 1,\n",
       "  'imputer_num__arbitrary_number': -1},\n",
       " {'categorical_encoder__encoding_method': 'arbitrary',\n",
       "  'encoder_rare_label__tol': 0.2,\n",
       "  'gbm__max_depth': 1,\n",
       "  'imputer_num__arbitrary_number': 99},\n",
       " {'categorical_encoder__encoding_method': 'arbitrary',\n",
       "  'encoder_rare_label__tol': 0.2,\n",
       "  'gbm__max_depth': 3,\n",
       "  'imputer_num__arbitrary_number': -1},\n",
       " {'categorical_encoder__encoding_method': 'arbitrary',\n",
       "  'encoder_rare_label__tol': 0.2,\n",
       "  'gbm__max_depth': 3,\n",
       "  'imputer_num__arbitrary_number': 99}]"
      ]
     },
     "execution_count": 11,
     "metadata": {},
     "output_type": "execute_result"
    }
   ],
   "source": [
    "# aquí podemos ver todas las combinaciones evaluadas\n",
    "# durante el gridsearch\n",
    "grid_search.cv_results_['params']"
   ]
  },
  {
   "cell_type": "code",
   "execution_count": 12,
   "metadata": {},
   "outputs": [
    {
     "data": {
      "text/plain": [
       "array([0.82947986, 0.8286403 , 0.84155143, 0.84542691, 0.86242112,\n",
       "       0.86825992, 0.82964545, 0.83183916, 0.84221378, 0.84529895,\n",
       "       0.86267702, 0.86760509, 0.82746927, 0.82427869, 0.84168279,\n",
       "       0.84558796, 0.86236819, 0.86787681, 0.82859828, 0.82770335,\n",
       "       0.84240535, 0.84546753, 0.86230045, 0.86766606])"
      ]
     },
     "execution_count": 12,
     "metadata": {},
     "output_type": "execute_result"
    }
   ],
   "source": [
    "# aquí podemos ver el puntaje por cada una de las combinaciones\n",
    "# de parámetros\n",
    "grid_search.cv_results_['mean_test_score']"
   ]
  },
  {
   "cell_type": "code",
   "execution_count": 13,
   "metadata": {},
   "outputs": [
    {
     "name": "stdout",
     "output_type": "stream",
     "text": [
      "best linear regression from grid search: 0.848\n"
     ]
    }
   ],
   "source": [
    "# y finalmente revisemos el desempeño en el set the prueba\n",
    "print((\"best linear regression from grid search: %.3f\"\n",
    "       % grid_search.score(X_test, y_test)))"
   ]
  },
  {
   "cell_type": "code",
   "execution_count": 14,
   "metadata": {},
   "outputs": [
    {
     "data": {
      "text/plain": [
       "<matplotlib.axes._subplots.AxesSubplot at 0x10c8a1c88>"
      ]
     },
     "execution_count": 14,
     "metadata": {},
     "output_type": "execute_result"
    },
    {
     "data": {
      "image/png": "[encoded data removed]",
      "text/plain": [
       "<Figure size 864x432 with 1 Axes>"
      ]
     },
     "metadata": {
      "needs_background": "light"
     },
     "output_type": "display_data"
    }
   ],
   "source": [
    "# exploremos la importancia de cada una de las variables\n",
    "\n",
    "importance = pd.Series(grid_search.best_estimator_['gbm'].feature_importances_)\n",
    "importance.index = data.drop('survived', axis=1).columns\n",
    "importance.sort_values(inplace=True, ascending=False)\n",
    "importance.plot.bar(figsize=(12,6))"
   ]
  }
 ],
 "metadata": {
  "kernelspec": {
   "display_name": "feml",
   "language": "python",
   "name": "feml"
  },
  "language_info": {
   "codemirror_mode": {
    "name": "ipython",
    "version": 3
   },
   "file_extension": ".py",
   "mimetype": "text/x-python",
   "name": "python",
   "nbconvert_exporter": "python",
   "pygments_lexer": "ipython3",
   "version": "3.7.3"
  },
  "toc": {
   "nav_menu": {},
   "number_sections": true,
   "sideBar": true,
   "skip_h1_title": false,
   "toc_cell": false,
   "toc_position": {
    "height": "583px",
    "left": "0px",
    "right": "1324px",
    "top": "107px",
    "width": "326px"
   },
   "toc_section_display": "block",
   "toc_window_display": true
  }
 },
 "nbformat": 4,
 "nbformat_minor": 2
}
