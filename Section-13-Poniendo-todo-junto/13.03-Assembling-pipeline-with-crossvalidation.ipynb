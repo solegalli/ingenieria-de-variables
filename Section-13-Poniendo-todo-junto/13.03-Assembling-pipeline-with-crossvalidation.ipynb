{
 "cells": [
  {
   "cell_type": "markdown",
   "metadata": {},
   "source": [
    "## Assembling a Feature Engineering Pipeline with Feature-engine and Cross-validation\n",
    "\n",
    "In this notebook, I will show you how to use Feature-engine within the Scikit-learn pipeline, utilizing cross-validation. \n",
    "\n",
    "I will:\n",
    "- build a gradient boosted tree\n",
    "- use feature-engine for the feature engineering steps\n",
    "- set up an entire engineering and prediction pipeline using a Scikit-learn Pipeline\n",
    "- train the pipeline with cross-validation, looking over different feature-engineering parameters\n",
    "\n",
    "============================================================================\n",
    "\n",
    "## In this demo:\n",
    "\n",
    "We will use the titanic dataset, please refer to lecture **Datasets** in Section 1 of the course for instructions on how to download and prepare this dataset."
   ]
  },
  {
   "cell_type": "code",
   "execution_count": 1,
   "metadata": {},
   "outputs": [],
   "source": [
    "import pandas as pd\n",
    "import numpy as np\n",
    "import matplotlib.pyplot as plt\n",
    "\n",
    "# for the model\n",
    "from sklearn.model_selection import train_test_split, GridSearchCV\n",
    "from sklearn.ensemble import GradientBoostingClassifier\n",
    "from sklearn.metrics import roc_auc_score\n",
    "from sklearn.pipeline import Pipeline\n",
    "\n",
    "# for feature engineering\n",
    "from feature_engine import missing_data_imputers as mdi\n",
    "from feature_engine import discretisers as dsc\n",
    "from feature_engine import categorical_encoders as ce"
   ]
  },
  {
   "cell_type": "code",
   "execution_count": 2,
   "metadata": {},
   "outputs": [
    {
     "data": {
      "text/html": [
       "<div>\n",
       "<style scoped>\n",
       "    .dataframe tbody tr th:only-of-type {\n",
       "        vertical-align: middle;\n",
       "    }\n",
       "\n",
       "    .dataframe tbody tr th {\n",
       "        vertical-align: top;\n",
       "    }\n",
       "\n",
       "    .dataframe thead th {\n",
       "        text-align: right;\n",
       "    }\n",
       "</style>\n",
       "<table border=\"1\" class=\"dataframe\">\n",
       "  <thead>\n",
       "    <tr style=\"text-align: right;\">\n",
       "      <th></th>\n",
       "      <th>pclass</th>\n",
       "      <th>survived</th>\n",
       "      <th>sex</th>\n",
       "      <th>age</th>\n",
       "      <th>sibsp</th>\n",
       "      <th>parch</th>\n",
       "      <th>fare</th>\n",
       "      <th>cabin</th>\n",
       "      <th>embarked</th>\n",
       "    </tr>\n",
       "  </thead>\n",
       "  <tbody>\n",
       "    <tr>\n",
       "      <th>0</th>\n",
       "      <td>1</td>\n",
       "      <td>1</td>\n",
       "      <td>female</td>\n",
       "      <td>29.0000</td>\n",
       "      <td>0</td>\n",
       "      <td>0</td>\n",
       "      <td>211.3375</td>\n",
       "      <td>B5</td>\n",
       "      <td>S</td>\n",
       "    </tr>\n",
       "    <tr>\n",
       "      <th>1</th>\n",
       "      <td>1</td>\n",
       "      <td>1</td>\n",
       "      <td>male</td>\n",
       "      <td>0.9167</td>\n",
       "      <td>1</td>\n",
       "      <td>2</td>\n",
       "      <td>151.5500</td>\n",
       "      <td>C22</td>\n",
       "      <td>S</td>\n",
       "    </tr>\n",
       "    <tr>\n",
       "      <th>2</th>\n",
       "      <td>1</td>\n",
       "      <td>0</td>\n",
       "      <td>female</td>\n",
       "      <td>2.0000</td>\n",
       "      <td>1</td>\n",
       "      <td>2</td>\n",
       "      <td>151.5500</td>\n",
       "      <td>C22</td>\n",
       "      <td>S</td>\n",
       "    </tr>\n",
       "    <tr>\n",
       "      <th>3</th>\n",
       "      <td>1</td>\n",
       "      <td>0</td>\n",
       "      <td>male</td>\n",
       "      <td>30.0000</td>\n",
       "      <td>1</td>\n",
       "      <td>2</td>\n",
       "      <td>151.5500</td>\n",
       "      <td>C22</td>\n",
       "      <td>S</td>\n",
       "    </tr>\n",
       "    <tr>\n",
       "      <th>4</th>\n",
       "      <td>1</td>\n",
       "      <td>0</td>\n",
       "      <td>female</td>\n",
       "      <td>25.0000</td>\n",
       "      <td>1</td>\n",
       "      <td>2</td>\n",
       "      <td>151.5500</td>\n",
       "      <td>C22</td>\n",
       "      <td>S</td>\n",
       "    </tr>\n",
       "  </tbody>\n",
       "</table>\n",
       "</div>"
      ],
      "text/plain": [
       "   pclass  survived     sex      age  sibsp  parch      fare cabin embarked\n",
       "0       1         1  female  29.0000      0      0  211.3375    B5        S\n",
       "1       1         1    male   0.9167      1      2  151.5500   C22        S\n",
       "2       1         0  female   2.0000      1      2  151.5500   C22        S\n",
       "3       1         0    male  30.0000      1      2  151.5500   C22        S\n",
       "4       1         0  female  25.0000      1      2  151.5500   C22        S"
      ]
     },
     "execution_count": 2,
     "metadata": {},
     "output_type": "execute_result"
    }
   ],
   "source": [
    "# load dataset\n",
    "\n",
    "cols = [\n",
    "    'pclass', 'sex', 'age', 'sibsp', 'parch', 'fare', 'cabin',\n",
    "    'embarked', 'survived'\n",
    "]\n",
    "\n",
    "data = pd.read_csv('../titanic.csv', usecols=cols)\n",
    "\n",
    "data.head()"
   ]
  },
  {
   "cell_type": "code",
   "execution_count": 3,
   "metadata": {},
   "outputs": [],
   "source": [
    "# Cabin: extract numerical and categorical part and delete original variable\n",
    "\n",
    "data['cabin_num'] = data['cabin'].str.extract('(\\d+)') # captures numerical part\n",
    "data['cabin_num'] = data['cabin_num'].astype('float')\n",
    "data['cabin_cat'] = data['cabin'].str[0] # captures the first letter\n",
    "\n",
    "data.drop(['cabin'], axis=1, inplace=True)"
   ]
  },
  {
   "cell_type": "code",
   "execution_count": 4,
   "metadata": {},
   "outputs": [
    {
     "name": "stdout",
     "output_type": "stream",
     "text": [
      "There are 3 discrete variables\n",
      "There are 3 continuous variables\n",
      "There are 3 categorical variables\n"
     ]
    }
   ],
   "source": [
    "# make list of variables types\n",
    "\n",
    "# numerical: discrete and continuous\n",
    "discrete = [\n",
    "    var for var in data.columns if data[var].dtype != 'O' and var != 'survived'\n",
    "    and data[var].nunique() < 10\n",
    "]\n",
    "continuous = [\n",
    "    var for var in data.columns\n",
    "    if data[var].dtype != 'O' and var != 'survived' and var not in discrete\n",
    "]\n",
    "\n",
    "# categorical\n",
    "categorical = [var for var in data.columns if data[var].dtype == 'O']\n",
    "\n",
    "print('There are {} discrete variables'.format(len(discrete)))\n",
    "print('There are {} continuous variables'.format(len(continuous)))\n",
    "print('There are {} categorical variables'.format(len(categorical)))"
   ]
  },
  {
   "cell_type": "code",
   "execution_count": 5,
   "metadata": {},
   "outputs": [
    {
     "data": {
      "text/plain": [
       "((1178, 9), (131, 9))"
      ]
     },
     "execution_count": 5,
     "metadata": {},
     "output_type": "execute_result"
    }
   ],
   "source": [
    "# separate into training and testing set\n",
    "\n",
    "X_train, X_test, y_train, y_test = train_test_split(\n",
    "    data.drop('survived', axis=1),  # predictors\n",
    "    data['survived'],  # target\n",
    "    test_size=0.1,  # percentage of obs in test set\n",
    "    random_state=0)  # seed to ensure reproducibility\n",
    "\n",
    "X_train.shape, X_test.shape"
   ]
  },
  {
   "cell_type": "markdown",
   "metadata": {},
   "source": [
    "### Set up the pipeline"
   ]
  },
  {
   "cell_type": "code",
   "execution_count": 6,
   "metadata": {},
   "outputs": [],
   "source": [
    "titanic_pipe = Pipeline([\n",
    "\n",
    "    # missing data imputation - section 4\n",
    "    ('imputer_num',\n",
    "     mdi.ArbitraryNumberImputer(arbitrary_number=-1,\n",
    "                                variables=['age', 'fare', 'cabin_num'])),\n",
    "    ('imputer_cat',\n",
    "     mdi.CategoricalVariableImputer(variables=['embarked', 'cabin_cat'])),\n",
    "\n",
    "    # categorical encoding - section 6\n",
    "    ('encoder_rare_label',\n",
    "     ce.RareLabelCategoricalEncoder(tol=0.01,\n",
    "                                    n_categories=2,\n",
    "                                    variables=['embarked', 'cabin_cat'])),\n",
    "    ('categorical_encoder',\n",
    "     ce.OrdinalCategoricalEncoder(encoding_method='ordered',\n",
    "                                  variables=['cabin_cat', 'sex', 'embarked'])),\n",
    "\n",
    "    # Gradient Boosted machine\n",
    "    ('gbm', GradientBoostingClassifier(random_state=0))\n",
    "])"
   ]
  },
  {
   "cell_type": "markdown",
   "metadata": {},
   "source": [
    "## Set up the Grid ad the cross-validation strategy"
   ]
  },
  {
   "cell_type": "code",
   "execution_count": 7,
   "metadata": {},
   "outputs": [],
   "source": [
    "# now we create the grid with all the parameters that we would like to test\n",
    "\n",
    "param_grid = {\n",
    "    # try different feature engineering parameters\n",
    "    'imputer_num__arbitrary_number': [-1, 99],\n",
    "    'encoder_rare_label__tol': [0.1, 0.2],\n",
    "    'categorical_encoder__encoding_method': ['ordered', 'arbitrary'],\n",
    "    \n",
    "    # try different gradient boosted tree model paramenters\n",
    "    'gbm__max_depth': [None, 1, 3],\n",
    "}\n",
    "\n",
    "\n",
    "# now we set up the grid search with cross-validation\n",
    "grid_search = GridSearchCV(titanic_pipe, param_grid,\n",
    "                           cv=5, iid=False, n_jobs=-1, scoring='roc_auc')\n",
    "\n",
    "# cv=5 is the cross-validation steps\n",
    "# no_jobs =-1 indicates to use all available cpus\n",
    "# scoring='roc-auc' indicates to evaluate the model performance with the roc-auc\n",
    "\n",
    "# for more details in the grid parameters visit:\n",
    "# https://scikit-learn.org/stable/modules/generated/sklearn.model_selection.GridSearchCV.html"
   ]
  },
  {
   "cell_type": "code",
   "execution_count": 8,
   "metadata": {},
   "outputs": [
    {
     "name": "stdout",
     "output_type": "stream",
     "text": [
      "best roc-auc from grid search: 0.930\n"
     ]
    }
   ],
   "source": [
    "# and now we train over all the possible combinations of the parameters above\n",
    "grid_search.fit(X_train, y_train)\n",
    "\n",
    "# and we print the best score over the train set\n",
    "print((\"best roc-auc from grid search: %.3f\"\n",
    "       % grid_search.score(X_train, y_train)))"
   ]
  },
  {
   "cell_type": "code",
   "execution_count": 9,
   "metadata": {},
   "outputs": [
    {
     "data": {
      "text/plain": [
       "Pipeline(memory=None,\n",
       "         steps=[('imputer_num',\n",
       "                 ArbitraryNumberImputer(arbitrary_number=99,\n",
       "                                        variables=['age', 'fare',\n",
       "                                                   'cabin_num'])),\n",
       "                ('imputer_cat',\n",
       "                 CategoricalVariableImputer(variables=['embarked',\n",
       "                                                       'cabin_cat'])),\n",
       "                ('encoder_rare_label',\n",
       "                 RareLabelCategoricalEncoder(n_categories=2, tol=0.1,\n",
       "                                             variables=['embarked',\n",
       "                                                        'cabin_cat'])),\n",
       "                ('categorical_encoder',\n",
       "                 OrdinalCatego...\n",
       "                                            learning_rate=0.1, loss='deviance',\n",
       "                                            max_depth=3, max_features=None,\n",
       "                                            max_leaf_nodes=None,\n",
       "                                            min_impurity_decrease=0.0,\n",
       "                                            min_impurity_split=None,\n",
       "                                            min_samples_leaf=1,\n",
       "                                            min_samples_split=2,\n",
       "                                            min_weight_fraction_leaf=0.0,\n",
       "                                            n_estimators=100,\n",
       "                                            n_iter_no_change=None,\n",
       "                                            presort='auto', random_state=0,\n",
       "                                            subsample=1.0, tol=0.0001,\n",
       "                                            validation_fraction=0.1, verbose=0,\n",
       "                                            warm_start=False))],\n",
       "         verbose=False)"
      ]
     },
     "execution_count": 9,
     "metadata": {},
     "output_type": "execute_result"
    }
   ],
   "source": [
    "# we can print the best estimator parameters like this\n",
    "grid_search.best_estimator_"
   ]
  },
  {
   "cell_type": "code",
   "execution_count": 10,
   "metadata": {},
   "outputs": [
    {
     "data": {
      "text/plain": [
       "{'categorical_encoder__encoding_method': 'ordered',\n",
       " 'encoder_rare_label__tol': 0.1,\n",
       " 'gbm__max_depth': 3,\n",
       " 'imputer_num__arbitrary_number': 99}"
      ]
     },
     "execution_count": 10,
     "metadata": {},
     "output_type": "execute_result"
    }
   ],
   "source": [
    "# and find the best fit parameters like this\n",
    "grid_search.best_params_"
   ]
  },
  {
   "cell_type": "code",
   "execution_count": 11,
   "metadata": {
    "scrolled": true
   },
   "outputs": [
    {
     "data": {
      "text/plain": [
       "[{'categorical_encoder__encoding_method': 'ordered',\n",
       "  'encoder_rare_label__tol': 0.1,\n",
       "  'gbm__max_depth': None,\n",
       "  'imputer_num__arbitrary_number': -1},\n",
       " {'categorical_encoder__encoding_method': 'ordered',\n",
       "  'encoder_rare_label__tol': 0.1,\n",
       "  'gbm__max_depth': None,\n",
       "  'imputer_num__arbitrary_number': 99},\n",
       " {'categorical_encoder__encoding_method': 'ordered',\n",
       "  'encoder_rare_label__tol': 0.1,\n",
       "  'gbm__max_depth': 1,\n",
       "  'imputer_num__arbitrary_number': -1},\n",
       " {'categorical_encoder__encoding_method': 'ordered',\n",
       "  'encoder_rare_label__tol': 0.1,\n",
       "  'gbm__max_depth': 1,\n",
       "  'imputer_num__arbitrary_number': 99},\n",
       " {'categorical_encoder__encoding_method': 'ordered',\n",
       "  'encoder_rare_label__tol': 0.1,\n",
       "  'gbm__max_depth': 3,\n",
       "  'imputer_num__arbitrary_number': -1},\n",
       " {'categorical_encoder__encoding_method': 'ordered',\n",
       "  'encoder_rare_label__tol': 0.1,\n",
       "  'gbm__max_depth': 3,\n",
       "  'imputer_num__arbitrary_number': 99},\n",
       " {'categorical_encoder__encoding_method': 'ordered',\n",
       "  'encoder_rare_label__tol': 0.2,\n",
       "  'gbm__max_depth': None,\n",
       "  'imputer_num__arbitrary_number': -1},\n",
       " {'categorical_encoder__encoding_method': 'ordered',\n",
       "  'encoder_rare_label__tol': 0.2,\n",
       "  'gbm__max_depth': None,\n",
       "  'imputer_num__arbitrary_number': 99},\n",
       " {'categorical_encoder__encoding_method': 'ordered',\n",
       "  'encoder_rare_label__tol': 0.2,\n",
       "  'gbm__max_depth': 1,\n",
       "  'imputer_num__arbitrary_number': -1},\n",
       " {'categorical_encoder__encoding_method': 'ordered',\n",
       "  'encoder_rare_label__tol': 0.2,\n",
       "  'gbm__max_depth': 1,\n",
       "  'imputer_num__arbitrary_number': 99},\n",
       " {'categorical_encoder__encoding_method': 'ordered',\n",
       "  'encoder_rare_label__tol': 0.2,\n",
       "  'gbm__max_depth': 3,\n",
       "  'imputer_num__arbitrary_number': -1},\n",
       " {'categorical_encoder__encoding_method': 'ordered',\n",
       "  'encoder_rare_label__tol': 0.2,\n",
       "  'gbm__max_depth': 3,\n",
       "  'imputer_num__arbitrary_number': 99},\n",
       " {'categorical_encoder__encoding_method': 'arbitrary',\n",
       "  'encoder_rare_label__tol': 0.1,\n",
       "  'gbm__max_depth': None,\n",
       "  'imputer_num__arbitrary_number': -1},\n",
       " {'categorical_encoder__encoding_method': 'arbitrary',\n",
       "  'encoder_rare_label__tol': 0.1,\n",
       "  'gbm__max_depth': None,\n",
       "  'imputer_num__arbitrary_number': 99},\n",
       " {'categorical_encoder__encoding_method': 'arbitrary',\n",
       "  'encoder_rare_label__tol': 0.1,\n",
       "  'gbm__max_depth': 1,\n",
       "  'imputer_num__arbitrary_number': -1},\n",
       " {'categorical_encoder__encoding_method': 'arbitrary',\n",
       "  'encoder_rare_label__tol': 0.1,\n",
       "  'gbm__max_depth': 1,\n",
       "  'imputer_num__arbitrary_number': 99},\n",
       " {'categorical_encoder__encoding_method': 'arbitrary',\n",
       "  'encoder_rare_label__tol': 0.1,\n",
       "  'gbm__max_depth': 3,\n",
       "  'imputer_num__arbitrary_number': -1},\n",
       " {'categorical_encoder__encoding_method': 'arbitrary',\n",
       "  'encoder_rare_label__tol': 0.1,\n",
       "  'gbm__max_depth': 3,\n",
       "  'imputer_num__arbitrary_number': 99},\n",
       " {'categorical_encoder__encoding_method': 'arbitrary',\n",
       "  'encoder_rare_label__tol': 0.2,\n",
       "  'gbm__max_depth': None,\n",
       "  'imputer_num__arbitrary_number': -1},\n",
       " {'categorical_encoder__encoding_method': 'arbitrary',\n",
       "  'encoder_rare_label__tol': 0.2,\n",
       "  'gbm__max_depth': None,\n",
       "  'imputer_num__arbitrary_number': 99},\n",
       " {'categorical_encoder__encoding_method': 'arbitrary',\n",
       "  'encoder_rare_label__tol': 0.2,\n",
       "  'gbm__max_depth': 1,\n",
       "  'imputer_num__arbitrary_number': -1},\n",
       " {'categorical_encoder__encoding_method': 'arbitrary',\n",
       "  'encoder_rare_label__tol': 0.2,\n",
       "  'gbm__max_depth': 1,\n",
       "  'imputer_num__arbitrary_number': 99},\n",
       " {'categorical_encoder__encoding_method': 'arbitrary',\n",
       "  'encoder_rare_label__tol': 0.2,\n",
       "  'gbm__max_depth': 3,\n",
       "  'imputer_num__arbitrary_number': -1},\n",
       " {'categorical_encoder__encoding_method': 'arbitrary',\n",
       "  'encoder_rare_label__tol': 0.2,\n",
       "  'gbm__max_depth': 3,\n",
       "  'imputer_num__arbitrary_number': 99}]"
      ]
     },
     "execution_count": 11,
     "metadata": {},
     "output_type": "execute_result"
    }
   ],
   "source": [
    "# here we can see all the combinations evaluated during the gridsearch\n",
    "grid_search.cv_results_['params']"
   ]
  },
  {
   "cell_type": "code",
   "execution_count": 12,
   "metadata": {},
   "outputs": [
    {
     "data": {
      "text/plain": [
       "array([0.82947986, 0.82859433, 0.84155143, 0.84542691, 0.86234449,\n",
       "       0.86825992, 0.82964545, 0.83179318, 0.84221378, 0.84529895,\n",
       "       0.8626004 , 0.86762015, 0.82746927, 0.82429402, 0.84168279,\n",
       "       0.84558796, 0.86236819, 0.86787681, 0.82859828, 0.82771868,\n",
       "       0.84240535, 0.84546753, 0.86230045, 0.86768111])"
      ]
     },
     "execution_count": 12,
     "metadata": {},
     "output_type": "execute_result"
    }
   ],
   "source": [
    "# and here the scores for each of one of the above combinations\n",
    "grid_search.cv_results_['mean_test_score']"
   ]
  },
  {
   "cell_type": "code",
   "execution_count": 13,
   "metadata": {},
   "outputs": [
    {
     "name": "stdout",
     "output_type": "stream",
     "text": [
      "best linear regression from grid search: 0.848\n"
     ]
    }
   ],
   "source": [
    "# and finally let's check the performance over the test set\n",
    "print((\"best linear regression from grid search: %.3f\"\n",
    "       % grid_search.score(X_test, y_test)))"
   ]
  },
  {
   "cell_type": "code",
   "execution_count": 14,
   "metadata": {},
   "outputs": [
    {
     "data": {
      "text/plain": [
       "<matplotlib.axes._subplots.AxesSubplot at 0xcd51433c18>"
      ]
     },
     "execution_count": 14,
     "metadata": {},
     "output_type": "execute_result"
    },
    {
     "data": {
      "image/png": "[encoded data removed]",
      "text/plain": [
       "<Figure size 864x432 with 1 Axes>"
      ]
     },
     "metadata": {
      "needs_background": "light"
     },
     "output_type": "display_data"
    }
   ],
   "source": [
    "# let's explore the importance of the features\n",
    "\n",
    "importance = pd.Series(grid_search.best_estimator_['gbm'].feature_importances_)\n",
    "importance.index = data.drop('survived', axis=1).columns\n",
    "importance.sort_values(inplace=True, ascending=False)\n",
    "importance.plot.bar(figsize=(12,6))"
   ]
  }
 ],
 "metadata": {
  "kernelspec": {
   "display_name": "feml",
   "language": "python",
   "name": "feml"
  },
  "language_info": {
   "codemirror_mode": {
    "name": "ipython",
    "version": 3
   },
   "file_extension": ".py",
   "mimetype": "text/x-python",
   "name": "python",
   "nbconvert_exporter": "python",
   "pygments_lexer": "ipython3",
   "version": "3.7.3"
  },
  "toc": {
   "nav_menu": {},
   "number_sections": true,
   "sideBar": true,
   "skip_h1_title": false,
   "toc_cell": false,
   "toc_position": {
    "height": "583px",
    "left": "0px",
    "right": "1324px",
    "top": "107px",
    "width": "326px"
   },
   "toc_section_display": "block",
   "toc_window_display": true
  }
 },
 "nbformat": 4,
 "nbformat_minor": 2
}
