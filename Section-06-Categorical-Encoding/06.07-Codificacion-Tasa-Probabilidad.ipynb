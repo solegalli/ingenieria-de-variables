{
 "cells": [
  {
   "cell_type": "markdown",
   "metadata": {},
   "source": [
    "## Codificación Tasa Probabilidad\n",
    "\n",
    "En las lecciones anteriores de esta sección, vimos como convertir una etiqueta en un número usando codificación one-hot, reemplazando por un dígito o reemplazando por la frecuencia o número de observaciones. Estos métodos son sencillos, y no (o casi nunca) hacen supuestos y funcionan generalmente bien en una variedad de escenarios.\n",
    "\n",
    "Hay métodos que por el contrario si permiten capturar  información y a la vez pre-procesar las etiquetas de una variable categórica. Estos métodos incluyen:\n",
    "\n",
    "- Ordenar las etiquetas de acuerdo al target\n",
    "- Reemplazar las etiquetas por el promedio del target (codificación por la media / por el target) \n",
    "- Reemplazar las etiquetas por el radio de probabilidad del target ser ya sea 1 o 0\n",
    "- Pesos de evidencia (Weight of evidence)\n",
    "\n",
    "Todos estos métodos tienen algo en común:\n",
    "- la codificación es **guiada por el target**, y\n",
    "- crean una **relación monotónica** entre la variable y el target\n",
    "\n",
    "\n",
    "### Monotonicidad\n",
    "\n",
    "Una relación monotónica es una relación que tiene lo siguiente:\n",
    "\n",
    "- (1) cuando el valor de una variable incrementa, asi mismo sucede con la otra variable; o\n",
    "- (2) cuando el valor de una variable incrementa, el valor de la otra variable decrece.\n",
    "\n",
    "En este caso, si el valor de la variable independiente ( predictor) incrementa, lo mismo sucede con el target, o por el contrario, si la variable incrementa, el valor del target decrece.\n",
    "\n",
    "\n",
    "### Ventajas \n",
    "\n",
    "- Captura la información dentro de la categoría, por lo tanto incrementa el poder predictivo de las variables.\n",
    "- Crea una relación monotónica entre la variable y el target, por lo tanto es adecuada para modelos lineales.\n",
    "- No expande el espacio de las variables\n",
    "\n",
    "\n",
    "### Limitaciones\n",
    "\n",
    "- Tiende a causar sobreajustes\n",
    "- Es difícil de validar usando las librerías existentes\n",
    "\n",
    "### Nota\n",
    "\n",
    "Los métodos discutidos en esta y las próximas 3 lecciones pueden ser usados con variables numéricas, luego de discretizarlas. Esto crea una relación monotónica entre la variable numérica y el target y por lo tanto mejora el desempeño de los modelos lineales. Discutiremos esto en mas detalle en la sección \"Discretización\"\n",
    "\n",
    "\n",
    "===============================================================================\n",
    "\n",
    "## Codificación Tasa Probabilidad\n",
    "\n",
    "Este tipo de codificación se puede usar solamente para problemas de clasificación, donde el target es binario.\n",
    "\n",
    "Por cada categoría, calculamos el promedio del target=1, es decir, la probabilidad de que el target sea 1 ( P(1) ), y la probabilidad de que el target=0 ( P(0) ). Y luego calculamos la proporción P(1)/P(0) y reemplazamos las categorías por esa tasa.\n",
    "\n",
    "\n",
    "## En este demo:\n",
    "\n",
    "Vamos a ver como calcular esta codificación usando:\n",
    "- pandas\n",
    "- Feature-Engine\n",
    "\n",
    "y las ventajas y limitaciones de cada una de estas implementaciones usando los datos del Titanic.\n",
    "\n"
   ]
  },
  {
   "cell_type": "code",
   "execution_count": 1,
   "metadata": {
    "scrolled": true
   },
   "outputs": [],
   "source": [
    "import numpy as np\n",
    "import pandas as pd\n",
    "\n",
    "import matplotlib.pyplot as plt\n",
    "\n",
    "# separar el datasets\n",
    "from sklearn.model_selection import train_test_split\n",
    "\n",
    "# codificación con feature-engine\n",
    "from feature_engine.categorical_encoders import WoERatioCategoricalEncoder"
   ]
  },
  {
   "cell_type": "code",
   "execution_count": 2,
   "metadata": {},
   "outputs": [
    {
     "data": {
      "text/html": [
       "<div>\n",
       "<style scoped>\n",
       "    .dataframe tbody tr th:only-of-type {\n",
       "        vertical-align: middle;\n",
       "    }\n",
       "\n",
       "    .dataframe tbody tr th {\n",
       "        vertical-align: top;\n",
       "    }\n",
       "\n",
       "    .dataframe thead th {\n",
       "        text-align: right;\n",
       "    }\n",
       "</style>\n",
       "<table border=\"1\" class=\"dataframe\">\n",
       "  <thead>\n",
       "    <tr style=\"text-align: right;\">\n",
       "      <th></th>\n",
       "      <th>survived</th>\n",
       "      <th>sex</th>\n",
       "      <th>cabin</th>\n",
       "      <th>embarked</th>\n",
       "    </tr>\n",
       "  </thead>\n",
       "  <tbody>\n",
       "    <tr>\n",
       "      <th>0</th>\n",
       "      <td>1</td>\n",
       "      <td>female</td>\n",
       "      <td>B5</td>\n",
       "      <td>S</td>\n",
       "    </tr>\n",
       "    <tr>\n",
       "      <th>1</th>\n",
       "      <td>1</td>\n",
       "      <td>male</td>\n",
       "      <td>C22</td>\n",
       "      <td>S</td>\n",
       "    </tr>\n",
       "    <tr>\n",
       "      <th>2</th>\n",
       "      <td>0</td>\n",
       "      <td>female</td>\n",
       "      <td>C22</td>\n",
       "      <td>S</td>\n",
       "    </tr>\n",
       "    <tr>\n",
       "      <th>3</th>\n",
       "      <td>0</td>\n",
       "      <td>male</td>\n",
       "      <td>C22</td>\n",
       "      <td>S</td>\n",
       "    </tr>\n",
       "    <tr>\n",
       "      <th>4</th>\n",
       "      <td>0</td>\n",
       "      <td>female</td>\n",
       "      <td>C22</td>\n",
       "      <td>S</td>\n",
       "    </tr>\n",
       "  </tbody>\n",
       "</table>\n",
       "</div>"
      ],
      "text/plain": [
       "   survived     sex cabin embarked\n",
       "0         1  female    B5        S\n",
       "1         1    male   C22        S\n",
       "2         0  female   C22        S\n",
       "3         0    male   C22        S\n",
       "4         0  female   C22        S"
      ]
     },
     "execution_count": 2,
     "metadata": {},
     "output_type": "execute_result"
    }
   ],
   "source": [
    "# cargar los datos\n",
    "\n",
    "data = pd.read_csv(\n",
    "    '../titanic.csv',\n",
    "    usecols=['cabin', 'sex', 'embarked', 'survived'])\n",
    "\n",
    "data.head()"
   ]
  },
  {
   "cell_type": "code",
   "execution_count": 3,
   "metadata": {},
   "outputs": [
    {
     "data": {
      "text/plain": [
       "(1307, 4)"
      ]
     },
     "execution_count": 3,
     "metadata": {},
     "output_type": "execute_result"
    }
   ],
   "source": [
    "# removamos las observaciones con datos ausentes na en embarked\n",
    "\n",
    "data.dropna(subset=['embarked'], inplace=True)\n",
    "data.shape"
   ]
  },
  {
   "cell_type": "code",
   "execution_count": 4,
   "metadata": {},
   "outputs": [],
   "source": [
    "# Ahora extraemos la primera letra de la variable cabin\n",
    "# para facilitar el demo\n",
    "\n",
    "data['cabin'] = data['cabin'].astype(str).str[0]"
   ]
  },
  {
   "cell_type": "code",
   "execution_count": 5,
   "metadata": {},
   "outputs": [
    {
     "data": {
      "text/plain": [
       "(1306, 4)"
      ]
     },
     "execution_count": 5,
     "metadata": {},
     "output_type": "execute_result"
    }
   ],
   "source": [
    "# remover las observaciones donde cabin = T\n",
    "# ya que solo son unas pocas\n",
    "\n",
    "data = data[data['cabin']!= 'T']\n",
    "data.shape"
   ]
  },
  {
   "cell_type": "code",
   "execution_count": 6,
   "metadata": {},
   "outputs": [
    {
     "name": "stdout",
     "output_type": "stream",
     "text": [
      "survived :  2  etiquetas\n",
      "sex :  2  etiquetas\n",
      "cabin :  8  etiquetas\n",
      "embarked :  3  etiquetas\n"
     ]
    }
   ],
   "source": [
    "# miremos cuantas categorías tiene cada variable\n",
    "\n",
    "for col in data.columns:\n",
    "    print(col, ': ', len(data[col].unique()), ' etiquetas')"
   ]
  },
  {
   "cell_type": "code",
   "execution_count": 7,
   "metadata": {},
   "outputs": [
    {
     "data": {
      "text/plain": [
       "array(['B', 'C', 'E', 'D', 'A', 'n', 'F', 'G'], dtype=object)"
      ]
     },
     "execution_count": 7,
     "metadata": {},
     "output_type": "execute_result"
    }
   ],
   "source": [
    "# exploremos las categorías únicas\n",
    "data['cabin'].unique()"
   ]
  },
  {
   "cell_type": "code",
   "execution_count": 8,
   "metadata": {},
   "outputs": [
    {
     "data": {
      "text/plain": [
       "array(['female', 'male'], dtype=object)"
      ]
     },
     "execution_count": 8,
     "metadata": {},
     "output_type": "execute_result"
    }
   ],
   "source": [
    "data['sex'].unique()"
   ]
  },
  {
   "cell_type": "code",
   "execution_count": 9,
   "metadata": {},
   "outputs": [
    {
     "data": {
      "text/plain": [
       "array(['S', 'C', 'Q'], dtype=object)"
      ]
     },
     "execution_count": 9,
     "metadata": {},
     "output_type": "execute_result"
    }
   ],
   "source": [
    "data['embarked'].unique()"
   ]
  },
  {
   "cell_type": "markdown",
   "metadata": {},
   "source": [
    "### Importante\n",
    "\n",
    "Calculamos la tasa  P(1)/P(0) usando el set de entrenamiento, y luego usamos ese mapeo en el set de prueba.\n",
    "\n",
    "Para implementarlo en pandas, tenemos que mantener el target en el set de entrenamiento."
   ]
  },
  {
   "cell_type": "code",
   "execution_count": 10,
   "metadata": {},
   "outputs": [
    {
     "data": {
      "text/plain": [
       "((914, 4), (392, 4))"
      ]
     },
     "execution_count": 10,
     "metadata": {},
     "output_type": "execute_result"
    }
   ],
   "source": [
    "# separemos en sets de prueba y entrenamiento\n",
    "\n",
    "X_train, X_test, y_train, y_test = train_test_split(\n",
    "    data[['cabin', 'sex', 'embarked', 'survived']],  # esta vez mantenemos el target en la variable\n",
    "    data['survived'],  # target\n",
    "    test_size=0.3,  # porcentaje de observaciones en el segmento de prueba\n",
    "    random_state=0)  # seed asegurar reproducibilidad\n",
    "\n",
    "X_train.shape, X_test.shape"
   ]
  },
  {
   "cell_type": "markdown",
   "metadata": {},
   "source": [
    "### Exploremos la relación original entre las variables categóricas y el target"
   ]
  },
  {
   "cell_type": "code",
   "execution_count": 11,
   "metadata": {},
   "outputs": [
    {
     "data": {
      "image/png": "[encoded data removed]",
      "text/plain": [
       "<Figure size 432x288 with 1 Axes>"
      ]
     },
     "metadata": {
      "needs_background": "light"
     },
     "output_type": "display_data"
    },
    {
     "data": {
      "image/png": "[encoded data removed]",
      "text/plain": [
       "<Figure size 432x288 with 1 Axes>"
      ]
     },
     "metadata": {
      "needs_background": "light"
     },
     "output_type": "display_data"
    },
    {
     "data": {
      "image/png": "[encoded data removed]",
      "text/plain": [
       "<Figure size 432x288 with 1 Axes>"
      ]
     },
     "metadata": {
      "needs_background": "light"
     },
     "output_type": "display_data"
    }
   ],
   "source": [
    "# Exploremos la relación original entre las variables categóricas y el target\n",
    "\n",
    "for var in ['cabin', 'sex', 'embarked']:\n",
    "    \n",
    "    fig = plt.figure()\n",
    "    fig = X_train.groupby([var])['survived'].mean().plot()\n",
    "    fig.set_title('Relación entre {} y Survival'.format(var))\n",
    "    fig.set_ylabel('Media Survival')\n",
    "    plt.show()"
   ]
  },
  {
   "cell_type": "markdown",
   "metadata": {},
   "source": [
    "Podemos ver que la relación entre el target y cabin, embarked sube y baja dependiendo de la categoría. \n",
    "\n",
    "\n",
    "## Codificación Tasa de Probabilidad con pandas\n",
    "\n",
    "### Ventajas\n",
    "\n",
    "- rápido\n",
    "- retorna un pandas dataframe\n",
    "\n",
    "### Limitaciones de pandas:\n",
    "\n",
    "- no preserva la información del set de entrenamiento para propagarlo al set de prueba\n",
    "\n",
    "Necesitamos capturar y guardar los mapeos uno por uno, manualmente, si estamos planeando usarlos en producción\n"
   ]
  },
  {
   "cell_type": "code",
   "execution_count": 12,
   "metadata": {},
   "outputs": [
    {
     "data": {
      "text/html": [
       "<div>\n",
       "<style scoped>\n",
       "    .dataframe tbody tr th:only-of-type {\n",
       "        vertical-align: middle;\n",
       "    }\n",
       "\n",
       "    .dataframe tbody tr th {\n",
       "        vertical-align: top;\n",
       "    }\n",
       "\n",
       "    .dataframe thead th {\n",
       "        text-align: right;\n",
       "    }\n",
       "</style>\n",
       "<table border=\"1\" class=\"dataframe\">\n",
       "  <thead>\n",
       "    <tr style=\"text-align: right;\">\n",
       "      <th></th>\n",
       "      <th>survived</th>\n",
       "    </tr>\n",
       "    <tr>\n",
       "      <th>cabin</th>\n",
       "      <th></th>\n",
       "    </tr>\n",
       "  </thead>\n",
       "  <tbody>\n",
       "    <tr>\n",
       "      <th>A</th>\n",
       "      <td>0.411765</td>\n",
       "    </tr>\n",
       "    <tr>\n",
       "      <th>B</th>\n",
       "      <td>0.738095</td>\n",
       "    </tr>\n",
       "    <tr>\n",
       "      <th>C</th>\n",
       "      <td>0.600000</td>\n",
       "    </tr>\n",
       "    <tr>\n",
       "      <th>D</th>\n",
       "      <td>0.696970</td>\n",
       "    </tr>\n",
       "    <tr>\n",
       "      <th>E</th>\n",
       "      <td>0.700000</td>\n",
       "    </tr>\n",
       "    <tr>\n",
       "      <th>F</th>\n",
       "      <td>0.769231</td>\n",
       "    </tr>\n",
       "    <tr>\n",
       "      <th>G</th>\n",
       "      <td>0.750000</td>\n",
       "    </tr>\n",
       "    <tr>\n",
       "      <th>n</th>\n",
       "      <td>0.292199</td>\n",
       "    </tr>\n",
       "  </tbody>\n",
       "</table>\n",
       "</div>"
      ],
      "text/plain": [
       "       survived\n",
       "cabin          \n",
       "A      0.411765\n",
       "B      0.738095\n",
       "C      0.600000\n",
       "D      0.696970\n",
       "E      0.700000\n",
       "F      0.769231\n",
       "G      0.750000\n",
       "n      0.292199"
      ]
     },
     "execution_count": 12,
     "metadata": {},
     "output_type": "execute_result"
    }
   ],
   "source": [
    "# calculemos la probabilidad de survived = 1 por categoría\n",
    "\n",
    "prob_df = X_train.groupby(['cabin'])['survived'].mean()\n",
    "\n",
    "# capturemos en un dataframe\n",
    "prob_df = pd.DataFrame(prob_df)\n",
    "prob_df"
   ]
  },
  {
   "cell_type": "code",
   "execution_count": 13,
   "metadata": {},
   "outputs": [
    {
     "data": {
      "text/html": [
       "<div>\n",
       "<style scoped>\n",
       "    .dataframe tbody tr th:only-of-type {\n",
       "        vertical-align: middle;\n",
       "    }\n",
       "\n",
       "    .dataframe tbody tr th {\n",
       "        vertical-align: top;\n",
       "    }\n",
       "\n",
       "    .dataframe thead th {\n",
       "        text-align: right;\n",
       "    }\n",
       "</style>\n",
       "<table border=\"1\" class=\"dataframe\">\n",
       "  <thead>\n",
       "    <tr style=\"text-align: right;\">\n",
       "      <th></th>\n",
       "      <th>survived</th>\n",
       "      <th>died</th>\n",
       "    </tr>\n",
       "    <tr>\n",
       "      <th>cabin</th>\n",
       "      <th></th>\n",
       "      <th></th>\n",
       "    </tr>\n",
       "  </thead>\n",
       "  <tbody>\n",
       "    <tr>\n",
       "      <th>A</th>\n",
       "      <td>0.411765</td>\n",
       "      <td>0.588235</td>\n",
       "    </tr>\n",
       "    <tr>\n",
       "      <th>B</th>\n",
       "      <td>0.738095</td>\n",
       "      <td>0.261905</td>\n",
       "    </tr>\n",
       "    <tr>\n",
       "      <th>C</th>\n",
       "      <td>0.600000</td>\n",
       "      <td>0.400000</td>\n",
       "    </tr>\n",
       "    <tr>\n",
       "      <th>D</th>\n",
       "      <td>0.696970</td>\n",
       "      <td>0.303030</td>\n",
       "    </tr>\n",
       "    <tr>\n",
       "      <th>E</th>\n",
       "      <td>0.700000</td>\n",
       "      <td>0.300000</td>\n",
       "    </tr>\n",
       "    <tr>\n",
       "      <th>F</th>\n",
       "      <td>0.769231</td>\n",
       "      <td>0.230769</td>\n",
       "    </tr>\n",
       "    <tr>\n",
       "      <th>G</th>\n",
       "      <td>0.750000</td>\n",
       "      <td>0.250000</td>\n",
       "    </tr>\n",
       "    <tr>\n",
       "      <th>n</th>\n",
       "      <td>0.292199</td>\n",
       "      <td>0.707801</td>\n",
       "    </tr>\n",
       "  </tbody>\n",
       "</table>\n",
       "</div>"
      ],
      "text/plain": [
       "       survived      died\n",
       "cabin                    \n",
       "A      0.411765  0.588235\n",
       "B      0.738095  0.261905\n",
       "C      0.600000  0.400000\n",
       "D      0.696970  0.303030\n",
       "E      0.700000  0.300000\n",
       "F      0.769231  0.230769\n",
       "G      0.750000  0.250000\n",
       "n      0.292199  0.707801"
      ]
     },
     "execution_count": 13,
     "metadata": {},
     "output_type": "execute_result"
    }
   ],
   "source": [
    "# y ahora la probabilidad de survived = 0\n",
    "\n",
    "prob_df['died'] = 1 - prob_df['survived']\n",
    "\n",
    "prob_df"
   ]
  },
  {
   "cell_type": "code",
   "execution_count": 14,
   "metadata": {},
   "outputs": [
    {
     "data": {
      "text/html": [
       "<div>\n",
       "<style scoped>\n",
       "    .dataframe tbody tr th:only-of-type {\n",
       "        vertical-align: middle;\n",
       "    }\n",
       "\n",
       "    .dataframe tbody tr th {\n",
       "        vertical-align: top;\n",
       "    }\n",
       "\n",
       "    .dataframe thead th {\n",
       "        text-align: right;\n",
       "    }\n",
       "</style>\n",
       "<table border=\"1\" class=\"dataframe\">\n",
       "  <thead>\n",
       "    <tr style=\"text-align: right;\">\n",
       "      <th></th>\n",
       "      <th>survived</th>\n",
       "      <th>died</th>\n",
       "      <th>ratio</th>\n",
       "    </tr>\n",
       "    <tr>\n",
       "      <th>cabin</th>\n",
       "      <th></th>\n",
       "      <th></th>\n",
       "      <th></th>\n",
       "    </tr>\n",
       "  </thead>\n",
       "  <tbody>\n",
       "    <tr>\n",
       "      <th>A</th>\n",
       "      <td>0.411765</td>\n",
       "      <td>0.588235</td>\n",
       "      <td>0.700000</td>\n",
       "    </tr>\n",
       "    <tr>\n",
       "      <th>B</th>\n",
       "      <td>0.738095</td>\n",
       "      <td>0.261905</td>\n",
       "      <td>2.818182</td>\n",
       "    </tr>\n",
       "    <tr>\n",
       "      <th>C</th>\n",
       "      <td>0.600000</td>\n",
       "      <td>0.400000</td>\n",
       "      <td>1.500000</td>\n",
       "    </tr>\n",
       "    <tr>\n",
       "      <th>D</th>\n",
       "      <td>0.696970</td>\n",
       "      <td>0.303030</td>\n",
       "      <td>2.300000</td>\n",
       "    </tr>\n",
       "    <tr>\n",
       "      <th>E</th>\n",
       "      <td>0.700000</td>\n",
       "      <td>0.300000</td>\n",
       "      <td>2.333333</td>\n",
       "    </tr>\n",
       "    <tr>\n",
       "      <th>F</th>\n",
       "      <td>0.769231</td>\n",
       "      <td>0.230769</td>\n",
       "      <td>3.333333</td>\n",
       "    </tr>\n",
       "    <tr>\n",
       "      <th>G</th>\n",
       "      <td>0.750000</td>\n",
       "      <td>0.250000</td>\n",
       "      <td>3.000000</td>\n",
       "    </tr>\n",
       "    <tr>\n",
       "      <th>n</th>\n",
       "      <td>0.292199</td>\n",
       "      <td>0.707801</td>\n",
       "      <td>0.412826</td>\n",
       "    </tr>\n",
       "  </tbody>\n",
       "</table>\n",
       "</div>"
      ],
      "text/plain": [
       "       survived      died     ratio\n",
       "cabin                              \n",
       "A      0.411765  0.588235  0.700000\n",
       "B      0.738095  0.261905  2.818182\n",
       "C      0.600000  0.400000  1.500000\n",
       "D      0.696970  0.303030  2.300000\n",
       "E      0.700000  0.300000  2.333333\n",
       "F      0.769231  0.230769  3.333333\n",
       "G      0.750000  0.250000  3.000000\n",
       "n      0.292199  0.707801  0.412826"
      ]
     },
     "execution_count": 14,
     "metadata": {},
     "output_type": "execute_result"
    }
   ],
   "source": [
    "#  y ahora la tasa o proporción\n",
    "\n",
    "prob_df['ratio'] = prob_df['survived'] / prob_df['died']\n",
    "\n",
    "prob_df"
   ]
  },
  {
   "cell_type": "code",
   "execution_count": 15,
   "metadata": {},
   "outputs": [
    {
     "data": {
      "text/plain": [
       "{'A': 0.7,\n",
       " 'B': 2.818181818181819,\n",
       " 'C': 1.4999999999999998,\n",
       " 'D': 2.3000000000000007,\n",
       " 'E': 2.333333333333333,\n",
       " 'F': 3.333333333333334,\n",
       " 'G': 3.0,\n",
       " 'n': 0.4128256513026052}"
      ]
     },
     "execution_count": 15,
     "metadata": {},
     "output_type": "execute_result"
    }
   ],
   "source": [
    "# y ahora capturemos la tasa en un diccionario \n",
    "\n",
    "ordered_labels = prob_df['ratio'].to_dict()\n",
    "\n",
    "ordered_labels"
   ]
  },
  {
   "cell_type": "code",
   "execution_count": 16,
   "metadata": {},
   "outputs": [],
   "source": [
    "# y ahora reemplazamos con las tasas\n",
    "\n",
    "X_train['cabin'] = X_train['cabin'].map(ordered_labels)\n",
    "X_test['cabin'] = X_test['cabin'].map(ordered_labels)"
   ]
  },
  {
   "cell_type": "code",
   "execution_count": 17,
   "metadata": {},
   "outputs": [
    {
     "data": {
      "text/plain": [
       "843     0.412826\n",
       "869     0.412826\n",
       "430     0.412826\n",
       "481     0.412826\n",
       "1308    0.412826\n",
       "456     0.412826\n",
       "118     2.300000\n",
       "485     2.300000\n",
       "297     0.412826\n",
       "263     2.333333\n",
       "Name: cabin, dtype: float64"
      ]
     },
     "execution_count": 17,
     "metadata": {},
     "output_type": "execute_result"
    }
   ],
   "source": [
    "# exploremos el resultado\n",
    "\n",
    "X_train['cabin'].head(10)"
   ]
  },
  {
   "cell_type": "code",
   "execution_count": 18,
   "metadata": {},
   "outputs": [],
   "source": [
    "# agrupemos los comandos anteriores en dos funciones\n",
    "\n",
    "def find_category_mappings(df, variable, target):\n",
    "\n",
    "    tmp = pd.DataFrame(df.groupby([variable])[target].mean())\n",
    "    \n",
    "    tmp['non-target'] = 1 - tmp[target]\n",
    "    \n",
    "    tmp['ratio'] = tmp[target] / tmp['non-target']\n",
    "\n",
    "    return tmp['ratio'].to_dict()\n",
    "\n",
    "\n",
    "def integer_encode(train, test, variable, ordinal_mapping):\n",
    "\n",
    "    X_train[variable] = X_train[variable].map(ordinal_mapping)\n",
    "    X_test[variable] = X_test[variable].map(ordinal_mapping)"
   ]
  },
  {
   "cell_type": "code",
   "execution_count": 19,
   "metadata": {},
   "outputs": [],
   "source": [
    "# ahora repitamos con un ciclo para cada una de las variables categóricas\n",
    "\n",
    "for variable in ['sex', 'embarked']:\n",
    "    \n",
    "    mappings = find_category_mappings(X_train, variable, 'survived')\n",
    "    \n",
    "    integer_encode(X_train, X_test, variable, mappings)"
   ]
  },
  {
   "cell_type": "code",
   "execution_count": 20,
   "metadata": {},
   "outputs": [
    {
     "data": {
      "text/html": [
       "<div>\n",
       "<style scoped>\n",
       "    .dataframe tbody tr th:only-of-type {\n",
       "        vertical-align: middle;\n",
       "    }\n",
       "\n",
       "    .dataframe tbody tr th {\n",
       "        vertical-align: top;\n",
       "    }\n",
       "\n",
       "    .dataframe thead th {\n",
       "        text-align: right;\n",
       "    }\n",
       "</style>\n",
       "<table border=\"1\" class=\"dataframe\">\n",
       "  <thead>\n",
       "    <tr style=\"text-align: right;\">\n",
       "      <th></th>\n",
       "      <th>cabin</th>\n",
       "      <th>sex</th>\n",
       "      <th>embarked</th>\n",
       "      <th>survived</th>\n",
       "    </tr>\n",
       "  </thead>\n",
       "  <tbody>\n",
       "    <tr>\n",
       "      <th>843</th>\n",
       "      <td>0.412826</td>\n",
       "      <td>0.218107</td>\n",
       "      <td>0.509434</td>\n",
       "      <td>0</td>\n",
       "    </tr>\n",
       "    <tr>\n",
       "      <th>869</th>\n",
       "      <td>0.412826</td>\n",
       "      <td>0.218107</td>\n",
       "      <td>0.509434</td>\n",
       "      <td>0</td>\n",
       "    </tr>\n",
       "    <tr>\n",
       "      <th>430</th>\n",
       "      <td>0.412826</td>\n",
       "      <td>2.788235</td>\n",
       "      <td>0.509434</td>\n",
       "      <td>1</td>\n",
       "    </tr>\n",
       "    <tr>\n",
       "      <th>481</th>\n",
       "      <td>0.412826</td>\n",
       "      <td>2.788235</td>\n",
       "      <td>1.160920</td>\n",
       "      <td>1</td>\n",
       "    </tr>\n",
       "    <tr>\n",
       "      <th>1308</th>\n",
       "      <td>0.412826</td>\n",
       "      <td>0.218107</td>\n",
       "      <td>0.509434</td>\n",
       "      <td>0</td>\n",
       "    </tr>\n",
       "  </tbody>\n",
       "</table>\n",
       "</div>"
      ],
      "text/plain": [
       "         cabin       sex  embarked  survived\n",
       "843   0.412826  0.218107  0.509434         0\n",
       "869   0.412826  0.218107  0.509434         0\n",
       "430   0.412826  2.788235  0.509434         1\n",
       "481   0.412826  2.788235  1.160920         1\n",
       "1308  0.412826  0.218107  0.509434         0"
      ]
     },
     "execution_count": 20,
     "metadata": {},
     "output_type": "execute_result"
    }
   ],
   "source": [
    "# veamos el resultado\n",
    "\n",
    "X_train.head()"
   ]
  },
  {
   "cell_type": "code",
   "execution_count": 21,
   "metadata": {
    "scrolled": false
   },
   "outputs": [
    {
     "data": {
      "image/png": "[encoded data removed]",
      "text/plain": [
       "<Figure size 432x288 with 1 Axes>"
      ]
     },
     "metadata": {
      "needs_background": "light"
     },
     "output_type": "display_data"
    },
    {
     "data": {
      "image/png": "[encoded data removed]",
      "text/plain": [
       "<Figure size 432x288 with 1 Axes>"
      ]
     },
     "metadata": {
      "needs_background": "light"
     },
     "output_type": "display_data"
    },
    {
     "data": {
      "image/png": "[encoded data removed]",
      "text/plain": [
       "<Figure size 432x288 with 1 Axes>"
      ]
     },
     "metadata": {
      "needs_background": "light"
     },
     "output_type": "display_data"
    }
   ],
   "source": [
    "# inspeccionemos la relación monotónica\n",
    "# entre la variable y el target\n",
    "\n",
    "for var in ['cabin', 'sex', 'embarked']:\n",
    "    \n",
    "    fig = plt.figure()\n",
    "    fig = X_train.groupby([var])['survived'].mean().plot()\n",
    "    fig.set_title('Relación monotónica entre {} y Survival'.format(var))\n",
    "    fig.set_ylabel('Media Survived')\n",
    "    plt.show()"
   ]
  },
  {
   "cell_type": "markdown",
   "metadata": {},
   "source": [
    "Podemos ver de las gráficas que la relación entre las categorías y el target ahora es monotónica.\n",
    "\n",
    "### Nota\n",
    "Reemplazar las etiquetas con código anterior siguiendo este método va a generar valores faltantes para las categorías presentes en el set de prueba que no se encuentra en el de entrenamiento. Por lo tanto es extremadamente importante, manejar las etiquetas poco comunes con prelación. Explicaremos como hacer esto más adelante en otro notebook.\n",
    "\n",
    "\n",
    "**Importante: generaremos NA o Inf si la probabilidad si el target = 0 es cero, ya que la división por cero no esta definida. **"
   ]
  },
  {
   "cell_type": "markdown",
   "metadata": {},
   "source": [
    "## Codificación Tasa Probabilidad con Feature-Engine\n",
    "\n",
    "Si usamos Feature-Engine, en lugar de pandas, no necesitamos mantener el target en el set de entrenamiento."
   ]
  },
  {
   "cell_type": "code",
   "execution_count": 22,
   "metadata": {},
   "outputs": [
    {
     "data": {
      "text/plain": [
       "((914, 3), (392, 3))"
      ]
     },
     "execution_count": 22,
     "metadata": {},
     "output_type": "execute_result"
    }
   ],
   "source": [
    "# separemos en sets de prueba y entrenamiento\n",
    "\n",
    "X_train, X_test, y_train, y_test = train_test_split(\n",
    "    data[['cabin', 'sex', 'embarked']], # predictores\n",
    "    data['survived'],  # target\n",
    "    test_size=0.3,  # porcentaje de observaciones en el segmento de prueba\n",
    "    random_state=0)  # seed asegurar reproducibilidad\n",
    "X_train.shape, X_test.shape"
   ]
  },
  {
   "cell_type": "code",
   "execution_count": 23,
   "metadata": {},
   "outputs": [],
   "source": [
    "ratio_enc = WoERatioCategoricalEncoder(\n",
    "    encoding_method = 'ratio',\n",
    "    variables=['cabin', 'sex', 'embarked'])"
   ]
  },
  {
   "cell_type": "code",
   "execution_count": 24,
   "metadata": {},
   "outputs": [
    {
     "data": {
      "text/plain": [
       "WoERatioCategoricalEncoder(encoding_method='ratio',\n",
       "                           variables=['cabin', 'sex', 'embarked'])"
      ]
     },
     "execution_count": 24,
     "metadata": {},
     "output_type": "execute_result"
    }
   ],
   "source": [
    "# cuando ajustamos el transformador, necesitamos pasar \n",
    "# el target, al igual que las otras clases de predictores de Scikit-learn \n",
    "ratio_enc.fit(X_train, y_train)"
   ]
  },
  {
   "cell_type": "code",
   "execution_count": 25,
   "metadata": {
    "scrolled": true
   },
   "outputs": [
    {
     "data": {
      "text/plain": [
       "{'cabin': {'A': 0.7,\n",
       "  'B': 2.818181818181819,\n",
       "  'C': 1.4999999999999998,\n",
       "  'D': 2.3000000000000007,\n",
       "  'E': 2.333333333333333,\n",
       "  'F': 3.333333333333334,\n",
       "  'G': 3.0,\n",
       "  'n': 0.4128256513026052},\n",
       " 'sex': {'female': 2.788235294117647, 'male': 0.21810699588477367},\n",
       " 'embarked': {'C': 1.160919540229885,\n",
       "  'Q': 0.4333333333333333,\n",
       "  'S': 0.5094339622641509}}"
      ]
     },
     "execution_count": 25,
     "metadata": {},
     "output_type": "execute_result"
    }
   ],
   "source": [
    "# en el dict del encoder podemos ver P(1)/P(0)\n",
    "# asignado a cada una de las categorías por cada variable\n",
    "\n",
    "ratio_enc.encoder_dict_"
   ]
  },
  {
   "cell_type": "code",
   "execution_count": 26,
   "metadata": {},
   "outputs": [
    {
     "data": {
      "text/plain": [
       "['cabin', 'sex', 'embarked']"
      ]
     },
     "execution_count": 26,
     "metadata": {},
     "output_type": "execute_result"
    }
   ],
   "source": [
    "# esta es la lista de variables que el codificador transforma\n",
    "ratio_enc.variables"
   ]
  },
  {
   "cell_type": "code",
   "execution_count": 27,
   "metadata": {},
   "outputs": [
    {
     "data": {
      "text/html": [
       "<div>\n",
       "<style scoped>\n",
       "    .dataframe tbody tr th:only-of-type {\n",
       "        vertical-align: middle;\n",
       "    }\n",
       "\n",
       "    .dataframe tbody tr th {\n",
       "        vertical-align: top;\n",
       "    }\n",
       "\n",
       "    .dataframe thead th {\n",
       "        text-align: right;\n",
       "    }\n",
       "</style>\n",
       "<table border=\"1\" class=\"dataframe\">\n",
       "  <thead>\n",
       "    <tr style=\"text-align: right;\">\n",
       "      <th></th>\n",
       "      <th>cabin</th>\n",
       "      <th>sex</th>\n",
       "      <th>embarked</th>\n",
       "    </tr>\n",
       "  </thead>\n",
       "  <tbody>\n",
       "    <tr>\n",
       "      <th>843</th>\n",
       "      <td>0.412826</td>\n",
       "      <td>0.218107</td>\n",
       "      <td>0.509434</td>\n",
       "    </tr>\n",
       "    <tr>\n",
       "      <th>869</th>\n",
       "      <td>0.412826</td>\n",
       "      <td>0.218107</td>\n",
       "      <td>0.509434</td>\n",
       "    </tr>\n",
       "    <tr>\n",
       "      <th>430</th>\n",
       "      <td>0.412826</td>\n",
       "      <td>2.788235</td>\n",
       "      <td>0.509434</td>\n",
       "    </tr>\n",
       "    <tr>\n",
       "      <th>481</th>\n",
       "      <td>0.412826</td>\n",
       "      <td>2.788235</td>\n",
       "      <td>1.160920</td>\n",
       "    </tr>\n",
       "    <tr>\n",
       "      <th>1308</th>\n",
       "      <td>0.412826</td>\n",
       "      <td>0.218107</td>\n",
       "      <td>0.509434</td>\n",
       "    </tr>\n",
       "  </tbody>\n",
       "</table>\n",
       "</div>"
      ],
      "text/plain": [
       "         cabin       sex  embarked\n",
       "843   0.412826  0.218107  0.509434\n",
       "869   0.412826  0.218107  0.509434\n",
       "430   0.412826  2.788235  0.509434\n",
       "481   0.412826  2.788235  1.160920\n",
       "1308  0.412826  0.218107  0.509434"
      ]
     },
     "execution_count": 27,
     "metadata": {},
     "output_type": "execute_result"
    }
   ],
   "source": [
    "X_train = ratio_enc.transform(X_train)\n",
    "X_test = ratio_enc.transform(X_test)\n",
    "\n",
    "# exploremos el resultado\n",
    "X_train.head()"
   ]
  },
  {
   "cell_type": "markdown",
   "metadata": {},
   "source": [
    "**Nota**\n",
    "\n",
    "Si el argumento 'variables' se fija en 'None' (ninguno), entonces el codificador automaticamente indentificará  **todas las variables categóricas**. Maravilloso verdad?\n",
    "\n",
    "El codificador no codificará las variables numéricas. Por lo tanto, si algunas de tus variables categoricas son de hecho numericas, necesita hacer el 're-cast' o cambio a tipo 'object' antes de usar el codificador.\n",
    "\n",
    "Si hay una variable en el set de prueba, para el cual el codificador no tiene un número para asignar ( la categoría no estaba presente en el set de entrenamiento), el codificador devolverá un error, para alertarte del problema\n",
    "\n",
    "Finalmente, si la probabilidad del target = 0 es cero para cualquier categoría, el codificador devolverá un error ya que la división por cero no esta definida."
   ]
  }
 ],
 "metadata": {
  "kernelspec": {
   "display_name": "feml",
   "language": "python",
   "name": "feml"
  },
  "language_info": {
   "codemirror_mode": {
    "name": "ipython",
    "version": 3
   },
   "file_extension": ".py",
   "mimetype": "text/x-python",
   "name": "python",
   "nbconvert_exporter": "python",
   "pygments_lexer": "ipython3",
   "version": "3.7.3"
  },
  "toc": {
   "nav_menu": {},
   "number_sections": true,
   "sideBar": true,
   "skip_h1_title": false,
   "toc_cell": false,
   "toc_position": {},
   "toc_section_display": "block",
   "toc_window_display": true
  }
 },
 "nbformat": 4,
 "nbformat_minor": 2
}
