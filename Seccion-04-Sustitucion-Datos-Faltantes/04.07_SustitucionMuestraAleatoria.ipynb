{
 "cells": [
  {
   "cell_type": "markdown",
   "metadata": {},
   "source": [
    "## Sustitución por muestras aleatorias\n",
    "\n",
    "Los métodos de imputación consisten en estimar los valores faltantes en base a los valores válidos de otras variables y/o casos de la muestra. El objectivo de cualquier método de imputación es producir un **conjunto completo** que pueda ser utlizado por un algoritmo de aprendizaje de máquina (machine learning). \n",
    "\n",
    "La sustitución por muestras aleatorias en principio es similar a la sustitucion por la media/mediana/moda, en el sentido que busca preservar los parámetros estadísticos de la variable original con datos ausentes.\n",
    "\n",
    "Como su nombre lo indica, muestreo aleatorio consiste en tomar observaciones de una variable de forma aleatoria , y usarlas para sustuir los valores nulos en la misma variable. En la sustitución por muestras aleatorias, se toman tantas muestras(valores) aleatorias como valores nulos en la variable.\n",
    "\n",
    "Con el muestreo aleatorio de la observaciones donde los datos están disponibles, garantizamos que la media y la desviación estandard de la variable se preservan.\n",
    "\n",
    "Con el muestreo aleatorio de las observaciones en las etiquetas presentes para las variables categóricas, garantizamos que la frecuencia de las diferentes categorías / etiquetas dentro de la variable se preservan.\n",
    "\n",
    "### Cuáles variables se pueden sustituir por muestras aleatorias?\n",
    "\n",
    "Se puede aplicar en variables numéricas y categóricas.\n",
    "\n",
    "### Supuestos\n",
    "\n",
    "La sustitución por muestras aleatorias asume que los datos faltan de forma completamente aleatorios (MCAR). Si este es el caso, tiene sentido que reemplacemos los datos ausentes por valores extraidos de la distribución original de la variable\n",
    "\n",
    "Desde el punto de vista probabilístico, los valores que son más frecuentes, como la media o la mediana o la categoría más frecuente ( para variables categóricas) serán seleccionados más frecuentemente - porque son más para seleccionar uno - pero otros valores menos frecuentes pueden tambien ser seleccionados. POr lo tanto las distribuciones de las variables se preservan.\n",
    "\n",
    "La idea es reemplazar una población con datos nulos por una población de valores con la misma distribución de la variable original.\n",
    "\n",
    "- Los datos faltan de forma completamente aleatorios (MCAR)\n",
    "- Lo más probable es que las observaciones ausentes tengan valores como el de la mayoría de las observaciones en la variable (osea la moda o categoría mas frecuente)\n",
    "\n",
    "La lógica es que los más probable es que el valor que deberia haber tenido el valor ausente es de hecho el valor o categoría mas frecuente de la variable.\n",
    "\n",
    "### Ventajas\n",
    "\n",
    "- Fácil de implementar\n",
    "- Forma rápida de obtener conjuntos completos de datos\n",
    "- Preserva la varianza de la variable \n",
    "\n",
    "### Limitaciones\n",
    "\n",
    "- Aletoriedad\n",
    "- Distorción de la relación entre la variables sustituida y el resto de las variables si e numero de datos ausentes es alto\n",
    "- Consume bastante memoria para modelos en producción, ya que necesita guardar los datos originales usados para entrenar el modelo y asi poder extraer los valores que se van a usar para reemplazar los valores nulos.\n",
    "\n",
    "\n",
    "### Cuándo puedo usar la sustitución por muestra aleatoria?\n",
    "\n",
    "- Cuando los datos estan ausentes Data is missing completely at random\n",
    "- No más del 5% de la variable esta ausente /Solo el 5% de la variable tiene datos faltantes\n",
    "- Es apropiado cuando se quiere usar modelos lineales ya que no distorciona la distribucíon de la variable, independiente del número de valores nulos\n",
    "\n",
    "Si se usa em combinación con un Indicador de Ausencia, como veremos en la proxima lección, ese método también puede usarse con datos que no estén ausentes de forma aleatoria o cuando el % de observaciones ausentes es alto\n",
    "\n",
    "\n",
    "#### Aleatoriedad\n",
    "\n",
    "Aletoriedad puede no ser de gran preocupación cuando se reemplazan los valores ausentes para las competiciones de ciencia de datos, donde todo el conjunto de datos ausentes es reemplazadado una vez y los datos se usan para hacer las predicciones y el problema finaliza. Sin embargo, en los casos reales de negocio, la situación es  diferente.\n",
    "\n",
    "Imagina, por ejemplo una fábrica de autos intentando predecir cuanto tiempo un carro estará en la fabrica antes de pasar todas las pruebas de seguridad. Hoy, ellos reciben un carro con datos ausentes en alguna de las variables, corren un modelo de machine learning para predecir cuanto tiempo el carro tardará antes de pasar todas las pruebas de seguridad y reemplazan todos los valores ausentes con una muestra aleatoria y producen un estimado de cuanto tiempo va a tardar. Mañana, cuando usan el mismo modelo para el mismo carro, el modelo va a tomar otra muestra aleatoria para sustituir los valore ausentes, que puede que sean o no lo mismos que se seleccionaron hoy, y por lo tanto, la estimación final del tiempo que tardará en pasar las pruebas de seguridad puede que no sea igual al obtenido el dia anterior.\n",
    "\n",
    "Adicionamlente, imagina que la fábrica de autos evaluá dos autos diferentes que tienen los mismos valores para todas las variables y valores ausentes para el mismo subconjunto de variables. Corren el modelo de machine learning para cada carro y ya que los datos ausentes son sustituidos con valores tomados aleatoriamente, los dos autos, que son exactamente iguales, pueden terminar con diferentes estimados de tiempos de espera para pasar las pruebas.\n",
    "\n",
    "Esto puede no parecer importante o de hecho trivial, sin embargo negocios deben seguir una cantidad de regulaciones y algunos pueden ser requeridos dar el mismo tratamiento para situaciones similares. Si por ejemplo, en lugar de autos, estas son personas aplicando para un préstamo, or personas buscando un tratamiento médico, el modelo de machine learning puede terminar estimando diferentes soluciones para candidatos que estan bajo las mismas condiciones. Y esto ni es justo ni aceptable. Este comportamiento, por lo tanto, necesita ser evitado.\n",
    "\n",
    "#### Entonces, debemos reemplazar los valores ausentes con muestras aleatorias o no?\n",
    "\n",
    "Es posible reemplazar los datos ausentes con una muestra aleatoria, pero es necesario controlar la aletoriedad, asi individuos en la misma situación terminan con las mismas predicciones y por lo tanto la misma solución es ofrecida. Y cómo podemos estar seguros de que este es el caso? es necesario fijar las semillas durante los procesos de extracción de valores.\n",
    "\n",
    "Finalmente, otra posible limitación de la muestra aleatoria, al igual que cuando se hacen sustituciones por la media o mediana,  es que la covarianza y correlaciones con las otras variables pueden ser modificados con la aletoriedad, particularmente, si hay un alto porcentaje de valores nulos.\n",
    "\n",
    "\n",
    "### Nota Final\n",
    "\n",
    "El reemplzado de valores ausentes por una muestra aleatoria, aunque es similar en concepto al reemplzado por la media o la mediana. no es tan popular en las comptetncias de ciencia de datos como estos métodos. Probablemente, por el elemento de aletoriedad o porque el código para implementarlo no es tan sencillo.\n",
    "\n",
    "Sin embargo, es un método válido, con claras ventajas sobre la sustitucion de la media/ mediana ya que preserva la distribución de las variables. Y si eres cuidadoso con el elemento de aletoriedad y lo tienes en cuenta de alguna forma, este puede ser un buen método para elegir, particularmente para modelos lineales.\n",
    "\n",
    "## En este demo:\n",
    "\n",
    "Usaremos ambos conjuntos de datos: House Price y Titanic y pandas para hacer la sustitución por muestra aleatoria.\n",
    "\n",
    "- Para bajar los datos, por favor referirse a la clase en **Datasets** en la  **Sección 1** del curso.\n",
    "\n"
   ]
  },
  {
   "cell_type": "code",
   "execution_count": 12,
   "metadata": {},
   "outputs": [],
   "source": [
    "import pandas as pd\n",
    "import numpy as np\n",
    "\n",
    "import matplotlib.pyplot as plt\n",
    "\n",
    "# separar los datasets\n",
    "from sklearn.model_selection import train_test_split\n",
    "\n",
    "import warnings\n",
    "warnings.filterwarnings(\"ignore\")"
   ]
  },
  {
   "cell_type": "markdown",
   "metadata": {},
   "source": [
    "## Muestra aleatoria para variables numéricas\n"
   ]
  },
  {
   "cell_type": "code",
   "execution_count": 13,
   "metadata": {},
   "outputs": [
    {
     "data": {
      "text/html": [
       "<div>\n",
       "<style scoped>\n",
       "    .dataframe tbody tr th:only-of-type {\n",
       "        vertical-align: middle;\n",
       "    }\n",
       "\n",
       "    .dataframe tbody tr th {\n",
       "        vertical-align: top;\n",
       "    }\n",
       "\n",
       "    .dataframe thead th {\n",
       "        text-align: right;\n",
       "    }\n",
       "</style>\n",
       "<table border=\"1\" class=\"dataframe\">\n",
       "  <thead>\n",
       "    <tr style=\"text-align: right;\">\n",
       "      <th></th>\n",
       "      <th>survived</th>\n",
       "      <th>age</th>\n",
       "      <th>fare</th>\n",
       "    </tr>\n",
       "  </thead>\n",
       "  <tbody>\n",
       "    <tr>\n",
       "      <th>0</th>\n",
       "      <td>1</td>\n",
       "      <td>29.0000</td>\n",
       "      <td>211.3375</td>\n",
       "    </tr>\n",
       "    <tr>\n",
       "      <th>1</th>\n",
       "      <td>1</td>\n",
       "      <td>0.9167</td>\n",
       "      <td>151.5500</td>\n",
       "    </tr>\n",
       "    <tr>\n",
       "      <th>2</th>\n",
       "      <td>0</td>\n",
       "      <td>2.0000</td>\n",
       "      <td>151.5500</td>\n",
       "    </tr>\n",
       "    <tr>\n",
       "      <th>3</th>\n",
       "      <td>0</td>\n",
       "      <td>30.0000</td>\n",
       "      <td>151.5500</td>\n",
       "    </tr>\n",
       "    <tr>\n",
       "      <th>4</th>\n",
       "      <td>0</td>\n",
       "      <td>25.0000</td>\n",
       "      <td>151.5500</td>\n",
       "    </tr>\n",
       "  </tbody>\n",
       "</table>\n",
       "</div>"
      ],
      "text/plain": [
       "   survived      age      fare\n",
       "0         1  29.0000  211.3375\n",
       "1         1   0.9167  151.5500\n",
       "2         0   2.0000  151.5500\n",
       "3         0  30.0000  151.5500\n",
       "4         0  25.0000  151.5500"
      ]
     },
     "execution_count": 13,
     "metadata": {},
     "output_type": "execute_result"
    }
   ],
   "source": [
    "# carguemos los datos con unas columnas seleccionadas\n",
    "data = pd.read_csv('../titanic.csv', usecols=['age', 'fare', 'survived'])\n",
    "data.head()"
   ]
  },
  {
   "cell_type": "code",
   "execution_count": 14,
   "metadata": {},
   "outputs": [
    {
     "data": {
      "text/plain": [
       "survived    0.000000\n",
       "age         0.200917\n",
       "fare        0.000764\n",
       "dtype: float64"
      ]
     },
     "execution_count": 14,
     "metadata": {},
     "output_type": "execute_result"
    }
   ],
   "source": [
    "# evaluemos el porcentaje de valores nulos\n",
    "data.isnull().mean()"
   ]
  },
  {
   "cell_type": "markdown",
   "metadata": {},
   "source": [
    "### Importante\n",
    "\n",
    "La estimación de la muestra debe ser completada en el segmento de entrenamiento y luego propagada al segmento de prueba. Esto significa que la misma muestra es utilizada para sustituir los valores nulos en ambos segmentos, pero se debe extraer solamente en el segmento de entrenamiento."
   ]
  },
  {
   "cell_type": "code",
   "execution_count": 15,
   "metadata": {},
   "outputs": [
    {
     "data": {
      "text/plain": [
       "((916, 3), (393, 3))"
      ]
     },
     "execution_count": 15,
     "metadata": {},
     "output_type": "execute_result"
    }
   ],
   "source": [
    "# separar datos en segmentos entrenamiento y prueba\n",
    "X_train, X_test, y_train, y_test = train_test_split(\n",
    "    data,\n",
    "    data.survived, # target\n",
    "    test_size=0.3, # percentage of observations in the test set\n",
    "    random_state=0) # seed for reproducibility\n",
    "\n",
    "X_train.shape, X_test.shape"
   ]
  },
  {
   "cell_type": "code",
   "execution_count": 16,
   "metadata": {},
   "outputs": [],
   "source": [
    "# sustituyamos age usando una muestra aleatoria \n",
    "# para ambos segmentos el de entrenamiento.y prueba\n",
    "\n",
    "# creemos las nuevas variables donde los valores nulos van a ser sustituidos\n",
    "# haz una copia de la variable original, con valores nulos\n",
    "X_train['age_imputed'] = X_train['age'].copy()\n",
    "X_test['age_imputed'] = X_test['age'].copy()\n",
    "\n",
    "# extraer la muestra aleatoria para sustuir los valores nulos\n",
    "# recuerda que se hace en el segmento de entrenamiento\n",
    "# y luego usamos estos valores para sustituir en ambos\n",
    "# segementos de entrenamiento y prueba\n",
    "\n",
    "random_sample_train = X_train['age'].dropna().sample(\n",
    "    X_train['age'].isnull().sum(), random_state=0)\n",
    "\n",
    "random_sample_test = X_train['age'].dropna().sample(\n",
    "    X_test['age'].isnull().sum(), random_state=0)\n",
    "\n",
    "# Veamos en más detalle lo que esta sucediendo:\n",
    "\n",
    "# 1) dropna() remueve los valores nulos NA de la variable original,\n",
    "# esto significa que vamos a extraer aleatoriamente valores y no NAs\n",
    "\n",
    "# 2) sample() es el método para calcular la muestra aleatoria\n",
    "\n",
    "# 3) X_train['age'].isnull().sum() es el número de valores aleatorios a extraer\n",
    "# queremos extraer tantos valores como valores nulos hayan en la variable original\n",
    "\n",
    "# 4) random_state fija la semilla para poder reproducir los resultados,\n",
    "# de manera que se puedan extraer siempre los mismos valores, cada vez que corramos el notebook\n",
    "\n",
    "# pandas necesita tner el mismo índice para poder unir los datos\n",
    "random_sample_train.index = X_train[X_train['age'].isnull()].index\n",
    "random_sample_test.index = X_test[X_test['age'].isnull()].index\n",
    "\n",
    "# replace the NA in the newly created variable\n",
    "X_train.loc[X_train['age'].isnull(), 'age_imputed'] = random_sample_train\n",
    "X_test.loc[X_test['age'].isnull(), 'age_imputed'] = random_sample_test"
   ]
  },
  {
   "cell_type": "code",
   "execution_count": 17,
   "metadata": {},
   "outputs": [
    {
     "data": {
      "text/plain": [
       "0"
      ]
     },
     "execution_count": 17,
     "metadata": {},
     "output_type": "execute_result"
    }
   ],
   "source": [
    "# revisemos que los valores nulos fueron sustituidos\n",
    "X_train['age_imputed'].isnull().sum()"
   ]
  },
  {
   "cell_type": "code",
   "execution_count": 18,
   "metadata": {},
   "outputs": [
    {
     "data": {
      "text/plain": [
       "0"
      ]
     },
     "execution_count": 18,
     "metadata": {},
     "output_type": "execute_result"
    }
   ],
   "source": [
    "# revisemos que los valores nulos fueron sustituidos\n",
    "X_test['age_imputed'].isnull().sum()"
   ]
  },
  {
   "cell_type": "code",
   "execution_count": 19,
   "metadata": {},
   "outputs": [
    {
     "data": {
      "text/html": [
       "<div>\n",
       "<style scoped>\n",
       "    .dataframe tbody tr th:only-of-type {\n",
       "        vertical-align: middle;\n",
       "    }\n",
       "\n",
       "    .dataframe tbody tr th {\n",
       "        vertical-align: top;\n",
       "    }\n",
       "\n",
       "    .dataframe thead th {\n",
       "        text-align: right;\n",
       "    }\n",
       "</style>\n",
       "<table border=\"1\" class=\"dataframe\">\n",
       "  <thead>\n",
       "    <tr style=\"text-align: right;\">\n",
       "      <th></th>\n",
       "      <th>survived</th>\n",
       "      <th>age</th>\n",
       "      <th>fare</th>\n",
       "      <th>age_imputed</th>\n",
       "    </tr>\n",
       "  </thead>\n",
       "  <tbody>\n",
       "    <tr>\n",
       "      <th>501</th>\n",
       "      <td>1</td>\n",
       "      <td>13.0</td>\n",
       "      <td>19.5000</td>\n",
       "      <td>13.0</td>\n",
       "    </tr>\n",
       "    <tr>\n",
       "      <th>588</th>\n",
       "      <td>1</td>\n",
       "      <td>4.0</td>\n",
       "      <td>23.0000</td>\n",
       "      <td>4.0</td>\n",
       "    </tr>\n",
       "    <tr>\n",
       "      <th>402</th>\n",
       "      <td>1</td>\n",
       "      <td>30.0</td>\n",
       "      <td>13.8583</td>\n",
       "      <td>30.0</td>\n",
       "    </tr>\n",
       "    <tr>\n",
       "      <th>1193</th>\n",
       "      <td>0</td>\n",
       "      <td>NaN</td>\n",
       "      <td>7.7250</td>\n",
       "      <td>40.5</td>\n",
       "    </tr>\n",
       "    <tr>\n",
       "      <th>686</th>\n",
       "      <td>1</td>\n",
       "      <td>22.0</td>\n",
       "      <td>7.7250</td>\n",
       "      <td>22.0</td>\n",
       "    </tr>\n",
       "    <tr>\n",
       "      <th>971</th>\n",
       "      <td>0</td>\n",
       "      <td>NaN</td>\n",
       "      <td>7.8792</td>\n",
       "      <td>39.0</td>\n",
       "    </tr>\n",
       "    <tr>\n",
       "      <th>117</th>\n",
       "      <td>1</td>\n",
       "      <td>30.0</td>\n",
       "      <td>56.9292</td>\n",
       "      <td>30.0</td>\n",
       "    </tr>\n",
       "    <tr>\n",
       "      <th>540</th>\n",
       "      <td>1</td>\n",
       "      <td>2.0</td>\n",
       "      <td>26.0000</td>\n",
       "      <td>2.0</td>\n",
       "    </tr>\n",
       "    <tr>\n",
       "      <th>294</th>\n",
       "      <td>0</td>\n",
       "      <td>49.0</td>\n",
       "      <td>110.8833</td>\n",
       "      <td>49.0</td>\n",
       "    </tr>\n",
       "    <tr>\n",
       "      <th>261</th>\n",
       "      <td>1</td>\n",
       "      <td>35.0</td>\n",
       "      <td>26.2875</td>\n",
       "      <td>35.0</td>\n",
       "    </tr>\n",
       "    <tr>\n",
       "      <th>587</th>\n",
       "      <td>1</td>\n",
       "      <td>2.0</td>\n",
       "      <td>23.0000</td>\n",
       "      <td>2.0</td>\n",
       "    </tr>\n",
       "    <tr>\n",
       "      <th>489</th>\n",
       "      <td>1</td>\n",
       "      <td>42.0</td>\n",
       "      <td>26.0000</td>\n",
       "      <td>42.0</td>\n",
       "    </tr>\n",
       "    <tr>\n",
       "      <th>2</th>\n",
       "      <td>0</td>\n",
       "      <td>2.0</td>\n",
       "      <td>151.5500</td>\n",
       "      <td>2.0</td>\n",
       "    </tr>\n",
       "    <tr>\n",
       "      <th>405</th>\n",
       "      <td>0</td>\n",
       "      <td>18.0</td>\n",
       "      <td>13.0000</td>\n",
       "      <td>18.0</td>\n",
       "    </tr>\n",
       "    <tr>\n",
       "      <th>1284</th>\n",
       "      <td>0</td>\n",
       "      <td>NaN</td>\n",
       "      <td>8.0500</td>\n",
       "      <td>24.0</td>\n",
       "    </tr>\n",
       "  </tbody>\n",
       "</table>\n",
       "</div>"
      ],
      "text/plain": [
       "      survived   age      fare  age_imputed\n",
       "501          1  13.0   19.5000         13.0\n",
       "588          1   4.0   23.0000          4.0\n",
       "402          1  30.0   13.8583         30.0\n",
       "1193         0   NaN    7.7250         40.5\n",
       "686          1  22.0    7.7250         22.0\n",
       "971          0   NaN    7.8792         39.0\n",
       "117          1  30.0   56.9292         30.0\n",
       "540          1   2.0   26.0000          2.0\n",
       "294          0  49.0  110.8833         49.0\n",
       "261          1  35.0   26.2875         35.0\n",
       "587          1   2.0   23.0000          2.0\n",
       "489          1  42.0   26.0000         42.0\n",
       "2            0   2.0  151.5500          2.0\n",
       "405          0  18.0   13.0000         18.0\n",
       "1284         0   NaN    8.0500         24.0"
      ]
     },
     "execution_count": 19,
     "metadata": {},
     "output_type": "execute_result"
    }
   ],
   "source": [
    "X_train.head(15)"
   ]
  },
  {
   "cell_type": "markdown",
   "metadata": {},
   "source": [
    "Podmeos ver como los valores nulos fueron reemplzados por diferentes valores en las diferentes filas u observaciones!. Esto es lo que queriamos\n"
   ]
  },
  {
   "cell_type": "markdown",
   "metadata": {},
   "source": [
    "#### La muestra aleatoria preserva la distribución original de las variables\n"
   ]
  },
  {
   "cell_type": "code",
   "execution_count": 20,
   "metadata": {},
   "outputs": [
    {
     "data": {
      "text/plain": [
       "<matplotlib.legend.Legend at 0x12ac1e080>"
      ]
     },
     "execution_count": 20,
     "metadata": {},
     "output_type": "execute_result"
    },
    {
     "data": {
      "image/png": "[encoded data removed]",
      "text/plain": [
       "<Figure size 432x288 with 1 Axes>"
      ]
     },
     "metadata": {
      "needs_background": "light"
     },
     "output_type": "display_data"
    }
   ],
   "source": [
    "# podemos ver que la distribución de la variable luego de \n",
    "# la sustitución es casi igual que la original\n",
    "\n",
    "fig = plt.figure()\n",
    "ax = fig.add_subplot(111)\n",
    "\n",
    "X_train['age'].plot(kind='kde', ax=ax)\n",
    "X_train['age_imputed'].plot(kind='kde', ax=ax, color='red')\n",
    "\n",
    "lines, labels = ax.get_legend_handles_labels()\n",
    "ax.legend(lines, labels, loc='best')"
   ]
  },
  {
   "cell_type": "markdown",
   "metadata": {},
   "source": [
    "Podemos ver que reemplazando los valores faltantes con una muestra aleatoria del segmento de entrenamiento preserva la distribución original de la variable. Si recuerdas de los notebooks anteriores, cada una de las otras técnicas de imputación alteraron la distribución de age, porque el porcenaje de NA in age es bastante alto  ~20%. Sin embargo, la sustitición por muestra aleatoria preserva la distribución, hasta en esos casos. Por lo tanto esta técnica es bastante útil, si estamos construyendo modelos lineales y no queremos distorcoinar la distribución normal de las variables."
   ]
  },
  {
   "cell_type": "code",
   "execution_count": 21,
   "metadata": {},
   "outputs": [
    {
     "name": "stdout",
     "output_type": "stream",
     "text": [
      "Varianza variable original:  194.16304666581863\n",
      "Varianza despues de la sustitición aleatoria:  198.53703762759557\n"
     ]
    }
   ],
   "source": [
    "# hay algunos cambios en la varianza de la variable.\n",
    "# sin embargo, este cambio es mucho más pequeno \n",
    "# comparado a la sustitución por la media / mediana \n",
    "# (revisa los notebooks anteriores para comparar)\n",
    "\n",
    "print('Varianza variable original: ', X_train['age'].var())\n",
    "print('Varianza despues de la sustitición aleatoria: ', X_train['age_imputed'].var())"
   ]
  },
  {
   "cell_type": "code",
   "execution_count": 23,
   "metadata": {},
   "outputs": [
    {
     "data": {
      "text/html": [
       "<div>\n",
       "<style scoped>\n",
       "    .dataframe tbody tr th:only-of-type {\n",
       "        vertical-align: middle;\n",
       "    }\n",
       "\n",
       "    .dataframe tbody tr th {\n",
       "        vertical-align: top;\n",
       "    }\n",
       "\n",
       "    .dataframe thead th {\n",
       "        text-align: right;\n",
       "    }\n",
       "</style>\n",
       "<table border=\"1\" class=\"dataframe\">\n",
       "  <thead>\n",
       "    <tr style=\"text-align: right;\">\n",
       "      <th></th>\n",
       "      <th>fare</th>\n",
       "      <th>age</th>\n",
       "      <th>age_imputed</th>\n",
       "    </tr>\n",
       "  </thead>\n",
       "  <tbody>\n",
       "    <tr>\n",
       "      <th>fare</th>\n",
       "      <td>2248.326729</td>\n",
       "      <td>136.176223</td>\n",
       "      <td>100.938070</td>\n",
       "    </tr>\n",
       "    <tr>\n",
       "      <th>age</th>\n",
       "      <td>136.176223</td>\n",
       "      <td>194.163047</td>\n",
       "      <td>194.163047</td>\n",
       "    </tr>\n",
       "    <tr>\n",
       "      <th>age_imputed</th>\n",
       "      <td>100.938070</td>\n",
       "      <td>194.163047</td>\n",
       "      <td>198.537038</td>\n",
       "    </tr>\n",
       "  </tbody>\n",
       "</table>\n",
       "</div>"
      ],
      "text/plain": [
       "                    fare         age  age_imputed\n",
       "fare         2248.326729  136.176223   100.938070\n",
       "age           136.176223  194.163047   194.163047\n",
       "age_imputed   100.938070  194.163047   198.537038"
      ]
     },
     "execution_count": 23,
     "metadata": {},
     "output_type": "execute_result"
    }
   ],
   "source": [
    "# La covarianza de edad con fare son menos afectadas por al técnica de imputación\n",
    "# comparada con la susutición por la media o mediana\n",
    "X_train[['fare', 'age', 'age_imputed']].cov()"
   ]
  },
  {
   "cell_type": "code",
   "execution_count": 24,
   "metadata": {},
   "outputs": [
    {
     "data": {
      "text/plain": [
       "<matplotlib.axes._subplots.AxesSubplot at 0x12af2b240>"
      ]
     },
     "execution_count": 24,
     "metadata": {},
     "output_type": "execute_result"
    },
    {
     "data": {
      "image/png": "[encoded data removed]",
      "text/plain": [
       "<Figure size 432x288 with 1 Axes>"
      ]
     },
     "metadata": {
      "needs_background": "light"
     },
     "output_type": "display_data"
    }
   ],
   "source": [
    "# Finalmente, los outliers (valores extremos) están menos afectados por esta técnica\n",
    "\n",
    "# Corroboremos usando un gráfico de caja \n",
    "X_train[['age', 'age_imputed']].boxplot()"
   ]
  },
  {
   "cell_type": "markdown",
   "metadata": {},
   "source": [
    "La sustitución por muestra aleatoria ofrece todas las ventajas que trae preservar la distribución original. Y eso es algo positivo, particularmente, si nos estamos interesados en la distribución y los valores extremos para nuestros modelos de machine learning. Esto es particularmente relevante para los modelos lineales pero no tan importante para los modelos basados en árboles de decisión."
   ]
  },
  {
   "cell_type": "markdown",
   "metadata": {},
   "source": [
    "## Aletoriedad puede llevar a diferentes 'scores' o resultados asignados a la misma observación\n",
    "Examinemos el efecto de aletoriedad en multiples resultados o 'scores, y cómo podemos mitigar este comportamiento, ya que es muy importante cuando ponemos nuestros modelos en producción."
   ]
  },
  {
   "cell_type": "code",
   "execution_count": 26,
   "metadata": {},
   "outputs": [
    {
     "data": {
      "text/html": [
       "<div>\n",
       "<style scoped>\n",
       "    .dataframe tbody tr th:only-of-type {\n",
       "        vertical-align: middle;\n",
       "    }\n",
       "\n",
       "    .dataframe tbody tr th {\n",
       "        vertical-align: top;\n",
       "    }\n",
       "\n",
       "    .dataframe thead th {\n",
       "        text-align: right;\n",
       "    }\n",
       "</style>\n",
       "<table border=\"1\" class=\"dataframe\">\n",
       "  <thead>\n",
       "    <tr style=\"text-align: right;\">\n",
       "      <th></th>\n",
       "      <th>survived</th>\n",
       "      <th>age</th>\n",
       "      <th>fare</th>\n",
       "    </tr>\n",
       "  </thead>\n",
       "  <tbody>\n",
       "    <tr>\n",
       "      <th>15</th>\n",
       "      <td>0</td>\n",
       "      <td>NaN</td>\n",
       "      <td>25.925</td>\n",
       "    </tr>\n",
       "  </tbody>\n",
       "</table>\n",
       "</div>"
      ],
      "text/plain": [
       "    survived  age    fare\n",
       "15         0  NaN  25.925"
      ]
     },
     "execution_count": 26,
     "metadata": {},
     "output_type": "execute_result"
    }
   ],
   "source": [
    "# seleccionemos una observación con NA in age\n",
    "# en este caso seleccionamos la observación con índice 5\n",
    "\n",
    "observation = data[data.age.isnull()].head(1)\n",
    "observation"
   ]
  },
  {
   "cell_type": "code",
   "execution_count": 28,
   "metadata": {},
   "outputs": [
    {
     "data": {
      "text/html": [
       "<div>\n",
       "<style scoped>\n",
       "    .dataframe tbody tr th:only-of-type {\n",
       "        vertical-align: middle;\n",
       "    }\n",
       "\n",
       "    .dataframe tbody tr th {\n",
       "        vertical-align: top;\n",
       "    }\n",
       "\n",
       "    .dataframe thead th {\n",
       "        text-align: right;\n",
       "    }\n",
       "</style>\n",
       "<table border=\"1\" class=\"dataframe\">\n",
       "  <thead>\n",
       "    <tr style=\"text-align: right;\">\n",
       "      <th></th>\n",
       "      <th>survived</th>\n",
       "      <th>age</th>\n",
       "      <th>fare</th>\n",
       "      <th>age_random</th>\n",
       "    </tr>\n",
       "  </thead>\n",
       "  <tbody>\n",
       "    <tr>\n",
       "      <th>15</th>\n",
       "      <td>0</td>\n",
       "      <td>NaN</td>\n",
       "      <td>25.925</td>\n",
       "      <td>NaN</td>\n",
       "    </tr>\n",
       "  </tbody>\n",
       "</table>\n",
       "</div>"
      ],
      "text/plain": [
       "    survived  age    fare  age_random\n",
       "15         0  NaN  25.925         NaN"
      ]
     },
     "execution_count": 28,
     "metadata": {},
     "output_type": "execute_result"
    }
   ],
   "source": [
    "# y ahora llenamos los NA con un valor aleatorio extraido de la misma\n",
    "# variable donde las observaciones están disponibles\n",
    "\n",
    "# extraer un valor eleatorio, solo 1\n",
    "sampled_value = X_train['age'].dropna().sample(1)\n",
    "\n",
    "# re indexar a 5\n",
    "sampled_value.index = [5]  # pandas necesita el mismo índice para hacer la unión\n",
    "\n",
    "# reemplazar el NA con el valor de la muestra\n",
    "observation['age_random'] = sampled_value\n",
    "\n",
    "observation"
   ]
  },
  {
   "cell_type": "code",
   "execution_count": 30,
   "metadata": {},
   "outputs": [
    {
     "data": {
      "text/html": [
       "<div>\n",
       "<style scoped>\n",
       "    .dataframe tbody tr th:only-of-type {\n",
       "        vertical-align: middle;\n",
       "    }\n",
       "\n",
       "    .dataframe tbody tr th {\n",
       "        vertical-align: top;\n",
       "    }\n",
       "\n",
       "    .dataframe thead th {\n",
       "        text-align: right;\n",
       "    }\n",
       "</style>\n",
       "<table border=\"1\" class=\"dataframe\">\n",
       "  <thead>\n",
       "    <tr style=\"text-align: right;\">\n",
       "      <th></th>\n",
       "      <th>survived</th>\n",
       "      <th>age</th>\n",
       "      <th>fare</th>\n",
       "      <th>age_random</th>\n",
       "    </tr>\n",
       "  </thead>\n",
       "  <tbody>\n",
       "    <tr>\n",
       "      <th>15</th>\n",
       "      <td>0</td>\n",
       "      <td>NaN</td>\n",
       "      <td>25.925</td>\n",
       "      <td>NaN</td>\n",
       "    </tr>\n",
       "  </tbody>\n",
       "</table>\n",
       "</div>"
      ],
      "text/plain": [
       "    survived  age    fare  age_random\n",
       "15         0  NaN  25.925         NaN"
      ]
     },
     "execution_count": 30,
     "metadata": {},
     "output_type": "execute_result"
    }
   ],
   "source": [
    "# repitamos el ejercicio nuevamente: \n",
    "# llenamos los NA con otro valor aleatorio \n",
    "\n",
    "# extraer valor aleatorio, solo 1\n",
    "sampled_value = X_train['age'].dropna().sample(1)\n",
    "\n",
    "# re indexar a 5\n",
    "sampled_value.index = [5]   #pandas necesita el mismo índice para hacer la unión\n",
    "\n",
    "# reemplazar el NA con el valor de la muestra\n",
    "observation['age_random'] = sampled_value\n",
    "\n",
    "observation"
   ]
  },
  {
   "cell_type": "code",
   "execution_count": 31,
   "metadata": {},
   "outputs": [
    {
     "data": {
      "text/html": [
       "<div>\n",
       "<style scoped>\n",
       "    .dataframe tbody tr th:only-of-type {\n",
       "        vertical-align: middle;\n",
       "    }\n",
       "\n",
       "    .dataframe tbody tr th {\n",
       "        vertical-align: top;\n",
       "    }\n",
       "\n",
       "    .dataframe thead th {\n",
       "        text-align: right;\n",
       "    }\n",
       "</style>\n",
       "<table border=\"1\" class=\"dataframe\">\n",
       "  <thead>\n",
       "    <tr style=\"text-align: right;\">\n",
       "      <th></th>\n",
       "      <th>survived</th>\n",
       "      <th>age</th>\n",
       "      <th>fare</th>\n",
       "      <th>age_random</th>\n",
       "    </tr>\n",
       "  </thead>\n",
       "  <tbody>\n",
       "    <tr>\n",
       "      <th>15</th>\n",
       "      <td>0</td>\n",
       "      <td>NaN</td>\n",
       "      <td>25.925</td>\n",
       "      <td>NaN</td>\n",
       "    </tr>\n",
       "  </tbody>\n",
       "</table>\n",
       "</div>"
      ],
      "text/plain": [
       "    survived  age    fare  age_random\n",
       "15         0  NaN  25.925         NaN"
      ]
     },
     "execution_count": 31,
     "metadata": {},
     "output_type": "execute_result"
    }
   ],
   "source": [
    "# y nuevamente\n",
    "# llenamos los NA con otro valor aleatorio \n",
    "\n",
    "# extraer valor aleatorio, solo 1\n",
    "sampled_value = X_train['age'].dropna().sample(1)\n",
    "\n",
    "# re indexar a 5\n",
    "sampled_value.index = [5]  #pandas necesita el mismo índice para hacer la unión\n",
    "\n",
    "# reemplazar el NA con el valor de la muestra\n",
    "observation['age_random'] = sampled_value\n",
    "\n",
    "observation"
   ]
  },
  {
   "cell_type": "markdown",
   "metadata": {},
   "source": [
    "Podemos ver que cada vez que repetimos esta operación, obtenemos diferentes valores para reemplazar en la misma observación. De hecho, si repetimos este proceso 1000 veces:"
   ]
  },
  {
   "cell_type": "code",
   "execution_count": 33,
   "metadata": {},
   "outputs": [
    {
     "data": {
      "text/plain": [
       "Text(0, 0.5, 'Número de veces')"
      ]
     },
     "execution_count": 33,
     "metadata": {},
     "output_type": "execute_result"
    },
    {
     "data": {
      "image/png": "[encoded data removed]",
      "text/plain": [
       "<Figure size 432x288 with 1 Axes>"
      ]
     },
     "metadata": {
      "needs_background": "light"
     },
     "output_type": "display_data"
    }
   ],
   "source": [
    "# si repetimos este proceso 1000 veces:\n",
    "\n",
    "values_ls = []\n",
    "\n",
    "# capturamos los valores no-NA para faciliar el cómputo\n",
    "tmp = X_train.age.dropna()\n",
    "\n",
    "for i in range(1000):\n",
    "    \n",
    "    # extraer valor aleatorio, solo 1\n",
    "    sampled_value = tmp.sample(1).values\n",
    "    \n",
    "    # anadir el valor extraído a la lista\n",
    "    values_ls.append(float(sampled_value))\n",
    "    \n",
    "pd.Series(values_ls).hist(bins=50)\n",
    "plt.xlabel('Valor extraído aleatoriamente')\n",
    "plt.ylabel('Número de veces')"
   ]
  },
  {
   "cell_type": "markdown",
   "metadata": {},
   "source": [
    "Obtenemos valores muy diferentes para la misma observación. Observa como la distribución de los valores extraídos es similar a la distribución de la variable age.\n",
    "\n",
    "Si estos fueran pacientes buscando un tratamiento médico, cada vez que corremos un modelo predictivo con los valores extraidos aleatoriamente, asignariamos a los pacientes con las mismas características diferentes tratamiento, y esto no esta bien.\n",
    "\n",
    "### Cómo podemos cambiar este comportamiento?\n",
    "\n",
    "Podemos mejorar este comportamiento asignado una semilla:"
   ]
  },
  {
   "cell_type": "code",
   "execution_count": 34,
   "metadata": {},
   "outputs": [
    {
     "data": {
      "text/plain": [
       "array([23.5])"
      ]
     },
     "execution_count": 34,
     "metadata": {},
     "output_type": "execute_result"
    }
   ],
   "source": [
    "values_ls = []\n",
    "\n",
    "for i in range(100):\n",
    "\n",
    "    # extraer valor aleatorio, solo 1, ahor aocn la semilla\n",
    "    sampled_value = X_train.age.dropna().sample(1, random_state=10)\n",
    "\n",
    "    # anadir valor aleatorio a la lista\n",
    "    values_ls.append(float(sampled_value))\n",
    "\n",
    "# imprimir los valores\n",
    "pd.Series(values_ls).unique()"
   ]
  },
  {
   "cell_type": "code",
   "execution_count": 35,
   "metadata": {
    "scrolled": true
   },
   "outputs": [
    {
     "data": {
      "text/plain": [
       "[23.5,\n",
       " 23.5,\n",
       " 23.5,\n",
       " 23.5,\n",
       " 23.5,\n",
       " 23.5,\n",
       " 23.5,\n",
       " 23.5,\n",
       " 23.5,\n",
       " 23.5,\n",
       " 23.5,\n",
       " 23.5,\n",
       " 23.5,\n",
       " 23.5,\n",
       " 23.5,\n",
       " 23.5,\n",
       " 23.5,\n",
       " 23.5,\n",
       " 23.5,\n",
       " 23.5,\n",
       " 23.5,\n",
       " 23.5,\n",
       " 23.5,\n",
       " 23.5,\n",
       " 23.5,\n",
       " 23.5,\n",
       " 23.5,\n",
       " 23.5,\n",
       " 23.5,\n",
       " 23.5,\n",
       " 23.5,\n",
       " 23.5,\n",
       " 23.5,\n",
       " 23.5,\n",
       " 23.5,\n",
       " 23.5,\n",
       " 23.5,\n",
       " 23.5,\n",
       " 23.5,\n",
       " 23.5,\n",
       " 23.5,\n",
       " 23.5,\n",
       " 23.5,\n",
       " 23.5,\n",
       " 23.5,\n",
       " 23.5,\n",
       " 23.5,\n",
       " 23.5,\n",
       " 23.5,\n",
       " 23.5,\n",
       " 23.5,\n",
       " 23.5,\n",
       " 23.5,\n",
       " 23.5,\n",
       " 23.5,\n",
       " 23.5,\n",
       " 23.5,\n",
       " 23.5,\n",
       " 23.5,\n",
       " 23.5,\n",
       " 23.5,\n",
       " 23.5,\n",
       " 23.5,\n",
       " 23.5,\n",
       " 23.5,\n",
       " 23.5,\n",
       " 23.5,\n",
       " 23.5,\n",
       " 23.5,\n",
       " 23.5,\n",
       " 23.5,\n",
       " 23.5,\n",
       " 23.5,\n",
       " 23.5,\n",
       " 23.5,\n",
       " 23.5,\n",
       " 23.5,\n",
       " 23.5,\n",
       " 23.5,\n",
       " 23.5,\n",
       " 23.5,\n",
       " 23.5,\n",
       " 23.5,\n",
       " 23.5,\n",
       " 23.5,\n",
       " 23.5,\n",
       " 23.5,\n",
       " 23.5,\n",
       " 23.5,\n",
       " 23.5,\n",
       " 23.5,\n",
       " 23.5,\n",
       " 23.5,\n",
       " 23.5,\n",
       " 23.5,\n",
       " 23.5,\n",
       " 23.5,\n",
       " 23.5,\n",
       " 23.5,\n",
       " 23.5]"
      ]
     },
     "execution_count": 35,
     "metadata": {},
     "output_type": "execute_result"
    }
   ],
   "source": [
    "values_ls"
   ]
  },
  {
   "cell_type": "markdown",
   "metadata": {},
   "source": [
    "Ahora que la semila esta fija, los valores aloeatorios extraidos para cada observación son los mismos\n",
    "\n",
    "Sin embargo, si fijamos la misma semilla para cada observación, lo que pasaria es que por cada diferente observación, podriamos estar sustituyendo los valores nulos con el mismo valor ( misma semilla == mismo valor aleatorio extraido) Esto seria lo equivalente a la sustitición por valor arbitrario!!!!\n",
    "\n",
    "No queremos ese comportamiento tampoco\n",
    "\n",
    "Por lo tanto, queremos que nuestra semilla cambie de observacion en observación, pero de una forma controalda, asi dos observaciones que sean toalmente iguales, recibirán el mismo valor aleatorio para imputar. Pero dos observaciones que son diferentes, recibiran diferentes valores aleatrios para reemplazar.\n",
    "\n"
   ]
  },
  {
   "cell_type": "markdown",
   "metadata": {},
   "source": [
    "### Controlando el elemento de aleatoriedad variando la semilla\n",
    "\n",
    "Podemos atribuir diferentes semillas a cada observación, de hecho, podemos hacer que esta semilla depende de una variable alternativa para la misma observación. Si tomamos el conjunto de datos del Titanic, si dos pasajeros pagaron exactamente la misma tarifa 'fare', deberían tener la misma probabilidad de supervivencia (cuando la edad 'age' es ausente)"
   ]
  },
  {
   "cell_type": "code",
   "execution_count": 37,
   "metadata": {},
   "outputs": [
    {
     "data": {
      "text/html": [
       "<div>\n",
       "<style scoped>\n",
       "    .dataframe tbody tr th:only-of-type {\n",
       "        vertical-align: middle;\n",
       "    }\n",
       "\n",
       "    .dataframe tbody tr th {\n",
       "        vertical-align: top;\n",
       "    }\n",
       "\n",
       "    .dataframe thead th {\n",
       "        text-align: right;\n",
       "    }\n",
       "</style>\n",
       "<table border=\"1\" class=\"dataframe\">\n",
       "  <thead>\n",
       "    <tr style=\"text-align: right;\">\n",
       "      <th></th>\n",
       "      <th>survived</th>\n",
       "      <th>age</th>\n",
       "      <th>fare</th>\n",
       "    </tr>\n",
       "  </thead>\n",
       "  <tbody>\n",
       "    <tr>\n",
       "      <th>15</th>\n",
       "      <td>0</td>\n",
       "      <td>NaN</td>\n",
       "      <td>25.925</td>\n",
       "    </tr>\n",
       "  </tbody>\n",
       "</table>\n",
       "</div>"
      ],
      "text/plain": [
       "    survived  age    fare\n",
       "15         0  NaN  25.925"
      ]
     },
     "execution_count": 37,
     "metadata": {},
     "output_type": "execute_result"
    }
   ],
   "source": [
    "# seleccionemos una observación con NA en 'age'\n",
    "# ien este cso tomamos la observación con índice 5\n",
    "\n",
    "observation = data[data.age.isnull()].head(1)\n",
    "observation"
   ]
  },
  {
   "cell_type": "code",
   "execution_count": 39,
   "metadata": {},
   "outputs": [
    {
     "data": {
      "text/plain": [
       "25"
      ]
     },
     "execution_count": 39,
     "metadata": {},
     "output_type": "execute_result"
    }
   ],
   "source": [
    "# la semilla es ahora el valor en la variable 'fare'\n",
    "\n",
    "int(observation.fare)"
   ]
  },
  {
   "cell_type": "code",
   "execution_count": 40,
   "metadata": {},
   "outputs": [
    {
     "data": {
      "text/html": [
       "<div>\n",
       "<style scoped>\n",
       "    .dataframe tbody tr th:only-of-type {\n",
       "        vertical-align: middle;\n",
       "    }\n",
       "\n",
       "    .dataframe tbody tr th {\n",
       "        vertical-align: top;\n",
       "    }\n",
       "\n",
       "    .dataframe thead th {\n",
       "        text-align: right;\n",
       "    }\n",
       "</style>\n",
       "<table border=\"1\" class=\"dataframe\">\n",
       "  <thead>\n",
       "    <tr style=\"text-align: right;\">\n",
       "      <th></th>\n",
       "      <th>survived</th>\n",
       "      <th>age</th>\n",
       "      <th>fare</th>\n",
       "      <th>age_random</th>\n",
       "    </tr>\n",
       "  </thead>\n",
       "  <tbody>\n",
       "    <tr>\n",
       "      <th>15</th>\n",
       "      <td>0</td>\n",
       "      <td>NaN</td>\n",
       "      <td>25.925</td>\n",
       "      <td>NaN</td>\n",
       "    </tr>\n",
       "  </tbody>\n",
       "</table>\n",
       "</div>"
      ],
      "text/plain": [
       "    survived  age    fare  age_random\n",
       "15         0  NaN  25.925         NaN"
      ]
     },
     "execution_count": 40,
     "metadata": {},
     "output_type": "execute_result"
    }
   ],
   "source": [
    "# asignamos el valor de 'fare' como la semilla en la extracción \n",
    "# de la muestra aleatoria\n",
    "sampled_value = X_train.age.dropna().sample(1,\n",
    "                                            random_state=int(observation.fare))\n",
    "sampled_value.index = [5]\n",
    "\n",
    "observation['age_random'] = sampled_value\n",
    "observation"
   ]
  },
  {
   "cell_type": "code",
   "execution_count": 41,
   "metadata": {},
   "outputs": [
    {
     "data": {
      "text/html": [
       "<div>\n",
       "<style scoped>\n",
       "    .dataframe tbody tr th:only-of-type {\n",
       "        vertical-align: middle;\n",
       "    }\n",
       "\n",
       "    .dataframe tbody tr th {\n",
       "        vertical-align: top;\n",
       "    }\n",
       "\n",
       "    .dataframe thead th {\n",
       "        text-align: right;\n",
       "    }\n",
       "</style>\n",
       "<table border=\"1\" class=\"dataframe\">\n",
       "  <thead>\n",
       "    <tr style=\"text-align: right;\">\n",
       "      <th></th>\n",
       "      <th>survived</th>\n",
       "      <th>age</th>\n",
       "      <th>fare</th>\n",
       "    </tr>\n",
       "  </thead>\n",
       "  <tbody>\n",
       "    <tr>\n",
       "      <th>1305</th>\n",
       "      <td>0</td>\n",
       "      <td>NaN</td>\n",
       "      <td>14.4542</td>\n",
       "    </tr>\n",
       "  </tbody>\n",
       "</table>\n",
       "</div>"
      ],
      "text/plain": [
       "      survived  age     fare\n",
       "1305         0  NaN  14.4542"
      ]
     },
     "execution_count": 41,
     "metadata": {},
     "output_type": "execute_result"
    }
   ],
   "source": [
    "# para una observación con un valor diferente en 'fare',\n",
    "# obtendríamos una muestra aleatoria diferente \n",
    "\n",
    "observation = data[data.age.isnull()].tail(1)\n",
    "observation"
   ]
  },
  {
   "cell_type": "code",
   "execution_count": 43,
   "metadata": {},
   "outputs": [
    {
     "data": {
      "text/plain": [
       "14"
      ]
     },
     "execution_count": 43,
     "metadata": {},
     "output_type": "execute_result"
    }
   ],
   "source": [
    "# nueva semilla\n",
    "int(observation.fare)"
   ]
  },
  {
   "cell_type": "code",
   "execution_count": 44,
   "metadata": {},
   "outputs": [
    {
     "data": {
      "text/html": [
       "<div>\n",
       "<style scoped>\n",
       "    .dataframe tbody tr th:only-of-type {\n",
       "        vertical-align: middle;\n",
       "    }\n",
       "\n",
       "    .dataframe tbody tr th {\n",
       "        vertical-align: top;\n",
       "    }\n",
       "\n",
       "    .dataframe thead th {\n",
       "        text-align: right;\n",
       "    }\n",
       "</style>\n",
       "<table border=\"1\" class=\"dataframe\">\n",
       "  <thead>\n",
       "    <tr style=\"text-align: right;\">\n",
       "      <th></th>\n",
       "      <th>survived</th>\n",
       "      <th>age</th>\n",
       "      <th>fare</th>\n",
       "      <th>age_random</th>\n",
       "    </tr>\n",
       "  </thead>\n",
       "  <tbody>\n",
       "    <tr>\n",
       "      <th>1305</th>\n",
       "      <td>0</td>\n",
       "      <td>NaN</td>\n",
       "      <td>14.4542</td>\n",
       "      <td>NaN</td>\n",
       "    </tr>\n",
       "  </tbody>\n",
       "</table>\n",
       "</div>"
      ],
      "text/plain": [
       "      survived  age     fare  age_random\n",
       "1305         0  NaN  14.4542         NaN"
      ]
     },
     "execution_count": 44,
     "metadata": {},
     "output_type": "execute_result"
    }
   ],
   "source": [
    "# asignamos el valor de 'fare' como la semilla en el proceso de extracción del valor elatorio\n",
    "sampled_value = X_train.age.dropna().sample(1,\n",
    "                                            random_state=int(observation.fare))\n",
    "sampled_value.index = [888]\n",
    "\n",
    "observation['age_random'] = sampled_value\n",
    "observation"
   ]
  },
  {
   "cell_type": "markdown",
   "metadata": {},
   "source": [
    "Esta es una forma de controlar la aleatoriedad. Usando el valor de 'fare' para fijar el 'random_estate' en la función, podemos garantizar que para dos pasajeros con el mismo valor de 'fare', tendrán el valor de 'age' sustituido con el mismo número y por lo tanto los dos pasajeros tendrán la misma probabilidad de supervivencia.\n",
    "\n",
    "### Nota!!\n",
    "\n",
    "En la vida real, construirás modelos que usan decenas de variables o más. En casos como ese, puedes seleccionar las 3-5 variables más importantes, aquellas que tiene el impacto mas fuerte en los resultados del modelo de machine learning y combinarlos para create el 'random state' o estado aleatorio. Por lo tanto cliente que compartan los mismos valores de las 3-5 variable principales, tendrán los mismos resultados o probabilidades."
   ]
  },
  {
   "cell_type": "markdown",
   "metadata": {
    "collapsed": true
   },
   "source": [
    "## Muestras aleatorias para Variables Categóricas\n"
   ]
  },
  {
   "cell_type": "code",
   "execution_count": 46,
   "metadata": {},
   "outputs": [
    {
     "data": {
      "text/plain": [
       "SalePrice      0.000000\n",
       "BsmtQual       0.025342\n",
       "FireplaceQu    0.472603\n",
       "dtype: float64"
      ]
     },
     "execution_count": 46,
     "metadata": {},
     "output_type": "execute_result"
    }
   ],
   "source": [
    "# carguemos los datos con unas pocas columnas para el demo\n",
    "cols_to_use = ['BsmtQual', 'FireplaceQu', 'SalePrice']\n",
    "\n",
    "data = pd.read_csv('../houseprice.csv', usecols=cols_to_use)\n",
    "\n",
    "# inspeccionemos el porcentaje de valores ausentes en cada variable\n",
    "data.isnull().mean().sort_values(ascending=True)"
   ]
  },
  {
   "cell_type": "code",
   "execution_count": 47,
   "metadata": {},
   "outputs": [
    {
     "data": {
      "text/plain": [
       "((1022, 3), (438, 3))"
      ]
     },
     "execution_count": 47,
     "metadata": {},
     "output_type": "execute_result"
    }
   ],
   "source": [
    "# separemos datos en segmento de entrenamiento y prueba\n",
    "\n",
    "X_train, X_test, y_train, y_test = train_test_split(data,\n",
    "                                                    data.SalePrice,\n",
    "                                                    test_size=0.3,\n",
    "                                                    random_state=0)\n",
    "X_train.shape, X_test.shape"
   ]
  },
  {
   "cell_type": "code",
   "execution_count": 48,
   "metadata": {},
   "outputs": [],
   "source": [
    "# sustituyamos BsmtQual por una muestra aleatoria en ambos segmentos\n",
    "# entrenamiento y prueba\n",
    "\n",
    "# creemos una nueva variable donde NA serán imputados\n",
    "# creemos una copia de la variable orignal con NA\n",
    "X_train['BsmtQual_imputed'] = X_train['BsmtQual'].copy()\n",
    "X_test['BsmtQual_imputed'] = X_test['BsmtQual'].copy()\n",
    "\n",
    "# extraigamos la muestra aleatoria para llenar los na:\n",
    "# recuerda que hacemos esto en el segmento de entrenamiento y luego\n",
    "# usamos estos valores para llenar ambos segmentos de entrenamiento y prueba\n",
    "random_sample_train = X_train['BsmtQual'].dropna().sample(\n",
    "    X_train['BsmtQual'].isnull().sum(), random_state=0)\n",
    "\n",
    "random_sample_test = X_train['BsmtQual'].dropna().sample(\n",
    "    X_test['BsmtQual'].isnull().sum(), random_state=0)\n",
    "\n",
    "# Qué está sucediendo en el código anterior? \n",
    "# 1) dropna() remueve los NA de la variable original, eso significa\n",
    "# que aleatoriamente extraemos los valores existentes\n",
    "# y no NAs\n",
    "# 2) sample() es el método que toma la muestra aleatoria\n",
    "# 3) X_train['BsmtQual'].isnull().sum() es el número  de valores aleatorios para \n",
    "# extraer tantos valores como NAs están presentes en la variable orignal\n",
    "# 4) random_state fija la semilla para reproducir los resultados, \n",
    "#   es decir obtener los mismos valore aleatorios cada vez que corres el notebook\n",
    "\n",
    "# pandas necesita tener el mismo orden de índices para unir los dataframes \n",
    "random_sample_train.index = X_train[X_train['BsmtQual'].isnull()].index\n",
    "random_sample_test.index = X_test[X_test['BsmtQual'].isnull()].index\n",
    "\n",
    "# reemplazar los NA con la variable creada\n",
    "X_train.loc[X_train['BsmtQual'].isnull(), 'BsmtQual_imputed'] = random_sample_train\n",
    "X_test.loc[X_test['BsmtQual'].isnull(), 'BsmtQual_imputed'] = random_sample_test"
   ]
  },
  {
   "cell_type": "code",
   "execution_count": 49,
   "metadata": {},
   "outputs": [],
   "source": [
    "# sustituyamos FireplaceQu por una muestra aleatoria en ambos segmentos\n",
    "# entrenamiento y prueba\n",
    "\n",
    "# creemos una nueva variable donde NA serán imputados\n",
    "# creemos una copia de la variable orignal con NA\n",
    "X_train['FireplaceQu_imputed'] = X_train['FireplaceQu'].copy()\n",
    "X_test['FireplaceQu_imputed'] = X_test['FireplaceQu'].copy()\n",
    "\n",
    "# extraigamos la muestra aleatoria para llenar los na:\n",
    "# recuerda que hacemos esto en el segmento de entrenamiento y luego\n",
    "# usamos estos valores para llenar ambos segmentos de entrenamiento y prueba\n",
    "random_sample_train = X_train['FireplaceQu'].dropna().sample(\n",
    "    X_train['FireplaceQu'].isnull().sum(), random_state=0)\n",
    "\n",
    "random_sample_test = X_train['FireplaceQu'].dropna().sample(\n",
    "    X_test['FireplaceQu'].isnull().sum(), random_state=0)\n",
    "\n",
    "# Qué está sucediendo en el código anterior? \n",
    "# 1) dropna() remueve los NA de la variable original, eso significa\n",
    "# que aleatoriamente extraemos los valores existentes\n",
    "# y no NAs\n",
    "# 2) sample() es el método que toma la muestra aleatoria\n",
    "# 3) X_train['FireplaceQu'].isnull().sum() es el número  de valores aleatorios para \n",
    "# extraer tantos valores como NAs están presentes en la variable orignal\n",
    "# 4) random_state fija la semilla para reproducir los resultados, \n",
    "#   es decir obtener los mismos valore aleatorios cada vez que corres el notebook\n",
    "\n",
    "random_sample_train.index = X_train[X_train['FireplaceQu'].isnull()].index\n",
    "random_sample_test.index = X_test[X_test['FireplaceQu'].isnull()].index\n",
    "\n",
    "# reemplazar los NA con la variable creada\n",
    "X_train.loc[X_train['FireplaceQu'].isnull(), 'FireplaceQu_imputed'] = random_sample_train\n",
    "X_test.loc[X_test['FireplaceQu'].isnull(), 'FireplaceQu_imputed'] = random_sample_test"
   ]
  },
  {
   "cell_type": "code",
   "execution_count": 54,
   "metadata": {},
   "outputs": [
    {
     "data": {
      "text/plain": [
       "0"
      ]
     },
     "execution_count": 54,
     "metadata": {},
     "output_type": "execute_result"
    }
   ],
   "source": [
    "# revisemos que los valores nulos fueron reemplazados\n",
    "X_train['FireplaceQu_imputed'].isnull().sum()"
   ]
  },
  {
   "cell_type": "code",
   "execution_count": 51,
   "metadata": {},
   "outputs": [],
   "source": [
    "# ahora evaluemos el efecto de la sustitución en la distribución\n",
    "# de las categorias y el targe en esas categorías\n",
    "\n",
    "# usamos una función similar en el notebook de sustitución de valores arbitrarios\n",
    "# para variables categóricas\n",
    "\n",
    "def categorical_distribution(df, variable_original, variable_imputed):\n",
    "\n",
    "    tmp = pd.concat(\n",
    "        [\n",
    "            # porcentaje de observaciones por categoría, variable original\n",
    "            df[variable_original].value_counts() / len(df[variable_original].dropna()),\n",
    "\n",
    "            # porcentaje de observaciones por categoría y, variable imputada\n",
    "            df[variable_imputed].value_counts() / len(df)\n",
    "        ],\n",
    "        axis=1)\n",
    "\n",
    "    # anadir nombre de las columnas\n",
    "    tmp.columns = ['original', 'imputed']\n",
    "\n",
    "    return tmp"
   ]
  },
  {
   "cell_type": "code",
   "execution_count": 53,
   "metadata": {},
   "outputs": [
    {
     "data": {
      "text/html": [
       "<div>\n",
       "<style scoped>\n",
       "    .dataframe tbody tr th:only-of-type {\n",
       "        vertical-align: middle;\n",
       "    }\n",
       "\n",
       "    .dataframe tbody tr th {\n",
       "        vertical-align: top;\n",
       "    }\n",
       "\n",
       "    .dataframe thead th {\n",
       "        text-align: right;\n",
       "    }\n",
       "</style>\n",
       "<table border=\"1\" class=\"dataframe\">\n",
       "  <thead>\n",
       "    <tr style=\"text-align: right;\">\n",
       "      <th></th>\n",
       "      <th>original</th>\n",
       "      <th>imputed</th>\n",
       "    </tr>\n",
       "  </thead>\n",
       "  <tbody>\n",
       "    <tr>\n",
       "      <th>TA</th>\n",
       "      <td>0.463928</td>\n",
       "      <td>0.465753</td>\n",
       "    </tr>\n",
       "    <tr>\n",
       "      <th>Gd</th>\n",
       "      <td>0.430862</td>\n",
       "      <td>0.428571</td>\n",
       "    </tr>\n",
       "    <tr>\n",
       "      <th>Ex</th>\n",
       "      <td>0.082164</td>\n",
       "      <td>0.083170</td>\n",
       "    </tr>\n",
       "    <tr>\n",
       "      <th>Fa</th>\n",
       "      <td>0.023046</td>\n",
       "      <td>0.022505</td>\n",
       "    </tr>\n",
       "  </tbody>\n",
       "</table>\n",
       "</div>"
      ],
      "text/plain": [
       "    original   imputed\n",
       "TA  0.463928  0.465753\n",
       "Gd  0.430862  0.428571\n",
       "Ex  0.082164  0.083170\n",
       "Fa  0.023046  0.022505"
      ]
     },
     "execution_count": 53,
     "metadata": {},
     "output_type": "execute_result"
    }
   ],
   "source": [
    "# correr la función en una variable categórica\n",
    "categorical_distribution(X_train, 'BsmtQual', 'BsmtQual_imputed')"
   ]
  },
  {
   "cell_type": "code",
   "execution_count": 52,
   "metadata": {},
   "outputs": [
    {
     "data": {
      "text/html": [
       "<div>\n",
       "<style scoped>\n",
       "    .dataframe tbody tr th:only-of-type {\n",
       "        vertical-align: middle;\n",
       "    }\n",
       "\n",
       "    .dataframe tbody tr th {\n",
       "        vertical-align: top;\n",
       "    }\n",
       "\n",
       "    .dataframe thead th {\n",
       "        text-align: right;\n",
       "    }\n",
       "</style>\n",
       "<table border=\"1\" class=\"dataframe\">\n",
       "  <thead>\n",
       "    <tr style=\"text-align: right;\">\n",
       "      <th></th>\n",
       "      <th>original</th>\n",
       "      <th>imputed</th>\n",
       "    </tr>\n",
       "  </thead>\n",
       "  <tbody>\n",
       "    <tr>\n",
       "      <th>Gd</th>\n",
       "      <td>0.468750</td>\n",
       "      <td>0.469667</td>\n",
       "    </tr>\n",
       "    <tr>\n",
       "      <th>TA</th>\n",
       "      <td>0.420956</td>\n",
       "      <td>0.420744</td>\n",
       "    </tr>\n",
       "    <tr>\n",
       "      <th>Fa</th>\n",
       "      <td>0.047794</td>\n",
       "      <td>0.046967</td>\n",
       "    </tr>\n",
       "    <tr>\n",
       "      <th>Ex</th>\n",
       "      <td>0.033088</td>\n",
       "      <td>0.032290</td>\n",
       "    </tr>\n",
       "    <tr>\n",
       "      <th>Po</th>\n",
       "      <td>0.029412</td>\n",
       "      <td>0.030333</td>\n",
       "    </tr>\n",
       "  </tbody>\n",
       "</table>\n",
       "</div>"
      ],
      "text/plain": [
       "    original   imputed\n",
       "Gd  0.468750  0.469667\n",
       "TA  0.420956  0.420744\n",
       "Fa  0.047794  0.046967\n",
       "Ex  0.033088  0.032290\n",
       "Po  0.029412  0.030333"
      ]
     },
     "execution_count": 52,
     "metadata": {},
     "output_type": "execute_result"
    }
   ],
   "source": [
    "# correr la función en una variable categórica\n",
    "categorical_distribution(X_train, 'FireplaceQu', 'FireplaceQu_imputed')"
   ]
  },
  {
   "cell_type": "markdown",
   "metadata": {},
   "source": [
    "Como era de esperase, el porcentaje de observaciones en cada categoría es muy similar a la varaible original y las variables sustituidas, para ambas  BsmtQual donde los NA son pocos y FireplaceQu donde los NA son altos;"
   ]
  },
  {
   "cell_type": "code",
   "execution_count": 55,
   "metadata": {},
   "outputs": [],
   "source": [
    "# veamos la distribución del target dento de cada categoria\n",
    "\n",
    "def automate_plot(df, variable, target):\n",
    "    \n",
    "    fig = plt.figure()\n",
    "    ax = fig.add_subplot(111)\n",
    "    \n",
    "    for category in df[variable].dropna().unique():\n",
    "        df[df[variable]==category][target].plot(kind='kde', ax=ax)\n",
    "    \n",
    "    # leyenda\n",
    "    lines, labels = ax.get_legend_handles_labels()\n",
    "    labels = df[variable].dropna().unique()\n",
    "    ax.legend(lines, labels, loc='best')\n",
    "    \n",
    "    plt.show()"
   ]
  },
  {
   "cell_type": "code",
   "execution_count": 56,
   "metadata": {},
   "outputs": [
    {
     "data": {
      "image/png": "[encoded data removed]",
      "text/plain": [
       "<Figure size 432x288 with 1 Axes>"
      ]
     },
     "metadata": {
      "needs_background": "light"
     },
     "output_type": "display_data"
    }
   ],
   "source": [
    "automate_plot(X_train, 'BsmtQual', 'SalePrice')"
   ]
  },
  {
   "cell_type": "code",
   "execution_count": 57,
   "metadata": {},
   "outputs": [
    {
     "data": {
      "image/png": "[encoded data removed]",
      "text/plain": [
       "<Figure size 432x288 with 1 Axes>"
      ]
     },
     "metadata": {
      "needs_background": "light"
     },
     "output_type": "display_data"
    }
   ],
   "source": [
    "automate_plot(X_train, 'BsmtQual_imputed', 'SalePrice')"
   ]
  },
  {
   "cell_type": "code",
   "execution_count": 58,
   "metadata": {},
   "outputs": [
    {
     "data": {
      "image/png": "[encoded data removed]",
      "text/plain": [
       "<Figure size 432x288 with 1 Axes>"
      ]
     },
     "metadata": {
      "needs_background": "light"
     },
     "output_type": "display_data"
    }
   ],
   "source": [
    "automate_plot(X_train, 'FireplaceQu', 'SalePrice')"
   ]
  },
  {
   "cell_type": "code",
   "execution_count": 59,
   "metadata": {},
   "outputs": [
    {
     "data": {
      "image/png": "[encoded data removed]",
      "text/plain": [
       "<Figure size 432x288 with 1 Axes>"
      ]
     },
     "metadata": {
      "needs_background": "light"
     },
     "output_type": "display_data"
    }
   ],
   "source": [
    "automate_plot(X_train, 'FireplaceQu_imputed', 'SalePrice')"
   ]
  },
  {
   "cell_type": "markdown",
   "metadata": {},
   "source": [
    "Para BsmtQual, donde los NA son pocos, la distribución del target es preservada paralas categorías en la variable orignal y la imputada. Sin embargo, ,para FireplaceQu, que tiene más NAs, la distribución del target por cada categoría se afecta solo un poco\n",
    "\n",
    "## Nota: código sustitución por muestras aleatorias\n",
    "\n",
    "El código en este notebook para las muestras aleatorias, es un poco complejo. Pero no te preocupes! Puedes hacer sustitución por muestras aleatorias usando el paquete de feature engine en solo un par de líneas de código. Te mostraremos como en el siguiente notebook!"
   ]
  },
  {
   "cell_type": "code",
   "execution_count": null,
   "metadata": {},
   "outputs": [],
   "source": []
  }
 ],
 "metadata": {
  "kernelspec": {
   "display_name": "feml",
   "language": "python",
   "name": "feml"
  },
  "language_info": {
   "codemirror_mode": {
    "name": "ipython",
    "version": 3
   },
   "file_extension": ".py",
   "mimetype": "text/x-python",
   "name": "python",
   "nbconvert_exporter": "python",
   "pygments_lexer": "ipython3",
   "version": "3.7.3"
  },
  "toc": {
   "base_numbering": 1,
   "nav_menu": {},
   "number_sections": true,
   "sideBar": true,
   "skip_h1_title": false,
   "title_cell": "Table of Contents",
   "title_sidebar": "Contents",
   "toc_cell": false,
   "toc_position": {},
   "toc_section_display": "block",
   "toc_window_display": true
  }
 },
 "nbformat": 4,
 "nbformat_minor": 2
}
