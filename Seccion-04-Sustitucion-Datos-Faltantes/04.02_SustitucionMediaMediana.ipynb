{
 "cells": [
  {
   "cell_type": "markdown",
   "metadata": {},
   "source": [
    "## Sustitución por la Media/Mediana\n",
    "\n",
    "Los métodos de imputación consisten en estimar los valores faltantes en base a los valores válidos de otras variables y/o casos de la muestra. El objectivo de cualquier método de imputación es producir **conjunto completo** que pueda ser utlizado por un algoritmo de aprendizaje de máquina (machine learning). \n",
    "\n",
    "La estimación se puede hacer a partir de la información del conjunto completo de variables o bien de algunas variables especialmente seleccionadas. Sustitución por la media/mediana consiste en reemplezar los valores ausentes con la media ( si la variable es normalmente distribuida) o la mediana ( si la variable tiene una distribución sesgada).\n",
    "\n",
    "**Nota**:\n",
    "\n",
    "- Si la variable tiene una distribución Gaussiana, la media, la mediana y la moda toman el mismo valor. Por lo tanto es equivalente, sustituir valores nulos con la media o la mediana. Sustitución por la moda, no es una práctica muy usada para las variables numéricas.\n",
    "- Si la variable tiene una distribución sesgada, la media está inclinada hacia los valores que estan al extremo de la distribución. Por lo tanto, la mediana es una mejor representación de la mayoría de los valores en una variable. \n",
    "- Para las variables discretas convertidas a tipo int(casted), la media puede que no sea un número entero, por lo tanto toda la variable puede ser re-casted como 'float'. Para evitar este comportamiento, los valores faltantes pueden ser reemplazados por la media. La media siempre será un entero/ valor discreto también.\n",
    "\n",
    "\n",
    "### Cuáles variables se pueden sustituir con la media/mediana?\n",
    "\n",
    "La media y la mediana solo puede ser calculada para variables numéricas, por lo tanto estos métodos solo son apropiados para variables continuas o numéricas discretas solamente.\n",
    "\n",
    "\n",
    "### Suposiciones\n",
    "\n",
    "- Los datos faltan de forma completamente aleatoria (MCAR)\n",
    "- Lo más probable es que las observaciones ausentes tengan valores como el de la mayoría de las observaciones en la variable (osea la media/mediana)\n",
    "\n",
    "Si los datos faltan de forma completamente aleatoria, entonces es justo asumir que los valores ausentes estarán probablemente cerca a la media o la mediana de la distribución, ya que estos representes las observaciones más frecuentes/promedio. If data is missing completely at random, then it is fair to assume that the missing values, are most likely very close to the value of the mean or the median of the distribution, as these represent the most frequent / average observation.\n",
    "\n",
    "\n",
    "### Ventajas\n",
    "\n",
    "- Fácil de implementar\n",
    "- Forma rápida de obtener conjuntos completos de datos\n",
    "- Puede ser integrado en producción (durante el despliegue del modelo)\n",
    "\n",
    "### Limitaciones\n",
    "\n",
    "- Distorción de la distribución original de la variable\n",
    "- Distorción de la varianza original\n",
    "- Distorción de la covarianza con las otras variables en los datos.\n",
    "\n",
    "Cuando se sustituyen los valores nulos con la media o la mediana, la varianza de la variable será distorcionada si el número de valores faltantes es grande con respecto al número total de las observaciones. \n",
    "\n",
    "Adicionalmente, los estimados de la covarianza y las correlaciones con las otras variables del conjunto de datos se pueden afectar ya que la media/mediana que reempleza ahora los valores faltantes no necesariamente preserva la relación con las variables restantes.\n",
    "\n",
    "Finalmente, al concentrar todos los valores faltantes alrededor de la media/mediana, puede llevar a que observaciones que son más comunes en la distribución, pero no necesariamente son la media/mediana, se consideren como valores atípicos.\n",
    "\n",
    "### Cuando usar la sustitución por con la media/mediana?\n",
    "\n",
    "- Los datos faltan de forma completamente aleatoria(MCAR)\n",
    "- No más del 5% de la variable esta ausente /Solo el 5% de la variable tiene datos faltantes\n",
    "\n",
    "Aunque en teoría, las condiciones anteriores se deberían cumplir para minimizar el impacto de las técnicas de sustitución, en la práctica, estas se usan comunmente, asi los datos faltantes no sean MCAR y el porcentage de de ausencia sea alto. La razón es simple, la técnica es bastante sencilla.\n",
    "\n",
    "\n",
    "### Nota final\n",
    "\n",
    "La sustitución de valores nulos por la media/mediana se usa ampliamente en la comunindad de ciencia de datos y en varias competiciones. Por ejemplo, la solución ganadora de la copa KDD 2009 : [\"Winning the KDD Cup Orange Challenge with Ensemble Selection\"]( http://www.mtome.com/Publications/CiML/CiML-v3-book.pdf).\n",
    "\n",
    "Típicamente, este tipo de sustitución se usa en conjunto con la adición de una variable binaria llamada \"missing indicator\" o indicador de ausencia, para capturar las observaciones donde los datos están ausentes (para más detalles ver la clase en \"indicador de ausencia\"). De esta forma se logran dos cosas: si los valores ausentes son realmente aleatorios, este efecto se captura por la sustitución por media/mediana y si no lo son, el efecto se captura con el indicador. Ambos métodos son fáciles de implementar, y por lo tanto son muy populares en las competencias de ciencia de datos.\n",
    "\n",
    "## En este demo:\n",
    "\n",
    "Vamos a aprender como implementar la sustición por la media y la mediana usando pandas y los datos Ames House Price y Titanic.\n",
    "\n",
    "- Para bajar los datos, por favor referirse a la clase en **Datasets** en la  **Sección 1** del curso."
   ]
  },
  {
   "cell_type": "code",
   "execution_count": 1,
   "metadata": {},
   "outputs": [],
   "source": [
    "import pandas as pd\n",
    "import numpy as np\n",
    "\n",
    "import matplotlib.pyplot as plt\n",
    "\n",
    "# dividir los datos \n",
    "from sklearn.model_selection import train_test_split"
   ]
  },
  {
   "cell_type": "markdown",
   "metadata": {},
   "source": [
    "## Titanic"
   ]
  },
  {
   "cell_type": "code",
   "execution_count": 2,
   "metadata": {},
   "outputs": [
    {
     "data": {
      "text/html": [
       "<div>\n",
       "<style scoped>\n",
       "    .dataframe tbody tr th:only-of-type {\n",
       "        vertical-align: middle;\n",
       "    }\n",
       "\n",
       "    .dataframe tbody tr th {\n",
       "        vertical-align: top;\n",
       "    }\n",
       "\n",
       "    .dataframe thead th {\n",
       "        text-align: right;\n",
       "    }\n",
       "</style>\n",
       "<table border=\"1\" class=\"dataframe\">\n",
       "  <thead>\n",
       "    <tr style=\"text-align: right;\">\n",
       "      <th></th>\n",
       "      <th>survived</th>\n",
       "      <th>age</th>\n",
       "      <th>fare</th>\n",
       "    </tr>\n",
       "  </thead>\n",
       "  <tbody>\n",
       "    <tr>\n",
       "      <th>0</th>\n",
       "      <td>1</td>\n",
       "      <td>29.0000</td>\n",
       "      <td>211.3375</td>\n",
       "    </tr>\n",
       "    <tr>\n",
       "      <th>1</th>\n",
       "      <td>1</td>\n",
       "      <td>0.9167</td>\n",
       "      <td>151.5500</td>\n",
       "    </tr>\n",
       "    <tr>\n",
       "      <th>2</th>\n",
       "      <td>0</td>\n",
       "      <td>2.0000</td>\n",
       "      <td>151.5500</td>\n",
       "    </tr>\n",
       "    <tr>\n",
       "      <th>3</th>\n",
       "      <td>0</td>\n",
       "      <td>30.0000</td>\n",
       "      <td>151.5500</td>\n",
       "    </tr>\n",
       "    <tr>\n",
       "      <th>4</th>\n",
       "      <td>0</td>\n",
       "      <td>25.0000</td>\n",
       "      <td>151.5500</td>\n",
       "    </tr>\n",
       "  </tbody>\n",
       "</table>\n",
       "</div>"
      ],
      "text/plain": [
       "   survived      age      fare\n",
       "0         1  29.0000  211.3375\n",
       "1         1   0.9167  151.5500\n",
       "2         0   2.0000  151.5500\n",
       "3         0  30.0000  151.5500\n",
       "4         0  25.0000  151.5500"
      ]
     },
     "execution_count": 2,
     "metadata": {},
     "output_type": "execute_result"
    }
   ],
   "source": [
    "# cargar los datos del titanic con solo unas columnas\n",
    "\n",
    "data = pd.read_csv('../titanic.csv', usecols=['age', 'fare', 'survived'])\n",
    "data.head()"
   ]
  },
  {
   "cell_type": "code",
   "execution_count": 3,
   "metadata": {},
   "outputs": [
    {
     "data": {
      "text/plain": [
       "survived    0.000000\n",
       "age         0.200917\n",
       "fare        0.000764\n",
       "dtype: float64"
      ]
     },
     "execution_count": 3,
     "metadata": {},
     "output_type": "execute_result"
    }
   ],
   "source": [
    "# porcentage de valores faltantes\n",
    "data.isnull().mean()"
   ]
  },
  {
   "cell_type": "markdown",
   "metadata": {},
   "source": [
    "La única variable con valores ausentes es age, con ~20% de valores nulos.\n",
    "\n",
    "### Para tener en cuenta\n",
    "\n",
    "Sustitución se debe hacer en el segmento usado para entrenar el modelo, y luego deber ser propagado en el segmento de prueba. Esto significa que el mismo valor de media/mediana deber ser usado para sustituir los valores ausentes en ambos segmentos - entrenamiento y prueba, pero dicho valor se calcula solamente del segmento de entrenamiento. La razón principal es para evitar sobre-ajustes pero tambien para preservar la distribución original de los datos usados para modelamiento, que se supone es representativa de los datos que se usaran para evaluar el modelo o los datos una vez en producción.\n"
   ]
  },
  {
   "cell_type": "code",
   "execution_count": 4,
   "metadata": {},
   "outputs": [
    {
     "data": {
      "text/plain": [
       "((916, 2), (393, 2))"
      ]
     },
     "execution_count": 4,
     "metadata": {},
     "output_type": "execute_result"
    }
   ],
   "source": [
    "# separemos datos para modelamiento y prueba\n",
    "\n",
    "X_train, X_test, y_train, y_test = train_test_split(\n",
    "    data[['age', 'fare']],  # predictors\n",
    "    data['survived'],  # target\n",
    "    test_size=0.3,  # percentage of obs in test set\n",
    "    random_state=0)  # seed to ensure reproducibility\n",
    "\n",
    "X_train.shape, X_test.shape"
   ]
  },
  {
   "cell_type": "code",
   "execution_count": 5,
   "metadata": {},
   "outputs": [
    {
     "data": {
      "text/plain": [
       "age     0.191048\n",
       "fare    0.000000\n",
       "dtype: float64"
      ]
     },
     "execution_count": 5,
     "metadata": {},
     "output_type": "execute_result"
    }
   ],
   "source": [
    "# exploremos datos nulos en el segmento de entrenamiento\n",
    "# el porcentaje debe ser similar que para todo el \n",
    "# conjunto de datos\n",
    "\n",
    "X_train.isnull().mean()"
   ]
  },
  {
   "cell_type": "code",
   "execution_count": 6,
   "metadata": {},
   "outputs": [],
   "source": [
    "# creemos una función para sustituir los valores faltantes\n",
    "# con la media o la mediana\n",
    "# la función toma como argumentos:\n",
    "# dataframe, variable, y el valor de media/mediana\n",
    "# retorna la variable con los valores sustituidos\n",
    "\n",
    "def impute_na(df, variable, mean_median):\n",
    "\n",
    "    return df[variable].fillna(mean_median)"
   ]
  },
  {
   "cell_type": "code",
   "execution_count": 7,
   "metadata": {},
   "outputs": [
    {
     "data": {
      "text/plain": [
       "28.0"
      ]
     },
     "execution_count": 7,
     "metadata": {},
     "output_type": "execute_result"
    }
   ],
   "source": [
    "# calcular la mediana Age\n",
    "\n",
    "median = X_train.age.median()\n",
    "median"
   ]
  },
  {
   "cell_type": "code",
   "execution_count": 8,
   "metadata": {},
   "outputs": [
    {
     "data": {
      "text/plain": [
       "30.23144399460189"
      ]
     },
     "execution_count": 8,
     "metadata": {},
     "output_type": "execute_result"
    }
   ],
   "source": [
    "# calcular la media de  Age\n",
    "\n",
    "mean = X_train.age.mean()\n",
    "mean"
   ]
  },
  {
   "cell_type": "code",
   "execution_count": 9,
   "metadata": {},
   "outputs": [
    {
     "data": {
      "text/html": [
       "<div>\n",
       "<style scoped>\n",
       "    .dataframe tbody tr th:only-of-type {\n",
       "        vertical-align: middle;\n",
       "    }\n",
       "\n",
       "    .dataframe tbody tr th {\n",
       "        vertical-align: top;\n",
       "    }\n",
       "\n",
       "    .dataframe thead th {\n",
       "        text-align: right;\n",
       "    }\n",
       "</style>\n",
       "<table border=\"1\" class=\"dataframe\">\n",
       "  <thead>\n",
       "    <tr style=\"text-align: right;\">\n",
       "      <th></th>\n",
       "      <th>age</th>\n",
       "      <th>fare</th>\n",
       "      <th>age_median</th>\n",
       "      <th>age_mean</th>\n",
       "    </tr>\n",
       "  </thead>\n",
       "  <tbody>\n",
       "    <tr>\n",
       "      <th>501</th>\n",
       "      <td>13.0</td>\n",
       "      <td>19.5000</td>\n",
       "      <td>13.0</td>\n",
       "      <td>13.0</td>\n",
       "    </tr>\n",
       "    <tr>\n",
       "      <th>588</th>\n",
       "      <td>4.0</td>\n",
       "      <td>23.0000</td>\n",
       "      <td>4.0</td>\n",
       "      <td>4.0</td>\n",
       "    </tr>\n",
       "    <tr>\n",
       "      <th>402</th>\n",
       "      <td>30.0</td>\n",
       "      <td>13.8583</td>\n",
       "      <td>30.0</td>\n",
       "      <td>30.0</td>\n",
       "    </tr>\n",
       "    <tr>\n",
       "      <th>1193</th>\n",
       "      <td>NaN</td>\n",
       "      <td>7.7250</td>\n",
       "      <td>28.0</td>\n",
       "      <td>30.2</td>\n",
       "    </tr>\n",
       "    <tr>\n",
       "      <th>686</th>\n",
       "      <td>22.0</td>\n",
       "      <td>7.7250</td>\n",
       "      <td>22.0</td>\n",
       "      <td>22.0</td>\n",
       "    </tr>\n",
       "    <tr>\n",
       "      <th>971</th>\n",
       "      <td>NaN</td>\n",
       "      <td>7.8792</td>\n",
       "      <td>28.0</td>\n",
       "      <td>30.2</td>\n",
       "    </tr>\n",
       "    <tr>\n",
       "      <th>117</th>\n",
       "      <td>30.0</td>\n",
       "      <td>56.9292</td>\n",
       "      <td>30.0</td>\n",
       "      <td>30.0</td>\n",
       "    </tr>\n",
       "    <tr>\n",
       "      <th>540</th>\n",
       "      <td>2.0</td>\n",
       "      <td>26.0000</td>\n",
       "      <td>2.0</td>\n",
       "      <td>2.0</td>\n",
       "    </tr>\n",
       "    <tr>\n",
       "      <th>294</th>\n",
       "      <td>49.0</td>\n",
       "      <td>110.8833</td>\n",
       "      <td>49.0</td>\n",
       "      <td>49.0</td>\n",
       "    </tr>\n",
       "    <tr>\n",
       "      <th>261</th>\n",
       "      <td>35.0</td>\n",
       "      <td>26.2875</td>\n",
       "      <td>35.0</td>\n",
       "      <td>35.0</td>\n",
       "    </tr>\n",
       "    <tr>\n",
       "      <th>587</th>\n",
       "      <td>2.0</td>\n",
       "      <td>23.0000</td>\n",
       "      <td>2.0</td>\n",
       "      <td>2.0</td>\n",
       "    </tr>\n",
       "    <tr>\n",
       "      <th>489</th>\n",
       "      <td>42.0</td>\n",
       "      <td>26.0000</td>\n",
       "      <td>42.0</td>\n",
       "      <td>42.0</td>\n",
       "    </tr>\n",
       "    <tr>\n",
       "      <th>2</th>\n",
       "      <td>2.0</td>\n",
       "      <td>151.5500</td>\n",
       "      <td>2.0</td>\n",
       "      <td>2.0</td>\n",
       "    </tr>\n",
       "    <tr>\n",
       "      <th>405</th>\n",
       "      <td>18.0</td>\n",
       "      <td>13.0000</td>\n",
       "      <td>18.0</td>\n",
       "      <td>18.0</td>\n",
       "    </tr>\n",
       "    <tr>\n",
       "      <th>1284</th>\n",
       "      <td>NaN</td>\n",
       "      <td>8.0500</td>\n",
       "      <td>28.0</td>\n",
       "      <td>30.2</td>\n",
       "    </tr>\n",
       "  </tbody>\n",
       "</table>\n",
       "</div>"
      ],
      "text/plain": [
       "       age      fare  age_median  age_mean\n",
       "501   13.0   19.5000        13.0      13.0\n",
       "588    4.0   23.0000         4.0       4.0\n",
       "402   30.0   13.8583        30.0      30.0\n",
       "1193   NaN    7.7250        28.0      30.2\n",
       "686   22.0    7.7250        22.0      22.0\n",
       "971    NaN    7.8792        28.0      30.2\n",
       "117   30.0   56.9292        30.0      30.0\n",
       "540    2.0   26.0000         2.0       2.0\n",
       "294   49.0  110.8833        49.0      49.0\n",
       "261   35.0   26.2875        35.0      35.0\n",
       "587    2.0   23.0000         2.0       2.0\n",
       "489   42.0   26.0000        42.0      42.0\n",
       "2      2.0  151.5500         2.0       2.0\n",
       "405   18.0   13.0000        18.0      18.0\n",
       "1284   NaN    8.0500        28.0      30.2"
      ]
     },
     "execution_count": 9,
     "metadata": {},
     "output_type": "execute_result"
    }
   ],
   "source": [
    "# creemos una nueva variable con los valores nulos reemplazados\n",
    "\n",
    "# primero reemplazar con la mediana \n",
    "X_train['age_median'] = impute_na(X_train, 'age', median)\n",
    "\n",
    "# ahora reemplazar con la media\n",
    "X_train['age_mean'] = impute_na(X_train, 'age', mean)\n",
    "\n",
    "# la media contiene muchos decimales, redondeemos a 1 dígito\n",
    "# usando la funcion de numpy\n",
    "X_train['age_mean'] = np.round(X_train['age_mean'], 1)\n",
    "\n",
    "X_train.head(15)"
   ]
  },
  {
   "cell_type": "markdown",
   "metadata": {},
   "source": [
    "Miremos a las filas con valores nulos (NaN) en age, y comparemos con las nuevas variables con los valores sustituidos por ya sea la media 29 o la media 29.9\n"
   ]
  },
  {
   "cell_type": "code",
   "execution_count": 10,
   "metadata": {},
   "outputs": [
    {
     "name": "stdout",
     "output_type": "stream",
     "text": [
      "Varianza variable original:  194.16304666581863\n",
      "Varianza luego de sustitución por mediana:  157.79842957602128\n",
      "Varianza luego de sustitución por media:  157.0217073519937\n"
     ]
    }
   ],
   "source": [
    "# vemos como la varianza cambia luego de la sustitución\n",
    "# esto es de esperarse, porque el porcentaje de valores ausentes \n",
    "# es relativamente grande en age, ~20%\n",
    "\n",
    "print('Varianza variable original: ', X_train['age'].var())\n",
    "print('Varianza luego de sustitución por mediana: ', X_train['age_median'].var())\n",
    "print('Varianza luego de sustitución por media: ', X_train['age_mean'].var())"
   ]
  },
  {
   "cell_type": "markdown",
   "metadata": {},
   "source": [
    "La varianza es subestimada, porque ahora muchas observaciones tienen el mismo valor en age (ya sea la media o mediana)\n"
   ]
  },
  {
   "cell_type": "code",
   "execution_count": 11,
   "metadata": {},
   "outputs": [
    {
     "data": {
      "text/plain": [
       "<matplotlib.legend.Legend at 0x10f7cb2b0>"
      ]
     },
     "execution_count": 11,
     "metadata": {},
     "output_type": "execute_result"
    },
    {
     "data": {
      "image/png": "[encoded data removed]",
      "text/plain": [
       "<Figure size 432x288 with 1 Axes>"
      ]
     },
     "metadata": {
      "needs_background": "light"
     },
     "output_type": "display_data"
    }
   ],
   "source": [
    "# Comparemos distribuciones\n",
    "\n",
    "fig = plt.figure()\n",
    "ax = fig.add_subplot(111)\n",
    "\n",
    "# distribución original de la variable\n",
    "X_train['age'].plot(kind='kde', ax=ax)\n",
    "\n",
    "# distribución variable sustituida con mediana\n",
    "X_train['age_median'].plot(kind='kde', ax=ax, color='red')\n",
    "\n",
    "# distribución variable sustituida con media\n",
    "X_train['age_mean'].plot(kind='kde', ax=ax, color='green')\n",
    "\n",
    "# etiquetas \n",
    "lines, labels = ax.get_legend_handles_labels()\n",
    "ax.legend(lines, labels, loc='best')"
   ]
  },
  {
   "cell_type": "markdown",
   "metadata": {},
   "source": [
    "La distribución de la variable cambia, ya que ahora hay muchos más valores acumulados hacia la media o mediana.\n",
    "\n",
    "**Es esto importante?**\n",
    "\n",
    "Depende del modelo de machine learning que se quiera construir. Los modelos lineales asumen que las variables están normalmente distribuidas. La sustitución por la media/mediana puede distorcionar la distribución normal original si el porcentaje de valores ausentes es alto y por lo tanto afectar el desempeno del modelo lineal.\n"
   ]
  },
  {
   "cell_type": "code",
   "execution_count": 12,
   "metadata": {},
   "outputs": [
    {
     "data": {
      "text/html": [
       "<div>\n",
       "<style scoped>\n",
       "    .dataframe tbody tr th:only-of-type {\n",
       "        vertical-align: middle;\n",
       "    }\n",
       "\n",
       "    .dataframe tbody tr th {\n",
       "        vertical-align: top;\n",
       "    }\n",
       "\n",
       "    .dataframe thead th {\n",
       "        text-align: right;\n",
       "    }\n",
       "</style>\n",
       "<table border=\"1\" class=\"dataframe\">\n",
       "  <thead>\n",
       "    <tr style=\"text-align: right;\">\n",
       "      <th></th>\n",
       "      <th>fare</th>\n",
       "      <th>age</th>\n",
       "      <th>age_median</th>\n",
       "      <th>age_mean</th>\n",
       "    </tr>\n",
       "  </thead>\n",
       "  <tbody>\n",
       "    <tr>\n",
       "      <th>fare</th>\n",
       "      <td>2248.326729</td>\n",
       "      <td>136.176223</td>\n",
       "      <td>114.961682</td>\n",
       "      <td>110.198311</td>\n",
       "    </tr>\n",
       "    <tr>\n",
       "      <th>age</th>\n",
       "      <td>136.176223</td>\n",
       "      <td>194.163047</td>\n",
       "      <td>194.163047</td>\n",
       "      <td>194.159033</td>\n",
       "    </tr>\n",
       "    <tr>\n",
       "      <th>age_median</th>\n",
       "      <td>114.961682</td>\n",
       "      <td>194.163047</td>\n",
       "      <td>157.798430</td>\n",
       "      <td>157.035694</td>\n",
       "    </tr>\n",
       "    <tr>\n",
       "      <th>age_mean</th>\n",
       "      <td>110.198311</td>\n",
       "      <td>194.159033</td>\n",
       "      <td>157.035694</td>\n",
       "      <td>157.021707</td>\n",
       "    </tr>\n",
       "  </tbody>\n",
       "</table>\n",
       "</div>"
      ],
      "text/plain": [
       "                   fare         age  age_median    age_mean\n",
       "fare        2248.326729  136.176223  114.961682  110.198311\n",
       "age          136.176223  194.163047  194.163047  194.159033\n",
       "age_median   114.961682  194.163047  157.798430  157.035694\n",
       "age_mean     110.198311  194.159033  157.035694  157.021707"
      ]
     },
     "execution_count": 12,
     "metadata": {},
     "output_type": "execute_result"
    }
   ],
   "source": [
    "# la sustitución por media / mediana tambien puede afectar\n",
    "# la relación con las otras variables en los datos\n",
    "\n",
    "X_train[['fare', 'age', 'age_median', 'age_mean']].cov()"
   ]
  },
  {
   "cell_type": "markdown",
   "metadata": {},
   "source": [
    "Podemos ver que la covarianza entre age y fare ha cambiado luego de la sustitución\n"
   ]
  },
  {
   "cell_type": "code",
   "execution_count": 13,
   "metadata": {},
   "outputs": [
    {
     "data": {
      "text/plain": [
       "<matplotlib.axes._subplots.AxesSubplot at 0x110503048>"
      ]
     },
     "execution_count": 13,
     "metadata": {},
     "output_type": "execute_result"
    },
    {
     "data": {
      "image/png": "[encoded data removed]",
      "text/plain": [
       "<Figure size 432x288 with 1 Axes>"
      ]
     },
     "metadata": {
      "needs_background": "light"
     },
     "output_type": "display_data"
    }
   ],
   "source": [
    "# Finalmente, la sustitución por media / mediana tambien puede\n",
    "# generar observaciones que siendo completamente normales parecen\n",
    "# valores extramos\n",
    "\n",
    "# o en otras palabras la sustitución puede incrementar\n",
    "# el número percibido de valores extremos\n",
    "\n",
    "# analicemos la gráfica de caja\n",
    "\n",
    "X_train[['age', 'age_median', 'age_mean']].boxplot()"
   ]
  },
  {
   "cell_type": "markdown",
   "metadata": {},
   "source": [
    "De la gráfica anterior, podemos ver después de la sustitución hay mas valores extremos hacia los valores altos de age, pero tambien para los valores inferiores.\n",
    "\n",
    "**Es esto importante?**\n",
    "\n",
    "Si queremos identificar los verdaderos valores extremos, es importante tener en cuenta este comportamiento. En la práctica, este tipo de efectos son ignorados, pero es importante saber que esta sucediendo. Si es necesario, el orden de los pasos en el pre-procesamiento puede adaptarse para tener en cuenta este tipo de efectos.\n",
    "\n",
    "## House Prices Dataset\n",
    "\n",
    "Repitamos rápidamente el mismo ejercicio con el House Prices dataset."
   ]
  },
  {
   "cell_type": "code",
   "execution_count": 14,
   "metadata": {},
   "outputs": [],
   "source": [
    "# usaremos las siguientes variables, de las cuales solo 3 \n",
    "# tienen variables con valores nulos\n",
    "\n",
    "cols_to_use = [\n",
    "    'OverallQual', 'TotalBsmtSF', '1stFlrSF', 'GrLivArea', 'WoodDeckSF',\n",
    "    'BsmtUnfSF', 'LotFrontage', 'MasVnrArea', 'GarageYrBlt', 'SalePrice'\n",
    "]"
   ]
  },
  {
   "cell_type": "code",
   "execution_count": 15,
   "metadata": {},
   "outputs": [
    {
     "name": "stdout",
     "output_type": "stream",
     "text": [
      "(1460, 10)\n"
     ]
    },
    {
     "data": {
      "text/html": [
       "<div>\n",
       "<style scoped>\n",
       "    .dataframe tbody tr th:only-of-type {\n",
       "        vertical-align: middle;\n",
       "    }\n",
       "\n",
       "    .dataframe tbody tr th {\n",
       "        vertical-align: top;\n",
       "    }\n",
       "\n",
       "    .dataframe thead th {\n",
       "        text-align: right;\n",
       "    }\n",
       "</style>\n",
       "<table border=\"1\" class=\"dataframe\">\n",
       "  <thead>\n",
       "    <tr style=\"text-align: right;\">\n",
       "      <th></th>\n",
       "      <th>LotFrontage</th>\n",
       "      <th>OverallQual</th>\n",
       "      <th>MasVnrArea</th>\n",
       "      <th>BsmtUnfSF</th>\n",
       "      <th>TotalBsmtSF</th>\n",
       "      <th>1stFlrSF</th>\n",
       "      <th>GrLivArea</th>\n",
       "      <th>GarageYrBlt</th>\n",
       "      <th>WoodDeckSF</th>\n",
       "      <th>SalePrice</th>\n",
       "    </tr>\n",
       "  </thead>\n",
       "  <tbody>\n",
       "    <tr>\n",
       "      <th>0</th>\n",
       "      <td>65.0</td>\n",
       "      <td>7</td>\n",
       "      <td>196.0</td>\n",
       "      <td>150</td>\n",
       "      <td>856</td>\n",
       "      <td>856</td>\n",
       "      <td>1710</td>\n",
       "      <td>2003.0</td>\n",
       "      <td>0</td>\n",
       "      <td>208500</td>\n",
       "    </tr>\n",
       "    <tr>\n",
       "      <th>1</th>\n",
       "      <td>80.0</td>\n",
       "      <td>6</td>\n",
       "      <td>0.0</td>\n",
       "      <td>284</td>\n",
       "      <td>1262</td>\n",
       "      <td>1262</td>\n",
       "      <td>1262</td>\n",
       "      <td>1976.0</td>\n",
       "      <td>298</td>\n",
       "      <td>181500</td>\n",
       "    </tr>\n",
       "    <tr>\n",
       "      <th>2</th>\n",
       "      <td>68.0</td>\n",
       "      <td>7</td>\n",
       "      <td>162.0</td>\n",
       "      <td>434</td>\n",
       "      <td>920</td>\n",
       "      <td>920</td>\n",
       "      <td>1786</td>\n",
       "      <td>2001.0</td>\n",
       "      <td>0</td>\n",
       "      <td>223500</td>\n",
       "    </tr>\n",
       "    <tr>\n",
       "      <th>3</th>\n",
       "      <td>60.0</td>\n",
       "      <td>7</td>\n",
       "      <td>0.0</td>\n",
       "      <td>540</td>\n",
       "      <td>756</td>\n",
       "      <td>961</td>\n",
       "      <td>1717</td>\n",
       "      <td>1998.0</td>\n",
       "      <td>0</td>\n",
       "      <td>140000</td>\n",
       "    </tr>\n",
       "    <tr>\n",
       "      <th>4</th>\n",
       "      <td>84.0</td>\n",
       "      <td>8</td>\n",
       "      <td>350.0</td>\n",
       "      <td>490</td>\n",
       "      <td>1145</td>\n",
       "      <td>1145</td>\n",
       "      <td>2198</td>\n",
       "      <td>2000.0</td>\n",
       "      <td>192</td>\n",
       "      <td>250000</td>\n",
       "    </tr>\n",
       "  </tbody>\n",
       "</table>\n",
       "</div>"
      ],
      "text/plain": [
       "   LotFrontage  OverallQual  MasVnrArea  BsmtUnfSF  TotalBsmtSF  1stFlrSF  \\\n",
       "0         65.0            7       196.0        150          856       856   \n",
       "1         80.0            6         0.0        284         1262      1262   \n",
       "2         68.0            7       162.0        434          920       920   \n",
       "3         60.0            7         0.0        540          756       961   \n",
       "4         84.0            8       350.0        490         1145      1145   \n",
       "\n",
       "   GrLivArea  GarageYrBlt  WoodDeckSF  SalePrice  \n",
       "0       1710       2003.0           0     208500  \n",
       "1       1262       1976.0         298     181500  \n",
       "2       1786       2001.0           0     223500  \n",
       "3       1717       1998.0           0     140000  \n",
       "4       2198       2000.0         192     250000  "
      ]
     },
     "execution_count": 15,
     "metadata": {},
     "output_type": "execute_result"
    }
   ],
   "source": [
    "# House Prices dataset\n",
    "\n",
    "data = pd.read_csv('../houseprice.csv', usecols=cols_to_use)\n",
    "print(data.shape)\n",
    "data.head()"
   ]
  },
  {
   "cell_type": "code",
   "execution_count": 16,
   "metadata": {},
   "outputs": [
    {
     "data": {
      "text/plain": [
       "['LotFrontage', 'MasVnrArea', 'GarageYrBlt']"
      ]
     },
     "execution_count": 16,
     "metadata": {},
     "output_type": "execute_result"
    }
   ],
   "source": [
    "# variables con valores nulos\n",
    "\n",
    "# en la siguiente list comprehension, iteraremos sobre las columnas\n",
    "# y seleccionaremos las que contienen valores nulos\n",
    "\n",
    "[var for var in data.columns if data[var].isnull().sum() > 0]"
   ]
  },
  {
   "cell_type": "code",
   "execution_count": 17,
   "metadata": {
    "scrolled": false
   },
   "outputs": [
    {
     "data": {
      "text/plain": [
       "LotFrontage    0.177397\n",
       "MasVnrArea     0.005479\n",
       "GarageYrBlt    0.055479\n",
       "dtype: float64"
      ]
     },
     "execution_count": 17,
     "metadata": {},
     "output_type": "execute_result"
    }
   ],
   "source": [
    "# porcentaje de valores nulos\n",
    "\n",
    "data[['LotFrontage', 'MasVnrArea', 'GarageYrBlt']].isnull().mean()"
   ]
  },
  {
   "cell_type": "markdown",
   "metadata": {},
   "source": [
    "**Recuerda que el mean y la mediana que usaremos para sustituir los valores nulos deben ser calculados del segemento de entrenamiento y propagados para el segmento de prueba.\n"
   ]
  },
  {
   "cell_type": "code",
   "execution_count": 18,
   "metadata": {
    "scrolled": false
   },
   "outputs": [
    {
     "data": {
      "text/plain": [
       "((1022, 10), (438, 10))"
      ]
     },
     "execution_count": 18,
     "metadata": {},
     "output_type": "execute_result"
    }
   ],
   "source": [
    "# separemos los datos en entrenamiento y prueba\n",
    "\n",
    "X_train, X_test, y_train, y_test = train_test_split(data,\n",
    "                                                    data['SalePrice'],\n",
    "                                                    test_size=0.3,\n",
    "                                                    random_state=0)\n",
    "X_train.shape, X_test.shape"
   ]
  },
  {
   "cell_type": "code",
   "execution_count": 19,
   "metadata": {},
   "outputs": [
    {
     "data": {
      "image/png": "[encoded data removed]",
      "text/plain": [
       "<Figure size 720x720 with 12 Axes>"
      ]
     },
     "metadata": {
      "needs_background": "light"
     },
     "output_type": "display_data"
    }
   ],
   "source": [
    "# distribuciones de las variables\n",
    "X_train.hist(bins=50, figsize=(10,10))\n",
    "plt.show()"
   ]
  },
  {
   "cell_type": "code",
   "execution_count": 20,
   "metadata": {},
   "outputs": [
    {
     "name": "stderr",
     "output_type": "stream",
     "text": [
      "/Users/natisangarita/python/courses/feml/lib/python3.7/site-packages/pandas/core/indexing.py:362: SettingWithCopyWarning: \n",
      "A value is trying to be set on a copy of a slice from a DataFrame.\n",
      "Try using .loc[row_indexer,col_indexer] = value instead\n",
      "\n",
      "See the caveats in the documentation: http://pandas.pydata.org/pandas-docs/stable/indexing.html#indexing-view-versus-copy\n",
      "  self.obj[key] = _infer_fill_value(value)\n",
      "/Users/natisangarita/python/courses/feml/lib/python3.7/site-packages/pandas/core/indexing.py:543: SettingWithCopyWarning: \n",
      "A value is trying to be set on a copy of a slice from a DataFrame.\n",
      "Try using .loc[row_indexer,col_indexer] = value instead\n",
      "\n",
      "See the caveats in the documentation: http://pandas.pydata.org/pandas-docs/stable/indexing.html#indexing-view-versus-copy\n",
      "  self.obj[item] = s\n"
     ]
    }
   ],
   "source": [
    "# vamos a crear una nueva variable sustituyendo los valores nulos\n",
    "# con la mediana para cada una de las variables con valores ausentes.\n",
    "\n",
    "# empecemos con la variable LotFrontage\n",
    "\n",
    "median = X_train['LotFrontage'].median()\n",
    "\n",
    "X_train.loc[:,'LotFrontage_median'] = impute_na(X_train, 'LotFrontage', median)\n",
    "X_test.loc[:,'LotFrontage_median'] = impute_na(X_test, 'LotFrontage', median)"
   ]
  },
  {
   "cell_type": "code",
   "execution_count": 21,
   "metadata": {},
   "outputs": [],
   "source": [
    "median = X_train['MasVnrArea'].median()\n",
    "\n",
    "X_train.loc[:,'MasVnrArea_median'] = impute_na(X_train, 'MasVnrArea', median)\n",
    "X_test.loc[:,'MasVnrArea_median'] = impute_na(X_test, 'MasVnrArea', median)"
   ]
  },
  {
   "cell_type": "code",
   "execution_count": 22,
   "metadata": {},
   "outputs": [],
   "source": [
    "median = X_train['GarageYrBlt'].median()\n",
    "\n",
    "X_train.loc[:, 'GarageYrBlt_median'] = impute_na(X_train, 'GarageYrBlt', median)\n",
    "X_test.loc[:,'GarageYrBlt_median'] = impute_na(X_test, 'GarageYrBlt', median)"
   ]
  },
  {
   "cell_type": "code",
   "execution_count": 23,
   "metadata": {},
   "outputs": [
    {
     "data": {
      "text/plain": [
       "<matplotlib.legend.Legend at 0x12d54a978>"
      ]
     },
     "execution_count": 23,
     "metadata": {},
     "output_type": "execute_result"
    },
    {
     "data": {
      "image/png": "[encoded data removed]",
      "text/plain": [
       "<Figure size 432x288 with 1 Axes>"
      ]
     },
     "metadata": {
      "needs_background": "light"
     },
     "output_type": "display_data"
    }
   ],
   "source": [
    "# evaluemos el efecto de la sustitución en las distribuciones\n",
    "\n",
    "# Más valores se acumular hacia la mediana en la \n",
    "# distribución de LotFrontAge\n",
    "\n",
    "\n",
    "fig = plt.figure()\n",
    "ax = fig.add_subplot(111)\n",
    "\n",
    "# distribución original\n",
    "X_train['LotFrontage'].plot(kind='kde', ax=ax)\n",
    "\n",
    "# variable sustituida con la mediana\n",
    "X_train['LotFrontage_median'].plot(kind='kde', ax=ax, color='red')\n",
    "\n",
    "# etiquetas\n",
    "lines, labels = ax.get_legend_handles_labels()\n",
    "ax.legend(lines, labels, loc='best')"
   ]
  },
  {
   "cell_type": "code",
   "execution_count": 24,
   "metadata": {},
   "outputs": [
    {
     "data": {
      "text/plain": [
       "<matplotlib.legend.Legend at 0x12de36ba8>"
      ]
     },
     "execution_count": 24,
     "metadata": {},
     "output_type": "execute_result"
    },
    {
     "data": {
      "image/png": "[encoded data removed]",
      "text/plain": [
       "<Figure size 432x288 with 1 Axes>"
      ]
     },
     "metadata": {
      "needs_background": "light"
     },
     "output_type": "display_data"
    }
   ],
   "source": [
    "# For MasVnrArea, because the percentage of missing data\n",
    "# was low, we don't expect and won't see a dramatic change in the\n",
    "# original distribution of the variable\n",
    "\n",
    "fig = plt.figure()\n",
    "ax = fig.add_subplot(111)\n",
    "\n",
    "# original variable distribution\n",
    "X_train['MasVnrArea'].plot(kind='kde', ax=ax)\n",
    "\n",
    "# variable imputed with the median\n",
    "X_train['MasVnrArea_median'].plot(kind='kde', ax=ax, color='red')\n",
    "\n",
    "# add legends\n",
    "lines, labels = ax.get_legend_handles_labels()\n",
    "ax.legend(lines, labels, loc='best')"
   ]
  },
  {
   "cell_type": "code",
   "execution_count": 25,
   "metadata": {
    "scrolled": true
   },
   "outputs": [
    {
     "data": {
      "text/plain": [
       "<matplotlib.legend.Legend at 0x12dc70550>"
      ]
     },
     "execution_count": 25,
     "metadata": {},
     "output_type": "execute_result"
    },
    {
     "data": {
      "image/png": "[encoded data removed]",
      "text/plain": [
       "<Figure size 432x288 with 1 Axes>"
      ]
     },
     "metadata": {
      "needs_background": "light"
     },
     "output_type": "display_data"
    }
   ],
   "source": [
    "# Para la variable GarageBlt, dado que el porcentaje de valores nulos\n",
    "# es menor, no hay un cambio significativo en la distribución\n",
    "\n",
    "fig = plt.figure()\n",
    "ax = fig.add_subplot(111)\n",
    "\n",
    "# distribución original\n",
    "X_train['GarageYrBlt'].plot(kind='kde', ax=ax)\n",
    "\n",
    "# variable sustitiuida por la mediana\n",
    "X_train['GarageYrBlt_median'].plot(kind='kde', ax=ax, color='red')\n",
    "\n",
    "# etiquetas\n",
    "lines, labels = ax.get_legend_handles_labels()\n",
    "ax.legend(lines, labels, loc='best')"
   ]
  },
  {
   "cell_type": "code",
   "execution_count": 26,
   "metadata": {},
   "outputs": [
    {
     "name": "stdout",
     "output_type": "stream",
     "text": [
      "Varianza original :  532.5872021885677\n",
      "Varianza despues de sustitución por mediana:  434.0660426541647\n"
     ]
    }
   ],
   "source": [
    "# efecto de la sustitución en la varianza\n",
    "\n",
    "# Para LotFrontAge hay un cambio significativo ya que el porcetaje\n",
    "# de valores nulos es alto~20%\n",
    "\n",
    "print('Varianza original : ', X_train['LotFrontage'].var())\n",
    "print('Varianza despues de sustitución por mediana: ', X_train['LotFrontage_median'].var())"
   ]
  },
  {
   "cell_type": "code",
   "execution_count": 27,
   "metadata": {},
   "outputs": [
    {
     "name": "stdout",
     "output_type": "stream",
     "text": [
      "Varianza original:  32983.53871003956\n",
      "Varianza despues de sustitución por mediana:  32874.27007404199\n"
     ]
    }
   ],
   "source": [
    "# no hay cambios significativo para MasnVnrArea, ya que el % de valores nulos es bajo\n",
    "print('Varianza original: ', X_train['MasVnrArea'].var())\n",
    "print('Varianza despues de sustitución por mediana: ', X_train['MasVnrArea_median'].var())"
   ]
  },
  {
   "cell_type": "code",
   "execution_count": 28,
   "metadata": {},
   "outputs": [
    {
     "name": "stdout",
     "output_type": "stream",
     "text": [
      "Varianza original:  624.3059475074142\n",
      "Varianza despues de sustitución por mediana:  591.3356883144761\n"
     ]
    }
   ],
   "source": [
    "# no hay cambios significativo para GarageBlt, ya que el % de valores nulos es bajo\n",
    "\n",
    "print('Varianza original: ', X_train['GarageYrBlt'].var())\n",
    "print('Varianza despues de sustitución por mediana: ', X_train['GarageYrBlt_median'].var())"
   ]
  },
  {
   "cell_type": "code",
   "execution_count": 29,
   "metadata": {},
   "outputs": [
    {
     "data": {
      "text/html": [
       "<div>\n",
       "<style scoped>\n",
       "    .dataframe tbody tr th:only-of-type {\n",
       "        vertical-align: middle;\n",
       "    }\n",
       "\n",
       "    .dataframe tbody tr th {\n",
       "        vertical-align: top;\n",
       "    }\n",
       "\n",
       "    .dataframe thead th {\n",
       "        text-align: right;\n",
       "    }\n",
       "</style>\n",
       "<table border=\"1\" class=\"dataframe\">\n",
       "  <thead>\n",
       "    <tr style=\"text-align: right;\">\n",
       "      <th></th>\n",
       "      <th>LotFrontage</th>\n",
       "      <th>OverallQual</th>\n",
       "      <th>MasVnrArea</th>\n",
       "      <th>BsmtUnfSF</th>\n",
       "      <th>TotalBsmtSF</th>\n",
       "      <th>1stFlrSF</th>\n",
       "      <th>GrLivArea</th>\n",
       "      <th>GarageYrBlt</th>\n",
       "      <th>WoodDeckSF</th>\n",
       "      <th>SalePrice</th>\n",
       "      <th>LotFrontage_median</th>\n",
       "      <th>MasVnrArea_median</th>\n",
       "      <th>GarageYrBlt_median</th>\n",
       "    </tr>\n",
       "  </thead>\n",
       "  <tbody>\n",
       "    <tr>\n",
       "      <th>LotFrontage</th>\n",
       "      <td>532.587202</td>\n",
       "      <td>6.587119</td>\n",
       "      <td>6.805603e+02</td>\n",
       "      <td>9.496573e+02</td>\n",
       "      <td>2.908856e+03</td>\n",
       "      <td>3.379794e+03</td>\n",
       "      <td>3.919952e+03</td>\n",
       "      <td>30.611717</td>\n",
       "      <td>1.347414e+02</td>\n",
       "      <td>6.689645e+05</td>\n",
       "      <td>532.587202</td>\n",
       "      <td>6.744233e+02</td>\n",
       "      <td>28.095264</td>\n",
       "    </tr>\n",
       "    <tr>\n",
       "      <th>OverallQual</th>\n",
       "      <td>6.587119</td>\n",
       "      <td>1.843859</td>\n",
       "      <td>1.014970e+02</td>\n",
       "      <td>1.746147e+02</td>\n",
       "      <td>2.886241e+02</td>\n",
       "      <td>2.242973e+02</td>\n",
       "      <td>4.091242e+02</td>\n",
       "      <td>17.902809</td>\n",
       "      <td>3.168557e+01</td>\n",
       "      <td>8.320132e+04</td>\n",
       "      <td>5.384774</td>\n",
       "      <td>1.005330e+02</td>\n",
       "      <td>16.875386</td>\n",
       "    </tr>\n",
       "    <tr>\n",
       "      <th>MasVnrArea</th>\n",
       "      <td>680.560330</td>\n",
       "      <td>101.496976</td>\n",
       "      <td>3.298354e+04</td>\n",
       "      <td>7.540788e+03</td>\n",
       "      <td>2.478877e+04</td>\n",
       "      <td>2.086595e+04</td>\n",
       "      <td>3.520785e+04</td>\n",
       "      <td>1203.583792</td>\n",
       "      <td>3.208924e+03</td>\n",
       "      <td>6.836439e+06</td>\n",
       "      <td>553.921303</td>\n",
       "      <td>3.298354e+04</td>\n",
       "      <td>1134.380889</td>\n",
       "    </tr>\n",
       "    <tr>\n",
       "      <th>BsmtUnfSF</th>\n",
       "      <td>949.657293</td>\n",
       "      <td>174.614725</td>\n",
       "      <td>7.540788e+03</td>\n",
       "      <td>1.875241e+05</td>\n",
       "      <td>7.513307e+04</td>\n",
       "      <td>4.987449e+04</td>\n",
       "      <td>5.203392e+04</td>\n",
       "      <td>1823.065167</td>\n",
       "      <td>-1.833201e+03</td>\n",
       "      <td>6.833028e+06</td>\n",
       "      <td>788.095358</td>\n",
       "      <td>7.472110e+03</td>\n",
       "      <td>1724.141544</td>\n",
       "    </tr>\n",
       "    <tr>\n",
       "      <th>TotalBsmtSF</th>\n",
       "      <td>2908.855504</td>\n",
       "      <td>288.624075</td>\n",
       "      <td>2.478877e+04</td>\n",
       "      <td>7.513307e+04</td>\n",
       "      <td>1.682931e+05</td>\n",
       "      <td>1.212079e+05</td>\n",
       "      <td>8.615192e+04</td>\n",
       "      <td>3173.042442</td>\n",
       "      <td>1.227966e+04</td>\n",
       "      <td>2.003928e+07</td>\n",
       "      <td>2370.929189</td>\n",
       "      <td>2.465436e+04</td>\n",
       "      <td>2989.473391</td>\n",
       "    </tr>\n",
       "    <tr>\n",
       "      <th>1stFlrSF</th>\n",
       "      <td>3379.793504</td>\n",
       "      <td>224.297266</td>\n",
       "      <td>2.086595e+04</td>\n",
       "      <td>4.987449e+04</td>\n",
       "      <td>1.212079e+05</td>\n",
       "      <td>1.398656e+05</td>\n",
       "      <td>1.044401e+05</td>\n",
       "      <td>2009.195552</td>\n",
       "      <td>1.109406e+04</td>\n",
       "      <td>1.783631e+07</td>\n",
       "      <td>2750.747094</td>\n",
       "      <td>2.080136e+04</td>\n",
       "      <td>1890.271636</td>\n",
       "    </tr>\n",
       "    <tr>\n",
       "      <th>GrLivArea</th>\n",
       "      <td>3919.951834</td>\n",
       "      <td>409.124216</td>\n",
       "      <td>3.520785e+04</td>\n",
       "      <td>5.203392e+04</td>\n",
       "      <td>8.615192e+04</td>\n",
       "      <td>1.044401e+05</td>\n",
       "      <td>2.681277e+05</td>\n",
       "      <td>2738.982988</td>\n",
       "      <td>1.558395e+04</td>\n",
       "      <td>2.934477e+07</td>\n",
       "      <td>3189.685753</td>\n",
       "      <td>3.496714e+04</td>\n",
       "      <td>2576.345636</td>\n",
       "    </tr>\n",
       "    <tr>\n",
       "      <th>GarageYrBlt</th>\n",
       "      <td>30.611717</td>\n",
       "      <td>17.902809</td>\n",
       "      <td>1.203584e+03</td>\n",
       "      <td>1.823065e+03</td>\n",
       "      <td>3.173042e+03</td>\n",
       "      <td>2.009196e+03</td>\n",
       "      <td>2.738983e+03</td>\n",
       "      <td>624.305948</td>\n",
       "      <td>6.658911e+02</td>\n",
       "      <td>9.309355e+05</td>\n",
       "      <td>24.755173</td>\n",
       "      <td>1.182673e+03</td>\n",
       "      <td>624.305948</td>\n",
       "    </tr>\n",
       "    <tr>\n",
       "      <th>WoodDeckSF</th>\n",
       "      <td>134.741376</td>\n",
       "      <td>31.685571</td>\n",
       "      <td>3.208924e+03</td>\n",
       "      <td>-1.833201e+03</td>\n",
       "      <td>1.227966e+04</td>\n",
       "      <td>1.109406e+04</td>\n",
       "      <td>1.558395e+04</td>\n",
       "      <td>665.891118</td>\n",
       "      <td>1.648582e+04</td>\n",
       "      <td>3.029981e+06</td>\n",
       "      <td>106.009105</td>\n",
       "      <td>3.212101e+03</td>\n",
       "      <td>627.624634</td>\n",
       "    </tr>\n",
       "    <tr>\n",
       "      <th>SalePrice</th>\n",
       "      <td>668964.454191</td>\n",
       "      <td>83201.317781</td>\n",
       "      <td>6.836439e+06</td>\n",
       "      <td>6.833028e+06</td>\n",
       "      <td>2.003928e+07</td>\n",
       "      <td>1.783631e+07</td>\n",
       "      <td>2.934477e+07</td>\n",
       "      <td>930935.489321</td>\n",
       "      <td>3.029981e+06</td>\n",
       "      <td>6.105731e+09</td>\n",
       "      <td>544838.836893</td>\n",
       "      <td>6.790442e+06</td>\n",
       "      <td>877485.418108</td>\n",
       "    </tr>\n",
       "    <tr>\n",
       "      <th>LotFrontage_median</th>\n",
       "      <td>532.587202</td>\n",
       "      <td>5.384774</td>\n",
       "      <td>5.539213e+02</td>\n",
       "      <td>7.880954e+02</td>\n",
       "      <td>2.370929e+03</td>\n",
       "      <td>2.750747e+03</td>\n",
       "      <td>3.189686e+03</td>\n",
       "      <td>24.755173</td>\n",
       "      <td>1.060091e+02</td>\n",
       "      <td>5.448388e+05</td>\n",
       "      <td>434.066043</td>\n",
       "      <td>5.488480e+02</td>\n",
       "      <td>22.883476</td>\n",
       "    </tr>\n",
       "    <tr>\n",
       "      <th>MasVnrArea_median</th>\n",
       "      <td>674.423263</td>\n",
       "      <td>100.533003</td>\n",
       "      <td>3.298354e+04</td>\n",
       "      <td>7.472110e+03</td>\n",
       "      <td>2.465436e+04</td>\n",
       "      <td>2.080136e+04</td>\n",
       "      <td>3.496714e+04</td>\n",
       "      <td>1182.673336</td>\n",
       "      <td>3.212101e+03</td>\n",
       "      <td>6.790442e+06</td>\n",
       "      <td>548.848031</td>\n",
       "      <td>3.287427e+04</td>\n",
       "      <td>1115.571890</td>\n",
       "    </tr>\n",
       "    <tr>\n",
       "      <th>GarageYrBlt_median</th>\n",
       "      <td>28.095264</td>\n",
       "      <td>16.875386</td>\n",
       "      <td>1.134381e+03</td>\n",
       "      <td>1.724142e+03</td>\n",
       "      <td>2.989473e+03</td>\n",
       "      <td>1.890272e+03</td>\n",
       "      <td>2.576346e+03</td>\n",
       "      <td>624.305948</td>\n",
       "      <td>6.276246e+02</td>\n",
       "      <td>8.774854e+05</td>\n",
       "      <td>22.883476</td>\n",
       "      <td>1.115572e+03</td>\n",
       "      <td>591.335688</td>\n",
       "    </tr>\n",
       "  </tbody>\n",
       "</table>\n",
       "</div>"
      ],
      "text/plain": [
       "                      LotFrontage   OverallQual    MasVnrArea     BsmtUnfSF  \\\n",
       "LotFrontage            532.587202      6.587119  6.805603e+02  9.496573e+02   \n",
       "OverallQual              6.587119      1.843859  1.014970e+02  1.746147e+02   \n",
       "MasVnrArea             680.560330    101.496976  3.298354e+04  7.540788e+03   \n",
       "BsmtUnfSF              949.657293    174.614725  7.540788e+03  1.875241e+05   \n",
       "TotalBsmtSF           2908.855504    288.624075  2.478877e+04  7.513307e+04   \n",
       "1stFlrSF              3379.793504    224.297266  2.086595e+04  4.987449e+04   \n",
       "GrLivArea             3919.951834    409.124216  3.520785e+04  5.203392e+04   \n",
       "GarageYrBlt             30.611717     17.902809  1.203584e+03  1.823065e+03   \n",
       "WoodDeckSF             134.741376     31.685571  3.208924e+03 -1.833201e+03   \n",
       "SalePrice           668964.454191  83201.317781  6.836439e+06  6.833028e+06   \n",
       "LotFrontage_median     532.587202      5.384774  5.539213e+02  7.880954e+02   \n",
       "MasVnrArea_median      674.423263    100.533003  3.298354e+04  7.472110e+03   \n",
       "GarageYrBlt_median      28.095264     16.875386  1.134381e+03  1.724142e+03   \n",
       "\n",
       "                     TotalBsmtSF      1stFlrSF     GrLivArea    GarageYrBlt  \\\n",
       "LotFrontage         2.908856e+03  3.379794e+03  3.919952e+03      30.611717   \n",
       "OverallQual         2.886241e+02  2.242973e+02  4.091242e+02      17.902809   \n",
       "MasVnrArea          2.478877e+04  2.086595e+04  3.520785e+04    1203.583792   \n",
       "BsmtUnfSF           7.513307e+04  4.987449e+04  5.203392e+04    1823.065167   \n",
       "TotalBsmtSF         1.682931e+05  1.212079e+05  8.615192e+04    3173.042442   \n",
       "1stFlrSF            1.212079e+05  1.398656e+05  1.044401e+05    2009.195552   \n",
       "GrLivArea           8.615192e+04  1.044401e+05  2.681277e+05    2738.982988   \n",
       "GarageYrBlt         3.173042e+03  2.009196e+03  2.738983e+03     624.305948   \n",
       "WoodDeckSF          1.227966e+04  1.109406e+04  1.558395e+04     665.891118   \n",
       "SalePrice           2.003928e+07  1.783631e+07  2.934477e+07  930935.489321   \n",
       "LotFrontage_median  2.370929e+03  2.750747e+03  3.189686e+03      24.755173   \n",
       "MasVnrArea_median   2.465436e+04  2.080136e+04  3.496714e+04    1182.673336   \n",
       "GarageYrBlt_median  2.989473e+03  1.890272e+03  2.576346e+03     624.305948   \n",
       "\n",
       "                      WoodDeckSF     SalePrice  LotFrontage_median  \\\n",
       "LotFrontage         1.347414e+02  6.689645e+05          532.587202   \n",
       "OverallQual         3.168557e+01  8.320132e+04            5.384774   \n",
       "MasVnrArea          3.208924e+03  6.836439e+06          553.921303   \n",
       "BsmtUnfSF          -1.833201e+03  6.833028e+06          788.095358   \n",
       "TotalBsmtSF         1.227966e+04  2.003928e+07         2370.929189   \n",
       "1stFlrSF            1.109406e+04  1.783631e+07         2750.747094   \n",
       "GrLivArea           1.558395e+04  2.934477e+07         3189.685753   \n",
       "GarageYrBlt         6.658911e+02  9.309355e+05           24.755173   \n",
       "WoodDeckSF          1.648582e+04  3.029981e+06          106.009105   \n",
       "SalePrice           3.029981e+06  6.105731e+09       544838.836893   \n",
       "LotFrontage_median  1.060091e+02  5.448388e+05          434.066043   \n",
       "MasVnrArea_median   3.212101e+03  6.790442e+06          548.848031   \n",
       "GarageYrBlt_median  6.276246e+02  8.774854e+05           22.883476   \n",
       "\n",
       "                    MasVnrArea_median  GarageYrBlt_median  \n",
       "LotFrontage              6.744233e+02           28.095264  \n",
       "OverallQual              1.005330e+02           16.875386  \n",
       "MasVnrArea               3.298354e+04         1134.380889  \n",
       "BsmtUnfSF                7.472110e+03         1724.141544  \n",
       "TotalBsmtSF              2.465436e+04         2989.473391  \n",
       "1stFlrSF                 2.080136e+04         1890.271636  \n",
       "GrLivArea                3.496714e+04         2576.345636  \n",
       "GarageYrBlt              1.182673e+03          624.305948  \n",
       "WoodDeckSF               3.212101e+03          627.624634  \n",
       "SalePrice                6.790442e+06       877485.418108  \n",
       "LotFrontage_median       5.488480e+02           22.883476  \n",
       "MasVnrArea_median        3.287427e+04         1115.571890  \n",
       "GarageYrBlt_median       1.115572e+03          591.335688  "
      ]
     },
     "execution_count": 29,
     "metadata": {},
     "output_type": "execute_result"
    }
   ],
   "source": [
    "# Exploremos la covarianza:\n",
    "# tómate el tiempo de comparar los valores en la tabla\n",
    "# y observa cómo la covarianza es afectada por LotFrontAge pero no mucho \n",
    "# por las otras dos variables\n",
    "X_train.cov()"
   ]
  },
  {
   "cell_type": "code",
   "execution_count": 30,
   "metadata": {},
   "outputs": [
    {
     "data": {
      "text/plain": [
       "<matplotlib.axes._subplots.AxesSubplot at 0x12db65278>"
      ]
     },
     "execution_count": 30,
     "metadata": {},
     "output_type": "execute_result"
    },
    {
     "data": {
      "image/png": "[encoded data removed]",
      "text/plain": [
       "<Figure size 432x288 with 1 Axes>"
      ]
     },
     "metadata": {
      "needs_background": "light"
     },
     "output_type": "display_data"
    }
   ],
   "source": [
    "# Exploremos los valores extremos\n",
    "\n",
    "# hay una disminución en los límites para LotFrontage\n",
    "# (mira el tamano de la caja) \n",
    "# pero no sucede para las otras dos variables\n",
    "\n",
    "X_train[['LotFrontage', 'LotFrontage_median']].boxplot()"
   ]
  },
  {
   "cell_type": "code",
   "execution_count": 31,
   "metadata": {},
   "outputs": [
    {
     "data": {
      "text/plain": [
       "<matplotlib.axes._subplots.AxesSubplot at 0x12df33ac8>"
      ]
     },
     "execution_count": 31,
     "metadata": {},
     "output_type": "execute_result"
    },
    {
     "data": {
      "image/png": "[encoded data removed]",
      "text/plain": [
       "<Figure size 432x288 with 1 Axes>"
      ]
     },
     "metadata": {
      "needs_background": "light"
     },
     "output_type": "display_data"
    }
   ],
   "source": [
    "X_train[['MasVnrArea', 'MasVnrArea_median']].boxplot()"
   ]
  },
  {
   "cell_type": "code",
   "execution_count": 32,
   "metadata": {},
   "outputs": [
    {
     "data": {
      "text/plain": [
       "<matplotlib.axes._subplots.AxesSubplot at 0x12de728d0>"
      ]
     },
     "execution_count": 32,
     "metadata": {},
     "output_type": "execute_result"
    },
    {
     "data": {
      "image/png": "[encoded data removed]",
      "text/plain": [
       "<Figure size 432x288 with 1 Axes>"
      ]
     },
     "metadata": {
      "needs_background": "light"
     },
     "output_type": "display_data"
    }
   ],
   "source": [
    "X_train[['GarageYrBlt', 'GarageYrBlt_median']].boxplot()"
   ]
  },
  {
   "cell_type": "markdown",
   "metadata": {
    "collapsed": true
   },
   "source": [
    "**Eso es todo por este demo**.\n",
    "\n",
    "Hacia el final de esta sección, mostraremos como usar la sustitución usando paquete de open source de python, como parte de un pipeline de machine learning.\n"
   ]
  },
  {
   "cell_type": "code",
   "execution_count": null,
   "metadata": {},
   "outputs": [],
   "source": []
  }
 ],
 "metadata": {
  "kernelspec": {
   "display_name": "feml",
   "language": "python",
   "name": "feml"
  },
  "language_info": {
   "codemirror_mode": {
    "name": "ipython",
    "version": 3
   },
   "file_extension": ".py",
   "mimetype": "text/x-python",
   "name": "python",
   "nbconvert_exporter": "python",
   "pygments_lexer": "ipython3",
   "version": "3.7.3"
  },
  "toc": {
   "base_numbering": 1,
   "nav_menu": {},
   "number_sections": true,
   "sideBar": true,
   "skip_h1_title": false,
   "title_cell": "Table of Contents",
   "title_sidebar": "Contents",
   "toc_cell": false,
   "toc_position": {
    "height": "556px",
    "left": "0px",
    "right": "1156.4px",
    "top": "107px",
    "width": "278px"
   },
   "toc_section_display": "block",
   "toc_window_display": true
  }
 },
 "nbformat": 4,
 "nbformat_minor": 2
}
