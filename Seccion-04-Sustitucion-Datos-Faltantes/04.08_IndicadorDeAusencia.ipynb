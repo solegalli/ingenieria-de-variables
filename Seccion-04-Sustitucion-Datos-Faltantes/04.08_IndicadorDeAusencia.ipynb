{
 "cells": [
  {
   "cell_type": "markdown",
   "metadata": {},
   "source": [
    "## Indicador de Ausencia: variable para capturar los valores nulos NA\n",
    "\n",
    "En los notebooks anteriores aprendimos cómo reemplazar los valores ausentes por la media, mediana, moda o extrayendo una muestra aleatoria. Estos métodos asumen que los datos ausentes faltan al azar (MCAR).\n",
    "\n",
    "Hay otros métodos que pueden ser usados cuando los valores no están ausentes de forma aleatoria, por ejemplo la sustitución por un valor arbitrario o un valor al final de la distribución. Sin embargo, estas técnicas de sustitución pueden afectar la distribución de las variables dramáticamente, y por lo tanto no ser apropiadas para usar con modelos lineales.\n",
    "\n",
    "**Qué podemos hacer si los datos no son MCAR y queremos usar un modelo lineal?**\n",
    "\n",
    "Si los datos no faltan de forma aleatoria, es una buena idea reemplazar las observaciones con la media/mediana/moda y una variable binaria, o en otras palabras, un **Indicador de Ausencia**. El indicador de ausencia toma el valor 1 si el dato falta, o 0 si está presente.\n",
    "\n",
    "\n",
    "### Para cuáles variables podemos añadir un indicador de ausencia?\n",
    "\n",
    "Podemos añadir  un indicador de ausencia a variables numéricas y categóricas.\n",
    "\n",
    "### Nota\n",
    "\n",
    "Nunca se debe añadir un indicador de ausencia solo, por el contrario, siempre es usado junto con otras técnicas de imputación, como la sustitución por la media/mediana para variables numéricas y la sustitución por categoría frecuente para variables categóricas. También podemos usar la sustitución por muestra aleatoria con un indicador de ausencia para ambos tipos de variables.\n",
    "\n",
    "Usualmente se usan en conjunto:\n",
    "\n",
    "- Sustitución por la media/mediana + indicador de ausencia (Variables numéricas)\n",
    "- Sustitución por categoría frecuente + indicador de ausencia (Variables categóricas)\n",
    "- Sustitución por muestra aleatoria  + indicador de ausencia (Variables numéricas y categóricas)\n",
    "\n",
    "### Condiciones\n",
    "\n",
    "- Los datos no están ausentes de forma aleatoria\n",
    "- Los datos ausentes tienen poder predictivo\n",
    "\n",
    "### Ventajas\n",
    "\n",
    "- Fácil de implementar\n",
    "- Captura la importancia de los datos ausentes si existe\n",
    "\n",
    "### Limitaciones\n",
    "\n",
    "- Expande el espacio de las variables\n",
    "- La variable original todavía necesita ser sustituida para remover los valores nulos\n",
    "\n",
    "Añadir un indicador de ausencia incrementa 1 variable por cada variable en el conjunto de datos que tengan datos ausentes. Por ejemplo, si un conjunto de datos tiene 10 variables, y todas ellas tienen valores ausentes, después de añadir un indicador de ausencia tendremos 20 variables: las 10 variables originales más las 10 variables binarias adicionales que indican si el valor estaba ausente o no. Este puede no ser un problema en conjuntos de datos con unos cientos de variables,  pero si tenemos miles de variables, crear una variable adicional para indicar si hay valores nulos, incrementará considerablemente el tamaño de nuestros datos.\n",
    "\n",
    "### Importante\n",
    "\n",
    "Adicionalmente, la misma observación puede tener datos faltantes en múltiples variables, lo cual lleva a que los indicadores de ausencia sean muy similares o de hechos idénticos entre ellos.\n",
    "\n",
    "### Nota Final\n",
    "\n",
    "Típicamente la sustitución por la media/mediana/moda se hace en conjunto con el agregado de un indicador de ausencia. De este modo se cubren dos aspectos: si los datos estaban ausentes de forma completamente aleatoria, se captura con la sustitución por la media/mediana/moda y si este no era el caso, se captura con el indicador de ausencia.\n",
    "\n",
    "Ambos métodos son extremadamente sencillos de implementar y por lo tanto la opción favorita en las competencias de ciencia de datos. Por ejemplo, miren la solución ganadora de la competencia KDD 2009: [\"Winning the KDD Cup Orange Challenge with Ensemble Selection](http://www.mtome.com/Publications/CiML/CiML-v3-book.pdf).\n",
    "\n",
    "\n",
    "## En este demo:\n",
    "\n",
    "Usaremos ambos conjuntos de datos: House Price y Titanic.\n",
    "\n",
    "- Para bajar los datos, por favor referirse a la clase en **Datasets** en la  **Sección 1** del curso.\n"
   ]
  },
  {
   "cell_type": "code",
   "execution_count": 1,
   "metadata": {},
   "outputs": [],
   "source": [
    "import pandas as pd\n",
    "import numpy as np\n",
    "\n",
    "import matplotlib.pyplot as plt\n",
    "\n",
    "# separar los datasets\n",
    "from sklearn.model_selection import train_test_split\n",
    "\n",
    "import warnings\n",
    "warnings.filterwarnings(\"ignore\")"
   ]
  },
  {
   "cell_type": "code",
   "execution_count": 2,
   "metadata": {},
   "outputs": [
    {
     "data": {
      "text/html": [
       "<div>\n",
       "<style scoped>\n",
       "    .dataframe tbody tr th:only-of-type {\n",
       "        vertical-align: middle;\n",
       "    }\n",
       "\n",
       "    .dataframe tbody tr th {\n",
       "        vertical-align: top;\n",
       "    }\n",
       "\n",
       "    .dataframe thead th {\n",
       "        text-align: right;\n",
       "    }\n",
       "</style>\n",
       "<table border=\"1\" class=\"dataframe\">\n",
       "  <thead>\n",
       "    <tr style=\"text-align: right;\">\n",
       "      <th></th>\n",
       "      <th>survived</th>\n",
       "      <th>age</th>\n",
       "      <th>fare</th>\n",
       "    </tr>\n",
       "  </thead>\n",
       "  <tbody>\n",
       "    <tr>\n",
       "      <td>0</td>\n",
       "      <td>1</td>\n",
       "      <td>29.0000</td>\n",
       "      <td>211.3375</td>\n",
       "    </tr>\n",
       "    <tr>\n",
       "      <td>1</td>\n",
       "      <td>1</td>\n",
       "      <td>0.9167</td>\n",
       "      <td>151.5500</td>\n",
       "    </tr>\n",
       "    <tr>\n",
       "      <td>2</td>\n",
       "      <td>0</td>\n",
       "      <td>2.0000</td>\n",
       "      <td>151.5500</td>\n",
       "    </tr>\n",
       "    <tr>\n",
       "      <td>3</td>\n",
       "      <td>0</td>\n",
       "      <td>30.0000</td>\n",
       "      <td>151.5500</td>\n",
       "    </tr>\n",
       "    <tr>\n",
       "      <td>4</td>\n",
       "      <td>0</td>\n",
       "      <td>25.0000</td>\n",
       "      <td>151.5500</td>\n",
       "    </tr>\n",
       "  </tbody>\n",
       "</table>\n",
       "</div>"
      ],
      "text/plain": [
       "   survived      age      fare\n",
       "0         1  29.0000  211.3375\n",
       "1         1   0.9167  151.5500\n",
       "2         0   2.0000  151.5500\n",
       "3         0  30.0000  151.5500\n",
       "4         0  25.0000  151.5500"
      ]
     },
     "execution_count": 2,
     "metadata": {},
     "output_type": "execute_result"
    }
   ],
   "source": [
    "# carguemos los datos con las columnas seleccionadas\n",
    "\n",
    "data = pd.read_csv('../titanic.csv', usecols=['age', 'fare', 'survived'])\n",
    "data.head()"
   ]
  },
  {
   "cell_type": "code",
   "execution_count": 3,
   "metadata": {},
   "outputs": [
    {
     "data": {
      "text/plain": [
       "survived    0.000000\n",
       "age         0.200917\n",
       "fare        0.000764\n",
       "dtype: float64"
      ]
     },
     "execution_count": 3,
     "metadata": {},
     "output_type": "execute_result"
    }
   ],
   "source": [
    "# evaluaemos el porcentaje de valores nulos\n",
    "data.isnull().mean()"
   ]
  },
  {
   "cell_type": "markdown",
   "metadata": {},
   "source": [
    "Para añadir un indicador de ausencia binario, no necesitamos 'aprender' nada del set de entrenamiento, por lo tanto en principio, podemos hacer esto en el conjunto de datos original y luego separar los datos. Sin embargo, no recomendamos hacer esto.\n",
    "\n",
    "Adicionalmente, si usas Scikit-learn, o Feature-engine para añadir el indicador de ausencia, de la forma que han sido diseñados, necesitan aprender del set de enteramiento cuales variables deben.\n",
    "\n",
    "Más adelante vamos a explorar las diferentes implementaciones para este método, por ahora, vamos a crear el indicador binario manualmente.\n"
   ]
  },
  {
   "cell_type": "code",
   "execution_count": 4,
   "metadata": {},
   "outputs": [
    {
     "data": {
      "text/plain": [
       "((916, 2), (393, 2))"
      ]
     },
     "execution_count": 4,
     "metadata": {},
     "output_type": "execute_result"
    }
   ],
   "source": [
    "# separar datos en sets entrenamiento y prueba\n",
    "\n",
    "X_train, X_test, y_train, y_test = train_test_split(\n",
    "    data[['age', 'fare']],  # variables\n",
    "    data['survived'],  # target\n",
    "    test_size=0.3,  # porcentaje de obs en test set\n",
    "    random_state=0)  # semilla\n",
    "\n",
    "X_train.shape, X_test.shape"
   ]
  },
  {
   "cell_type": "code",
   "execution_count": 5,
   "metadata": {},
   "outputs": [
    {
     "data": {
      "text/plain": [
       "age     0.191048\n",
       "fare    0.000000\n",
       "dtype: float64"
      ]
     },
     "execution_count": 5,
     "metadata": {},
     "output_type": "execute_result"
    }
   ],
   "source": [
    "# Exploremos los valores ausentes en el set de entrenamiento\n",
    "\n",
    "X_train.isnull().mean()"
   ]
  },
  {
   "cell_type": "code",
   "execution_count": 6,
   "metadata": {},
   "outputs": [
    {
     "data": {
      "text/html": [
       "<div>\n",
       "<style scoped>\n",
       "    .dataframe tbody tr th:only-of-type {\n",
       "        vertical-align: middle;\n",
       "    }\n",
       "\n",
       "    .dataframe tbody tr th {\n",
       "        vertical-align: top;\n",
       "    }\n",
       "\n",
       "    .dataframe thead th {\n",
       "        text-align: right;\n",
       "    }\n",
       "</style>\n",
       "<table border=\"1\" class=\"dataframe\">\n",
       "  <thead>\n",
       "    <tr style=\"text-align: right;\">\n",
       "      <th></th>\n",
       "      <th>age</th>\n",
       "      <th>fare</th>\n",
       "      <th>age_NA</th>\n",
       "    </tr>\n",
       "  </thead>\n",
       "  <tbody>\n",
       "    <tr>\n",
       "      <td>501</td>\n",
       "      <td>13.0</td>\n",
       "      <td>19.5000</td>\n",
       "      <td>0</td>\n",
       "    </tr>\n",
       "    <tr>\n",
       "      <td>588</td>\n",
       "      <td>4.0</td>\n",
       "      <td>23.0000</td>\n",
       "      <td>0</td>\n",
       "    </tr>\n",
       "    <tr>\n",
       "      <td>402</td>\n",
       "      <td>30.0</td>\n",
       "      <td>13.8583</td>\n",
       "      <td>0</td>\n",
       "    </tr>\n",
       "    <tr>\n",
       "      <td>1193</td>\n",
       "      <td>NaN</td>\n",
       "      <td>7.7250</td>\n",
       "      <td>1</td>\n",
       "    </tr>\n",
       "    <tr>\n",
       "      <td>686</td>\n",
       "      <td>22.0</td>\n",
       "      <td>7.7250</td>\n",
       "      <td>0</td>\n",
       "    </tr>\n",
       "  </tbody>\n",
       "</table>\n",
       "</div>"
      ],
      "text/plain": [
       "       age     fare  age_NA\n",
       "501   13.0  19.5000       0\n",
       "588    4.0  23.0000       0\n",
       "402   30.0  13.8583       0\n",
       "1193   NaN   7.7250       1\n",
       "686   22.0   7.7250       0"
      ]
     },
     "execution_count": 6,
     "metadata": {},
     "output_type": "execute_result"
    }
   ],
   "source": [
    "# añadir el indicador de ausencia\n",
    "\n",
    "# esto se puede hacer de forma sencilla usando np.where de numpy\n",
    "# y isnull de pandas:\n",
    "\n",
    "X_train['age_NA'] = np.where(X_train['age'].isnull(), 1, 0)\n",
    "X_test['age_NA'] = np.where(X_test['age'].isnull(), 1, 0)\n",
    "\n",
    "X_train.head()"
   ]
  },
  {
   "cell_type": "code",
   "execution_count": 7,
   "metadata": {},
   "outputs": [
    {
     "data": {
      "text/plain": [
       "0.19104803493449782"
      ]
     },
     "execution_count": 7,
     "metadata": {},
     "output_type": "execute_result"
    }
   ],
   "source": [
    "# la media de la variable binaria, coincide con el porcentaje \n",
    "# de valores ausentes en la variable original\n",
    "\n",
    "X_train['age_NA'].mean()"
   ]
  },
  {
   "cell_type": "code",
   "execution_count": 8,
   "metadata": {},
   "outputs": [
    {
     "data": {
      "text/plain": [
       "age       0.191048\n",
       "fare      0.000000\n",
       "age_NA    0.000000\n",
       "dtype: float64"
      ]
     },
     "execution_count": 8,
     "metadata": {},
     "output_type": "execute_result"
    }
   ],
   "source": [
    "# sin embargo, la variable original todavía tiene valores faltantes\n",
    "# los cuales necesitan ser reemplazados por cualquiera de las \n",
    "# técnicas que aprendimos\n",
    "\n",
    "X_train.isnull().mean()"
   ]
  },
  {
   "cell_type": "code",
   "execution_count": 9,
   "metadata": {},
   "outputs": [
    {
     "data": {
      "text/plain": [
       "age       0.0\n",
       "fare      0.0\n",
       "age_NA    0.0\n",
       "dtype: float64"
      ]
     },
     "execution_count": 9,
     "metadata": {},
     "output_type": "execute_result"
    }
   ],
   "source": [
    "# por ejemplo la sustitución por la media\n",
    "median = X_train['age'].median()\n",
    "\n",
    "X_train['age'] = X_train['age'].fillna(median)\n",
    "X_test['age'] = X_test['age'].fillna(median)\n",
    "\n",
    "# revisemos que ya no existen valores faltantes\n",
    "X_train.isnull().mean()"
   ]
  },
  {
   "cell_type": "markdown",
   "metadata": {},
   "source": [
    "### House Prices dataset\n",
    "\n",
    "Repitamos el ejercicio con el set de datos de House Prices."
   ]
  },
  {
   "cell_type": "code",
   "execution_count": 10,
   "metadata": {},
   "outputs": [],
   "source": [
    "# vamos a usar las siguientes variables,\n",
    "# unas son numéricas y otras categóricas\n",
    "\n",
    "cols_to_use = [\n",
    "    'LotFrontage', 'MasVnrArea', # numericas\n",
    "    'BsmtQual', 'FireplaceQu', # categorica\n",
    "    'SalePrice' # target\n",
    "]"
   ]
  },
  {
   "cell_type": "code",
   "execution_count": 11,
   "metadata": {},
   "outputs": [
    {
     "name": "stdout",
     "output_type": "stream",
     "text": [
      "(1460, 5)\n"
     ]
    },
    {
     "data": {
      "text/html": [
       "<div>\n",
       "<style scoped>\n",
       "    .dataframe tbody tr th:only-of-type {\n",
       "        vertical-align: middle;\n",
       "    }\n",
       "\n",
       "    .dataframe tbody tr th {\n",
       "        vertical-align: top;\n",
       "    }\n",
       "\n",
       "    .dataframe thead th {\n",
       "        text-align: right;\n",
       "    }\n",
       "</style>\n",
       "<table border=\"1\" class=\"dataframe\">\n",
       "  <thead>\n",
       "    <tr style=\"text-align: right;\">\n",
       "      <th></th>\n",
       "      <th>LotFrontage</th>\n",
       "      <th>MasVnrArea</th>\n",
       "      <th>BsmtQual</th>\n",
       "      <th>FireplaceQu</th>\n",
       "      <th>SalePrice</th>\n",
       "    </tr>\n",
       "  </thead>\n",
       "  <tbody>\n",
       "    <tr>\n",
       "      <td>0</td>\n",
       "      <td>65.0</td>\n",
       "      <td>196.0</td>\n",
       "      <td>Gd</td>\n",
       "      <td>NaN</td>\n",
       "      <td>208500</td>\n",
       "    </tr>\n",
       "    <tr>\n",
       "      <td>1</td>\n",
       "      <td>80.0</td>\n",
       "      <td>0.0</td>\n",
       "      <td>Gd</td>\n",
       "      <td>TA</td>\n",
       "      <td>181500</td>\n",
       "    </tr>\n",
       "    <tr>\n",
       "      <td>2</td>\n",
       "      <td>68.0</td>\n",
       "      <td>162.0</td>\n",
       "      <td>Gd</td>\n",
       "      <td>TA</td>\n",
       "      <td>223500</td>\n",
       "    </tr>\n",
       "    <tr>\n",
       "      <td>3</td>\n",
       "      <td>60.0</td>\n",
       "      <td>0.0</td>\n",
       "      <td>TA</td>\n",
       "      <td>Gd</td>\n",
       "      <td>140000</td>\n",
       "    </tr>\n",
       "    <tr>\n",
       "      <td>4</td>\n",
       "      <td>84.0</td>\n",
       "      <td>350.0</td>\n",
       "      <td>Gd</td>\n",
       "      <td>TA</td>\n",
       "      <td>250000</td>\n",
       "    </tr>\n",
       "  </tbody>\n",
       "</table>\n",
       "</div>"
      ],
      "text/plain": [
       "   LotFrontage  MasVnrArea BsmtQual FireplaceQu  SalePrice\n",
       "0         65.0       196.0       Gd         NaN     208500\n",
       "1         80.0         0.0       Gd          TA     181500\n",
       "2         68.0       162.0       Gd          TA     223500\n",
       "3         60.0         0.0       TA          Gd     140000\n",
       "4         84.0       350.0       Gd          TA     250000"
      ]
     },
     "execution_count": 11,
     "metadata": {},
     "output_type": "execute_result"
    }
   ],
   "source": [
    "# carguemos los datos de House Prices \n",
    "\n",
    "data = pd.read_csv('../houseprice.csv', usecols=cols_to_use)\n",
    "print(data.shape)\n",
    "data.head()"
   ]
  },
  {
   "cell_type": "code",
   "execution_count": 12,
   "metadata": {
    "scrolled": false
   },
   "outputs": [
    {
     "data": {
      "text/plain": [
       "LotFrontage    0.177397\n",
       "MasVnrArea     0.005479\n",
       "BsmtQual       0.025342\n",
       "FireplaceQu    0.472603\n",
       "SalePrice      0.000000\n",
       "dtype: float64"
      ]
     },
     "execution_count": 12,
     "metadata": {},
     "output_type": "execute_result"
    }
   ],
   "source": [
    "# explorems los valores ausentes\n",
    "\n",
    "data.isnull().mean()"
   ]
  },
  {
   "cell_type": "code",
   "execution_count": 13,
   "metadata": {
    "scrolled": false
   },
   "outputs": [
    {
     "data": {
      "text/plain": [
       "((1022, 5), (438, 5))"
      ]
     },
     "execution_count": 13,
     "metadata": {},
     "output_type": "execute_result"
    }
   ],
   "source": [
    "# separamos los datos para entrenamiento y prueba\n",
    "\n",
    "X_train, X_test, y_train, y_test = train_test_split(data,\n",
    "                                                    data['SalePrice'],\n",
    "                                                    test_size=0.3,\n",
    "                                                    random_state=0)\n",
    "X_train.shape, X_test.shape"
   ]
  },
  {
   "cell_type": "code",
   "execution_count": 14,
   "metadata": {},
   "outputs": [],
   "source": [
    "# creemos una función para añadir un indicador de ausencia\n",
    "# en forma de variable binaria\n",
    "\n",
    "def missing_indicator(df, variable):    \n",
    "    return np.where(df[variable].isnull(), 1, 0)"
   ]
  },
  {
   "cell_type": "code",
   "execution_count": 15,
   "metadata": {},
   "outputs": [
    {
     "data": {
      "text/html": [
       "<div>\n",
       "<style scoped>\n",
       "    .dataframe tbody tr th:only-of-type {\n",
       "        vertical-align: middle;\n",
       "    }\n",
       "\n",
       "    .dataframe tbody tr th {\n",
       "        vertical-align: top;\n",
       "    }\n",
       "\n",
       "    .dataframe thead th {\n",
       "        text-align: right;\n",
       "    }\n",
       "</style>\n",
       "<table border=\"1\" class=\"dataframe\">\n",
       "  <thead>\n",
       "    <tr style=\"text-align: right;\">\n",
       "      <th></th>\n",
       "      <th>LotFrontage</th>\n",
       "      <th>MasVnrArea</th>\n",
       "      <th>BsmtQual</th>\n",
       "      <th>FireplaceQu</th>\n",
       "      <th>SalePrice</th>\n",
       "      <th>LotFrontage_NA</th>\n",
       "      <th>MasVnrArea_NA</th>\n",
       "      <th>BsmtQual_NA</th>\n",
       "      <th>FireplaceQu_NA</th>\n",
       "      <th>SalePrice_NA</th>\n",
       "    </tr>\n",
       "  </thead>\n",
       "  <tbody>\n",
       "    <tr>\n",
       "      <td>64</td>\n",
       "      <td>NaN</td>\n",
       "      <td>573.0</td>\n",
       "      <td>Gd</td>\n",
       "      <td>NaN</td>\n",
       "      <td>219500</td>\n",
       "      <td>1</td>\n",
       "      <td>0</td>\n",
       "      <td>0</td>\n",
       "      <td>1</td>\n",
       "      <td>0</td>\n",
       "    </tr>\n",
       "    <tr>\n",
       "      <td>682</td>\n",
       "      <td>NaN</td>\n",
       "      <td>0.0</td>\n",
       "      <td>Gd</td>\n",
       "      <td>Gd</td>\n",
       "      <td>173000</td>\n",
       "      <td>1</td>\n",
       "      <td>0</td>\n",
       "      <td>0</td>\n",
       "      <td>0</td>\n",
       "      <td>0</td>\n",
       "    </tr>\n",
       "    <tr>\n",
       "      <td>960</td>\n",
       "      <td>50.0</td>\n",
       "      <td>0.0</td>\n",
       "      <td>TA</td>\n",
       "      <td>NaN</td>\n",
       "      <td>116500</td>\n",
       "      <td>0</td>\n",
       "      <td>0</td>\n",
       "      <td>0</td>\n",
       "      <td>1</td>\n",
       "      <td>0</td>\n",
       "    </tr>\n",
       "    <tr>\n",
       "      <td>1384</td>\n",
       "      <td>60.0</td>\n",
       "      <td>0.0</td>\n",
       "      <td>TA</td>\n",
       "      <td>NaN</td>\n",
       "      <td>105000</td>\n",
       "      <td>0</td>\n",
       "      <td>0</td>\n",
       "      <td>0</td>\n",
       "      <td>1</td>\n",
       "      <td>0</td>\n",
       "    </tr>\n",
       "    <tr>\n",
       "      <td>1100</td>\n",
       "      <td>60.0</td>\n",
       "      <td>0.0</td>\n",
       "      <td>TA</td>\n",
       "      <td>NaN</td>\n",
       "      <td>60000</td>\n",
       "      <td>0</td>\n",
       "      <td>0</td>\n",
       "      <td>0</td>\n",
       "      <td>1</td>\n",
       "      <td>0</td>\n",
       "    </tr>\n",
       "  </tbody>\n",
       "</table>\n",
       "</div>"
      ],
      "text/plain": [
       "      LotFrontage  MasVnrArea BsmtQual FireplaceQu  SalePrice  LotFrontage_NA  \\\n",
       "64            NaN       573.0       Gd         NaN     219500               1   \n",
       "682           NaN         0.0       Gd          Gd     173000               1   \n",
       "960          50.0         0.0       TA         NaN     116500               0   \n",
       "1384         60.0         0.0       TA         NaN     105000               0   \n",
       "1100         60.0         0.0       TA         NaN      60000               0   \n",
       "\n",
       "      MasVnrArea_NA  BsmtQual_NA  FireplaceQu_NA  SalePrice_NA  \n",
       "64                0            0               1             0  \n",
       "682               0            0               0             0  \n",
       "960               0            0               1             0  \n",
       "1384              0            0               1             0  \n",
       "1100              0            0               1             0  "
      ]
     },
     "execution_count": 15,
     "metadata": {},
     "output_type": "execute_result"
    }
   ],
   "source": [
    "# agreguemos un indicador binario\n",
    "# con la función que creamos\n",
    "\n",
    "for variable in cols_to_use:\n",
    "    X_train[variable+'_NA'] = missing_indicator(X_train, variable)\n",
    "    X_test[variable+'_NA'] = missing_indicator(X_test, variable)\n",
    "    \n",
    "X_train.head()"
   ]
  },
  {
   "cell_type": "code",
   "execution_count": 16,
   "metadata": {},
   "outputs": [
    {
     "data": {
      "text/plain": [
       "LotFrontage_NA    0.184932\n",
       "MasVnrArea_NA     0.004892\n",
       "BsmtQual_NA       0.023483\n",
       "FireplaceQu_NA    0.467710\n",
       "SalePrice_NA      0.000000\n",
       "dtype: float64"
      ]
     },
     "execution_count": 16,
     "metadata": {},
     "output_type": "execute_result"
    }
   ],
   "source": [
    "# ahora evaluemos el valor promedio de los indicadores de ausencia\n",
    "\n",
    "# primero capturemos el indicador de ausencia con un \n",
    "# list comprehension\n",
    "missing_ind = [col for col in X_train.columns if 'NA' in col]\n",
    "\n",
    "# calculemos el promedio\n",
    "X_train[missing_ind].mean()"
   ]
  },
  {
   "cell_type": "code",
   "execution_count": 17,
   "metadata": {},
   "outputs": [
    {
     "data": {
      "text/plain": [
       "LotFrontage       0.184932\n",
       "MasVnrArea        0.004892\n",
       "BsmtQual          0.023483\n",
       "FireplaceQu       0.467710\n",
       "SalePrice         0.000000\n",
       "LotFrontage_NA    0.000000\n",
       "MasVnrArea_NA     0.000000\n",
       "BsmtQual_NA       0.000000\n",
       "FireplaceQu_NA    0.000000\n",
       "SalePrice_NA      0.000000\n",
       "dtype: float64"
      ]
     },
     "execution_count": 17,
     "metadata": {},
     "output_type": "execute_result"
    }
   ],
   "source": [
    "# el promedio del indicador de ausencia coincide\n",
    "# con el porcentaje de valores ausentes\n",
    "# en la variable original\n",
    "\n",
    "X_train.isnull().mean()"
   ]
  },
  {
   "cell_type": "code",
   "execution_count": 18,
   "metadata": {},
   "outputs": [],
   "source": [
    "# creemos una función para llenar los valores ausentes con un valor:\n",
    "# vamos a usar una función que usamos en los notebooks anteriores\n",
    "# con la cual ya estarás familiarizado\n",
    "\n",
    "def impute_na(df, variable, value):\n",
    "    return df[variable].fillna(value)"
   ]
  },
  {
   "cell_type": "code",
   "execution_count": 19,
   "metadata": {},
   "outputs": [],
   "source": [
    "# sustituimos los valores nulos con la mediana para las variables numéricas\n",
    "# recuerda que calculamos la mediana usando el set de entrenamiento\n",
    "\n",
    "median = X_train['LotFrontage'].median()\n",
    "X_train['LotFrontage'] = impute_na(X_train, 'LotFrontage', median)\n",
    "X_test['LotFrontage'] = impute_na(X_test, 'LotFrontage', median)\n",
    "\n",
    "median = X_train['MasVnrArea'].median()\n",
    "X_train['MasVnrArea'] = impute_na(X_train, 'MasVnrArea', median)\n",
    "X_test['MasVnrArea'] = impute_na(X_test, 'MasVnrArea', median)\n",
    "\n",
    "\n",
    "# ahora sustituyamos los valores nulos de las variables categóricas con la\n",
    "# categoría más frecuente (moda)\n",
    "# la moda debe ser calculada sobre el set de entrenamiento\n",
    "mode = X_train['BsmtQual'].mode()[0]\n",
    "X_train['BsmtQual'] = impute_na(X_train, 'BsmtQual', mode)\n",
    "X_test['BsmtQual'] = impute_na(X_test, 'BsmtQual', mode)\n",
    "\n",
    "mode = X_train['FireplaceQu'].mode()[0]\n",
    "X_train['FireplaceQu'] = impute_na(X_train, 'FireplaceQu', mode)\n",
    "X_test['FireplaceQu'] = impute_na(X_test, 'FireplaceQu', mode)"
   ]
  },
  {
   "cell_type": "code",
   "execution_count": 20,
   "metadata": {},
   "outputs": [
    {
     "data": {
      "text/plain": [
       "LotFrontage       0.0\n",
       "MasVnrArea        0.0\n",
       "BsmtQual          0.0\n",
       "FireplaceQu       0.0\n",
       "SalePrice         0.0\n",
       "LotFrontage_NA    0.0\n",
       "MasVnrArea_NA     0.0\n",
       "BsmtQual_NA       0.0\n",
       "FireplaceQu_NA    0.0\n",
       "SalePrice_NA      0.0\n",
       "dtype: float64"
      ]
     },
     "execution_count": 20,
     "metadata": {},
     "output_type": "execute_result"
    }
   ],
   "source": [
    "# revisemos que no hay mas valores nulos\n",
    "X_train.isnull().mean()"
   ]
  },
  {
   "cell_type": "markdown",
   "metadata": {
    "collapsed": true
   },
   "source": [
    "Como pueden ver, ahora tenemos el doble de variables que en los datos originales: empezamos con 4 variables, y terminamos con 8, más el target.\n",
    "\n",
    "**Es todo por este demo. Esperemos lo hayan disfrutado.\n",
    "Nos vemos en el siguiente!! **\n"
   ]
  }
 ],
 "metadata": {
  "kernelspec": {
   "display_name": "feml",
   "language": "python",
   "name": "feml"
  },
  "language_info": {
   "codemirror_mode": {
    "name": "ipython",
    "version": 3
   },
   "file_extension": ".py",
   "mimetype": "text/x-python",
   "name": "python",
   "nbconvert_exporter": "python",
   "pygments_lexer": "ipython3",
   "version": "3.7.3"
  },
  "toc": {
   "nav_menu": {},
   "number_sections": true,
   "sideBar": true,
   "skip_h1_title": false,
   "toc_cell": false,
   "toc_position": {},
   "toc_section_display": "block",
   "toc_window_display": true
  }
 },
 "nbformat": 4,
 "nbformat_minor": 2
}
