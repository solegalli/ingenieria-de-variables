{
 "cells": [
  {
   "cell_type": "markdown",
   "metadata": {},
   "source": [
    "## Sustitución por moda | categoría más frecuente\n",
    "\n",
    "Los métodos de imputación consisten en estimar los valores faltantes en base a los valores existentes de una variable. El objetivo de cualquier método de imputación es producir un **conjunto completo** de datos que pueda ser utilizado por un algoritmo de aprendizaje de máquina (machine learning). \n",
    "\n",
    "En sustitución por la moda, asignamos la categoría más frecuente o la moda, a los valores nulos.\n",
    "\n",
    "### Cuáles variables se pueden sustituir por la moda/categoría más frecuente?\n",
    "\n",
    "A pesar que la moda/categoría más frecuente puede ser calculada para variables numéricas y categóricas, en la práctica, solamente usamos esta técnica en variables categóricas. \n",
    "En variables numéricas, la media o la mediana suelen ser mejores parámetros para representar la distribución.\n",
    "\n",
    "### Condiciones\n",
    "\n",
    "- Los datos faltan completamente al azar (MCAR)\n",
    "- Lo más probable es que las observaciones ausentes tengan valores similares a los de la mayoría de las observaciones en la variable (o sea la moda o categoría más frecuente)\n",
    "\n",
    "### Ventajas\n",
    "\n",
    "- Fácil de implementar\n",
    "- Forma rápida de obtener conjuntos completos de datos\n",
    "- Puede ser integrado en producción (durante el despliegue del modelo)\n",
    "\n",
    "### Limitaciones\n",
    "\n",
    "- Distorsión de la relación entre la etiquete más frecuente con las demás variables dentro del conjunto de datos.\n",
    "- Puede llevar a la sobre-representación de la etiqueta más frecuente si hay muchos valores nulos\n",
    "\n",
    "### Cuándo usar la sustitución por la moda/categoría más frecuente?\n",
    "\n",
    "- Los datos faltan completamente al azar (MCAR)\n",
    "- No más del 5% de las observaciones presentan valores nulos\n",
    "\n",
    "\n",
    "## En este demo:\n",
    "\n",
    "Vamos a aprender cómo implementar la sustitución por la moda usando pandas y los datos Ames House Price \n",
    "\n",
    "- Para bajar los datos, por favor referirse a la clase en **Datasets** en la  **Sección 1** del curso.\n"
   ]
  },
  {
   "cell_type": "code",
   "execution_count": 1,
   "metadata": {},
   "outputs": [],
   "source": [
    "import pandas as pd\n",
    "import numpy as np\n",
    "\n",
    "import matplotlib.pyplot as plt\n",
    "\n",
    "from sklearn.model_selection import train_test_split"
   ]
  },
  {
   "cell_type": "markdown",
   "metadata": {},
   "source": [
    "### House Price dataset"
   ]
  },
  {
   "cell_type": "code",
   "execution_count": 2,
   "metadata": {},
   "outputs": [
    {
     "data": {
      "text/html": [
       "<div>\n",
       "<style scoped>\n",
       "    .dataframe tbody tr th:only-of-type {\n",
       "        vertical-align: middle;\n",
       "    }\n",
       "\n",
       "    .dataframe tbody tr th {\n",
       "        vertical-align: top;\n",
       "    }\n",
       "\n",
       "    .dataframe thead th {\n",
       "        text-align: right;\n",
       "    }\n",
       "</style>\n",
       "<table border=\"1\" class=\"dataframe\">\n",
       "  <thead>\n",
       "    <tr style=\"text-align: right;\">\n",
       "      <th></th>\n",
       "      <th>BsmtQual</th>\n",
       "      <th>FireplaceQu</th>\n",
       "      <th>SalePrice</th>\n",
       "    </tr>\n",
       "  </thead>\n",
       "  <tbody>\n",
       "    <tr>\n",
       "      <td>0</td>\n",
       "      <td>Gd</td>\n",
       "      <td>NaN</td>\n",
       "      <td>208500</td>\n",
       "    </tr>\n",
       "    <tr>\n",
       "      <td>1</td>\n",
       "      <td>Gd</td>\n",
       "      <td>TA</td>\n",
       "      <td>181500</td>\n",
       "    </tr>\n",
       "    <tr>\n",
       "      <td>2</td>\n",
       "      <td>Gd</td>\n",
       "      <td>TA</td>\n",
       "      <td>223500</td>\n",
       "    </tr>\n",
       "    <tr>\n",
       "      <td>3</td>\n",
       "      <td>TA</td>\n",
       "      <td>Gd</td>\n",
       "      <td>140000</td>\n",
       "    </tr>\n",
       "    <tr>\n",
       "      <td>4</td>\n",
       "      <td>Gd</td>\n",
       "      <td>TA</td>\n",
       "      <td>250000</td>\n",
       "    </tr>\n",
       "  </tbody>\n",
       "</table>\n",
       "</div>"
      ],
      "text/plain": [
       "  BsmtQual FireplaceQu  SalePrice\n",
       "0       Gd         NaN     208500\n",
       "1       Gd          TA     181500\n",
       "2       Gd          TA     223500\n",
       "3       TA          Gd     140000\n",
       "4       Gd          TA     250000"
      ]
     },
     "execution_count": 2,
     "metadata": {},
     "output_type": "execute_result"
    }
   ],
   "source": [
    "# carguemos datos con unas columnas\n",
    "\n",
    "# estas son las columnas categóricas y la variable target SalePrice (precio de venta)\n",
    "cols_to_use = ['BsmtQual', 'FireplaceQu', 'SalePrice']\n",
    "\n",
    "data = pd.read_csv('../houseprice.csv', usecols=cols_to_use)\n",
    "data.head()"
   ]
  },
  {
   "cell_type": "code",
   "execution_count": 3,
   "metadata": {},
   "outputs": [
    {
     "data": {
      "text/plain": [
       "BsmtQual       0.025342\n",
       "FireplaceQu    0.472603\n",
       "SalePrice      0.000000\n",
       "dtype: float64"
      ]
     },
     "execution_count": 3,
     "metadata": {},
     "output_type": "execute_result"
    }
   ],
   "source": [
    "# evaluemos el porcentaje de valores nulos por cada una de las variables\n",
    "data.isnull().mean()"
   ]
  },
  {
   "cell_type": "markdown",
   "metadata": {},
   "source": [
    "La variable BsmtQual contiene solo unas pocas observaciones con valores nulos (2.5%), por lo tanto, reemplazar estas observaciones con el valor de la categoría más frecuente es una buena idea.\n",
    "\n",
    "Por otra parte, la variable FireplaceQu, tiene valores ausentes en casi la mitad de las observaciones. Por lo tanto, si los reemplazamos con la categoría más frecuente, lo más probable es que distorsionemos la relación entre la categoría más frecuente con la variable target SalePrice (precio de venta). \n",
    "\n",
    "Adicionalmente, si muchas observaciones están ausentes en FireplaceQu, puede que exista una razón de  por la que estén faltando, por lo tanto, el método de sustitución que explicamos en el siguiente notebooks, seria mas apropiado.\n"
   ]
  },
  {
   "cell_type": "markdown",
   "metadata": {},
   "source": [
    "### Para tener en cuenta\n",
    "\n",
    "Los parámetros para la sustitución o imputación se deben aprender sobre el set de datos de entrenamiento, usado para entrenar el modelo. Luego estos mismos parámetros se utilizan para imputar valores nulos en el set de prueba. Y esto es para evitar sobre-ajustes. En este caso, la categoría más frecuente, debe calcularse sobre el set de entrenamiento\n"
   ]
  },
  {
   "cell_type": "code",
   "execution_count": 4,
   "metadata": {},
   "outputs": [
    {
     "data": {
      "text/plain": [
       "((1022, 3), (438, 3))"
      ]
     },
     "execution_count": 4,
     "metadata": {},
     "output_type": "execute_result"
    }
   ],
   "source": [
    "# separar datos en segmentos entrenamiento y prueba\n",
    "\n",
    "X_train, X_test, y_train, y_test = train_test_split(\n",
    "    data,\n",
    "    data['SalePrice'], # target\n",
    "    test_size=0.3, # porcentaje de obs en test set\n",
    "    random_state=0) # semilla para reproducibilidad\n",
    "\n",
    "X_train.shape, X_test.shape"
   ]
  },
  {
   "cell_type": "markdown",
   "metadata": {},
   "source": [
    "#### BsmtQual"
   ]
  },
  {
   "cell_type": "code",
   "execution_count": 5,
   "metadata": {},
   "outputs": [
    {
     "data": {
      "text/plain": [
       "0.023483365949119372"
      ]
     },
     "execution_count": 5,
     "metadata": {},
     "output_type": "execute_result"
    }
   ],
   "source": [
    "# % de valores ausentes\n",
    "X_train['BsmtQual'].isnull().mean()"
   ]
  },
  {
   "cell_type": "code",
   "execution_count": 6,
   "metadata": {},
   "outputs": [
    {
     "data": {
      "text/plain": [
       "Text(0, 0.5, 'Number of houses')"
      ]
     },
     "execution_count": 6,
     "metadata": {},
     "output_type": "execute_result"
    },
    {
     "data": {
      "image/png": "[encoded data removed]",
      "text/plain": [
       "<Figure size 432x288 with 1 Axes>"
      ]
     },
     "metadata": {
      "needs_background": "light"
     },
     "output_type": "display_data"
    }
   ],
   "source": [
    "# exploremos el número de observaciones por categoría en BsmtQual\n",
    "\n",
    "# usamos esta línea de código en la sección 3 “características de las variables”\n",
    "\n",
    "# value_counts() retorna el número de observaciones por categoría de la variable\n",
    "\n",
    "X_train['BsmtQual'].value_counts().sort_values(ascending=False).plot.bar()\n",
    "plt.xlabel('BsmtQual')\n",
    "plt.ylabel('Number of houses')"
   ]
  },
  {
   "cell_type": "code",
   "execution_count": 7,
   "metadata": {},
   "outputs": [
    {
     "data": {
      "text/plain": [
       "0    TA\n",
       "dtype: object"
      ]
     },
     "execution_count": 7,
     "metadata": {},
     "output_type": "execute_result"
    }
   ],
   "source": [
    "# categoría más frecuente para BsmtQual\n",
    "\n",
    "X_train['BsmtQual'].mode()"
   ]
  },
  {
   "cell_type": "code",
   "execution_count": 8,
   "metadata": {},
   "outputs": [
    {
     "data": {
      "text/plain": [
       "Text(0.5, 1.0, 'BsmtQual')"
      ]
     },
     "execution_count": 8,
     "metadata": {},
     "output_type": "execute_result"
    },
    {
     "data": {
      "image/png": "[encoded data removed]",
      "text/plain": [
       "<Figure size 432x288 with 1 Axes>"
      ]
     },
     "metadata": {
      "needs_background": "light"
     },
     "output_type": "display_data"
    }
   ],
   "source": [
    "# grafiquemos las distribuciones de la variable target para las casas que: \n",
    "\n",
    "# tienen la categoría más frecuente o\n",
    "# para aquellas que tienen datos ausentes\n",
    "\n",
    "fig = plt.figure()\n",
    "ax = fig.add_subplot(111)\n",
    "\n",
    "# selección y gráfica de las casas con la etiqueta más frecuente\n",
    "X_train[X_train['BsmtQual']=='TA']['SalePrice'].plot(kind='kde', ax=ax)\n",
    "\n",
    "# selección y gráfica de las casas con valores ausentes\n",
    "X_train[X_train['BsmtQual'].isnull()]['SalePrice'].plot(kind='kde', ax=ax, color='red')\n",
    "\n",
    "# etiquetas\n",
    "lines, labels = ax.get_legend_handles_labels()\n",
    "labels = ['Houses with TA', 'Houses with NA']\n",
    "ax.legend(lines, labels, loc='best')\n",
    "\n",
    "# título\n",
    "plt.title('BsmtQual')"
   ]
  },
  {
   "cell_type": "markdown",
   "metadata": {},
   "source": [
    "La gráfica anterior indica que las casas con datos ausentes cuentan en promedio mucho menos que aquellas con la etiqueta TA. Por lo tanto, si reemplazamos los valores ausentes con TA, podríamos afectar la distribución general, si hay una proporción grande de observaciones con valores nulos."
   ]
  },
  {
   "cell_type": "code",
   "execution_count": 9,
   "metadata": {},
   "outputs": [],
   "source": [
    "# guardemos la distribución original de SalePrice para la\n",
    "# categoría más frecuente ( la usaremos más adelante)\n",
    "\n",
    "# el uso de 'tmp' como nombre de las variables temporales\n",
    "# es una práctica bastante común\n",
    "\n",
    "tmp = X_train[X_train['BsmtQual']=='TA']['SalePrice']"
   ]
  },
  {
   "cell_type": "code",
   "execution_count": 10,
   "metadata": {},
   "outputs": [
    {
     "name": "stderr",
     "output_type": "stream",
     "text": [
      "C:\\Users\\Sole\\Anaconda3\\envs\\feml\\lib\\site-packages\\pandas\\core\\generic.py:6287: SettingWithCopyWarning: \n",
      "A value is trying to be set on a copy of a slice from a DataFrame\n",
      "\n",
      "See the caveats in the documentation: http://pandas.pydata.org/pandas-docs/stable/user_guide/indexing.html#returning-a-view-versus-a-copy\n",
      "  self._update_inplace(new_data)\n"
     ]
    }
   ],
   "source": [
    "# reemplacemos NA en los sets de prueba y entrenamiento\n",
    "\n",
    "# usemos el método fillna() de pandas\n",
    "\n",
    "# con el argumento inplace=True, indicándole a pandas\n",
    "# que queremos reemplazar los valores en los datos\n",
    "\n",
    "X_train['BsmtQual'].fillna('TA', inplace=True)\n",
    "X_test['BsmtQual'].fillna('TA', inplace=True)"
   ]
  },
  {
   "cell_type": "code",
   "execution_count": 11,
   "metadata": {},
   "outputs": [
    {
     "data": {
      "text/plain": [
       "0"
      ]
     },
     "execution_count": 11,
     "metadata": {},
     "output_type": "execute_result"
    }
   ],
   "source": [
    "# revisemos que los NA se han reemplazado \n",
    "\n",
    "X_train['BsmtQual'].isnull().sum()"
   ]
  },
  {
   "cell_type": "code",
   "execution_count": 12,
   "metadata": {},
   "outputs": [
    {
     "data": {
      "text/plain": [
       "Text(0, 0.5, 'Número de casas')"
      ]
     },
     "execution_count": 12,
     "metadata": {},
     "output_type": "execute_result"
    },
    {
     "data": {
      "image/png": "[encoded data removed]",
      "text/plain": [
       "<Figure size 432x288 with 1 Axes>"
      ]
     },
     "metadata": {
      "needs_background": "light"
     },
     "output_type": "display_data"
    }
   ],
   "source": [
    "# evaluemos el efecto de este cambio en la distribución de las variables\n",
    "\n",
    "X_train['BsmtQual'].value_counts().sort_values(ascending=False).plot.bar()\n",
    "plt.xlabel('BsmtQual')\n",
    "plt.ylabel('Número de casas')"
   ]
  },
  {
   "cell_type": "markdown",
   "metadata": {},
   "source": [
    "De la gráfica anterior, podemos ver que ahora hay más casas con la etiqueta TA, que son las que antes tenían un valor nulo o NA. Sin embargo, también se puede observar que el cambio no es dramático; la gráfica se ve casi igual que antes de la sustitución."
   ]
  },
  {
   "cell_type": "code",
   "execution_count": 13,
   "metadata": {},
   "outputs": [
    {
     "data": {
      "text/plain": [
       "Text(0.5, 1.0, 'BsmtQual')"
      ]
     },
     "execution_count": 13,
     "metadata": {},
     "output_type": "execute_result"
    },
    {
     "data": {
      "image/png": "[encoded data removed]",
      "text/plain": [
       "<Figure size 432x288 with 1 Axes>"
      ]
     },
     "metadata": {
      "needs_background": "light"
     },
     "output_type": "display_data"
    }
   ],
   "source": [
    "# grafiquemos la distribución del target (SalePrice - precio de venta)\n",
    "\n",
    "# ha cambiado para la categoría más frecuente?\n",
    "# veamos\n",
    "fig = plt.figure()\n",
    "ax = fig.add_subplot(111)\n",
    "\n",
    "# distribución original del SalePrice para casas con la categoría más frecuente\n",
    "# recuerda que la guardamos unas celdas atrás en el notebook\n",
    "tmp.plot(kind='kde', ax=ax)\n",
    "\n",
    "# distribución de la variable después de la sustitución\n",
    "X_train[X_train['BsmtQual'] == 'TA']['SalePrice'].plot(\n",
    "    kind='kde', ax=ax, color='red')\n",
    "\n",
    "# leyenda\n",
    "lines, labels = ax.get_legend_handles_labels()\n",
    "labels = ['Original variable', 'Imputed variable']\n",
    "ax.legend(lines, labels, loc='best')\n",
    "\n",
    "# título\n",
    "plt.title('BsmtQual')"
   ]
  },
  {
   "cell_type": "markdown",
   "metadata": {},
   "source": [
    "La distribución de los precios de las casas entre la variable original y sustituida son muy similares, porque el número de datos ausentes era pequeño. Esto era de esperarse.\n",
    "\n",
    "Exploremos el efecto de la sustitución por la moda cuando el porcentaje de datos ausentes es alto.\n",
    "\n",
    "#### FirePlaceQu"
   ]
  },
  {
   "cell_type": "code",
   "execution_count": 14,
   "metadata": {},
   "outputs": [
    {
     "data": {
      "text/plain": [
       "0.46771037181996084"
      ]
     },
     "execution_count": 14,
     "metadata": {},
     "output_type": "execute_result"
    }
   ],
   "source": [
    "# recordemos el % de datos ausentes\n",
    "X_train['FireplaceQu'].isnull().mean()"
   ]
  },
  {
   "cell_type": "code",
   "execution_count": 15,
   "metadata": {},
   "outputs": [
    {
     "data": {
      "text/plain": [
       "Text(0, 0.5, 'Número de casas')"
      ]
     },
     "execution_count": 15,
     "metadata": {},
     "output_type": "execute_result"
    },
    {
     "data": {
      "image/png": "[encoded data removed]",
      "text/plain": [
       "<Figure size 432x288 with 1 Axes>"
      ]
     },
     "metadata": {
      "needs_background": "light"
     },
     "output_type": "display_data"
    }
   ],
   "source": [
    "# exploremos el número de observaciones por categoría\n",
    "\n",
    "X_train['FireplaceQu'].value_counts().sort_values(ascending=False).plot.bar()\n",
    "plt.xlabel('FireplaceQu')\n",
    "plt.ylabel('Número de casas')"
   ]
  },
  {
   "cell_type": "code",
   "execution_count": 16,
   "metadata": {},
   "outputs": [
    {
     "data": {
      "text/plain": [
       "0    Gd\n",
       "dtype: object"
      ]
     },
     "execution_count": 16,
     "metadata": {},
     "output_type": "execute_result"
    }
   ],
   "source": [
    "# encontremos la categoría mas frecuente en la variable FirePlaceQu\n",
    "\n",
    "X_train['FireplaceQu'].mode()"
   ]
  },
  {
   "cell_type": "code",
   "execution_count": 17,
   "metadata": {},
   "outputs": [
    {
     "data": {
      "text/plain": [
       "Text(0.5, 1.0, 'FirePlaceQu')"
      ]
     },
     "execution_count": 17,
     "metadata": {},
     "output_type": "execute_result"
    },
    {
     "data": {
      "image/png": "[encoded data removed]",
      "text/plain": [
       "<Figure size 432x288 with 1 Axes>"
      ]
     },
     "metadata": {
      "needs_background": "light"
     },
     "output_type": "display_data"
    }
   ],
   "source": [
    "# grafiquemos la distribución del target (SalePrice - precio de venta)\n",
    "# para las casas que tienen la categoría más frecuente y aquellas que \n",
    "# tienen datos ausentes\n",
    "\n",
    "\n",
    "fig = plt.figure()\n",
    "ax = fig.add_subplot(111)\n",
    "\n",
    "# casas con la categoría más frecuente para FirePlaceQu\n",
    "X_train[X_train['FireplaceQu']=='Gd']['SalePrice'].plot(kind='kde', ax=ax)\n",
    "\n",
    "# casas con datos ausentes en FirePlaceQu\n",
    "X_train[X_train['FireplaceQu'].isnull()]['SalePrice'].plot(kind='kde', ax=ax, color='red')\n",
    "\n",
    "# leyenda\n",
    "lines, labels = ax.get_legend_handles_labels()\n",
    "labels = ['Casas con Gd', 'Casas con NA']\n",
    "ax.legend(lines, labels, loc='best')\n",
    "\n",
    "plt.title('FirePlaceQu')"
   ]
  },
  {
   "cell_type": "markdown",
   "metadata": {},
   "source": [
    "Las distribuciones son diferentes; las casas con datos ausentes cuestan menos en general que las casas con la etiquete Gd."
   ]
  },
  {
   "cell_type": "code",
   "execution_count": 18,
   "metadata": {},
   "outputs": [],
   "source": [
    "# Guardemos la distribuciones originales de SalePrice para\n",
    "# las casas que tienen la etiquete Gd en FirePlaceQu.\n",
    "\n",
    "tmp = X_train[X_train['FireplaceQu']=='Gd']['SalePrice']"
   ]
  },
  {
   "cell_type": "code",
   "execution_count": 19,
   "metadata": {},
   "outputs": [],
   "source": [
    "# Reemplacemos los valores nulos NA con la etiqueta Gd en los sets de entrenamiento y prueba\n",
    "\n",
    "X_train['FireplaceQu'].fillna('Gd', inplace=True)\n",
    "X_test['FireplaceQu'].fillna('Gd', inplace=True)"
   ]
  },
  {
   "cell_type": "code",
   "execution_count": 20,
   "metadata": {},
   "outputs": [
    {
     "data": {
      "text/plain": [
       "Text(0, 0.5, 'Número de casas')"
      ]
     },
     "execution_count": 20,
     "metadata": {},
     "output_type": "execute_result"
    },
    {
     "data": {
      "image/png": "[encoded data removed]",
      "text/plain": [
       "<Figure size 432x288 with 1 Axes>"
      ]
     },
     "metadata": {
      "needs_background": "light"
     },
     "output_type": "display_data"
    }
   ],
   "source": [
    "# exploremos el número de observaciones por categoría\n",
    "\n",
    "X_train['FireplaceQu'].value_counts().sort_values(ascending=False).plot.bar()\n",
    "plt.xlabel('FireplaceQu')\n",
    "plt.ylabel('Número de casas')"
   ]
  },
  {
   "cell_type": "markdown",
   "metadata": {},
   "source": [
    "En este caso vemos que hay una gran distorsión en la distribución original de la variable. Ahora hay muchas casas que tienen la etiqueta Gd, con respecto a las casas que tienen las otras categorías. Originalmente, la mitad de las observaciones en FirePlaceQu estaban ausentes. Ahora, todos los valores contienen Gd. Por eso es que vemos un gran incremento en Gd en la gráfica de barras."
   ]
  },
  {
   "cell_type": "code",
   "execution_count": 21,
   "metadata": {},
   "outputs": [
    {
     "data": {
      "text/plain": [
       "Text(0.5, 1.0, 'FirePlaceQu')"
      ]
     },
     "execution_count": 21,
     "metadata": {},
     "output_type": "execute_result"
    },
    {
     "data": {
      "image/png": "[encoded data removed]",
      "text/plain": [
       "<Figure size 432x288 with 1 Axes>"
      ]
     },
     "metadata": {
      "needs_background": "light"
     },
     "output_type": "display_data"
    }
   ],
   "source": [
    "# grafiquemos las distribuciones del target para la variable original y\n",
    "# la variable después de la sustitución\n",
    "\n",
    "fig = plt.figure()\n",
    "ax = fig.add_subplot(111)\n",
    "\n",
    "# distribución original de la variable\n",
    "# recuerda que la guardamos unas celdas atrás en el notebook\n",
    "\n",
    "tmp.plot(kind='kde', ax=ax)\n",
    "\n",
    "# distribución de la variable luego de la sustitución\n",
    "X_train[X_train['FireplaceQu'] == 'Gd']['SalePrice'].plot(\n",
    "    kind='kde', ax=ax, color='red')\n",
    "\n",
    "# leyenda\n",
    "lines, labels = ax.get_legend_handles_labels()\n",
    "labels = ['Variable original', 'Variable sustituida']\n",
    "ax.legend(lines, labels, loc='best')\n",
    "\n",
    "plt.title('FirePlaceQu')"
   ]
  },
  {
   "cell_type": "markdown",
   "metadata": {},
   "source": [
    "El promedio del valor de las casas para la categoría más frecuente ha decrecido dramáticamente luego de añadir las casas con valores nulos NA, siguiendo la re-categorización de NA con la categoría más frecuente.\n",
    "\n",
    "Entonces, la importancia de esta etiqueta en particular para la predicción de los precios de las casas, es encubierta o cambiada por la adición de los valores ausentes.\n",
    "\n",
    "En casos como este, cuando el porcentaje de valores ausentes es alto (~50%), es mejor crear una nueva categoría para las observaciones con NA. Estudiaremos esto en el siguiente notebook."
   ]
  },
  {
   "cell_type": "markdown",
   "metadata": {},
   "source": [
    "**Esto es todo por este demo. En las siguientes secciones estudiaremos como sustituir usando Scikit-learn y Feature-engine como parte de machine learning pipeline.**"
   ]
  }
 ],
 "metadata": {
  "kernelspec": {
   "display_name": "feml",
   "language": "python",
   "name": "feml"
  },
  "language_info": {
   "codemirror_mode": {
    "name": "ipython",
    "version": 3
   },
   "file_extension": ".py",
   "mimetype": "text/x-python",
   "name": "python",
   "nbconvert_exporter": "python",
   "pygments_lexer": "ipython3",
   "version": "3.7.3"
  },
  "toc": {
   "nav_menu": {},
   "number_sections": true,
   "sideBar": true,
   "skip_h1_title": false,
   "toc_cell": false,
   "toc_position": {},
   "toc_section_display": "block",
   "toc_window_display": true
  }
 },
 "nbformat": 4,
 "nbformat_minor": 2
}
