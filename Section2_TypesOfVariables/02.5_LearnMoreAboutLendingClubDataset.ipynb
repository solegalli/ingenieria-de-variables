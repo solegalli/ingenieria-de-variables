{
 "cells": [
  {
   "cell_type": "markdown",
   "metadata": {},
   "source": [
    "## More Variable Type Definitions\n",
    "\n",
    "- [A List of Common and Uncommon Types of Variable](https://www.statisticshowto.datasciencecentral.com/probability-and-statistics/types-of-variables/)\n",
    "- [Variable and Data Types](http://journals.ecs.soton.ac.uk/java/tutorial/java/nutsandbolts/vars.html)\n",
    "\n",
    "## More about the Lending Club dataset\n",
    "\n",
    "Visit the following Jupyter notebooks in Kaggle to learn more about the Lending Club dataset and how different Kagglers approach data analysis. \n",
    "\n",
    "- [Lending Club Risk Analysis and Metrics](https://www.kaggle.com/janiobachmann/lending-club-risk-analysis-and-metrics)\n",
    "- [Initial Loan Book Analysis](https://www.kaggle.com/erykwalczak/initial-loan-book-analysis)\n",
    "- [Python for Padawans](https://www.kaggle.com/evanmiller/python-for-padawans)\n",
    "- [Loan Book Initial Exploration](https://www.kaggle.com/solegalli/loan-book-initial-exploration/)"
   ]
  },
  {
   "cell_type": "code",
   "execution_count": null,
   "metadata": {},
   "outputs": [],
   "source": []
  }
 ],
 "metadata": {
  "kernelspec": {
   "display_name": "Python 3",
   "language": "python",
   "name": "python3"
  },
  "language_info": {
   "codemirror_mode": {
    "name": "ipython",
    "version": 3
   },
   "file_extension": ".py",
   "mimetype": "text/x-python",
   "name": "python",
   "nbconvert_exporter": "python",
   "pygments_lexer": "ipython3",
   "version": "3.7.3"
  },
  "toc": {
   "base_numbering": 1,
   "nav_menu": {},
   "number_sections": true,
   "sideBar": true,
   "skip_h1_title": false,
   "title_cell": "Table of Contents",
   "title_sidebar": "Contents",
   "toc_cell": false,
   "toc_position": {},
   "toc_section_display": "block",
   "toc_window_display": false
  }
 },
 "nbformat": 4,
 "nbformat_minor": 2
}
