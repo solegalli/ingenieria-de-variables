{
 "cells": [
  {
   "cell_type": "markdown",
   "metadata": {},
   "source": [
    "## Variables Combinadas\n",
    "\n",
    "Las variables combinadas son aquellas que contienen valores numéricos y categorías.\n",
    "\n",
    "Las variables pueden ser combinadas por una multitud de razones. Por ejemplo, cuando entidades financieras recogen y guardan información acerca de usuarios, generalmente utilizan números. Sin embargo, a veces sucede que dichas entidades no pueden recuperar la información de un cliente. En estos casos, las agencias codifican cada razón con un código diferente. Esto genera estas variables combinadas que contienen códigos alfanuméricos cuando el valor no pudo ser recuperado y números para los valores usuales.\n",
    "\n",
    "Un ejemplo es el número de cuentas abiertas 'number_of_open_accounts', que en principio puede ser cualquier número que represente el número de productos financieros que tenga el prestamista. Cuando la información no está disponible, cada razón se codifica con una letra diferente, por ejemplo: 'A': no se pudo identificar a la persona, 'B': datos no relevantes, 'C': la persona parece no tener ninguna cuenta abierta.\n",
    "\n",
    "Otro ejemplo de variables combinadas, es la variable missed_payment_status, que indica si el prestamista está retrasado con uno o varios pagos. Por ejemplo, si el prestamista tiene una tarjeta de crédito, esta variable indicaría si está retrasado con sus pagos mensuales. Valores 0, 1, 2, 3 significan que el cliente no ha pagado 0-3 cuotas del préstamo. El valor 'D', se usa cuando el cliente incumple con el número máximo de pagos retrasados permitidos (D por la palabra en inglés 'defaulted'), que típicamente son tres pagos.\n",
    "\n",
    "Para este demo, necesitan descargar el archivo csv llamado sample_s2.csv que se encuentra en el folder con los Jupyter Notebooks de la clase **\"Jupyter Notebooks\"** en la  **Sección 1**. También se encuentra disponible para descargar junto al video correspondiente a este Notebook.\n"
   ]
  },
  {
   "cell_type": "code",
   "execution_count": 1,
   "metadata": {},
   "outputs": [],
   "source": [
    "import pandas as pd\n",
    "\n",
    "import matplotlib.pyplot as plt"
   ]
  },
  {
   "cell_type": "code",
   "execution_count": 2,
   "metadata": {},
   "outputs": [
    {
     "data": {
      "text/html": [
       "<div>\n",
       "<style scoped>\n",
       "    .dataframe tbody tr th:only-of-type {\n",
       "        vertical-align: middle;\n",
       "    }\n",
       "\n",
       "    .dataframe tbody tr th {\n",
       "        vertical-align: top;\n",
       "    }\n",
       "\n",
       "    .dataframe thead th {\n",
       "        text-align: right;\n",
       "    }\n",
       "</style>\n",
       "<table border=\"1\" class=\"dataframe\">\n",
       "  <thead>\n",
       "    <tr style=\"text-align: right;\">\n",
       "      <th></th>\n",
       "      <th>id</th>\n",
       "      <th>open_il_24m</th>\n",
       "    </tr>\n",
       "  </thead>\n",
       "  <tbody>\n",
       "    <tr>\n",
       "      <td>0</td>\n",
       "      <td>1077501</td>\n",
       "      <td>C</td>\n",
       "    </tr>\n",
       "    <tr>\n",
       "      <td>1</td>\n",
       "      <td>1077430</td>\n",
       "      <td>A</td>\n",
       "    </tr>\n",
       "    <tr>\n",
       "      <td>2</td>\n",
       "      <td>1077175</td>\n",
       "      <td>A</td>\n",
       "    </tr>\n",
       "    <tr>\n",
       "      <td>3</td>\n",
       "      <td>1076863</td>\n",
       "      <td>A</td>\n",
       "    </tr>\n",
       "    <tr>\n",
       "      <td>4</td>\n",
       "      <td>1075358</td>\n",
       "      <td>A</td>\n",
       "    </tr>\n",
       "  </tbody>\n",
       "</table>\n",
       "</div>"
      ],
      "text/plain": [
       "        id open_il_24m\n",
       "0  1077501           C\n",
       "1  1077430           A\n",
       "2  1077175           A\n",
       "3  1076863           A\n",
       "4  1075358           A"
      ]
     },
     "execution_count": 2,
     "metadata": {},
     "output_type": "execute_result"
    }
   ],
   "source": [
    "# open_il_24m indica:\n",
    "# \"Número de líneas de crédito a termino fijo abiertas en los últimos 24 meses\".\n",
    "# Estas líneas de crédito a termino fijo tienen un número de cuotas fijas por un valor \n",
    "# predeterminado entre el prestamista y la entidad financiera.\n",
    "# Ejemplos son los préstamos para vehículos o prestamos para estudiantes.\n",
    "\n",
    "data = pd.read_csv('../sample_s2.csv')\n",
    "\n",
    "data.head()"
   ]
  },
  {
   "cell_type": "code",
   "execution_count": 3,
   "metadata": {},
   "outputs": [
    {
     "data": {
      "text/plain": [
       "(887379, 2)"
      ]
     },
     "execution_count": 3,
     "metadata": {},
     "output_type": "execute_result"
    }
   ],
   "source": [
    "data.shape"
   ]
  },
  {
   "cell_type": "code",
   "execution_count": 4,
   "metadata": {},
   "outputs": [
    {
     "data": {
      "text/plain": [
       "array(['C', 'A', 'B', '0.0', '1.0', '2.0', '4.0', '3.0', '6.0', '5.0',\n",
       "       '9.0', '7.0', '8.0', '13.0', '10.0', '19.0', '11.0', '12.0',\n",
       "       '14.0', '15.0'], dtype=object)"
      ]
     },
     "execution_count": 4,
     "metadata": {},
     "output_type": "execute_result"
    }
   ],
   "source": [
    "# Adicionalmente, la variable toma los siguientes códigos:\n",
    "# 'A': no se pudo identificar a la persona \n",
    "# 'B': no hay datos relevantes\n",
    "# 'C': la persona parece no tener ninguna cuenta abierta\n",
    " \n",
    "data.open_il_24m.unique()"
   ]
  },
  {
   "cell_type": "code",
   "execution_count": 5,
   "metadata": {},
   "outputs": [
    {
     "data": {
      "text/plain": [
       "Text(0, 0.5, 'Número de prestamistas')"
      ]
     },
     "execution_count": 5,
     "metadata": {},
     "output_type": "execute_result"
    },
    {
     "data": {
      "image/png": "[encoded data removed]",
      "text/plain": [
       "<Figure size 432x288 with 1 Axes>"
      ]
     },
     "metadata": {
      "needs_background": "light"
     },
     "output_type": "display_data"
    }
   ],
   "source": [
    "# Creemos un gráfico de barras, con el número de préstamistas\n",
    "# por cada uno de los valores de la variable combinada\n",
    "\n",
    "fig = data.open_il_24m.value_counts().plot.bar()\n",
    "fig.set_title('Número de cuentas a término fijo')\n",
    "fig.set_ylabel('Número de prestamistas')"
   ]
  },
  {
   "cell_type": "markdown",
   "metadata": {
    "collapsed": true
   },
   "source": [
    "Este es un ejemplo de una variable combinada!"
   ]
  },
  {
   "cell_type": "markdown",
   "metadata": {
    "collapsed": true
   },
   "source": [
    "**Esto es todo por este demo, esperamos lo hayan disfrutado y nos vemos en el siguiente. **"
   ]
  }
 ],
 "metadata": {
  "kernelspec": {
   "display_name": "feml",
   "language": "python",
   "name": "feml"
  },
  "language_info": {
   "codemirror_mode": {
    "name": "ipython",
    "version": 3
   },
   "file_extension": ".py",
   "mimetype": "text/x-python",
   "name": "python",
   "nbconvert_exporter": "python",
   "pygments_lexer": "ipython3",
   "version": "3.7.3"
  },
  "toc": {
   "nav_menu": {},
   "number_sections": true,
   "sideBar": true,
   "skip_h1_title": false,
   "toc_cell": false,
   "toc_position": {
    "height": "550px",
    "left": "0px",
    "right": "869.4px",
    "top": "107px",
    "width": "151px"
   },
   "toc_section_display": "block",
   "toc_window_display": true
  }
 },
 "nbformat": 4,
 "nbformat_minor": 1
}
