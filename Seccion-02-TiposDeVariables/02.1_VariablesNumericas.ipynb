{
 "cells": [
  {
   "cell_type": "markdown",
   "metadata": {},
   "source": [
    "## Qué es una variable?\n",
    "\n",
    "Una variable es una característica, número o cantidad que puede ser medida o contada. Son llamadas 'variables' porque el valor que toman puede variar.  Los siguientes son ejemplos de variables:\n",
    "\n",
    "- Edad (21, 35, 62, ...)\n",
    "- Género (masculino, femenino)\n",
    "- Salario (GBP 20,000, GBP 35,000, GBP 45,000, ...)\n",
    "- Precio inmueble (GBP 350,000, GBP 570,000, ...)\n",
    "- País de nacimiento (China, Rusia, Costa Rica, ...)\n",
    "- Color ojos (negro, verde, azul, ...)\n",
    "- Marca de Vehículo (Ford, Volkswagen, ...)\n",
    "\n",
    "La mayoría de las variables pueden ser clasificadas en uno de los siguientes grupos:\n",
    "\n",
    "- **Variables Numéricas** \n",
    "- **Variables Categóricas**\n",
    "\n",
    "===================================================================================\n",
    "\n",
    "## Variables Numéricas\n",
    "\n",
    "Los valores de las variables numéricas son números. Éstas a su vez pueden ser clasificadas: \n",
    "\n",
    "- **Variables discretas** \n",
    "- **Variables continuas**\n",
    "\n",
    "\n",
    "### Variables Discretas\n",
    "\n",
    "En la mayoría de las variables discretas, los valores son números enteros, y los valores que pueden tomar son finitos. Las siguientes son ejemplos de variables discretas:\n",
    "\n",
    "- Número de cuentas bancarias de una persona (1, 4, 7, ...)\n",
    "- Número de mascotas en una familia\n",
    "- Número de hijos en una familia\n",
    "\n",
    "\n",
    "### Variable Continua\n",
    "\n",
    "Las variables continuas pueden tomar cualquier valor dentro de un rango específico. Por ejemplo, el total pagado por un cliente en un supermercado es continuo. El cliente  puede pagar GBP 20.5, GBP 13.10, GBP 83.20 y así sucesivamente. Otros ejemplos de variables continuas son:\n",
    "\n",
    "- Precio del inmueble (en principio, puede tomar cualquier valor) (GBP 350,000, 57,000, 100,000, ...)\n",
    "- Tiempo navegando una página web (3.4 segundos, 5.10 segundos, ...)\n",
    "- Deuda total como porcentaje del salario en el último mes (0.2, 0.001, 0, 0.75, ...)\n",
    "\n",
    "=============================================================================\n",
    "\n",
    "## En este demo: Préstamos Peer-to-peer  (P2P)\n",
    "\n",
    "En este demo, usaremos los datos de una compañía financiera especializada en préstamos peer-to-peer **Lending Club**. Usaremos los datos para examinar variables numéricas ya sean discretas o continuas.\n",
    "\n",
    "- Para descargar los datos, favor referirse a la clase de **Datos** en la **Sección 1** del curso.\n"
   ]
  },
  {
   "cell_type": "code",
   "execution_count": 1,
   "metadata": {},
   "outputs": [],
   "source": [
    "import pandas as pd\n",
    "import numpy as np\n",
    "\n",
    "import matplotlib.pyplot as plt"
   ]
  },
  {
   "cell_type": "code",
   "execution_count": 2,
   "metadata": {},
   "outputs": [
    {
     "data": {
      "text/html": [
       "<div>\n",
       "<style scoped>\n",
       "    .dataframe tbody tr th:only-of-type {\n",
       "        vertical-align: middle;\n",
       "    }\n",
       "\n",
       "    .dataframe tbody tr th {\n",
       "        vertical-align: top;\n",
       "    }\n",
       "\n",
       "    .dataframe thead th {\n",
       "        text-align: right;\n",
       "    }\n",
       "</style>\n",
       "<table border=\"1\" class=\"dataframe\">\n",
       "  <thead>\n",
       "    <tr style=\"text-align: right;\">\n",
       "      <th></th>\n",
       "      <th>loan_amnt</th>\n",
       "      <th>int_rate</th>\n",
       "      <th>annual_inc</th>\n",
       "      <th>loan_status</th>\n",
       "      <th>open_acc</th>\n",
       "      <th>open_il_12m</th>\n",
       "    </tr>\n",
       "  </thead>\n",
       "  <tbody>\n",
       "    <tr>\n",
       "      <th>2101510</th>\n",
       "      <td>9500</td>\n",
       "      <td>6.03</td>\n",
       "      <td>35000.0</td>\n",
       "      <td>Fully Paid</td>\n",
       "      <td>6.0</td>\n",
       "      <td>NaN</td>\n",
       "    </tr>\n",
       "    <tr>\n",
       "      <th>989937</th>\n",
       "      <td>20000</td>\n",
       "      <td>12.05</td>\n",
       "      <td>62000.0</td>\n",
       "      <td>Charged Off</td>\n",
       "      <td>12.0</td>\n",
       "      <td>NaN</td>\n",
       "    </tr>\n",
       "    <tr>\n",
       "      <th>195177</th>\n",
       "      <td>40000</td>\n",
       "      <td>13.56</td>\n",
       "      <td>70000.0</td>\n",
       "      <td>Current</td>\n",
       "      <td>20.0</td>\n",
       "      <td>2.0</td>\n",
       "    </tr>\n",
       "    <tr>\n",
       "      <th>946402</th>\n",
       "      <td>12000</td>\n",
       "      <td>13.18</td>\n",
       "      <td>37511.4</td>\n",
       "      <td>Current</td>\n",
       "      <td>10.0</td>\n",
       "      <td>0.0</td>\n",
       "    </tr>\n",
       "    <tr>\n",
       "      <th>2089029</th>\n",
       "      <td>10000</td>\n",
       "      <td>10.99</td>\n",
       "      <td>84000.0</td>\n",
       "      <td>Fully Paid</td>\n",
       "      <td>16.0</td>\n",
       "      <td>NaN</td>\n",
       "    </tr>\n",
       "  </tbody>\n",
       "</table>\n",
       "</div>"
      ],
      "text/plain": [
       "         loan_amnt  int_rate  annual_inc  loan_status  open_acc  open_il_12m\n",
       "2101510       9500      6.03     35000.0   Fully Paid       6.0          NaN\n",
       "989937       20000     12.05     62000.0  Charged Off      12.0          NaN\n",
       "195177       40000     13.56     70000.0      Current      20.0          2.0\n",
       "946402       12000     13.18     37511.4      Current      10.0          0.0\n",
       "2089029      10000     10.99     84000.0   Fully Paid      16.0          NaN"
      ]
     },
     "execution_count": 2,
     "metadata": {},
     "output_type": "execute_result"
    }
   ],
   "source": [
    "# Definición de las variables del set de datos:\n",
    "#-------------------------\n",
    "# loan_amnt: Valor del préstamo\n",
    "# int_rate:  tasa de interés\n",
    "# annual_inc: salario anual \n",
    "# open_acc: número de cuentas bancarias abiertas (más detalles más adelante)\n",
    "# loan_status: estado del préstamo (paid (pagado), defaulted (pago incumplido), etc)\n",
    "# open_il_12m: cuentas abiertas en los últimos 12 meses\n",
    "\n",
    "use_cols = [\n",
    "    'loan_amnt', 'int_rate', 'annual_inc', 'open_acc', 'loan_status',\n",
    "    'open_il_12m'\n",
    "]\n",
    "\n",
    "# Carguemos los datos con solo unas columnas y unas pocas filas para \n",
    "# facilitar y reducir el tiempo que toma correr el demo.\n",
    "\n",
    "data = pd.read_csv('../loan.csv', usecols=use_cols).sample(\n",
    "    10000, random_state=60)  # fijamos la semilla o \"seed\" para poder reproducir resultados\n",
    "\n",
    "data.head()"
   ]
  },
  {
   "cell_type": "markdown",
   "metadata": {},
   "source": [
    "### Variables Continuas"
   ]
  },
  {
   "cell_type": "code",
   "execution_count": 3,
   "metadata": {},
   "outputs": [
    {
     "data": {
      "text/plain": [
       "array([ 9500, 20000, 40000, 12000, 10000, 15000, 25000, 11300, 16425,\n",
       "        5600, 28000,  8000, 14000, 17000, 18000, 35000, 17250,  7600,\n",
       "       30000,  7500, 24000,  7275,  3000,  8500,  6500,  7000,  6825,\n",
       "       32000, 22000,  2500, 14900, 14550,  1000, 22800,  5400, 16500,\n",
       "        5000,  8400,  6000, 33800, 12500, 13725, 22900, 12100, 14400,\n",
       "       23000, 15250,  6900, 26000, 18500,  5500, 14500, 16000, 16550,\n",
       "        9200,  4200,  4000,  9000, 24300, 10200, 16250, 23350, 21000,\n",
       "       24875,  9800, 11000,  5025, 15950, 22200, 12900, 27250, 28500,\n",
       "        9300,  9600,  4800, 13000,  6025, 16375,  1325,  3500, 22400,\n",
       "       21575,  9250, 18150, 11875, 16800, 20500, 10725, 19700,  4500,\n",
       "       25025, 14700,  7700, 25200, 12250, 10500,  2200,  3250,  7200,\n",
       "        1600, 10075, 32725,  6400, 24175, 19000, 11125, 20525, 15900,\n",
       "       14975, 31200,  2000, 11475, 27000,  2400,  5200,  4750,  6250,\n",
       "       19800, 31000, 20625, 13500, 12300, 12075, 36000, 12800,  3200,\n",
       "        3600, 36325, 19425, 12650, 17850,  8250,  5875,  5975, 13375,\n",
       "        8475,  4075, 10775, 20800, 11200, 10800, 12050, 32925, 10975,\n",
       "       21900,  1500,  1075, 28350, 11650, 32500, 15500, 20400, 22750,\n",
       "       16600, 12350,  1800, 15975, 13350, 30800,  9900, 26125,  9525,\n",
       "        3975, 11500, 24500, 21875, 12750,  8200, 30400, 17600,  8950,\n",
       "       10750,  7800,  7725,  5625, 34700, 12400, 24250,  1450, 12175,\n",
       "       12600, 15525,  8300,  5150, 15600, 14650, 14750, 22100, 14250,\n",
       "       11100,  6600,  4950, 23175,  6425, 38900,  2800,  9775, 19200,\n",
       "        8125,  1200, 10050,  4700, 21750, 19475,  6550, 29900,  4900,\n",
       "        9750, 29050,  3150, 10650,  7100, 26400,  6950,  9175,  7475,\n",
       "        5275,  8725, 12625, 10250,  6800, 23575, 21500, 18550,  9875,\n",
       "        3025, 18900,  6075, 23100, 15200, 15400,  7125, 30650, 24600,\n",
       "       18250, 10625, 20950, 18975, 27200, 14125, 23325, 11325, 12150,\n",
       "       19175,  4375, 18600, 17500, 19600,  9100, 29000,  4250, 13200,\n",
       "        1400, 22500, 27500, 34450, 18200, 21200,  2550, 13850,  6350,\n",
       "       28800, 16200,  2100, 34500, 13700, 13100,  4100, 14050, 10225,\n",
       "       14450, 21600,  8875, 13975,  4400, 20750,  7375, 10600, 35325,\n",
       "       17825,  9450,  8650,  6850, 26625,  8800,  4150, 20700,  3925,\n",
       "       15550,  9325,  8975, 19775,  3375, 35100, 13125, 13475,  7750,\n",
       "       19650,  3725, 23400,  2600, 32625, 18400, 10100, 23750, 22700,\n",
       "       10825, 17900,  2900,  4575,  4975,  5075,  5250,  5375, 24700,\n",
       "       18425, 27700, 10475,  3700, 37000, 14325, 34900, 23800, 19125,\n",
       "       29850, 34950, 15275, 16450,  5775, 21850, 25450, 15875,  8850,\n",
       "       12525, 23075,  5050,  5700, 26500, 29650, 23875,  9975, 24950,\n",
       "        5100, 32750,  9850, 17700,  7150,  2975, 17950, 30375,  4325,\n",
       "        3525, 27150, 32400,  8700, 33000, 13300, 23300, 38400,  6150,\n",
       "       30250,  9925, 19850, 13150, 21100, 26900,  5950, 26100, 25475,\n",
       "       10875,  5125, 19750, 20225,  9350, 10275, 14950, 13175,  7550,\n",
       "       27850, 18750, 20150, 10375,  5925, 16925, 13600,  6975, 16750,\n",
       "       15125, 10400, 19500,  6050,  6475, 18350,  2650, 11150,  9700,\n",
       "       18950,  7025, 34550, 25875, 17400, 19450, 23200, 14350, 13225,\n",
       "       29625, 25975,  9275, 21300, 16900,  4450, 23925, 27225, 35800,\n",
       "       15800,  9050,  3275, 19875, 22575,  7175, 29400, 24125, 24800,\n",
       "       25900, 11925,  6300, 11900, 22025,  5800, 13250, 17275,  7350,\n",
       "       10325, 29875, 13050, 17350, 30525,  5575, 14225, 14600, 25225,\n",
       "        7300, 22250, 13875, 33025,  9425, 26300, 11400, 25500, 25600,\n",
       "       19900, 11275, 23900, 35825,  5850,  3950,  7875, 19350, 15850,\n",
       "       23475,  4675, 28700,  8550, 26750, 33825, 10425, 21350, 14025,\n",
       "        9650, 12200,  4550, 17925,  4525, 34000, 30575, 23600, 19625,\n",
       "       31400,  6200, 25250, 33425,  4650,  6450,  5825, 11725,  2050,\n",
       "       18825, 24425, 13025, 18575,  3850, 13325, 17875,  9400, 24350,\n",
       "       13800, 18800,  8600, 39200, 33600, 31450, 24925, 14075, 22625,\n",
       "       20025, 11025,  6175,  1875, 10925, 20100,  8450, 13750, 20125,\n",
       "       13625,  7225, 25050,  5750, 14925, 20450, 20675, 13650, 10550,\n",
       "        9125, 10150, 19375, 29325, 23850, 12875,  7575, 11825, 36350,\n",
       "       14775, 12550, 16625, 26250, 16825, 14200, 12275, 17300,  8075,\n",
       "        5725,  8325, 23125, 31500,  3450, 17225, 11975, 14575, 17750,\n",
       "       18175, 12375, 33950,  3300, 23025,  2825, 14675, 27300, 17475,\n",
       "       15300,  6750,  2325, 33750, 21075,  3900, 26350, 10700,  4600,\n",
       "       22450, 12775,  4225, 11850, 19675, 11050, 15775,  7900,  5525,\n",
       "       18450,  3400, 16675, 38000, 29950, 12950, 23500, 26325,  3425,\n",
       "        8350, 14825, 17375, 11175, 17450, 35200, 21250,  8675, 28100,\n",
       "       11700,  2750, 33475, 10950, 32950,  7850, 36175, 16875,  7050,\n",
       "       18875, 19325,  6375, 25325,  3750, 28750, 27600, 22375, 31075,\n",
       "       22550, 24750,  6325, 29300, 19300, 17175,  7825, 26575,  2875,\n",
       "       10575, 29700, 29225, 12825,  4725, 11550, 25800, 24575,  3100,\n",
       "       13925, 10525, 21175,  5300,  6625,  7775, 17100, 12725, 12675,\n",
       "        4475, 13950, 16300, 20425, 17550, 11575, 21400,  4300,  1900,\n",
       "       15325,  1725, 16050,  6775, 32825, 15700, 29775, 16700, 14300,\n",
       "       10900, 24900, 15050,  8575, 17025,  4850, 10675, 25275, 27450,\n",
       "        6700, 14375, 30750, 29150,  4050, 25675, 15625, 10175,  8750,\n",
       "       18775,  7650, 26600,  9075,  1275,  8275, 11250, 22725, 14725,\n",
       "       12325,  4925, 17625,  7250, 13675,  9225, 30500, 34200, 12125,\n",
       "       24075, 33675, 27675, 16100, 20050, 10125, 20650,  7975, 22275,\n",
       "       26825, 11225, 27325,  8100,  5450, 22300, 26375, 25850, 12925,\n",
       "        8050, 17200, 17975, 23525, 13275,  6100, 11600, 14800, 20575,\n",
       "       32200, 27975,  4175,  1300, 36550, 17425, 23450, 29425,  2525,\n",
       "       19400,  6875, 18225, 11075, 18125, 24225, 15425, 13775, 15350,\n",
       "       17725, 17150, 24375, 20325, 11625, 13425, 28300, 30725, 39700,\n",
       "       14475, 21800, 10450,  7450, 13400,  5175, 34600, 39000, 30225,\n",
       "        1700, 16025, 11950, 28575, 10025, 24625,  9475, 31275, 29575,\n",
       "       32350, 14275, 18725, 15650, 39500,  6275, 33775,  9550,  1650,\n",
       "       11525,  6225, 16125, 15675,  1750,  2175, 11450, 34025, 27125,\n",
       "        6575, 29975, 32525, 30875,  3325, 31825, 17325, 19975,  8900,\n",
       "       22075, 18475, 23550, 33575,  5675, 35525, 23375, 16475,  4775,\n",
       "        2700, 12850,  8150, 22525, 28200,  1550, 24775, 30600,  3800,\n",
       "       33500, 34675, 17050, 25750,  8225, 34125, 16150, 12975,  7325,\n",
       "       21725, 28125, 18700,  8825, 15100, 25075, 11750,  9950, 28775,\n",
       "       24725, 22350, 28675, 28225,  4350, 20275, 18375,  9025,  9675,\n",
       "       23725, 24550, 21450,  9725,  3775, 18050, 25125, 21825, 21375,\n",
       "        7675,  8775, 13525, 21925,  7075, 11675])"
      ]
     },
     "execution_count": 3,
     "metadata": {},
     "output_type": "execute_result"
    }
   ],
   "source": [
    "# Examinemos los valores de la variable loan_amnt\n",
    "# este es el valor del préstamo requerido por el prestamista\n",
    "# en dólares americanos\n",
    "\n",
    "# esta variable es continua, y puede en principio tomar cualquier valor\n",
    "\n",
    "data.loan_amnt.unique()"
   ]
  },
  {
   "cell_type": "code",
   "execution_count": 4,
   "metadata": {},
   "outputs": [
    {
     "data": {
      "text/plain": [
       "Text(0, 0.5, 'Número de préstamos')"
      ]
     },
     "execution_count": 4,
     "metadata": {},
     "output_type": "execute_result"
    },
    {
     "data": {
      "image/png": "[encoded data removed]",
      "text/plain": [
       "<Figure size 432x288 with 1 Axes>"
      ]
     },
     "metadata": {
      "needs_background": "light"
     },
     "output_type": "display_data"
    }
   ],
   "source": [
    "# Examinemenos el histograma para familiarizarnos con la\n",
    "# distribución de la variable\n",
    "\n",
    "fig = data.loan_amnt.hist(bins=50)\n",
    "\n",
    "fig.set_title('Valor del préstamo')\n",
    "fig.set_xlabel('Valor del préstamo')\n",
    "fig.set_ylabel('Número de préstamos')"
   ]
  },
  {
   "cell_type": "markdown",
   "metadata": {},
   "source": [
    "Los valores de la variable pueden ser cualquier monto en el rango en el cual típicamente se encuentran los préstamos. Esta es una característica de las variables continuas.\n",
    "\n",
    "**Nota**: Las barras más altas corresponden a los préstamos por valores de 10,000, 15,000, 20,000, and 35,000 USD, indicando que hay más préstamos concedidos por esos montos. Tiene sentido, ya que estos montos son los valores predeterminados de préstamos ofrecidos en la página web de Lending Club. Otros valores menos frecuentes, son 23,000 o 33,000 que son probablemente específicamente solicitados por personas que requieren un monto específico para un propósito en particular.\n"
   ]
  },
  {
   "cell_type": "code",
   "execution_count": 5,
   "metadata": {
    "scrolled": true
   },
   "outputs": [
    {
     "data": {
      "text/plain": [
       "array([ 6.03, 12.05, 13.56, 13.18, 10.99, 13.98,  7.24, 15.61, 11.44,\n",
       "        7.07, 11.49, 10.15,  7.84, 13.67,  7.89,  9.17, 19.47, 12.29,\n",
       "       13.49, 15.8 ,  8.18, 22.35, 18.55, 10.41, 11.99,  7.26, 10.49,\n",
       "       17.09, 16.02, 13.99, 12.99, 18.45, 12.12, 16.99, 21.85,  7.35,\n",
       "        7.39,  7.21, 18.25, 14.07,  6.49,  8.59, 24.37, 15.31,  5.32,\n",
       "       18.54, 14.33, 11.22, 17.57, 20.89, 14.65, 22.74, 11.47, 10.56,\n",
       "        6.67, 10.91, 19.53,  9.99, 18.94, 12.69,  9.93, 17.97,  9.49,\n",
       "       14.46, 24.85, 20.99, 12.73, 11.98,  7.62, 14.47,  8.08, 10.42,\n",
       "       10.  , 28.72, 10.08, 26.3 , 14.03, 13.65,  7.49, 13.33,  7.34,\n",
       "       10.47, 12.98,  6.89, 12.59,  8.24, 19.52,  8.9 , 15.99, 12.62,\n",
       "        7.96, 12.49, 16.78, 11.53, 21.48,  7.69,  6.39,  6.62,  8.67,\n",
       "        9.44, 19.03, 12.85, 17.86, 21.67, 26.57, 27.49, 16.29,  8.39,\n",
       "        7.59, 14.99,  9.92, 16.14,  8.46, 10.9 , 18.99, 14.08, 20.75,\n",
       "       13.35,  7.97, 14.49,  9.16, 10.64, 24.5 ,  6.99, 25.57, 20.  ,\n",
       "       12.79, 10.07, 17.76, 13.59, 27.31, 20.39,  7.46, 12.35, 11.31,\n",
       "       13.58,  6.08, 10.74, 25.11, 21.98, 18.84, 23.4 , 12.74, 14.85,\n",
       "       15.59, 24.99, 11.48,  9.91, 14.3 , 17.99, 25.82,  8.6 , 18.24,\n",
       "       11.55, 30.17, 12.13,  6.97, 23.88, 18.06,  6.71,  9.76, 20.49,\n",
       "        6.72, 16.55, 27.27, 21.18, 30.79,  7.9 , 22.15,  5.31, 15.1 ,\n",
       "       19.69, 13.92, 19.99,  6.11, 17.47, 16.91, 14.09, 14.31, 15.05,\n",
       "        6.07, 16.46,  6.19,  9.75, 19.42, 19.72, 19.92, 27.34,  7.91,\n",
       "       10.62,  6.68, 11.86, 13.66, 11.06, 23.76, 17.27, 11.05, 10.78,\n",
       "        9.67,  5.79, 23.7 , 28.34, 11.14, 17.1 ,  7.66, 11.39,  6.54,\n",
       "       14.64, 25.44, 21.45, 12.61,  9.58,  8.99,  8.38, 14.96, 30.89,\n",
       "        7.56, 23.1 , 14.98, 19.05, 25.8 , 18.62, 24.08, 21.99, 26.06,\n",
       "       22.91, 22.39, 16.01,  7.99,  8.19, 18.49,  7.51,  6.91, 21.49,\n",
       "       23.99, 11.67, 13.06, 15.02, 16.89,  5.42, 25.83, 10.75, 10.16,\n",
       "       23.43, 19.22, 17.19,  5.93, 24.11,  6.83, 22.2 ,  6.24, 11.8 ,\n",
       "       16.49, 16.24, 14.52, 12.39, 19.48, 13.44,  9.43,  9.8 , 30.49,\n",
       "       17.77, 25.81, 15.41, 10.72, 19.2 , 26.24, 21.  , 15.49, 15.22,\n",
       "        6.92, 16.69, 22.99, 13.11, 20.2 , 26.77, 13.72, 24.83, 23.22,\n",
       "       10.65, 23.13, 28.69,  8.81, 12.36, 30.84, 27.79, 19.97, 14.35,\n",
       "       13.8 , 22.9 , 21.7 , 14.48, 18.85, 12.88, 21.15, 19.24, 15.04,\n",
       "       23.32,  7.12, 22.45, 10.33, 26.31, 25.88, 16.59, 25.69, 18.92,\n",
       "       25.34, 12.18, 29.49, 21.97, 10.59, 15.7 , 17.14, 18.75, 14.22,\n",
       "       26.14,  7.02, 14.42,  6.46, 13.48,  8.49, 14.27,  9.71, 13.53,\n",
       "       14.16, 10.36, 24.74, 12.42, 24.49, 19.19, 22.78, 29.99, 22.7 ,\n",
       "       15.01, 13.47, 25.49,  8.63,  9.25,  9.88, 11.71, 16.45, 23.83,\n",
       "       22.4 , 25.29, 10.25, 18.2 , 27.88, 12.68, 16.2 , 15.62, 20.5 ,\n",
       "        6.  , 13.68, 28.18, 13.23, 15.88, 23.87, 12.53, 15.81, 30.99,\n",
       "       30.74, 17.56,  7.88, 29.69, 30.65, 15.77, 10.39, 17.93, 25.89,\n",
       "       15.58,  8.  , 15.27, 24.84, 20.3 , 15.51, 14.72, 24.7 , 30.75,\n",
       "       23.28, 18.3 , 22.47, 13.3 , 13.05, 15.65, 12.22, 11.58, 10.38,\n",
       "       29.96, 26.99, 17.58,  8.32, 12.86, 12.23, 22.95, 14.61, 28.99,\n",
       "       16.95, 20.8 , 15.96, 13.43, 16.4 , 26.49, 19.79, 19.13,  7.29,\n",
       "       10.37, 29.67, 23.63, 13.36, 11.11, 15.21, 13.16, 13.57, 21.6 ,\n",
       "       11.36, 19.89, 17.49, 13.85, 16.  , 20.31,  9.32, 28.88, 23.5 ,\n",
       "       13.87, 11.97, 18.67,  9.62, 19.36])"
      ]
     },
     "execution_count": 5,
     "metadata": {},
     "output_type": "execute_result"
    }
   ],
   "source": [
    "# Hagamos el mismo ejercicio para la variable tasa de interés\n",
    "# Este es el interés cobrado por 'Lending Club' a los prestamistas\n",
    "\n",
    "# esta variable también es continua, y puede tomar en principio cualquier valor\n",
    "# dentro del rango 0%-100%\n",
    "\n",
    "data.int_rate.unique()"
   ]
  },
  {
   "cell_type": "code",
   "execution_count": 6,
   "metadata": {},
   "outputs": [
    {
     "data": {
      "text/plain": [
       "Text(0, 0.5, 'Número de préstamos')"
      ]
     },
     "execution_count": 6,
     "metadata": {},
     "output_type": "execute_result"
    },
    {
     "data": {
      "image/png": "[encoded data removed]",
      "text/plain": [
       "<Figure size 432x288 with 1 Axes>"
      ]
     },
     "metadata": {
      "needs_background": "light"
     },
     "output_type": "display_data"
    }
   ],
   "source": [
    "# Creemos un histograma para familiarizarnos con la \n",
    "# distribución de la variable\n",
    "\n",
    "fig = data.int_rate.hist(bins=30)\n",
    "\n",
    "fig.set_title('Tasa de interés')\n",
    "fig.set_xlabel('Tasa de interés')\n",
    "fig.set_ylabel('Número de préstamos')"
   ]
  },
  {
   "cell_type": "markdown",
   "metadata": {},
   "source": [
    "Podemos ver que los valores de la variable se encuentran en el rango esperado para dicha variable. Los valores corresponden a las tasas de interés cobradas a los prestamistas."
   ]
  },
  {
   "cell_type": "code",
   "execution_count": 7,
   "metadata": {},
   "outputs": [
    {
     "data": {
      "text/plain": [
       "Text(0, 0.5, 'Número de Clientes')"
      ]
     },
     "execution_count": 7,
     "metadata": {},
     "output_type": "execute_result"
    },
    {
     "data": {
      "image/png": "[encoded data removed]",
      "text/plain": [
       "<Figure size 432x288 with 1 Axes>"
      ]
     },
     "metadata": {
      "needs_background": "light"
     },
     "output_type": "display_data"
    }
   ],
   "source": [
    "# Ahora, exploremos el salario anual declarado por cada uno de los clientes\n",
    "\n",
    "# Esta variable es también continua\n",
    "\n",
    "fig = data.annual_inc.hist(bins=100)\n",
    "\n",
    "# para visualizarla mejor, restringiremos \n",
    "# el rango del eje x\n",
    "fig.set_xlim(0, 400000)\n",
    "\n",
    "# Título y leyendas para los ejes.\n",
    "fig.set_title(\"Clientes Salario Anual\")\n",
    "fig.set_xlabel('Salario Anual')\n",
    "fig.set_ylabel('Número de Clientes')"
   ]
  },
  {
   "cell_type": "markdown",
   "metadata": {},
   "source": [
    "La mayoria de los salarios estan concentrados alrededor del rango de 30-70k, con solo unos pocos clientes ganando salarios mayores. Ya que es una variable continua, los valores varian continuamente en el rango de salarios que se encuentran disponibles."
   ]
  },
  {
   "cell_type": "markdown",
   "metadata": {},
   "source": [
    "### Variables Discretas"
   ]
  },
  {
   "cell_type": "markdown",
   "metadata": {},
   "source": [
    "Exploremos la variable \"Número de líneas de crédito abiertas en el expediente de crédito del prestamista\" (open_acc en los datos). Esta variable representa el número total de productos en diferentes líneas de crédito  (por ejemplo tarjetas de crédito, préstamos para carros, hipotecas, etc.) que se conocen del prestamista. Por definición, es una variable discreta, porque el prestamista puede tener 1 tarjeta de crédito, pero no 3.5 tarjetas de crédito. Y en principio, un cliente puede tener solo un número finito de cuentas bancarias."
   ]
  },
  {
   "cell_type": "code",
   "execution_count": 8,
   "metadata": {},
   "outputs": [
    {
     "data": {
      "text/plain": [
       "array([ 6., 12., 20., 10., 16.,  8.,  7.,  4.,  2.,  9., 19., 28., 14.,\n",
       "       23., 18., 15.,  5., 13., 11., 27., 22., 17., 24., 41., 21., 35.,\n",
       "       32.,  3., 26., 25., 31., 39., 36.,  1., 48., 30., 33., 52., 38.,\n",
       "       29., 40., 37., 72., 34., 43.])"
      ]
     },
     "execution_count": 8,
     "metadata": {},
     "output_type": "execute_result"
    }
   ],
   "source": [
    "# Examinemos los valores de la variable \n",
    "\n",
    "# esta es una variable discreta\n",
    "data.open_acc.dropna().unique()"
   ]
  },
  {
   "cell_type": "code",
   "execution_count": 9,
   "metadata": {},
   "outputs": [
    {
     "data": {
      "text/plain": [
       "Text(0, 0.5, 'Número de Clientes')"
      ]
     },
     "execution_count": 9,
     "metadata": {},
     "output_type": "execute_result"
    },
    {
     "data": {
      "image/png": "[encoded data removed]",
      "text/plain": [
       "<Figure size 432x288 with 1 Axes>"
      ]
     },
     "metadata": {
      "needs_background": "light"
     },
     "output_type": "display_data"
    }
   ],
   "source": [
    "# Creemos un histograma para familiarizarnos con la \n",
    "# distribución de la variable\n",
    "\n",
    "fig = data.open_acc.hist(bins=100)\n",
    "\n",
    "# para visualizarla mejor, restringiremos \n",
    "# el rango del eje x\n",
    "fig.set_xlim(0, 30)\n",
    "\n",
    "# Título y leyendas para los ejes.\n",
    "fig.set_title('Número de cuentas abiertas')\n",
    "fig.set_xlabel('Número de cuentas abiertas')\n",
    "fig.set_ylabel('Número de Clientes')"
   ]
  },
  {
   "cell_type": "markdown",
   "metadata": {},
   "source": [
    "Los histogramas de las variables discretas parecen 'quebrados', ya que no todos los valores dentro del rango posible (de la variable) están presentes. Como ya mencionamos, un cliente puede tener 3 tarjetas de crédito, pero no 3.5 tarjetas de créditos.\n",
    "\n",
    "Miremos otro ejemplo de una variable discreta en estos datos: **Número de préstamos a plazos o término fijo, tomados en los últimos 12 meses** (open_il_12m en los datos). Préstamos a plazos son los que al momento de adquirirlos, tienen un periodo fijo y un número de pagos acordados previamente entre el prestamista y la institución de crédito.  Un ejemplo son los préstamos para carros, o préstamos para estudiantes. El prestamista sabe que deberá pagar la deuda con un número fijo de cuotas con un valor predeterminado, por ejemplo $2,000 en 36 meses."
   ]
  },
  {
   "cell_type": "code",
   "execution_count": 10,
   "metadata": {},
   "outputs": [
    {
     "data": {
      "text/plain": [
       "array([nan,  2.,  0.,  5.,  1.,  3.,  4.,  7.,  6.])"
      ]
     },
     "execution_count": 10,
     "metadata": {},
     "output_type": "execute_result"
    }
   ],
   "source": [
    "# Examinemos los valores de la variable\n",
    "\n",
    "data.open_il_12m.unique()"
   ]
  },
  {
   "cell_type": "code",
   "execution_count": 11,
   "metadata": {},
   "outputs": [
    {
     "data": {
      "text/plain": [
       "Text(0, 0.5, 'Número de Prestamistas')"
      ]
     },
     "execution_count": 11,
     "metadata": {},
     "output_type": "execute_result"
    },
    {
     "data": {
      "image/png": "[encoded data removed]",
      "text/plain": [
       "<Figure size 432x288 with 1 Axes>"
      ]
     },
     "metadata": {
      "needs_background": "light"
     },
     "output_type": "display_data"
    }
   ],
   "source": [
    "# Creemos un histograma para familiarizarnos con la \n",
    "# distribución de la variable\n",
    "\n",
    "fig = data.open_il_12m.hist(bins=50)\n",
    "fig.set_title('Número de créditos a término fijo abiertos en los últimos 12 meses')\n",
    "fig.set_xlabel('Número de créditos a término fijo abiertos en los últimos 12 meses')\n",
    "fig.set_ylabel('Número de Prestamistas')"
   ]
  },
  {
   "cell_type": "markdown",
   "metadata": {},
   "source": [
    "La mayoría de los prestamistas no tienen o solo han abierto 1 línea de crédito a termino fijo, con tan solo unos pocos prestamistas con 2 o más."
   ]
  },
  {
   "cell_type": "markdown",
   "metadata": {},
   "source": [
    "### Una variación de las variables discretas: variables binarias\n",
    "\n",
    "Las variables binarias, son variables discretas, que tan solo toman 2 valores, y por lo tanto son binarias.\n",
    "\n",
    "En las próximas celdas, crearemos una variable adicional que capture el número de préstamos que el prestamista ha incumplido en pagar (en inglés 'defaulted') y por lo tanto se considera que el dinero se ha perdido.\n",
    "\n",
    "La variable toma valores de 0 cuando el préstamo está bien, es decir, que los pagos se han hecho regularmente o 1, cuando el prestamista ha confirmado que no podrá pagar más cuotas del préstamo.\n"
   ]
  },
  {
   "cell_type": "code",
   "execution_count": 12,
   "metadata": {},
   "outputs": [
    {
     "data": {
      "text/plain": [
       "array(['Fully Paid', 'Charged Off', 'Current', 'Late (31-120 days)',\n",
       "       'In Grace Period', 'Late (16-30 days)',\n",
       "       'Does not meet the credit policy. Status:Fully Paid',\n",
       "       'Does not meet the credit policy. Status:Charged Off', 'Default'],\n",
       "      dtype=object)"
      ]
     },
     "execution_count": 12,
     "metadata": {},
     "output_type": "execute_result"
    }
   ],
   "source": [
    "# Examinemos los valores de la variable loan_status\n",
    "\n",
    "data.loan_status.unique()"
   ]
  },
  {
   "cell_type": "code",
   "execution_count": 13,
   "metadata": {},
   "outputs": [
    {
     "data": {
      "text/plain": [
       "0.0001"
      ]
     },
     "execution_count": 13,
     "metadata": {},
     "output_type": "execute_result"
    }
   ],
   "source": [
    "# Creemos una variable adicional llamada \"defaulted\".\n",
    "# Esta variable indica si el prestamista ha incumplido con sus pagos y que el dinero\n",
    "# se considera perdido - préstamo no reembolsado\n",
    "\n",
    "data['defaulted'] = np.where(data.loan_status.isin(['Default']), 1, 0)\n",
    "data.defaulted.mean()"
   ]
  },
  {
   "cell_type": "code",
   "execution_count": 14,
   "metadata": {},
   "outputs": [
    {
     "data": {
      "text/html": [
       "<div>\n",
       "<style scoped>\n",
       "    .dataframe tbody tr th:only-of-type {\n",
       "        vertical-align: middle;\n",
       "    }\n",
       "\n",
       "    .dataframe tbody tr th {\n",
       "        vertical-align: top;\n",
       "    }\n",
       "\n",
       "    .dataframe thead th {\n",
       "        text-align: right;\n",
       "    }\n",
       "</style>\n",
       "<table border=\"1\" class=\"dataframe\">\n",
       "  <thead>\n",
       "    <tr style=\"text-align: right;\">\n",
       "      <th></th>\n",
       "      <th>loan_amnt</th>\n",
       "      <th>int_rate</th>\n",
       "      <th>annual_inc</th>\n",
       "      <th>loan_status</th>\n",
       "      <th>open_acc</th>\n",
       "      <th>open_il_12m</th>\n",
       "      <th>defaulted</th>\n",
       "    </tr>\n",
       "  </thead>\n",
       "  <tbody>\n",
       "    <tr>\n",
       "      <th>2101510</th>\n",
       "      <td>9500</td>\n",
       "      <td>6.03</td>\n",
       "      <td>35000.0</td>\n",
       "      <td>Fully Paid</td>\n",
       "      <td>6.0</td>\n",
       "      <td>NaN</td>\n",
       "      <td>0</td>\n",
       "    </tr>\n",
       "    <tr>\n",
       "      <th>989937</th>\n",
       "      <td>20000</td>\n",
       "      <td>12.05</td>\n",
       "      <td>62000.0</td>\n",
       "      <td>Charged Off</td>\n",
       "      <td>12.0</td>\n",
       "      <td>NaN</td>\n",
       "      <td>0</td>\n",
       "    </tr>\n",
       "    <tr>\n",
       "      <th>195177</th>\n",
       "      <td>40000</td>\n",
       "      <td>13.56</td>\n",
       "      <td>70000.0</td>\n",
       "      <td>Current</td>\n",
       "      <td>20.0</td>\n",
       "      <td>2.0</td>\n",
       "      <td>0</td>\n",
       "    </tr>\n",
       "    <tr>\n",
       "      <th>946402</th>\n",
       "      <td>12000</td>\n",
       "      <td>13.18</td>\n",
       "      <td>37511.4</td>\n",
       "      <td>Current</td>\n",
       "      <td>10.0</td>\n",
       "      <td>0.0</td>\n",
       "      <td>0</td>\n",
       "    </tr>\n",
       "    <tr>\n",
       "      <th>2089029</th>\n",
       "      <td>10000</td>\n",
       "      <td>10.99</td>\n",
       "      <td>84000.0</td>\n",
       "      <td>Fully Paid</td>\n",
       "      <td>16.0</td>\n",
       "      <td>NaN</td>\n",
       "      <td>0</td>\n",
       "    </tr>\n",
       "  </tbody>\n",
       "</table>\n",
       "</div>"
      ],
      "text/plain": [
       "         loan_amnt  int_rate  annual_inc  loan_status  open_acc  open_il_12m  \\\n",
       "2101510       9500      6.03     35000.0   Fully Paid       6.0          NaN   \n",
       "989937       20000     12.05     62000.0  Charged Off      12.0          NaN   \n",
       "195177       40000     13.56     70000.0      Current      20.0          2.0   \n",
       "946402       12000     13.18     37511.4      Current      10.0          0.0   \n",
       "2089029      10000     10.99     84000.0   Fully Paid      16.0          NaN   \n",
       "\n",
       "         defaulted  \n",
       "2101510          0  \n",
       "989937           0  \n",
       "195177           0  \n",
       "946402           0  \n",
       "2089029          0  "
      ]
     },
     "execution_count": 14,
     "metadata": {},
     "output_type": "execute_result"
    }
   ],
   "source": [
    "# La nueva variable toma el valor 1 si el prestamista a incumplido\n",
    "\n",
    "data.head()"
   ]
  },
  {
   "cell_type": "markdown",
   "metadata": {},
   "source": [
    "Comparemos las columnas de 'loan_status' y 'defaulted' para confirmar el resultado de la función anterior."
   ]
  },
  {
   "cell_type": "code",
   "execution_count": 15,
   "metadata": {},
   "outputs": [
    {
     "data": {
      "text/html": [
       "<div>\n",
       "<style scoped>\n",
       "    .dataframe tbody tr th:only-of-type {\n",
       "        vertical-align: middle;\n",
       "    }\n",
       "\n",
       "    .dataframe tbody tr th {\n",
       "        vertical-align: top;\n",
       "    }\n",
       "\n",
       "    .dataframe thead th {\n",
       "        text-align: right;\n",
       "    }\n",
       "</style>\n",
       "<table border=\"1\" class=\"dataframe\">\n",
       "  <thead>\n",
       "    <tr style=\"text-align: right;\">\n",
       "      <th></th>\n",
       "      <th>loan_amnt</th>\n",
       "      <th>int_rate</th>\n",
       "      <th>annual_inc</th>\n",
       "      <th>loan_status</th>\n",
       "      <th>open_acc</th>\n",
       "      <th>open_il_12m</th>\n",
       "      <th>defaulted</th>\n",
       "    </tr>\n",
       "  </thead>\n",
       "  <tbody>\n",
       "    <tr>\n",
       "      <th>1436214</th>\n",
       "      <td>24000</td>\n",
       "      <td>25.49</td>\n",
       "      <td>155000.0</td>\n",
       "      <td>Default</td>\n",
       "      <td>14.0</td>\n",
       "      <td>2.0</td>\n",
       "      <td>1</td>\n",
       "    </tr>\n",
       "  </tbody>\n",
       "</table>\n",
       "</div>"
      ],
      "text/plain": [
       "         loan_amnt  int_rate  annual_inc loan_status  open_acc  open_il_12m  \\\n",
       "1436214      24000     25.49    155000.0     Default      14.0          2.0   \n",
       "\n",
       "         defaulted  \n",
       "1436214          1  "
      ]
     },
     "execution_count": 15,
     "metadata": {},
     "output_type": "execute_result"
    }
   ],
   "source": [
    "# La nueva variable toma el valor 1 si el prestamista a incumplido\n",
    "\n",
    "data[data.loan_status.isin(['Default'])].head()"
   ]
  },
  {
   "cell_type": "code",
   "execution_count": 16,
   "metadata": {},
   "outputs": [
    {
     "data": {
      "text/plain": [
       "array([0, 1])"
      ]
     },
     "execution_count": 16,
     "metadata": {},
     "output_type": "execute_result"
    }
   ],
   "source": [
    "# Una variable binaria, puede tomar 2 valores. Por ejemplo, \n",
    "# la variable \"defaulted\" que acabamos de crear\n",
    "# toma el valor de uno si los pagos se incumplieron - préstamo no reembolsado (defaulted) (1) \n",
    "# o (0) si no es el caso.\n",
    "\n",
    "data.defaulted.unique()"
   ]
  },
  {
   "cell_type": "code",
   "execution_count": 19,
   "metadata": {},
   "outputs": [
    {
     "data": {
      "text/plain": [
       "Text(0, 0.5, 'Número de préstamos')"
      ]
     },
     "execution_count": 19,
     "metadata": {},
     "output_type": "execute_result"
    },
    {
     "data": {
      "image/png": "[encoded data removed]",
      "text/plain": [
       "<Figure size 432x288 with 1 Axes>"
      ]
     },
     "metadata": {
      "needs_background": "light"
     },
     "output_type": "display_data"
    }
   ],
   "source": [
    "# Creemos un histograma, aunque para una variable binaria no es la mejor opción.\n",
    "\n",
    "fig = data.defaulted.hist()\n",
    "fig.set_xlim(0, 2)\n",
    "fig.set_title('Préstamos no reembolsados')\n",
    "fig.set_xlabel('Número de créditos incumplidos')\n",
    "fig.set_ylabel('Número de préstamos')"
   ]
  },
  {
   "cell_type": "markdown",
   "metadata": {},
   "source": [
    "Podemos ver, que la variable toma 2 valores, 0 y 1, y que la mayoría de los préstamos estan bien (al día con los pagos).\n"
   ]
  },
  {
   "cell_type": "markdown",
   "metadata": {},
   "source": [
    "**Esto es todo por este demo, esperamos lo hayan disfrutado y nos vemos en el siguiente.**"
   ]
  },
  {
   "cell_type": "code",
   "execution_count": null,
   "metadata": {},
   "outputs": [],
   "source": []
  }
 ],
 "metadata": {
  "kernelspec": {
   "display_name": "feml",
   "language": "python",
   "name": "feml"
  },
  "language_info": {
   "codemirror_mode": {
    "name": "ipython",
    "version": 3
   },
   "file_extension": ".py",
   "mimetype": "text/x-python",
   "name": "python",
   "nbconvert_exporter": "python",
   "pygments_lexer": "ipython3",
   "version": "3.7.3"
  },
  "toc": {
   "nav_menu": {},
   "number_sections": true,
   "sideBar": true,
   "skip_h1_title": false,
   "toc_cell": false,
   "toc_position": {},
   "toc_section_display": "block",
   "toc_window_display": true
  }
 },
 "nbformat": 4,
 "nbformat_minor": 1
}
