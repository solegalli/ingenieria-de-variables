{
 "cells": [
  {
   "cell_type": "markdown",
   "metadata": {},
   "source": [
    "## Información Adicional sobre Tipos de Variables\n",
    "\n",
    "- [Una lista de los Tipos de variables más y menos comunes](https://www.statisticshowto.datasciencecentral.com/probability-and-statistics/types-of-variables/)\n",
    "- [Tipos de Datos y Variables](http://journals.ecs.soton.ac.uk/java/tutorial/java/nutsandbolts/vars.html)\n",
    "\n",
    "## Lending Club, set de datos\n",
    "\n",
    "Visita los siguientes Jupyter Notebooks en Kaggle para aprender más sobre el conjunto de datos de Lending Club y como diferentes participantes en Kaggle han analizado estos datos.\n",
    "\n",
    "- [Lending Club: Análisis de riesgo](https://www.kaggle.com/janiobachmann/lending-club-risk-analysis-and-metrics)\n",
    "- [Análisis Inicial del Portfolio](https://www.kaggle.com/erykwalczak/initial-loan-book-analysis)\n",
    "- [Python para Padawans](https://www.kaggle.com/evanmiller/python-for-padawans)\n",
    "- [Exploración Inicial del Portfolio](https://www.kaggle.com/solegalli/loan-book-initial-exploration/)\n",
    "\n"
   ]
  },
  {
   "cell_type": "code",
   "execution_count": null,
   "metadata": {},
   "outputs": [],
   "source": []
  }
 ],
 "metadata": {
  "kernelspec": {
   "display_name": "Python 3",
   "language": "python",
   "name": "python3"
  },
  "language_info": {
   "codemirror_mode": {
    "name": "ipython",
    "version": 3
   },
   "file_extension": ".py",
   "mimetype": "text/x-python",
   "name": "python",
   "nbconvert_exporter": "python",
   "pygments_lexer": "ipython3",
   "version": "3.7.3"
  },
  "toc": {
   "nav_menu": {},
   "number_sections": true,
   "sideBar": true,
   "skip_h1_title": false,
   "toc_cell": false,
   "toc_position": {},
   "toc_section_display": "block",
   "toc_window_display": false
  }
 },
 "nbformat": 4,
 "nbformat_minor": 2
}
