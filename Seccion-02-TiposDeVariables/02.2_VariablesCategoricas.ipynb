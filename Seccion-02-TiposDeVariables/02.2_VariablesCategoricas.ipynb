{
 "cells": [
  {
   "cell_type": "markdown",
   "metadata": {},
   "source": [
    "## Qué es una variable?\n",
    "\n",
    "Una variable es una característica, número o cantidad que puede ser medida o contada. Son llamadas 'variables' porque el valor que toman puede variar.  Los siguientes son ejemplos de variables:\n",
    "\n",
    "- Edad (21, 35, 62, ...)\n",
    "- Género (masculino, femenino)\n",
    "- Salario (GBP 20,000, GBP 35,000, GBP 45,000, ...)\n",
    "- Precio inmueble (GBP 350,000, GBP 570,000, ...)\n",
    "- País de nacimiento (China, Rusia, Costa Rica, ...)\n",
    "- Color ojos (negro, verde, azul, ...)\n",
    "- Marca de Vehículo (Ford, Volkswagen, ...)\n",
    "\n",
    "La mayoría de las variables puede ser clasificada en uno de los siguientes grupos:\n",
    "\n",
    "- **Variables Numéricas** \n",
    "- **Variables Categóricas**\n",
    "\n",
    "===================================================================================\n",
    "\n",
    "\n",
    "## Variables Categóricas\n",
    "\n",
    "Los valores de una variable categórica se seleccionan de un grupo de categorías distintas, tambien conocidas como etiquetas. Las variables categóricas pueden ser variables de cadena ( cadenas de caracteres), por ejemplo estado civil (soltero, casado, divorciado o viudo) o variables numéricas que utilizan códigos numéricos para representar categorías (por ejemplo género, 0 = masculino y 1 = femenino).\n",
    "\n",
    "Otros ejemplos incluyen: \n",
    " \n",
    "- Propósito del préstamo (consolidad deudas, compra vehículo, costos boda, ...)\n",
    "- Proveedor de red celular (Vodafone, Orange, ...)\n",
    "- Código Postal \n",
    "\n",
    "Las variables categóricas pueden ser:\n",
    "\n",
    "- **Variables Ordinales**\n",
    "- **Variables Nominales**\n",
    "\n",
    "### Variables Ordinales\n",
    "\n",
    "Variables ordinales son variables categóricas en las cuales sus valores representan categorías con alguna clasificación intrínseca o que toman una escala establecida.  Por ejemplo: \n",
    "\n",
    "- Calificacíon en una evaluación estudiantil (A, B, C o D).\n",
    "- Días de la semana, Lunes = 1 y Domingo = 7.\n",
    "- Nivel de educación, con las categorías: Primaria, Secundaria, Pregrado, Maestría y Doctorado rangos desde 1 a 5\n",
    "\n",
    "\n",
    "### Variables Nominales\n",
    "\n",
    "En una variable nominal, sus valores representan categorías que no obedecen a una clasificación intrínseca o un orden lógico. Por ejemplo, país the nacimiento, con valores como Colombia, Argentina, Inglaterra, Alemania, etc., es nominal. Otros ejemplos de variables nominales include:\n",
    "\n",
    "- Color vehículo (negro, azul, verde, ...)\n",
    "- Marca de Vehículo (Citroen, Peugeot, ...)\n",
    "- Ciudad (Manchester, London, Chester, ...)\n",
    "\n",
    "No hay nada que indique un orden intrínsico en las categorías, y en principio, todas son iguales.\n",
    "\n",
    "**Para considerar:**\n",
    "\n",
    "Algunas variables categóricas estan codificadas como números cuando los datos son generados y guardados (ej. género puede codificado como 0 para masculino y 1 para femenino). La variable sigue siendo categórica, a pesar de que números fueron usados.\n",
    "\n",
    "Igualmente, personas que responden una encuesta pueden ser codificados con un número que los identifica de forma única (por ejemplo para evitar guardar información personal por cuestiones de confidencialidad). Este número es realmente una categoría, y la variable por lo tanto categórica. El número no tiene ningún significado, aparte de hacer posible la identificación única de la observación ( en este caso de la persona encuestada).\n",
    "\n",
    "Idealmente, cuando trabajamos con un conjunto de datos en un escenario de negocios, los datos están acompanados de un diccionario que indica si los ´numero en una variable deben ser considerados como categorías o como valores númericos. Y si los números representan categorías, el diccionario explicaría que representa cada uno de los valores en la variable. \n",
    "\n",
    "=============================================================================\n",
    "\n",
    "## En este demo: Préstamos Peer-to-peer (P2P)\n",
    "\n",
    "En este demo, usaremos datos de la companía financiera especializada en préstamos peer-to-peer llamada **Lending Club** para examinar variables categóricas nominales.\n",
    "\n",
    "- Para descargar los datos, por favor referirse a la sección de **Datos** de la **Clase 1** del curso."
   ]
  },
  {
   "cell_type": "code",
   "execution_count": 1,
   "metadata": {},
   "outputs": [],
   "source": [
    "import pandas as pd\n",
    "\n",
    "import matplotlib.pyplot as plt"
   ]
  },
  {
   "cell_type": "code",
   "execution_count": 2,
   "metadata": {},
   "outputs": [
    {
     "data": {
      "text/html": [
       "<div>\n",
       "<style scoped>\n",
       "    .dataframe tbody tr th:only-of-type {\n",
       "        vertical-align: middle;\n",
       "    }\n",
       "\n",
       "    .dataframe tbody tr th {\n",
       "        vertical-align: top;\n",
       "    }\n",
       "\n",
       "    .dataframe thead th {\n",
       "        text-align: right;\n",
       "    }\n",
       "</style>\n",
       "<table border=\"1\" class=\"dataframe\">\n",
       "  <thead>\n",
       "    <tr style=\"text-align: right;\">\n",
       "      <th></th>\n",
       "      <th>id</th>\n",
       "      <th>home_ownership</th>\n",
       "      <th>loan_status</th>\n",
       "      <th>purpose</th>\n",
       "    </tr>\n",
       "  </thead>\n",
       "  <tbody>\n",
       "    <tr>\n",
       "      <td>131079</td>\n",
       "      <td>5554979</td>\n",
       "      <td>RENT</td>\n",
       "      <td>Current</td>\n",
       "      <td>debt_consolidation</td>\n",
       "    </tr>\n",
       "    <tr>\n",
       "      <td>384935</td>\n",
       "      <td>16552323</td>\n",
       "      <td>OWN</td>\n",
       "      <td>Current</td>\n",
       "      <td>car</td>\n",
       "    </tr>\n",
       "    <tr>\n",
       "      <td>73585</td>\n",
       "      <td>8185454</td>\n",
       "      <td>RENT</td>\n",
       "      <td>Fully Paid</td>\n",
       "      <td>credit_card</td>\n",
       "    </tr>\n",
       "    <tr>\n",
       "      <td>660814</td>\n",
       "      <td>56180166</td>\n",
       "      <td>RENT</td>\n",
       "      <td>Current</td>\n",
       "      <td>debt_consolidation</td>\n",
       "    </tr>\n",
       "    <tr>\n",
       "      <td>349757</td>\n",
       "      <td>16772363</td>\n",
       "      <td>RENT</td>\n",
       "      <td>Current</td>\n",
       "      <td>credit_card</td>\n",
       "    </tr>\n",
       "  </tbody>\n",
       "</table>\n",
       "</div>"
      ],
      "text/plain": [
       "              id home_ownership loan_status             purpose\n",
       "131079   5554979           RENT     Current  debt_consolidation\n",
       "384935  16552323            OWN     Current                 car\n",
       "73585    8185454           RENT  Fully Paid         credit_card\n",
       "660814  56180166           RENT     Current  debt_consolidation\n",
       "349757  16772363           RENT     Current         credit_card"
      ]
     },
     "execution_count": 2,
     "metadata": {},
     "output_type": "execute_result"
    }
   ],
   "source": [
    "# Definición de variables:\n",
    "#-------------------------\n",
    "# loan_status: estado del préstamo (paid (pagado), defaulted (pago no reembolsado), etc)\n",
    "# purpose: propósito/intención de uso del préstamo \n",
    "# home_ownership: si el prestamista es dueño o arrienda la propiedad que habita.\n",
    "\n",
    "use_cols = ['id', 'purpose', 'loan_status', 'home_ownership']\n",
    "\n",
    "# Carguemos los datos con solo unas columnas y unas pocas filas para \n",
    "# facilitar y reducir el tiempo que toma correr el demo.\n",
    "\n",
    "data = pd.read_csv('../loan.csv', usecols=use_cols).sample(\n",
    "    10000, random_state=44)  # fijar la semilla o \"seed\" para poder reproducir resultados\n",
    "\n",
    "data.head()"
   ]
  },
  {
   "cell_type": "code",
   "execution_count": 3,
   "metadata": {},
   "outputs": [
    {
     "data": {
      "text/plain": [
       "array(['RENT', 'OWN', 'MORTGAGE', 'OTHER'], dtype=object)"
      ]
     },
     "execution_count": 3,
     "metadata": {},
     "output_type": "execute_result"
    }
   ],
   "source": [
    "# Examinemos los valores de la variable home_ownership\n",
    "# este es el valor del préstamo requerido por el prestamista\n",
    "# en US dólares americanos\n",
    "\n",
    "# esta variable es continua, y puede en principio tomar cualquier valor\n",
    "# let's inspect the variable home ownership,\n",
    "# si el prestamista posee o arrienda la propiedad que habita\n",
    "\n",
    "data.home_ownership.unique()"
   ]
  },
  {
   "cell_type": "code",
   "execution_count": 4,
   "metadata": {},
   "outputs": [
    {
     "data": {
      "text/plain": [
       "Text(0, 0.5, 'Número de clientes')"
      ]
     },
     "execution_count": 4,
     "metadata": {},
     "output_type": "execute_result"
    },
    {
     "data": {
      "image/png": "[encoded data removed]",
      "text/plain": [
       "<Figure size 432x288 with 1 Axes>"
      ]
     },
     "metadata": {
      "needs_background": "light"
     },
     "output_type": "display_data"
    }
   ],
   "source": [
    "# Creemos un gráfico de barras, con el número de préstamistas\n",
    "# por cada una de las categorías de home_ownership\n",
    "\n",
    "# El siguiente código cuenta el número de observaciones (prestamistas) \n",
    "# en cada una de las categorías y crea un gráfico de barras.\n",
    "\n",
    "fig = data['home_ownership'].value_counts().plot.bar()\n",
    "fig.set_title('Tipo de propietario')\n",
    "fig.set_ylabel('Número de clientes')"
   ]
  },
  {
   "cell_type": "markdown",
   "metadata": {},
   "source": [
    "La mayoría de los prestamistas son dueños de sus casas pero todavia pagan una hipoteca (MORTGAGE) o arriendan la propiedad en la que viven (RENT). Algunos pocos prestamistas son dueños de su casa completamente (OWN). La categoría 'OTHER' parece estar vacía. Para asegurarnos completamente, imprimamos los números:"
   ]
  },
  {
   "cell_type": "code",
   "execution_count": 5,
   "metadata": {},
   "outputs": [
    {
     "data": {
      "text/plain": [
       "MORTGAGE    4957\n",
       "RENT        4055\n",
       "OWN          986\n",
       "OTHER          2\n",
       "Name: home_ownership, dtype: int64"
      ]
     },
     "execution_count": 5,
     "metadata": {},
     "output_type": "execute_result"
    }
   ],
   "source": [
    "data['home_ownership'].value_counts()"
   ]
  },
  {
   "cell_type": "markdown",
   "metadata": {},
   "source": [
    "Hay dos prestamistas que tienen otros acuerdos para la propiedad en la que viven. Por ejemplo, puden vivir con sus padres o en un hotel."
   ]
  },
  {
   "cell_type": "code",
   "execution_count": 6,
   "metadata": {},
   "outputs": [
    {
     "data": {
      "text/plain": [
       "array(['debt_consolidation', 'car', 'credit_card', 'small_business',\n",
       "       'house', 'moving', 'other', 'home_improvement', 'medical',\n",
       "       'major_purchase', 'vacation', 'educational', 'wedding',\n",
       "       'renewable_energy'], dtype=object)"
      ]
     },
     "execution_count": 6,
     "metadata": {},
     "output_type": "execute_result"
    }
   ],
   "source": [
    "# La variable \"purpose\" es otra variable categórica\n",
    "# que indica el propósito/intención de uso del préstamo \n",
    "# por ejemplo para hacer arreglos en la casa or consolidar otras deudas.\n",
    "\n",
    "data.purpose.unique()"
   ]
  },
  {
   "cell_type": "markdown",
   "metadata": {},
   "source": [
    "Exploremos algunos valores:\n",
    "- 'debt_consolidation' préstamo se va a usar consolidar otras deudas previamente adquiridas \n",
    "- 'car' comprar un vehículo\n",
    "- 'home_improvement' mejores/reparaciones en la casa\n",
    "\n",
    "Esto nos da una idea de la intención de uso del préstamo."
   ]
  },
  {
   "cell_type": "code",
   "execution_count": 7,
   "metadata": {},
   "outputs": [
    {
     "data": {
      "text/plain": [
       "Text(0, 0.5, 'Número de clientes')"
      ]
     },
     "execution_count": 7,
     "metadata": {},
     "output_type": "execute_result"
    },
    {
     "data": {
      "image/png": "[encoded data removed]",
      "text/plain": [
       "<Figure size 432x288 with 1 Axes>"
      ]
     },
     "metadata": {
      "needs_background": "light"
     },
     "output_type": "display_data"
    }
   ],
   "source": [
    "# Creemos un gráfico de barras, con el número de préstamistas\n",
    "# por cada una de las categorías\n",
    "\n",
    "# El siguiente código cuenta el número de observaciones (prestamistas) \n",
    "# en cada una de las categorías y crea un gráfico de barras.\n",
    "\n",
    "fig = data['purpose'].value_counts().plot.bar()\n",
    "fig.set_title('Propósito del préstamo')\n",
    "fig.set_ylabel('Número de clientes')"
   ]
  },
  {
   "cell_type": "markdown",
   "metadata": {},
   "source": [
    "La mayoría de los prestamistas tienen la intención de usar el préstamo para consolidar deudas previamente adquiridas 'debt consolidation' o para pagar sus tarjetas de crédito 'credit cards'. Esto es bastante común, ya que los prestamistas prefieren consolidar todas sus deudas en una sola, en este caso usando el préstamo que toman del Lending Club. El préstamo usualmente les da la facilidad de ya sea tasas de interés mas bajas comparadas con las tarjetas de crédito y por ejemplo plazos mas largos para pagar. "
   ]
  },
  {
   "cell_type": "code",
   "execution_count": 8,
   "metadata": {},
   "outputs": [
    {
     "data": {
      "text/plain": [
       "array(['Current', 'Fully Paid', 'Default', 'Charged Off',\n",
       "       'Late (31-120 days)', 'Issued', 'In Grace Period',\n",
       "       'Does not meet the credit policy. Status:Fully Paid',\n",
       "       'Does not meet the credit policy. Status:Charged Off',\n",
       "       'Late (16-30 days)'], dtype=object)"
      ]
     },
     "execution_count": 8,
     "metadata": {},
     "output_type": "execute_result"
    }
   ],
   "source": [
    "# Miremos otra variable categórica loan status\",\n",
    "# que representa el estado del préstamo si esta activo 'current', pagado 'paid', incumplido 'defaulted', etc)\n",
    "# entre otros.\n",
    "\n",
    "data.loan_status.unique()"
   ]
  },
  {
   "cell_type": "code",
   "execution_count": 9,
   "metadata": {},
   "outputs": [
    {
     "data": {
      "text/plain": [
       "Text(0, 0.5, 'Número de clientes')"
      ]
     },
     "execution_count": 9,
     "metadata": {},
     "output_type": "execute_result"
    },
    {
     "data": {
      "image/png": "[encoded data removed]",
      "text/plain": [
       "<Figure size 432x288 with 1 Axes>"
      ]
     },
     "metadata": {
      "needs_background": "light"
     },
     "output_type": "display_data"
    }
   ],
   "source": [
    "# Creemos un gráfico de barras, con el número de préstamistas\n",
    "# por cada una de las categorías\n",
    "\n",
    "fig = data['loan_status'].value_counts().plot.bar()\n",
    "fig.set_title('Estado del préstamo')\n",
    "fig.set_ylabel('Número de clientes')"
   ]
  },
  {
   "cell_type": "markdown",
   "metadata": {},
   "source": [
    "Podemos ver que la mayoría de los préstamos estan todavía activos 'current' y un gran número han sido completamente pagos 'Fully paid'. La siguientes categorías tiene el siguiente significado:\n",
    "\n",
    "- Late (16-30 days): cliente hizo un pago retrasado 16-30 días\n",
    "- Late (31-120 days): cliente esta retrasado en sus pagos mas de un mes (31-120 días)\n",
    "- Charged off: la companía declaró que no será posible recuper el dinero del préstamo \n",
    "- Issued: el préstamo fue concedido pero el dinero no ha sido entregado al prestamista\n",
    "- In Grace Period: ventana de tiempo acordada con el cliente para realizar el siguiente pago, usualmente, cuando el prestamista esta atrasado con sus pagos. "
   ]
  },
  {
   "cell_type": "code",
   "execution_count": 10,
   "metadata": {},
   "outputs": [
    {
     "data": {
      "text/plain": [
       "131079     5554979\n",
       "384935    16552323\n",
       "73585      8185454\n",
       "660814    56180166\n",
       "349757    16772363\n",
       "Name: id, dtype: int64"
      ]
     },
     "execution_count": 10,
     "metadata": {},
     "output_type": "execute_result"
    }
   ],
   "source": [
    "# Para terminar,  miremos a una variable que es numérica \n",
    "# pero cuyos valores no tienen un significado real, se usan mas como identificadores\n",
    "\n",
    "data['id'].head()"
   ]
  },
  {
   "cell_type": "markdown",
   "metadata": {},
   "source": [
    "Cada id representa un cliente. Este número es asignado para identificar\n",
    "el cliente si se necesita, al mismo tiempo, que se asegura confidencialidad y protección de los datos. "
   ]
  },
  {
   "cell_type": "code",
   "execution_count": 11,
   "metadata": {},
   "outputs": [
    {
     "data": {
      "text/plain": [
       "10000"
      ]
     },
     "execution_count": 11,
     "metadata": {},
     "output_type": "execute_result"
    }
   ],
   "source": [
    "# La variable tiene tantos valores (ids) como clientes\n",
    "# en este caso 10,000, \n",
    "\n",
    "# recuerda que inicialmente solamente cargamos 10,000 filas/clientes \n",
    "# del conjunto de datos inicial.\n",
    "\n",
    "len(data['id'].unique())"
   ]
  },
  {
   "cell_type": "markdown",
   "metadata": {
    "collapsed": true
   },
   "source": [
    "\n",
    "**Esto es todo por este demo, esperamos lo hayan disfrutado y nos vemos en el siguiente. **"
   ]
  }
 ],
 "metadata": {
  "kernelspec": {
   "display_name": "feml",
   "language": "python",
   "name": "feml"
  },
  "language_info": {
   "codemirror_mode": {
    "name": "ipython",
    "version": 3
   },
   "file_extension": ".py",
   "mimetype": "text/x-python",
   "name": "python",
   "nbconvert_exporter": "python",
   "pygments_lexer": "ipython3",
   "version": "3.7.3"
  },
  "toc": {
   "nav_menu": {},
   "number_sections": true,
   "sideBar": true,
   "skip_h1_title": false,
   "toc_cell": false,
   "toc_position": {},
   "toc_section_display": "block",
   "toc_window_display": true
  }
 },
 "nbformat": 4,
 "nbformat_minor": 1
}
