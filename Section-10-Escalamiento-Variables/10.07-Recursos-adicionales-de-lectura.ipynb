{
 "cells": [
  {
   "cell_type": "markdown",
   "metadata": {},
   "source": [
    "## Recursos adicionales de lectura\n",
    "\n",
    "### Documentación Sklearn \n",
    "\n",
    "- [Compara el efecto de los diferentes escaladores en datos con valores extremos](http://scikit-learn.org/stable/auto_examples/preprocessing/plot_all_scaling.html#sphx-glr-auto-examples-preprocessing-plot-all-scaling-py)\n",
    "- [Documentación Sklearn para pre-procesamiento y escalamiento de variables](https://scikit-learn.org/stable/modules/preprocessing.html)\n",
    "\n",
    "### Otros blogs y artículos \n",
    "- [Más sobre el escalamiento de las variables y normalización](https://sebastianraschka.com/Articles/2014_about_feature_scaling.html)\n",
    "- [Normalización vs Estandarización — Análisis cuantitativo](https://towardsdatascience.com/normalization-vs-standardization-quantitative-analysis-a91e8a79cebf)\n",
    "- [Puntajes Z: Use & abuso](https://influentialpoints.com/Training/z_scores_use_and_misuse.htm)\n",
    "- [Norma L0, Norma L1, Norma L2  & Norma L-Infinito](https://medium.com/@montjoile/l0-norm-l1-norm-l2-norm-l-infinity-norm-7a7d18a4f40c)"
   ]
  }
 ],
 "metadata": {
  "kernelspec": {
   "display_name": "feml",
   "language": "python",
   "name": "feml"
  },
  "language_info": {
   "codemirror_mode": {
    "name": "ipython",
    "version": 3
   },
   "file_extension": ".py",
   "mimetype": "text/x-python",
   "name": "python",
   "nbconvert_exporter": "python",
   "pygments_lexer": "ipython3",
   "version": "3.8.2"
  },
  "toc": {
   "base_numbering": 1,
   "nav_menu": {},
   "number_sections": true,
   "sideBar": true,
   "skip_h1_title": false,
   "title_cell": "Table of Contents",
   "title_sidebar": "Contents",
   "toc_cell": false,
   "toc_position": {},
   "toc_section_display": "block",
   "toc_window_display": false
  }
 },
 "nbformat": 4,
 "nbformat_minor": 2
}
