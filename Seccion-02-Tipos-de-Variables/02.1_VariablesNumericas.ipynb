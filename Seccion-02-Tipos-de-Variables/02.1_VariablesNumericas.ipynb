{
 "cells": [
  {
   "cell_type": "markdown",
   "metadata": {},
   "source": [
    "## Qué es una variable?\n",
    "\n",
    "Una variable es una característica, número o cantidad que puede ser medida o contada. Son llamadas 'variables' porque el valor que toman puede variar.  Los siguientes son ejemplos de variables:\n",
    "\n",
    "- Edad (21, 35, 62, ...)\n",
    "- Género (masculino, femenino)\n",
    "- Salario (GBP 20,000, GBP 35,000, GBP 45,000, ...)\n",
    "- Precio inmueble (GBP 350,000, GBP 570,000, ...)\n",
    "- País de nacimiento (China, Rusia, Costa Rica, ...)\n",
    "- Color ojos (negro, verde, azul, ...)\n",
    "- Marca de Vehículo (Ford, Volkswagen, ...)\n",
    "\n",
    "La mayoría de las variables pueden ser clasificadas en uno de los siguientes grupos:\n",
    "\n",
    "- **Variables Numéricas** \n",
    "- **Variables Categóricas**\n",
    "\n",
    "===================================================================================\n",
    "\n",
    "## Variables Numéricas\n",
    "\n",
    "Los valores de las variables numéricas son números. Éstas a su vez pueden ser clasificadas: \n",
    "\n",
    "- **Variables discretas** \n",
    "- **Variables continuas**\n",
    "\n",
    "\n",
    "### Variables Discretas\n",
    "\n",
    "En la mayoría de las variables discretas, los valores son números enteros, y los valores que pueden tomar son finitos. Las siguientes son ejemplos de variables discretas:\n",
    "\n",
    "- Número de cuentas bancarias de una persona (1, 4, 7, ...)\n",
    "- Número de mascotas en una familia\n",
    "- Número de hijos en una familia\n",
    "\n",
    "\n",
    "### Variable Continua\n",
    "\n",
    "Las variables continuas pueden tomar cualquier valor dentro de un rango específico. Por ejemplo, el total pagado por un cliente en un supermercado es continuo. El cliente  puede pagar GBP 20.5, GBP 13.10, GBP 83.20 y así sucesivamente. Otros ejemplos de variables continuas son:\n",
    "\n",
    "- Precio del inmueble (en principio, puede tomar cualquier valor) (GBP 350,000, 57,000, 100,000, ...)\n",
    "- Tiempo navegando una página web (3.4 segundos, 5.10 segundos, ...)\n",
    "- Deuda total como porcentaje del salario en el último mes (0.2, 0.001, 0, 0.75, ...)\n",
    "\n",
    "=============================================================================\n",
    "\n",
    "## En este demo: Préstamos Peer-to-peer  (P2P)\n",
    "\n",
    "En este demo, usaremos los datos de una compañía financiera especializada en préstamos peer-to-peer **Lending Club**. Usaremos los datos para examinar variables numéricas ya sean discretas o continuas.\n",
    "\n",
    "- Para descargar los datos, favor referirse a la clase de **Datos** en la **Sección 1** del curso.\n"
   ]
  },
  {
   "cell_type": "code",
   "execution_count": 1,
   "metadata": {},
   "outputs": [],
   "source": [
    "import pandas as pd\n",
    "import numpy as np\n",
    "\n",
    "import matplotlib.pyplot as plt"
   ]
  },
  {
   "cell_type": "code",
   "execution_count": 2,
   "metadata": {},
   "outputs": [
    {
     "data": {
      "text/html": [
       "<div>\n",
       "<style scoped>\n",
       "    .dataframe tbody tr th:only-of-type {\n",
       "        vertical-align: middle;\n",
       "    }\n",
       "\n",
       "    .dataframe tbody tr th {\n",
       "        vertical-align: top;\n",
       "    }\n",
       "\n",
       "    .dataframe thead th {\n",
       "        text-align: right;\n",
       "    }\n",
       "</style>\n",
       "<table border=\"1\" class=\"dataframe\">\n",
       "  <thead>\n",
       "    <tr style=\"text-align: right;\">\n",
       "      <th></th>\n",
       "      <th>loan_amnt</th>\n",
       "      <th>int_rate</th>\n",
       "      <th>annual_inc</th>\n",
       "      <th>loan_status</th>\n",
       "      <th>open_acc</th>\n",
       "      <th>open_il_12m</th>\n",
       "    </tr>\n",
       "  </thead>\n",
       "  <tbody>\n",
       "    <tr>\n",
       "      <th>741765</th>\n",
       "      <td>28000.0</td>\n",
       "      <td>6.24</td>\n",
       "      <td>90000.0</td>\n",
       "      <td>Current</td>\n",
       "      <td>9.0</td>\n",
       "      <td>NaN</td>\n",
       "    </tr>\n",
       "    <tr>\n",
       "      <th>758737</th>\n",
       "      <td>18125.0</td>\n",
       "      <td>15.61</td>\n",
       "      <td>63000.0</td>\n",
       "      <td>Fully Paid</td>\n",
       "      <td>9.0</td>\n",
       "      <td>NaN</td>\n",
       "    </tr>\n",
       "    <tr>\n",
       "      <th>93698</th>\n",
       "      <td>14000.0</td>\n",
       "      <td>21.15</td>\n",
       "      <td>97639.0</td>\n",
       "      <td>Fully Paid</td>\n",
       "      <td>25.0</td>\n",
       "      <td>NaN</td>\n",
       "    </tr>\n",
       "    <tr>\n",
       "      <th>25180</th>\n",
       "      <td>8000.0</td>\n",
       "      <td>7.51</td>\n",
       "      <td>52000.0</td>\n",
       "      <td>Fully Paid</td>\n",
       "      <td>10.0</td>\n",
       "      <td>NaN</td>\n",
       "    </tr>\n",
       "    <tr>\n",
       "      <th>236422</th>\n",
       "      <td>9725.0</td>\n",
       "      <td>19.24</td>\n",
       "      <td>100000.0</td>\n",
       "      <td>Late (16-30 days)</td>\n",
       "      <td>6.0</td>\n",
       "      <td>NaN</td>\n",
       "    </tr>\n",
       "  </tbody>\n",
       "</table>\n",
       "</div>"
      ],
      "text/plain": [
       "        loan_amnt  int_rate  annual_inc        loan_status  open_acc  \\\n",
       "741765    28000.0      6.24     90000.0            Current       9.0   \n",
       "758737    18125.0     15.61     63000.0         Fully Paid       9.0   \n",
       "93698     14000.0     21.15     97639.0         Fully Paid      25.0   \n",
       "25180      8000.0      7.51     52000.0         Fully Paid      10.0   \n",
       "236422     9725.0     19.24    100000.0  Late (16-30 days)       6.0   \n",
       "\n",
       "        open_il_12m  \n",
       "741765          NaN  \n",
       "758737          NaN  \n",
       "93698           NaN  \n",
       "25180           NaN  \n",
       "236422          NaN  "
      ]
     },
     "execution_count": 2,
     "metadata": {},
     "output_type": "execute_result"
    }
   ],
   "source": [
    "# Definición de las variables del set de datos:\n",
    "#-------------------------\n",
    "# loan_amnt: Valor del préstamo\n",
    "# int_rate:  tasa de interés\n",
    "# annual_inc: salario anual \n",
    "# open_acc: número de cuentas bancarias abiertas (más detalles más adelante)\n",
    "# loan_status: estado del préstamo (paid (pagado), defaulted (pago incumplido), etc)\n",
    "# open_il_12m: cuentas abiertas en los últimos 12 meses\n",
    "\n",
    "use_cols = [\n",
    "    'loan_amnt', 'int_rate', 'annual_inc', 'open_acc', 'loan_status',\n",
    "    'open_il_12m'\n",
    "]\n",
    "\n",
    "# Carguemos los datos con solo unas columnas y unas pocas filas para \n",
    "# facilitar y reducir el tiempo que toma correr el demo.\n",
    "\n",
    "data = pd.read_csv('../loan.csv', usecols=use_cols).sample(\n",
    "    10000, random_state=60)  # fijamos la semilla o \"seed\" para poder reproducir resultados\n",
    "\n",
    "data.head()"
   ]
  },
  {
   "cell_type": "markdown",
   "metadata": {},
   "source": [
    "### Variables Continuas"
   ]
  },
  {
   "cell_type": "code",
   "execution_count": 3,
   "metadata": {},
   "outputs": [
    {
     "data": {
      "text/plain": [
       "array([28000., 18125., 14000.,  8000.,  9725., 18000., 12000.,  2500.,\n",
       "       27000.,  5000., 35000.,  7125., 21200., 10200., 16000., 24000.,\n",
       "       22875.,  6500.,  9900.,  3600., 12600., 17450., 24400.,  7875.,\n",
       "       13000.,  9600.,  5125.,  9000.,  6000., 32000.,  5400.,  4750.,\n",
       "       11475.,  1500.,  9650., 12750.,  7750.,  3000.,  2200., 14125.,\n",
       "        7200.,  5675.,  8500., 14700., 20000., 15000.,  8800., 10000.,\n",
       "        7500.,  4375.,  7000., 25000.,  3100.,  4800.,  6400.,  5375.,\n",
       "        4100.,  2300.,  9500., 26650.,  9800., 14400., 24625.,  4000.,\n",
       "        8575.,  2000., 11800., 14500.,  5500., 17200., 13300., 30000.,\n",
       "       11000., 19000.,  9450., 16700.,  9300., 12150., 21000.,  8400.,\n",
       "       12300., 21750., 17000., 12975.,  7725., 10800.,  3500.,  4575.,\n",
       "       14475., 18900.,  9100., 16425., 10150., 17475., 10775., 11500.,\n",
       "        3275.,  2800., 22000.,  7075.,  3250., 10500., 12800.,  4600.,\n",
       "        8300., 16950., 17350., 24725.,  1200., 13700., 15925.,  7600.,\n",
       "       13600., 19025., 13500.,  6650.,  8550.,  2975.,  9700., 20675.,\n",
       "       12700.,  4200.,  6950., 15250.,  3200., 21600., 14750.,  9775.,\n",
       "       24900., 10350., 13825., 15575., 19500., 10625., 10550.,  2400.,\n",
       "       32875., 13450., 13100., 31300., 12675., 19200., 26000.,  2250.,\n",
       "        1000., 34475., 14800.,  8850., 23975.,  9250., 12375., 28500.,\n",
       "       11200.,  7250., 25200.,  2750., 12875., 21125., 28200.,  7450.,\n",
       "        7475., 18750., 16100., 17600., 13200.,  7800., 12050., 16300.,\n",
       "       20975., 15425.,  9750., 24375., 20800.,  7650., 11450.,  1450.,\n",
       "       14200.,  6800.,  5200.,  5825.,  5750., 33425., 16500., 25025.,\n",
       "       15725., 18550., 23000., 15500., 11250.,  6725.,  6300., 16800.,\n",
       "        5600., 18250., 17500., 13475., 22950., 15850., 10400., 20775.,\n",
       "       10725.,  4700., 12250., 20500., 19875., 20525.,  6025., 28625.,\n",
       "        9975., 19725.,  9325., 25875., 16525., 25525., 18350.,  6475.,\n",
       "       20400., 15325., 18450.,  8475., 17275.,  4500.,  5900., 11150.,\n",
       "       29850.,  3850., 26400., 14350.,  3050., 25975., 14375., 14150.,\n",
       "       11625.,  6100.,  8750., 21625., 12500., 27300., 13850., 16625.,\n",
       "       15775., 18500., 15300., 19750.,  8875., 18025., 13800.,  8650.,\n",
       "       24925., 33000., 17050., 12125.,  4025.,  7900., 12450.,  3300.,\n",
       "        6600., 20225., 10900.,  2825., 14950., 13650.,  6450., 10850.,\n",
       "        6250., 19225., 15100., 34875., 33750.,  2275.,  7700., 17175.,\n",
       "       22400., 27200.,  2350., 22650.,  8325., 10700.,  5700.,  1800.,\n",
       "       15200.,  5300., 12825., 25600., 26500.,  6050., 16450.,  5575.,\n",
       "       27850., 25450., 15600.,  6200.,  3825.,  8250., 22100., 14550.,\n",
       "       15875., 33250., 29400., 13625., 19475.,  8700., 12200., 19700.,\n",
       "       24100., 12625.,  9175., 18200.,  3700., 14825., 21725., 20875.,\n",
       "       11225.,  8100., 31700., 13250., 19800.,  9625., 32125., 18825.,\n",
       "       20150., 19375., 29000., 27575., 14075.,  2700.,  3125., 30750.,\n",
       "       16750.,  7575.,  9850., 11550., 15175.,  4725., 11925., 15275.,\n",
       "       17700.,  3625., 14600.,  5100.,  8050., 26125.,  7100., 19600.,\n",
       "       22200., 29175., 12225.,  2450., 11700., 19175., 20700., 33600.,\n",
       "       18475.,  2125., 11075., 31000.,  1600., 14450.,  8200.,  6850.,\n",
       "       22500., 23325., 27975.,  7675.,  1275.,  5275., 11425., 16200.,\n",
       "       31225., 19950., 24500., 16250., 11025.,  8625., 32750.,  3475.,\n",
       "        8675., 24350., 32400., 17975.,  3150., 21250.,  1375., 23675.,\n",
       "       10050., 12175., 23500., 13275., 15050., 12775., 24950.,  5450.,\n",
       "       21400., 28975., 26250., 24575., 15400.,  6075.,  2050., 21800.,\n",
       "       24800.,  6700., 15350.,  4125., 12725., 11400.,  5025.,  7050.,\n",
       "       33500., 25500., 10875., 11325., 10475.,  6275., 31575.,  8950.,\n",
       "       26725., 22250., 14925.,  6775., 19300.,  6375.,  9200.,  9425.,\n",
       "        1925.,  8350., 11975., 28800., 14300., 16225., 19075.,  6625.,\n",
       "        2075., 11850., 19425., 20100.,  3750., 13925., 16775., 34000.,\n",
       "       20475., 21850., 34600., 27450., 27650., 26375.,  4900., 22125.,\n",
       "       10075.,  4825., 12400.,  2725.,  6125., 17575.,  4400.,  9875.,\n",
       "       10425.,  3900., 15975., 12525., 11100., 10100.,  9125.,  2100.,\n",
       "       10750., 17300.,  5550., 22025.,  4525., 18800., 27050., 11825.,\n",
       "       11575., 24825., 11875., 13350.,  6900., 25050.,  4050., 16825.,\n",
       "       13075., 10600.,  1650., 25900., 11650., 21300., 13150.,  6225.,\n",
       "       14650., 11350.,  5800., 26525., 10250., 21675., 26050., 18400.,\n",
       "        9350.,  7400., 20275.,  4250.,  2625., 13050., 14900., 20925.,\n",
       "       21275.,  9925.,  8975., 15900., 16900.,  5950., 17425., 16025.,\n",
       "       10950., 15650., 13675., 11675.,  2650., 31500., 19850., 24450.,\n",
       "       25800., 21350.,  9550., 15450.,  3350., 11300., 19350.,  8450.,\n",
       "        8600.,  2550., 11950., 16150.,  5850., 22800., 11600., 11725.,\n",
       "        9275., 17625., 24025.,  4675., 22425.,  9375., 20125., 15825.,\n",
       "       14425., 31100., 18525., 14275., 28875.,  5150., 29900., 10925.,\n",
       "       29975.,  1575., 29775., 17125.,  7775., 23950., 14675., 33575.,\n",
       "       20425., 23700., 21900., 15700., 25475.,  4350., 16575., 25350.,\n",
       "       17825.,  9950., 15625., 23875., 18600., 23225.,  7850.,  9050.,\n",
       "       20250., 31900., 29375.,  7925., 17325., 10650., 26300., 26750.,\n",
       "       23900.,  5250., 29250., 20725., 18375.,  9225.,  2600., 25075.,\n",
       "        7975., 17775., 21550., 23850., 13950., 13400., 12575., 24700.,\n",
       "       18650., 28700., 22750., 14325., 27550., 33075., 13750.,  4450.,\n",
       "       27500., 17875., 24975., 18950., 19400.,  5975., 26150., 10675.,\n",
       "       22375., 11750., 20625., 18225.,  4325., 34500., 20350., 24650.,\n",
       "       12325., 14575., 22050., 16475., 24875., 16400., 33950., 27600.,\n",
       "        6175., 15525.,  3725., 28750., 28900.,  1100., 13125., 29950.,\n",
       "        6925., 32325., 31825.,  8925., 32625., 20075.,  9525.,  7150.,\n",
       "       14025., 21500., 25725.,  1750., 28100.,  7025., 26600., 22600.,\n",
       "       32350., 23200.,  8125., 26975., 10975., 10450., 12275.,  1400.,\n",
       "       10300., 10225., 20200., 28775., 17650., 22700., 23600., 11900.,\n",
       "        4950., 19275., 15125.,  4175.,  3800., 27525., 21700., 11050.,\n",
       "       10525., 24325., 20375.,  5875., 20025.,  6975., 18700., 30500.,\n",
       "       23075., 23800., 31975., 20950., 20750.,  1625., 18050.,  4275.,\n",
       "       18275., 32275.,  7275., 24250., 34625., 10375., 21650.,  4300.,\n",
       "       18100.,  1675., 17800., 25100., 21150., 21050.,  8425., 21425.,\n",
       "       13325.,  4875.,  7225., 13900., 22925., 20300., 15750., 20550.,\n",
       "        6875.,  5725., 20050., 27100., 34950.,  5925.,  4650.,  1550.,\n",
       "       18925.,  5350., 18150., 26575., 19625., 17400., 26350., 24750.,\n",
       "        7425., 12950., 27075., 25425., 17250., 19125., 13175., 17225.,\n",
       "       32950.,  3225., 27700.,  4550., 33800.,  2900., 31750., 27375.,\n",
       "       12650., 29325.,  1300.,  2950., 14100., 20850., 24525., 34550.,\n",
       "        9675., 16125.,  9400., 12100., 27425., 32500., 22675., 13225.,\n",
       "       14250., 10175., 18975., 13575., 15025.,  8225., 29875., 17950.,\n",
       "        6825., 28250., 14975.,  9825.,  4625., 11525., 26925.,  3550.,\n",
       "       23400., 19675.,  3650., 23100., 19650., 24850.,  7375.,  8150.,\n",
       "        9475.,  4225.,  2325., 27125., 28050., 29575., 15075.,  3075.,\n",
       "       23550., 26100.,  5525.,  3675., 30225.,  7625., 20175., 33125.,\n",
       "       27475.,  7300.,  7550., 22075., 32100., 23375., 11775., 24550.,\n",
       "        6325., 34100., 27150., 20575., 13025., 15950., 12075., 18300.,\n",
       "        3400., 11175., 13375., 33300.,  8075., 29100.,  8275., 12550.,\n",
       "       22325., 21975., 18725., 29450.,  6525., 23750.,  1150., 15225.,\n",
       "        5475., 25925., 15800., 26325., 22450.,  1900., 17525., 26800.,\n",
       "       13525.,  8725.,  8375., 14775.,  3525., 11375., 31150.,  2775.,\n",
       "       26225., 30900.,  7825., 15475., 11125., 18625., 23925.,  2875.,\n",
       "        9150., 23450., 18075., 26200., 25275., 16600.,  3875., 30400.,\n",
       "        6750., 16850., 25700., 22900., 24475., 18575.,  1325., 31200.,\n",
       "        7350., 34225., 31450., 21325.,  6350., 21175., 10275., 13425.])"
      ]
     },
     "execution_count": 3,
     "metadata": {},
     "output_type": "execute_result"
    }
   ],
   "source": [
    "# Examinemos los valores de la variable loan_amnt\n",
    "# este es el valor del préstamo requerido por el prestamista\n",
    "# en dólares americanos\n",
    "\n",
    "# esta variable es continua, y puede en principio tomar cualquier valor\n",
    "\n",
    "data.loan_amnt.unique()"
   ]
  },
  {
   "cell_type": "code",
   "execution_count": 4,
   "metadata": {},
   "outputs": [
    {
     "data": {
      "text/plain": [
       "Text(0, 0.5, 'Número de préstamos')"
      ]
     },
     "execution_count": 4,
     "metadata": {},
     "output_type": "execute_result"
    },
    {
     "data": {
      "image/png": "[encoded data removed]",
      "text/plain": [
       "<Figure size 432x288 with 1 Axes>"
      ]
     },
     "metadata": {
      "needs_background": "light"
     },
     "output_type": "display_data"
    }
   ],
   "source": [
    "# Examinemenos el histograma para familiarizarnos con la\n",
    "# distribución de la variable\n",
    "\n",
    "fig = data.loan_amnt.hist(bins=50)\n",
    "\n",
    "fig.set_title('Valor del préstamo')\n",
    "fig.set_xlabel('Valor del préstamo')\n",
    "fig.set_ylabel('Número de préstamos')"
   ]
  },
  {
   "cell_type": "markdown",
   "metadata": {},
   "source": [
    "Los valores de la variable pueden ser cualquier monto en el rango en el cual típicamente se encuentran los préstamos. Esta es una característica de las variables continuas.\n",
    "\n",
    "**Nota**: Las barras más altas corresponden a los préstamos por valores de 10,000, 15,000, 20,000, and 35,000 USD, indicando que hay más préstamos concedidos por esos montos. Tiene sentido, ya que estos montos son los valores predeterminados de préstamos ofrecidos en la página web de Lending Club. Otros valores menos frecuentes, son 23,000 o 33,000 que son probablemente específicamente solicitados por personas que requieren un monto específico para un propósito en particular.\n"
   ]
  },
  {
   "cell_type": "code",
   "execution_count": 5,
   "metadata": {
    "scrolled": true
   },
   "outputs": [
    {
     "data": {
      "text/plain": [
       "array([ 6.24, 15.61, 21.15,  7.51, 19.24, 12.49,  6.03, 14.99,  9.71,\n",
       "        7.89,  8.18, 18.24, 13.33, 11.99, 16.55, 10.99, 23.83, 18.92,\n",
       "        7.43, 13.67, 17.77, 17.27,  7.26, 18.54, 18.25, 21.18, 13.99,\n",
       "       16.29,  8.39,  8.19, 14.31, 15.31, 12.39, 11.53, 21.67, 14.33,\n",
       "       23.43, 12.29, 12.69, 17.57, 22.99, 21.98, 24.08, 10.49, 13.53,\n",
       "       11.22, 12.05, 18.55, 12.59,  5.32, 11.14, 19.52, 14.65,  6.49,\n",
       "       12.99, 17.86,  9.17, 14.3 , 16.78,  8.67, 14.49, 16.99, 24.99,\n",
       "        6.68, 18.99,  8.9 ,  6.97, 11.67, 12.12, 10.74, 23.99,  7.62,\n",
       "       10.65,  9.25, 15.99,  9.99, 13.35, 11.44,  7.91, 13.49, 13.98,\n",
       "       18.49,  7.12,  7.9 , 12.23, 15.59,  9.67, 15.8 ,  6.89, 13.11,\n",
       "        9.76, 20.99, 19.22,  7.49, 14.64,  5.42, 17.76,  6.62, 16.2 ,\n",
       "       21.99, 12.35, 10.64, 14.98, 13.66, 19.99,  7.88,  6.92, 20.49,\n",
       "       13.18, 11.55, 16.45,  9.8 , 17.56, 21.  ,  9.49,  6.39, 17.97,\n",
       "       22.4 , 10.15, 13.65, 15.1 , 21.6 , 14.85, 13.23,  7.29, 22.45,\n",
       "        8.38, 10.16, 13.79, 24.5 , 15.22, 10.78, 20.2 , 20.5 , 20.89,\n",
       "        6.91, 16.24, 19.19, 14.27,  8.  , 19.89,  8.88, 23.4 , 14.47,\n",
       "       11.48, 14.48, 15.88, 12.42, 14.09, 11.49,  6.99, 13.8 , 23.1 ,\n",
       "       16.  ,  8.94, 25.28, 17.1 , 18.75, 17.14, 16.49,  8.49, 15.7 ,\n",
       "       19.47, 15.41,  6.17, 12.84,  8.59, 21.48, 23.76, 14.35, 10.25,\n",
       "       14.16, 12.88,  7.69, 22.7 , 25.83, 13.68, 19.48, 15.96, 18.85,\n",
       "       12.85, 19.2 , 26.06,  5.93, 11.12, 18.84, 13.47, 16.59, 15.81,\n",
       "       15.95, 19.72, 13.44, 22.95, 10.59, 11.83, 19.05, 23.28, 17.49,\n",
       "       23.5 , 18.2 , 23.7 , 13.05, 24.89, 16.95, 21.97, 15.28, 25.78,\n",
       "       20.31, 11.63, 21.49,  9.32,  7.14, 10.38, 12.53, 13.61, 15.57,\n",
       "       20.8 , 14.22, 13.72, 23.22, 26.77, 25.99, 10.62,  9.88, 12.18,\n",
       "       12.68, 19.97, 22.47, 10.71, 16.35, 13.43, 18.61, 22.15, 11.89,\n",
       "       23.63, 13.85, 17.99, 14.59, 15.65, 21.7 , 14.11, 18.79, 17.93,\n",
       "       11.34, 21.28, 10.75, 16.32,  8.6 , 25.8 , 15.27, 14.96,  7.05,\n",
       "       22.9 , 11.86, 15.58, 20.16,  7.66, 17.58, 14.79, 12.21, 14.12,\n",
       "       11.71, 14.72, 17.88, 25.57, 14.83, 11.36, 14.91, 13.48, 18.43,\n",
       "       10.  , 13.55,  9.91, 19.42, 16.82,  9.62,  6.76, 13.22, 27.31,\n",
       "       18.64,  5.79, 12.87, 22.35, 11.11, 19.69,  9.63, 10.37,  6.54,\n",
       "        7.74, 22.06, 14.46, 15.23, 13.92, 13.06, 20.85, 24.83, 14.74,\n",
       "       25.89, 28.99, 16.77, 15.05,  6.  , 18.17, 20.3 , 18.67, 15.62,\n",
       "       19.04, 16.89, 23.13, 13.57,  9.38, 17.19, 15.77, 10.36, 10.83,\n",
       "       20.25,  5.99, 21.14, 17.34, 10.91, 18.3 , 24.7 , 18.09, 10.96,\n",
       "       12.8 , 19.41, 12.73, 11.58, 28.49, 16.07, 14.26, 15.37, 13.87,\n",
       "       15.2 , 27.88, 22.2 , 12.61,  8.32, 16.69, 12.04])"
      ]
     },
     "execution_count": 5,
     "metadata": {},
     "output_type": "execute_result"
    }
   ],
   "source": [
    "# Hagamos el mismo ejercicio para la variable tasa de interés\n",
    "# Este es el interés cobrado por 'Lending Club' a los prestamistas\n",
    "\n",
    "# esta variable también es continua, y puede tomar en principio cualquier valor\n",
    "# dentro del rango 0%-100%\n",
    "\n",
    "data.int_rate.unique()"
   ]
  },
  {
   "cell_type": "code",
   "execution_count": 6,
   "metadata": {},
   "outputs": [
    {
     "data": {
      "text/plain": [
       "Text(0, 0.5, 'Número de préstamos')"
      ]
     },
     "execution_count": 6,
     "metadata": {},
     "output_type": "execute_result"
    },
    {
     "data": {
      "image/png": "[encoded data removed]",
      "text/plain": [
       "<Figure size 432x288 with 1 Axes>"
      ]
     },
     "metadata": {
      "needs_background": "light"
     },
     "output_type": "display_data"
    }
   ],
   "source": [
    "# Creemos un histograma para familiarizarnos con la \n",
    "# distribución de la variable\n",
    "\n",
    "fig = data.int_rate.hist(bins=30)\n",
    "\n",
    "fig.set_title('Tasa de interés')\n",
    "fig.set_xlabel('Tasa de interés')\n",
    "fig.set_ylabel('Número de préstamos')"
   ]
  },
  {
   "cell_type": "markdown",
   "metadata": {},
   "source": [
    "Podemos ver que los valores de la variable se encuentran en el rango esperado para dicha variable. Los valores corresponden a las tasas de interés cobradas a los prestamistas."
   ]
  },
  {
   "cell_type": "code",
   "execution_count": 7,
   "metadata": {},
   "outputs": [
    {
     "data": {
      "text/plain": [
       "Text(0, 0.5, 'Número de Clientes')"
      ]
     },
     "execution_count": 7,
     "metadata": {},
     "output_type": "execute_result"
    },
    {
     "data": {
      "image/png": "[encoded data removed]",
      "text/plain": [
       "<Figure size 432x288 with 1 Axes>"
      ]
     },
     "metadata": {
      "needs_background": "light"
     },
     "output_type": "display_data"
    }
   ],
   "source": [
    "# Ahora, exploremos el salario anual declarado por cada uno de los clientes\n",
    "\n",
    "# Esta variable es también continua\n",
    "\n",
    "fig = data.annual_inc.hist(bins=100)\n",
    "\n",
    "# para visualizarla mejor, restringiremos \n",
    "# el rango del eje x\n",
    "fig.set_xlim(0, 400000)\n",
    "\n",
    "# Título y leyendas para los ejes.\n",
    "fig.set_title(\"Clientes Salario Anual\")\n",
    "fig.set_xlabel('Salario Anual')\n",
    "fig.set_ylabel('Número de Clientes')"
   ]
  },
  {
   "cell_type": "markdown",
   "metadata": {},
   "source": [
    "La mayoria de los salarios estan concentrados alrededor del rango de 30-70k, con solo unos pocos clientes ganando salarios mayores. Ya que es una variable continua, los valores varian continuamente en el rango de salarios que se encuentran disponibles."
   ]
  },
  {
   "cell_type": "markdown",
   "metadata": {},
   "source": [
    "### Variables Discretas"
   ]
  },
  {
   "cell_type": "markdown",
   "metadata": {},
   "source": [
    "Exploremos la variable \"Número de líneas de crédito abiertas en el expediente de crédito del prestamista\" (open_acc en los datos). Esta variable representa el número total de productos en diferentes líneas de crédito  (por ejemplo tarjetas de crédito, préstamos para carros, hipotecas, etc.) que se conocen del prestamista. Por definición, es una variable discreta, porque el prestamista puede tener 1 tarjeta de crédito, pero no 3.5 tarjetas de crédito. Y en principio, un cliente puede tener solo un número finito de cuentas bancarias."
   ]
  },
  {
   "cell_type": "code",
   "execution_count": 8,
   "metadata": {},
   "outputs": [
    {
     "data": {
      "text/plain": [
       "array([ 9., 25., 10.,  6., 15.,  5.,  7.,  8., 12., 17., 13., 11.,  3.,\n",
       "       19., 16., 18., 20., 21., 22.,  4., 23., 24., 26., 14., 29., 44.,\n",
       "       27., 28., 36., 30.,  2., 35., 42., 32., 38., 37., 33., 46., 34.,\n",
       "       39., 40., 31., 47.,  1., 55., 49., 41.])"
      ]
     },
     "execution_count": 8,
     "metadata": {},
     "output_type": "execute_result"
    }
   ],
   "source": [
    "# Examinemos los valores de la variable \n",
    "\n",
    "# esta es una variable discreta\n",
    "data.open_acc.dropna().unique()"
   ]
  },
  {
   "cell_type": "code",
   "execution_count": 9,
   "metadata": {},
   "outputs": [
    {
     "data": {
      "text/plain": [
       "Text(0, 0.5, 'Número de Clientes')"
      ]
     },
     "execution_count": 9,
     "metadata": {},
     "output_type": "execute_result"
    },
    {
     "data": {
      "image/png": "[encoded data removed]",
      "text/plain": [
       "<Figure size 432x288 with 1 Axes>"
      ]
     },
     "metadata": {
      "needs_background": "light"
     },
     "output_type": "display_data"
    }
   ],
   "source": [
    "# Creemos un histograma para familiarizarnos con la \n",
    "# distribución de la variable\n",
    "\n",
    "fig = data.open_acc.hist(bins=100)\n",
    "\n",
    "# para visualizarla mejor, restringiremos \n",
    "# el rango del eje x\n",
    "fig.set_xlim(0, 30)\n",
    "\n",
    "# Título y leyendas para los ejes.\n",
    "fig.set_title('Número de cuentas abiertas')\n",
    "fig.set_xlabel('Número de cuentas abiertas')\n",
    "fig.set_ylabel('Número de Clientes')"
   ]
  },
  {
   "cell_type": "markdown",
   "metadata": {},
   "source": [
    "Los histogramas de las variables discretas parecen 'quebrados', ya que no todos los valores dentro del rango posible (de la variable) están presentes. Como ya mencionamos, un cliente puede tener 3 tarjetas de crédito, pero no 3.5 tarjetas de créditos.\n",
    "\n",
    "Miremos otro ejemplo de una variable discreta en estos datos: **Número de préstamos a plazos o término fijo, tomados en los últimos 12 meses** (open_il_12m en los datos). Préstamos a plazos son los que al momento de adquirirlos, tienen un periodo fijo y un número de pagos acordados previamente entre el prestamista y la institución de crédito.  Un ejemplo son los préstamos para carros, o préstamos para estudiantes. El prestamista sabe que deberá pagar la deuda con un número fijo de cuotas con un valor predeterminado, por ejemplo $2,000 en 36 meses."
   ]
  },
  {
   "cell_type": "code",
   "execution_count": 10,
   "metadata": {},
   "outputs": [
    {
     "data": {
      "text/plain": [
       "array([nan,  0.,  1.,  4.,  2.,  3.])"
      ]
     },
     "execution_count": 10,
     "metadata": {},
     "output_type": "execute_result"
    }
   ],
   "source": [
    "# Examinemos los valores de la variable\n",
    "\n",
    "data.open_il_12m.unique()"
   ]
  },
  {
   "cell_type": "code",
   "execution_count": 11,
   "metadata": {},
   "outputs": [
    {
     "data": {
      "text/plain": [
       "Text(0, 0.5, 'Número de Prestamistas')"
      ]
     },
     "execution_count": 11,
     "metadata": {},
     "output_type": "execute_result"
    },
    {
     "data": {
      "image/png": "[encoded data removed]",
      "text/plain": [
       "<Figure size 432x288 with 1 Axes>"
      ]
     },
     "metadata": {
      "needs_background": "light"
     },
     "output_type": "display_data"
    }
   ],
   "source": [
    "# Creemos un histograma para familiarizarnos con la \n",
    "# distribución de la variable\n",
    "\n",
    "fig = data.open_il_12m.hist(bins=50)\n",
    "fig.set_title('Número de créditos a término fijo abiertos en los últimos 12 meses')\n",
    "fig.set_xlabel('Número de créditos a término fijo abiertos en los últimos 12 meses')\n",
    "fig.set_ylabel('Número de Prestamistas')"
   ]
  },
  {
   "cell_type": "markdown",
   "metadata": {},
   "source": [
    "La mayoría de los prestamistas no tienen o solo han abierto 1 línea de crédito a termino fijo, con tan solo unos pocos prestamistas con 2 o más."
   ]
  },
  {
   "cell_type": "markdown",
   "metadata": {},
   "source": [
    "### Una variación de las variables discretas: variables binarias\n",
    "\n",
    "Las variables binarias, son variables discretas, que tan solo toman 2 valores, y por lo tanto son binarias.\n",
    "\n",
    "En las próximas celdas, crearemos una variable adicional que capture el número de préstamos que el prestamista ha incumplido en pagar (en inglés 'defaulted') y por lo tanto se considera que el dinero se ha perdido.\n",
    "\n",
    "La variable toma valores de 0 cuando el préstamo está bien, es decir, que los pagos se han hecho regularmente o 1, cuando el prestamista ha confirmado que no podrá pagar más cuotas del préstamo.\n"
   ]
  },
  {
   "cell_type": "code",
   "execution_count": 12,
   "metadata": {},
   "outputs": [
    {
     "data": {
      "text/plain": [
       "array(['Current', 'Fully Paid', 'Late (16-30 days)', 'In Grace Period',\n",
       "       'Charged Off', 'Late (31-120 days)', 'Issued', 'Default',\n",
       "       'Does not meet the credit policy. Status:Fully Paid',\n",
       "       'Does not meet the credit policy. Status:Charged Off'],\n",
       "      dtype=object)"
      ]
     },
     "execution_count": 12,
     "metadata": {},
     "output_type": "execute_result"
    }
   ],
   "source": [
    "# Examinemos los valores de la variable loan_status\n",
    "\n",
    "data.loan_status.unique()"
   ]
  },
  {
   "cell_type": "code",
   "execution_count": 13,
   "metadata": {},
   "outputs": [
    {
     "data": {
      "text/plain": [
       "0.0014"
      ]
     },
     "execution_count": 13,
     "metadata": {},
     "output_type": "execute_result"
    }
   ],
   "source": [
    "# Creemos una variable adicional llamada \"defaulted\".\n",
    "# Esta variable indica si el prestamista ha incumplido con sus pagos y que el dinero\n",
    "# se considera perdido - préstamo no reembolsado\n",
    "\n",
    "data['defaulted'] = np.where(data.loan_status.isin(['Default']), 1, 0)\n",
    "data.defaulted.mean()"
   ]
  },
  {
   "cell_type": "code",
   "execution_count": 14,
   "metadata": {},
   "outputs": [
    {
     "data": {
      "text/html": [
       "<div>\n",
       "<style scoped>\n",
       "    .dataframe tbody tr th:only-of-type {\n",
       "        vertical-align: middle;\n",
       "    }\n",
       "\n",
       "    .dataframe tbody tr th {\n",
       "        vertical-align: top;\n",
       "    }\n",
       "\n",
       "    .dataframe thead th {\n",
       "        text-align: right;\n",
       "    }\n",
       "</style>\n",
       "<table border=\"1\" class=\"dataframe\">\n",
       "  <thead>\n",
       "    <tr style=\"text-align: right;\">\n",
       "      <th></th>\n",
       "      <th>loan_amnt</th>\n",
       "      <th>int_rate</th>\n",
       "      <th>annual_inc</th>\n",
       "      <th>loan_status</th>\n",
       "      <th>open_acc</th>\n",
       "      <th>open_il_12m</th>\n",
       "      <th>defaulted</th>\n",
       "    </tr>\n",
       "  </thead>\n",
       "  <tbody>\n",
       "    <tr>\n",
       "      <th>741765</th>\n",
       "      <td>28000.0</td>\n",
       "      <td>6.24</td>\n",
       "      <td>90000.0</td>\n",
       "      <td>Current</td>\n",
       "      <td>9.0</td>\n",
       "      <td>NaN</td>\n",
       "      <td>0</td>\n",
       "    </tr>\n",
       "    <tr>\n",
       "      <th>758737</th>\n",
       "      <td>18125.0</td>\n",
       "      <td>15.61</td>\n",
       "      <td>63000.0</td>\n",
       "      <td>Fully Paid</td>\n",
       "      <td>9.0</td>\n",
       "      <td>NaN</td>\n",
       "      <td>0</td>\n",
       "    </tr>\n",
       "    <tr>\n",
       "      <th>93698</th>\n",
       "      <td>14000.0</td>\n",
       "      <td>21.15</td>\n",
       "      <td>97639.0</td>\n",
       "      <td>Fully Paid</td>\n",
       "      <td>25.0</td>\n",
       "      <td>NaN</td>\n",
       "      <td>0</td>\n",
       "    </tr>\n",
       "    <tr>\n",
       "      <th>25180</th>\n",
       "      <td>8000.0</td>\n",
       "      <td>7.51</td>\n",
       "      <td>52000.0</td>\n",
       "      <td>Fully Paid</td>\n",
       "      <td>10.0</td>\n",
       "      <td>NaN</td>\n",
       "      <td>0</td>\n",
       "    </tr>\n",
       "    <tr>\n",
       "      <th>236422</th>\n",
       "      <td>9725.0</td>\n",
       "      <td>19.24</td>\n",
       "      <td>100000.0</td>\n",
       "      <td>Late (16-30 days)</td>\n",
       "      <td>6.0</td>\n",
       "      <td>NaN</td>\n",
       "      <td>0</td>\n",
       "    </tr>\n",
       "  </tbody>\n",
       "</table>\n",
       "</div>"
      ],
      "text/plain": [
       "        loan_amnt  int_rate  annual_inc        loan_status  open_acc  \\\n",
       "741765    28000.0      6.24     90000.0            Current       9.0   \n",
       "758737    18125.0     15.61     63000.0         Fully Paid       9.0   \n",
       "93698     14000.0     21.15     97639.0         Fully Paid      25.0   \n",
       "25180      8000.0      7.51     52000.0         Fully Paid      10.0   \n",
       "236422     9725.0     19.24    100000.0  Late (16-30 days)       6.0   \n",
       "\n",
       "        open_il_12m  defaulted  \n",
       "741765          NaN          0  \n",
       "758737          NaN          0  \n",
       "93698           NaN          0  \n",
       "25180           NaN          0  \n",
       "236422          NaN          0  "
      ]
     },
     "execution_count": 14,
     "metadata": {},
     "output_type": "execute_result"
    }
   ],
   "source": [
    "# La nueva variable toma el valor 1 si el prestamista a incumplido\n",
    "\n",
    "data.head()"
   ]
  },
  {
   "cell_type": "markdown",
   "metadata": {},
   "source": [
    "Comparemos las columnas de 'loan_status' y 'defaulted' para confirmar el resultado de la función anterior."
   ]
  },
  {
   "cell_type": "code",
   "execution_count": 15,
   "metadata": {},
   "outputs": [
    {
     "data": {
      "text/html": [
       "<div>\n",
       "<style scoped>\n",
       "    .dataframe tbody tr th:only-of-type {\n",
       "        vertical-align: middle;\n",
       "    }\n",
       "\n",
       "    .dataframe tbody tr th {\n",
       "        vertical-align: top;\n",
       "    }\n",
       "\n",
       "    .dataframe thead th {\n",
       "        text-align: right;\n",
       "    }\n",
       "</style>\n",
       "<table border=\"1\" class=\"dataframe\">\n",
       "  <thead>\n",
       "    <tr style=\"text-align: right;\">\n",
       "      <th></th>\n",
       "      <th>loan_amnt</th>\n",
       "      <th>int_rate</th>\n",
       "      <th>annual_inc</th>\n",
       "      <th>loan_status</th>\n",
       "      <th>open_acc</th>\n",
       "      <th>open_il_12m</th>\n",
       "      <th>defaulted</th>\n",
       "    </tr>\n",
       "  </thead>\n",
       "  <tbody>\n",
       "    <tr>\n",
       "      <th>384190</th>\n",
       "      <td>15000.0</td>\n",
       "      <td>16.99</td>\n",
       "      <td>148000.0</td>\n",
       "      <td>Default</td>\n",
       "      <td>29.0</td>\n",
       "      <td>NaN</td>\n",
       "      <td>1</td>\n",
       "    </tr>\n",
       "    <tr>\n",
       "      <th>390929</th>\n",
       "      <td>5900.0</td>\n",
       "      <td>13.98</td>\n",
       "      <td>35000.0</td>\n",
       "      <td>Default</td>\n",
       "      <td>5.0</td>\n",
       "      <td>NaN</td>\n",
       "      <td>1</td>\n",
       "    </tr>\n",
       "    <tr>\n",
       "      <th>833604</th>\n",
       "      <td>9300.0</td>\n",
       "      <td>21.67</td>\n",
       "      <td>55000.0</td>\n",
       "      <td>Default</td>\n",
       "      <td>8.0</td>\n",
       "      <td>NaN</td>\n",
       "      <td>1</td>\n",
       "    </tr>\n",
       "    <tr>\n",
       "      <th>884540</th>\n",
       "      <td>21675.0</td>\n",
       "      <td>18.54</td>\n",
       "      <td>69000.0</td>\n",
       "      <td>Default</td>\n",
       "      <td>6.0</td>\n",
       "      <td>NaN</td>\n",
       "      <td>1</td>\n",
       "    </tr>\n",
       "    <tr>\n",
       "      <th>829445</th>\n",
       "      <td>11225.0</td>\n",
       "      <td>18.25</td>\n",
       "      <td>49000.0</td>\n",
       "      <td>Default</td>\n",
       "      <td>13.0</td>\n",
       "      <td>NaN</td>\n",
       "      <td>1</td>\n",
       "    </tr>\n",
       "  </tbody>\n",
       "</table>\n",
       "</div>"
      ],
      "text/plain": [
       "        loan_amnt  int_rate  annual_inc loan_status  open_acc  open_il_12m  \\\n",
       "384190    15000.0     16.99    148000.0     Default      29.0          NaN   \n",
       "390929     5900.0     13.98     35000.0     Default       5.0          NaN   \n",
       "833604     9300.0     21.67     55000.0     Default       8.0          NaN   \n",
       "884540    21675.0     18.54     69000.0     Default       6.0          NaN   \n",
       "829445    11225.0     18.25     49000.0     Default      13.0          NaN   \n",
       "\n",
       "        defaulted  \n",
       "384190          1  \n",
       "390929          1  \n",
       "833604          1  \n",
       "884540          1  \n",
       "829445          1  "
      ]
     },
     "execution_count": 15,
     "metadata": {},
     "output_type": "execute_result"
    }
   ],
   "source": [
    "# La nueva variable toma el valor 1 si el prestamista a incumplido\n",
    "\n",
    "data[data.loan_status.isin(['Default'])].head()"
   ]
  },
  {
   "cell_type": "code",
   "execution_count": 16,
   "metadata": {},
   "outputs": [
    {
     "data": {
      "text/plain": [
       "array([0, 1])"
      ]
     },
     "execution_count": 16,
     "metadata": {},
     "output_type": "execute_result"
    }
   ],
   "source": [
    "# Una variable binaria, puede tomar 2 valores. Por ejemplo, \n",
    "# la variable \"defaulted\" que acabamos de crear\n",
    "# toma el valor de uno si los pagos se incumplieron - préstamo no reembolsado (defaulted) (1) \n",
    "# o (0) si no es el caso.\n",
    "\n",
    "data.defaulted.unique()"
   ]
  },
  {
   "cell_type": "code",
   "execution_count": 17,
   "metadata": {},
   "outputs": [
    {
     "data": {
      "text/plain": [
       "Text(0, 0.5, 'Número de préstamos')"
      ]
     },
     "execution_count": 17,
     "metadata": {},
     "output_type": "execute_result"
    },
    {
     "data": {
      "image/png": "[encoded data removed]",
      "text/plain": [
       "<Figure size 432x288 with 1 Axes>"
      ]
     },
     "metadata": {
      "needs_background": "light"
     },
     "output_type": "display_data"
    }
   ],
   "source": [
    "# Creemos un histograma, aunque para una variable binaria no es la mejor opción.\n",
    "\n",
    "fig = data.defaulted.hist()\n",
    "fig.set_xlim(0, 2)\n",
    "fig.set_title('Préstamos no reembolsados')\n",
    "fig.set_xlabel('Número de créditos incumplidos')\n",
    "fig.set_ylabel('Número de préstamos')"
   ]
  },
  {
   "cell_type": "markdown",
   "metadata": {},
   "source": [
    "Podemos ver, que la variable toma 2 valores, 0 y 1, y que la mayoría de los préstamos estan bien (al día con los pagos).\n"
   ]
  },
  {
   "cell_type": "markdown",
   "metadata": {},
   "source": [
    "**Esto es todo por este demo, esperamos lo hayan disfrutado y nos vemos en el siguiente.**"
   ]
  },
  {
   "cell_type": "code",
   "execution_count": null,
   "metadata": {},
   "outputs": [],
   "source": []
  }
 ],
 "metadata": {
  "kernelspec": {
   "display_name": "fe_test",
   "language": "python",
   "name": "fe_test"
  },
  "language_info": {
   "codemirror_mode": {
    "name": "ipython",
    "version": 3
   },
   "file_extension": ".py",
   "mimetype": "text/x-python",
   "name": "python",
   "nbconvert_exporter": "python",
   "pygments_lexer": "ipython3",
   "version": "3.8.2"
  },
  "toc": {
   "base_numbering": 1,
   "nav_menu": {},
   "number_sections": true,
   "sideBar": true,
   "skip_h1_title": false,
   "title_cell": "Table of Contents",
   "title_sidebar": "Contents",
   "toc_cell": false,
   "toc_position": {},
   "toc_section_display": "block",
   "toc_window_display": true
  }
 },
 "nbformat": 4,
 "nbformat_minor": 1
}
