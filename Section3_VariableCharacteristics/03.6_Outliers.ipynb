{
 "cells": [
  {
   "cell_type": "markdown",
   "metadata": {},
   "source": [
    "## Valores atípicos\n",
    "\n",
    "Un valor atípico (o outlier en inglés) es un punto extremo, o significativamente diferente del resto de los datos. \"Un valor atípico es una observación que se desvía tanto de las demas observaciones que hace suponer que estos datos fueron generados con un mecanismo diferernte.\" [D. Hawkins. Identification of Outliers, Chapman and Hall , 1980.]\n",
    "\n",
    "\n",
    "### Se deben eliminar los valores atípicos?\n",
    "\n",
    "Dependiendo del contexto, los valores extremos requiren ya sea un tratamiento especial o ser ignorados completamente. Por ejemplo para las predicciones de ingresos: si picos inusuales de ingresos se observan, es probablemente una buena idea prestarles atención y entender las causas de los picos. De la misma forma, una trasacción atípica en una tarjeta de crédito, es una senal de actividad fraudulenta, que la entidad crediticia desea prevenir. En estos casos, es una buena idea, mirar e investigar en más detalle los valores atípicos.\n",
    "\n",
    "Si estos valores extremos, son introducidos por un error mecánico, error en la toma de los datos o alguna otra razón que no puede generalizarse, es una buena idea eliminar estos valores antes de usarlos para entrenar un modelo. Por qué? Porque algunos algoritmos son muy sensibles a estos valores extremos.\n",
    "\n",
    "\n",
    "### Cuáles modelos de  machine learning susceptibles a los valores atípicos?\n",
    "\n",
    "Algunos modelos de machine learning son más susceptibles a los valores extremos que otros. \n",
    "Por ejemplo random forest o bosque aleatorio y AdaBoost o máquinas de potenciación del gradiente, tienden a lidiar mejor con los valores atípicos; sin embargo, el “ruido” puede afectar los resultados de todos modos.  AdaBoost por ejemplo, pone mayor pesos a los valores atípicos, por lo tanto el modelo generado puede que no sea tan bueno generalizando. Los árboles de decisión tienden a ignorar la presencia de valores extremos cuando crean las ramificaciones. Típicamente, un árbol toma decisiones evaluando si una variable es mayor o igual a cierto umbral  (x >= umbral). Un valor extremo simplemente queda en algun lado de la ramificación, por lo tanto será tratado igual que cualquier otro valor, sin importar su magnitud. A pesar de esto, el impacto de los valores atípicos en estos modelos es menor que en otros, como las regresiones lineales, las regresiones logísticas, los kmeans y los árboles de decisión.\n",
    "\n",
    "Un aspecto que contribuye a la disminución del impacto es que ambos modelos crean muchos sub-modelos. Si cualquiera de los modelos toma un valor atípico como información, entonces otros sub-modelos probablemente no lo harán; por lo tanto, el error se cancela.\n",
    "\n",
    "Un artículo de investigación recientemente publicado sugiere que la Redes Neuronales también son susceptibles a los valores extremos, siempre y cuando su magnitud y desviación sean considerablemente altos. Sin embargo, si el número de valores extremos es alto (>15% como se sugiere en el artículo) podria argumentarse que ya valores atípicos, pero mas bien una representación justa de una variable. Una referencia a este artículo puede ser encontrado en los \"Recursos Adicionales de Lectura\" al final de esta sección.\n",
    "\n",
    "### Cómo se pueden identificar los valores atípicos?\n",
    "\n",
    "El análisis de valores atípicos y la detección de anomalías es un gran campo de investigación enfocado en optimizar métodos y crear nuevos algoritmos para detectar confiablemente dichos valores. En general, lo que buscan es identificar las observaciones con valores atípicos, ya que por ejemplo, son de alto interés, como es el caso de actitividad fraudulenta de las tarjetas de crédito.\n",
    "\n",
    "En este curso, nos enfocaremos en identificar esos valores extremos introducdos por errores mecánicos o errores en la toma de los datos. Estos valores atípicos son de hecho, casos raros en la muestra y por lo tanto pueden ser ignorados/eliminados. En esta sección veremos como identificar estos valores, asi en las siguientes secciones del curso, podemos pre-procesar los datos de manera que usemos las variables que contengan valores atípicos para entrenar modelos de machine learning o aprendizaje continuo.\n",
    "\n",
    "### Análisis de valores extremos\n",
    "\n",
    "La forma más básica para la deteción de valores atípicos es el **Análisis de valores extremos**. La clave de este método es determinar los valores al final de la cola de la distribución estadística de una variable.\n",
    "\n",
    "Si la variable está normalmente distribuida (Gausiana), los valores que caen por fuera de la media más o menos 3 veces la desviación estandard (std) de la variable son considerados valores atípicos o extremos.\n",
    "\n",
    "- valores atípicos o extremos = media +/- 3*std\n",
    "\n",
    "Si la variable tiene una distribución sesgada, el enfoque general es calcular los cuantiles, y luego los rangos entre-cuantiles (IQR por sus siglas en inglés inter-quantile range):\n",
    "\n",
    "- IQR = 75th cuantil - 25th cuantil\n",
    "\n",
    "Un valor atípicolo puede estar por fuera de los siguientes límites inferior y superior:\n",
    "\n",
    "- Límites superior = 75th cuantil + (IQR * 1.5)\n",
    "\n",
    "- Límites inferior = 25th cuantil - (IQR * 1.5)\n",
    "\n",
    "y para los casos extremos:\n",
    "\n",
    "- Límites superior = 75th cuantil + (IQR * 3)\n",
    "\n",
    "- Límites inferior = 25th cuantil - (IQR * 3)\n",
    "\n",
    "\n",
    "\n",
    "## Datos para este notebook: \n",
    "\n",
    "En este demo, usaremos los datos House Prices y Titanic .\n",
    "\n",
    "- Para bajar los datos por favor referirse a la clase sobre **Datos** en la **Sección 1** del curso.\n",
    "\n",
    "También usaremos los datos incluidos en Scikit-learn:\n",
    "\n",
    "### Datos: Boston house prices "
   ]
  },
  {
   "cell_type": "code",
   "execution_count": 8,
   "metadata": {},
   "outputs": [
    {
     "name": "stdout",
     "output_type": "stream",
     "text": [
      ".. _boston_dataset:\n",
      "\n",
      "Boston house prices dataset\n",
      "---------------------------\n",
      "\n",
      "**Data Set Characteristics:**  \n",
      "\n",
      "    :Number of Instances: 506 \n",
      "\n",
      "    :Number of Attributes: 13 numeric/categorical predictive. Median Value (attribute 14) is usually the target.\n",
      "\n",
      "    :Attribute Information (in order):\n",
      "        - CRIM     per capita crime rate by town\n",
      "        - ZN       proportion of residential land zoned for lots over 25,000 sq.ft.\n",
      "        - INDUS    proportion of non-retail business acres per town\n",
      "        - CHAS     Charles River dummy variable (= 1 if tract bounds river; 0 otherwise)\n",
      "        - NOX      nitric oxides concentration (parts per 10 million)\n",
      "        - RM       average number of rooms per dwelling\n",
      "        - AGE      proportion of owner-occupied units built prior to 1940\n",
      "        - DIS      weighted distances to five Boston employment centres\n",
      "        - RAD      index of accessibility to radial highways\n",
      "        - TAX      full-value property-tax rate per $10,000\n",
      "        - PTRATIO  pupil-teacher ratio by town\n",
      "        - B        1000(Bk - 0.63)^2 where Bk is the proportion of blacks by town\n",
      "        - LSTAT    % lower status of the population\n",
      "        - MEDV     Median value of owner-occupied homes in $1000's\n",
      "\n",
      "    :Missing Attribute Values: None\n",
      "\n",
      "    :Creator: Harrison, D. and Rubinfeld, D.L.\n",
      "\n",
      "This is a copy of UCI ML housing dataset.\n",
      "https://archive.ics.uci.edu/ml/machine-learning-databases/housing/\n",
      "\n",
      "\n",
      "This dataset was taken from the StatLib library which is maintained at Carnegie Mellon University.\n",
      "\n",
      "The Boston house-price data of Harrison, D. and Rubinfeld, D.L. 'Hedonic\n",
      "prices and the demand for clean air', J. Environ. Economics & Management,\n",
      "vol.5, 81-102, 1978.   Used in Belsley, Kuh & Welsch, 'Regression diagnostics\n",
      "...', Wiley, 1980.   N.B. Various transformations are used in the table on\n",
      "pages 244-261 of the latter.\n",
      "\n",
      "The Boston house-price data has been used in many machine learning papers that address regression\n",
      "problems.   \n",
      "     \n",
      ".. topic:: References\n",
      "\n",
      "   - Belsley, Kuh & Welsch, 'Regression diagnostics: Identifying Influential Data and Sources of Collinearity', Wiley, 1980. 244-261.\n",
      "   - Quinlan,R. (1993). Combining Instance-Based and Model-Based Learning. In Proceedings on the Tenth International Conference of Machine Learning, 236-243, University of Massachusetts, Amherst. Morgan Kaufmann.\n",
      "\n"
     ]
    }
   ],
   "source": [
    "# Imprimir información Datos Boston\n",
    "from sklearn.datasets import load_boston\n",
    "print(load_boston().DESCR)"
   ]
  },
  {
   "cell_type": "markdown",
   "metadata": {},
   "source": [
    "## En este demo\n",
    "\n",
    "Lograremos:\n",
    "\n",
    "- Identificar los valores atípicos usando el Análisis de valores completos en variables normalmente distribuidas.\n",
    "- Identificar outliers usando análisis de casos completos en variables sesgadas.\n"
   ]
  },
  {
   "cell_type": "code",
   "execution_count": 9,
   "metadata": {},
   "outputs": [],
   "source": [
    "import pandas as pd\n",
    "import numpy as np\n",
    "\n",
    "import matplotlib.pyplot as plt\n",
    "import seaborn as sns\n",
    "\n",
    "#  Q-Q plots\n",
    "import pylab\n",
    "import scipy.stats as stats\n",
    "\n",
    "# boston house dataset \n",
    "from sklearn.datasets import load_boston"
   ]
  },
  {
   "cell_type": "code",
   "execution_count": 10,
   "metadata": {},
   "outputs": [
    {
     "data": {
      "text/html": [
       "<div>\n",
       "<style scoped>\n",
       "    .dataframe tbody tr th:only-of-type {\n",
       "        vertical-align: middle;\n",
       "    }\n",
       "\n",
       "    .dataframe tbody tr th {\n",
       "        vertical-align: top;\n",
       "    }\n",
       "\n",
       "    .dataframe thead th {\n",
       "        text-align: right;\n",
       "    }\n",
       "</style>\n",
       "<table border=\"1\" class=\"dataframe\">\n",
       "  <thead>\n",
       "    <tr style=\"text-align: right;\">\n",
       "      <th></th>\n",
       "      <th>RM</th>\n",
       "      <th>LSTAT</th>\n",
       "      <th>CRIM</th>\n",
       "    </tr>\n",
       "  </thead>\n",
       "  <tbody>\n",
       "    <tr>\n",
       "      <th>0</th>\n",
       "      <td>6.575</td>\n",
       "      <td>4.98</td>\n",
       "      <td>0.00632</td>\n",
       "    </tr>\n",
       "    <tr>\n",
       "      <th>1</th>\n",
       "      <td>6.421</td>\n",
       "      <td>9.14</td>\n",
       "      <td>0.02731</td>\n",
       "    </tr>\n",
       "    <tr>\n",
       "      <th>2</th>\n",
       "      <td>7.185</td>\n",
       "      <td>4.03</td>\n",
       "      <td>0.02729</td>\n",
       "    </tr>\n",
       "    <tr>\n",
       "      <th>3</th>\n",
       "      <td>6.998</td>\n",
       "      <td>2.94</td>\n",
       "      <td>0.03237</td>\n",
       "    </tr>\n",
       "    <tr>\n",
       "      <th>4</th>\n",
       "      <td>7.147</td>\n",
       "      <td>5.33</td>\n",
       "      <td>0.06905</td>\n",
       "    </tr>\n",
       "  </tbody>\n",
       "</table>\n",
       "</div>"
      ],
      "text/plain": [
       "      RM  LSTAT     CRIM\n",
       "0  6.575   4.98  0.00632\n",
       "1  6.421   9.14  0.02731\n",
       "2  7.185   4.03  0.02729\n",
       "3  6.998   2.94  0.03237\n",
       "4  7.147   5.33  0.06905"
      ]
     },
     "execution_count": 10,
     "metadata": {},
     "output_type": "execute_result"
    }
   ],
   "source": [
    "\n",
    "# cargar boston dataset from sklearn\n",
    "boston_dataset = load_boston()\n",
    "\n",
    "# crear dataframe con las variables independientes\n",
    "# Usaremos solamente 3 de las varaibles para el demo\n",
    "\n",
    "boston = pd.DataFrame(boston_dataset.data,\n",
    "                      columns=boston_dataset.feature_names)[[\n",
    "                          'RM', 'LSTAT', 'CRIM'\n",
    "                      ]]\n",
    "\n",
    "\n",
    "boston.head()"
   ]
  },
  {
   "cell_type": "code",
   "execution_count": 11,
   "metadata": {},
   "outputs": [
    {
     "data": {
      "text/html": [
       "<div>\n",
       "<style scoped>\n",
       "    .dataframe tbody tr th:only-of-type {\n",
       "        vertical-align: middle;\n",
       "    }\n",
       "\n",
       "    .dataframe tbody tr th {\n",
       "        vertical-align: top;\n",
       "    }\n",
       "\n",
       "    .dataframe thead th {\n",
       "        text-align: right;\n",
       "    }\n",
       "</style>\n",
       "<table border=\"1\" class=\"dataframe\">\n",
       "  <thead>\n",
       "    <tr style=\"text-align: right;\">\n",
       "      <th></th>\n",
       "      <th>age</th>\n",
       "      <th>fare</th>\n",
       "    </tr>\n",
       "  </thead>\n",
       "  <tbody>\n",
       "    <tr>\n",
       "      <th>0</th>\n",
       "      <td>29.0000</td>\n",
       "      <td>211.3375</td>\n",
       "    </tr>\n",
       "    <tr>\n",
       "      <th>1</th>\n",
       "      <td>0.9167</td>\n",
       "      <td>151.5500</td>\n",
       "    </tr>\n",
       "    <tr>\n",
       "      <th>2</th>\n",
       "      <td>2.0000</td>\n",
       "      <td>151.5500</td>\n",
       "    </tr>\n",
       "    <tr>\n",
       "      <th>3</th>\n",
       "      <td>30.0000</td>\n",
       "      <td>151.5500</td>\n",
       "    </tr>\n",
       "    <tr>\n",
       "      <th>4</th>\n",
       "      <td>25.0000</td>\n",
       "      <td>151.5500</td>\n",
       "    </tr>\n",
       "  </tbody>\n",
       "</table>\n",
       "</div>"
      ],
      "text/plain": [
       "       age      fare\n",
       "0  29.0000  211.3375\n",
       "1   0.9167  151.5500\n",
       "2   2.0000  151.5500\n",
       "3  30.0000  151.5500\n",
       "4  25.0000  151.5500"
      ]
     },
     "execution_count": 11,
     "metadata": {},
     "output_type": "execute_result"
    }
   ],
   "source": [
    "# cargar titanic dataset\n",
    "\n",
    "titanic = pd.read_csv('../titanic.csv',\n",
    "                      usecols=['age', 'fare'])\n",
    "\n",
    "# la variable age tiene valores faltantes, los eliminaremos para el demo\n",
    "titanic.dropna(subset=['age'], inplace=True)\n",
    "\n",
    "titanic.head()"
   ]
  },
  {
   "cell_type": "markdown",
   "metadata": {},
   "source": [
    "## Cómo identificar la distribución de las variables?\n",
    "\n",
    "En variables normalmente distribuidas, los valores atípicos son los valores que están por fuera de la media más o menos una desviación estandard. Si la variable esta sesgada, los valores atípicos se encuentran usando el rango intercuartil. Para decidir cual método utlizar para detectar los valores atípicos, es necesario saber cual es la distribución de los valores de la variable.\n",
    "\n",
    "Para esto se pueden usar gráficos Q-Q y determinar si la variable está normalmente distribuida. Boxplot (diagramas de caja) también se usan para analizar la distribución de una variable y son una herramienta que permite directamente visualizar los valores extremos, así como el primer y tercer cuartil, la mediana, grado de asimetría, etc.\n",
    "\n",
    "Del diagramas de caja se puede fácilmente identificar:\n",
    "\n",
    "- Dentro de la caja una línea indica dónde se encuentra la mediana (segundo cuartil Q2)\n",
    "- Un rectángulo (caja) que indica el rango intercuartil delimitado por el primer y tercer cuartil (Q1 y Q3). \n",
    "- Dos brazos, uno que empieza en el primer cuartil y acaba en el mínimo, y otro que empieza en el tercer cuartil y acaba en el máximo.\n",
    "- Los datos atípicos (o valores extremos) que son los valores por fuera de los brazos.\n",
    "\n",
    "A continuación algunos ejemplos"
   ]
  },
  {
   "cell_type": "code",
   "execution_count": 14,
   "metadata": {},
   "outputs": [],
   "source": [
    "# función para crear un histograma, gráfico Q-Q plot y boxplot\n",
    "\n",
    "\n",
    "def diagnostic_plots(df, variable):\n",
    "    # función toma como argumentos un dataframe (df) and\n",
    "    # la variable\n",
    "\n",
    "    # tamano gráfica\n",
    "    plt.figure(figsize=(16, 4))\n",
    "\n",
    "    # histograma\n",
    "    plt.subplot(1, 3, 1)\n",
    "    sns.distplot(df[variable], bins=30)\n",
    "    plt.title('Histogram')\n",
    "\n",
    "    # gráfica Q-Q \n",
    "    plt.subplot(1, 3, 2)\n",
    "    stats.probplot(df[variable], dist=\"norm\", plot=pylab)\n",
    "    plt.ylabel('RM quantiles')\n",
    "\n",
    "    # diagrama de caja\n",
    "    plt.subplot(1, 3, 3)\n",
    "    sns.boxplot(y=df[variable])\n",
    "    plt.title('Boxplot')\n",
    "\n",
    "    plt.show()"
   ]
  },
  {
   "cell_type": "markdown",
   "metadata": {},
   "source": [
    "### Variable normalmente distribuidas"
   ]
  },
  {
   "cell_type": "code",
   "execution_count": 15,
   "metadata": {},
   "outputs": [
    {
     "data": {
      "image/png": "[encoded data removed]",
      "text/plain": [
       "<Figure size 1152x288 with 3 Axes>"
      ]
     },
     "metadata": {
      "needs_background": "light"
     },
     "output_type": "display_data"
    }
   ],
   "source": [
    "# empecemos con la variable RM del\n",
    "# boston house dataset.\n",
    "# RM es el número promedio de habitaciones por vivienda\n",
    "\n",
    "diagnostic_plots(boston, 'RM')"
   ]
  },
  {
   "cell_type": "markdown",
   "metadata": {},
   "source": [
    "Del histograma y la gráfica Q-Q, podemos ver que la variable RM tiene una distribución aproximadamente Gaussiana. En el gráfico de caja, vemos que hay algunos valores extremos que son los puntos que estan por fuera de los brazos, en ambas colas de la distribución.\n"
   ]
  },
  {
   "cell_type": "code",
   "execution_count": 17,
   "metadata": {},
   "outputs": [
    {
     "data": {
      "image/png": "[encoded data removed]",
      "text/plain": [
       "<Figure size 1152x288 with 3 Axes>"
      ]
     },
     "metadata": {
      "needs_background": "light"
     },
     "output_type": "display_data"
    }
   ],
   "source": [
    "# Exploremos la variable Age del titanic dataset\n",
    "# edad de los pasajeros a bordo del titanic\n",
    "\n",
    "diagnostic_plots(titanic, 'age')"
   ]
  },
  {
   "cell_type": "markdown",
   "metadata": {},
   "source": [
    "Del histograma y la gráfica Q-Q, podemos ver que la distribución de la variable se aproxima a la Gaussiana. Hay una desviación en los valores menos de edad. En la gráfica de caja, podemos ver que la variable tiene algunos valores extremos por fuera de los brazos de la gráfica ( a la derecha de la distribución - extremo superior del boxplot).\n",
    "\n",
    "### Variables Sesgadas"
   ]
  },
  {
   "cell_type": "code",
   "execution_count": 19,
   "metadata": {},
   "outputs": [
    {
     "data": {
      "image/png": "[encoded data removed]",
      "text/plain": [
       "<Figure size 1152x288 with 3 Axes>"
      ]
     },
     "metadata": {
      "needs_background": "light"
     },
     "output_type": "display_data"
    }
   ],
   "source": [
    "# variable LSTAT del boston house dataset\n",
    "\n",
    "diagnostic_plots(boston, 'LSTAT')"
   ]
  },
  {
   "cell_type": "markdown",
   "metadata": {},
   "source": [
    "LSTAT no está normally distribuida, de hecho vemos que está sesgada con una cola hacia la derecha. Según el gráfico de caja, hay algunos valores extremos a la derecha o final de la distribución de la variable.\n"
   ]
  },
  {
   "cell_type": "code",
   "execution_count": 20,
   "metadata": {},
   "outputs": [
    {
     "data": {
      "image/png": "[encoded data removed]",
      "text/plain": [
       "<Figure size 1152x288 with 3 Axes>"
      ]
     },
     "metadata": {
      "needs_background": "light"
     },
     "output_type": "display_data"
    }
   ],
   "source": [
    "# variable CRIM del boston house dataset\n",
    "# CRIM es la tasa de crimem per capita por ciudad\n",
    "\n",
    "diagnostic_plots(boston, 'CRIM')"
   ]
  },
  {
   "cell_type": "markdown",
   "metadata": {},
   "source": [
    "CRIM está altamente sesgada hacia la derecha. Parece que hay bastantes valores atípicos hacia el extremo derecho de la distrubución (se observa del histograma y el gráfico de caja)."
   ]
  },
  {
   "cell_type": "code",
   "execution_count": 23,
   "metadata": {},
   "outputs": [
    {
     "name": "stderr",
     "output_type": "stream",
     "text": [
      "/Users/natisangarita/python/courses/feml/lib/python3.7/site-packages/numpy/lib/histograms.py:746: RuntimeWarning: invalid value encountered in greater_equal\n",
      "  keep = (tmp_a >= first_edge)\n",
      "/Users/natisangarita/python/courses/feml/lib/python3.7/site-packages/numpy/lib/histograms.py:747: RuntimeWarning: invalid value encountered in less_equal\n",
      "  keep &= (tmp_a <= last_edge)\n",
      "/Users/natisangarita/python/courses/feml/lib/python3.7/site-packages/statsmodels/nonparametric/kde.py:447: RuntimeWarning: invalid value encountered in greater\n",
      "  X = X[np.logical_and(X > clip[0], X < clip[1])] # won't work for two columns.\n",
      "/Users/natisangarita/python/courses/feml/lib/python3.7/site-packages/statsmodels/nonparametric/kde.py:447: RuntimeWarning: invalid value encountered in less\n",
      "  X = X[np.logical_and(X > clip[0], X < clip[1])] # won't work for two columns.\n"
     ]
    },
    {
     "data": {
      "image/png": "[encoded data removed]",
      "text/plain": [
       "<Figure size 1152x288 with 3 Axes>"
      ]
     },
     "metadata": {
      "needs_background": "light"
     },
     "output_type": "display_data"
    },
    {
     "data": {
      "text/plain": [
       "Index(['age', 'fare'], dtype='object')"
      ]
     },
     "execution_count": 23,
     "metadata": {},
     "output_type": "execute_result"
    }
   ],
   "source": [
    "# variable Fare del titanic dataset\n",
    "# Fare es el precio que pagó cada pasajero por su tiquete \n",
    "\n",
    "diagnostic_plots(titanic, 'fare')\n"
   ]
  },
  {
   "cell_type": "markdown",
   "metadata": {},
   "source": [
    "La distribución de la variable Fare tambien esta bastante sesgada y muestra valores inusuales a la derecha ( final) de la distribución.\n",
    "\n",
    "En las próximas celdas, vamos a identificar los valores extremos usando la media y la desviación estandar de las variables RM y Age del los datasets Boston y Titanic. Luego vamos a usar los rangos inter-cuantiles para identificar los valores extremos de las variables LSTAT y CRIM del boston dataset.\n",
    "\n",
    "### Complete case analysis for Normally distributed variables"
   ]
  },
  {
   "cell_type": "code",
   "execution_count": 24,
   "metadata": {},
   "outputs": [],
   "source": [
    "# función para encontrar los límites inferiores y superiores\n",
    "# para variables normalmente distribuidas\n",
    "\n",
    "def find_normal_boundaries(df, variable):\n",
    "\n",
    "    # Calcular los límites para los valores extremos\n",
    "    \n",
    "    upper_boundary = df[variable].mean() + 3 * df[variable].std()\n",
    "    lower_boundary = df[variable].mean() - 3 * df[variable].std()\n",
    "\n",
    "    return upper_boundary, lower_boundary"
   ]
  },
  {
   "cell_type": "code",
   "execution_count": 25,
   "metadata": {},
   "outputs": [
    {
     "data": {
      "text/plain": [
       "(8.392485817597748, 4.176782957105809)"
      ]
     },
     "execution_count": 25,
     "metadata": {},
     "output_type": "execute_result"
    }
   ],
   "source": [
    "# calcular los límites para RM \n",
    "upper_boundary, lower_boundary = find_normal_boundaries(boston, 'RM')\n",
    "upper_boundary, lower_boundary"
   ]
  },
  {
   "cell_type": "markdown",
   "metadata": {},
   "source": [
    "Podemos concluir que los valores mayores de 8.4 o menores de 4.2 no son comunes para RM y por lo tanto se pueden considerar como outliers o valores atípicos.\n"
   ]
  },
  {
   "cell_type": "code",
   "execution_count": 26,
   "metadata": {},
   "outputs": [
    {
     "name": "stdout",
     "output_type": "stream",
     "text": [
      "Número total de casas: 506\n",
      "Casas con mas de 8.4 habitaciones (extremo derecho de los valores atípicos): 4\n",
      "Casas con mas de 4.2 habitaciones (extremo izquierdo de los valores atípicos): 4\n",
      "\n",
      "% extremo derecho de los valores atípicos: 0.007905138339920948\n",
      "% extremo izquierdo de los valores atípicoss: 0.007905138339920948\n"
     ]
    }
   ],
   "source": [
    "# exploremos el número y el porcentage de los valores extremos para RM\n",
    "\n",
    "print('Número total de casas: {}'.format(len(boston)))\n",
    "\n",
    "print('Casas con mas de 8.4 habitaciones (extremo derecho de los valores atípicos): {}'.format(\n",
    "    len(boston[boston['RM'] > upper_boundary])))\n",
    "\n",
    "print('Casas con mas de 4.2 habitaciones (extremo izquierdo de los valores atípicos): {}'.format(\n",
    "    len(boston[boston['RM'] < lower_boundary])))\n",
    "print()\n",
    "print('% extremo derecho de los valores atípicos: {}'.format(\n",
    "    len(boston[boston['RM'] > upper_boundary]) / len(boston)))\n",
    "\n",
    "print('% extremo izquierdo de los valores atípicoss: {}'.format(\n",
    "    len(boston[boston['RM'] < lower_boundary]) / len(boston)))"
   ]
  },
  {
   "cell_type": "markdown",
   "metadata": {},
   "source": [
    "Usando el análisis de valore sextremos podemos identificar los valores atípicos en ambos extremos de la distribuión de RM; el porcentage is pequeno (1.4% considerando ambos extremos).\n",
    "\n",
    "Continuemos con la variable Age del titanic dataset."
   ]
  },
  {
   "cell_type": "code",
   "execution_count": 28,
   "metadata": {},
   "outputs": [
    {
     "data": {
      "text/plain": [
       "(73.1216336121991, -13.359364587342501)"
      ]
     },
     "execution_count": 28,
     "metadata": {},
     "output_type": "execute_result"
    }
   ],
   "source": [
    "# calculemos los límites de Age en el titanic\n",
    "\n",
    "upper_boundary, lower_boundary = find_normal_boundaries(titanic, 'age')\n",
    "upper_boundary, lower_boundary"
   ]
  },
  {
   "cell_type": "markdown",
   "metadata": {},
   "source": [
    "El límite superior es 73 años: lo cual significa que los pasajeros mayores eran muy pocos. El límite inferior es negativo, y como edades negativas no existen, solo buscaremos valores extremos usando el límite superior.\n"
   ]
  },
  {
   "cell_type": "code",
   "execution_count": 29,
   "metadata": {},
   "outputs": [
    {
     "name": "stdout",
     "output_type": "stream",
     "text": [
      "Pasajeros totales: 1046\n",
      "Pasajeros mayores de  73 años: 3\n",
      "\n",
      "% Pasajeros mayores de  73 años: 0.0028680688336520078\n"
     ]
    }
   ],
   "source": [
    "# Número y porcentage de valores extremos\n",
    "\n",
    "print('Pasajeros totales: {}'.format(len(titanic)))\n",
    "\n",
    "print('Pasajeros mayores de  73 años: {}'.format(\n",
    "    len(titanic[titanic['age'] > upper_boundary])))\n",
    "print()\n",
    "print('% Pasajeros mayores de  73 años: {}'.format(\n",
    "    len(titanic[titanic['age'] > upper_boundary]) / len(titanic)))"
   ]
  },
  {
   "cell_type": "markdown",
   "metadata": {},
   "source": [
    "Habían dos pasajeros mayores 73 años a bordo del Titanic, que pueden considerarse como valores atípicos, ya que la mayoría de la población era mucho mas joven.\n"
   ]
  },
  {
   "cell_type": "markdown",
   "metadata": {},
   "source": [
    "### Análisis completo de casos para las variables sesgadas. \n"
   ]
  },
  {
   "cell_type": "code",
   "execution_count": 30,
   "metadata": {},
   "outputs": [],
   "source": [
    "# función para encontrar los límites inferiores y superiores\n",
    "# para variables sesgadas \n",
    "\n",
    "\n",
    "def find_skewed_boundaries(df, variable, distance):\n",
    "\n",
    "    # Calcular los límites para los valores extremos\n",
    "\n",
    "    # distance es un argumento y da la opción de \n",
    "    # estimar 1.5 o 3 veces el IQR para calcular los límites\n",
    "\n",
    "    IQR = df[variable].quantile(0.75) - df[variable].quantile(0.25)\n",
    "\n",
    "    lower_boundary = df[variable].quantile(0.25) - (IQR * distance)\n",
    "    upper_boundary = df[variable].quantile(0.75) + (IQR * distance)\n",
    "\n",
    "    return upper_boundary, lower_boundary"
   ]
  },
  {
   "cell_type": "code",
   "execution_count": 31,
   "metadata": {},
   "outputs": [
    {
     "data": {
      "text/plain": [
       "(31.962500000000006, -8.057500000000005)"
      ]
     },
     "execution_count": 31,
     "metadata": {},
     "output_type": "execute_result"
    }
   ],
   "source": [
    "# mirando los valores extremos\n",
    "# usando la regla de proximidad de \n",
    "# intercuantiles: IQR * 1.5\n",
    "\n",
    "# para LSTAT en el boston house dataset\n",
    "\n",
    "upper_boundary, lower_boundary = find_skewed_boundaries(boston, 'LSTAT', 1.5)\n",
    "upper_boundary, lower_boundary"
   ]
  },
  {
   "cell_type": "code",
   "execution_count": 32,
   "metadata": {},
   "outputs": [
    {
     "name": "stdout",
     "output_type": "stream",
     "text": [
      "total casas: 506\n",
      "casas con LSTAT más de 32%: 7\n",
      "\n",
      "% casas con LSTAT mayor que 32%: 0.01383399209486166\n"
     ]
    }
   ],
   "source": [
    "# miremos el número y porcentage de valores extremos \n",
    "# para LSTAT\n",
    "\n",
    "# recordemos que LSTAT es el porcentage de estratos bajos de la población\n",
    "\n",
    "print('total casas: {}'.format(len(boston)))\n",
    "\n",
    "print('casas con LSTAT más de 32%: {}'.format(\n",
    "    len(boston[boston['LSTAT'] > upper_boundary])))\n",
    "print()\n",
    "print('% casas con LSTAT mayor que 32%: {}'.format(\n",
    "    len(boston[boston['LSTAT'] > upper_boundary])/len(boston)))"
   ]
  },
  {
   "cell_type": "markdown",
   "metadata": {},
   "source": [
    "El límite superior muestra un valor de ~32%. El límite inferior es negativo, LSTAT not tiene valores negativos. Asi que usaremos el limite superior.\n",
    "\n",
    "Vemos que hay 7 casas, 1.3 % del conjunto total de datos, que tienen valores extremos para LSTAT"
   ]
  },
  {
   "cell_type": "code",
   "execution_count": 33,
   "metadata": {},
   "outputs": [
    {
     "data": {
      "text/plain": [
       "(14.462195000000001, -10.7030675)"
      ]
     },
     "execution_count": 33,
     "metadata": {},
     "output_type": "execute_result"
    }
   ],
   "source": [
    "# Para los valores extremos, \n",
    "# usando la regla de proximidad de \n",
    "# intercuantiles: IQR * 3\n",
    "\n",
    "upper_boundary, lower_boundary = find_skewed_boundaries(boston, 'CRIM', 3)\n",
    "upper_boundary, lower_boundary"
   ]
  },
  {
   "cell_type": "code",
   "execution_count": 34,
   "metadata": {},
   "outputs": [
    {
     "name": "stdout",
     "output_type": "stream",
     "text": [
      "número total de casas: 506\n",
      "casas con CRIM mayor a 14 : 30\n",
      "\n",
      "% casas con CRIM mayor a 14: 0.05928853754940711\n"
     ]
    }
   ],
   "source": [
    "# miremos el número y porcentage de valores extremos \n",
    "# para CRIM\n",
    "\n",
    "print('número total de casas: {}'.format(len(boston)))\n",
    "\n",
    "print('casas con CRIM mayor a 14 : {}'.format(\n",
    "    len(boston[boston['CRIM'] > upper_boundary])))\n",
    "print()\n",
    "print('% casas con CRIM mayor a 14: {}'.format(\n",
    "    len(boston[boston['CRIM'] > upper_boundary]) / len(boston)))"
   ]
  },
  {
   "cell_type": "markdown",
   "metadata": {},
   "source": [
    "Cuando usamos 3 veces el rango intercuantil para encontrar los valores extremos, vemos que ~6% de las casas tienen una tasa alta de crimen. Para CRIM también el límite inferior es negativo, por lo tanto solo usaremos el límite superior.\n"
   ]
  },
  {
   "cell_type": "markdown",
   "metadata": {
    "collapsed": true
   },
   "source": [
    "** Es todo por este demo. Esperamos lo hayan disfrutado y nos vemos en el siguiente.**"
   ]
  }
 ],
 "metadata": {
  "kernelspec": {
   "display_name": "feml",
   "language": "python",
   "name": "feml"
  },
  "language_info": {
   "codemirror_mode": {
    "name": "ipython",
    "version": 3
   },
   "file_extension": ".py",
   "mimetype": "text/x-python",
   "name": "python",
   "nbconvert_exporter": "python",
   "pygments_lexer": "ipython3",
   "version": "3.7.3"
  },
  "toc": {
   "base_numbering": 1,
   "nav_menu": {},
   "number_sections": true,
   "sideBar": true,
   "skip_h1_title": false,
   "title_cell": "Table of Contents",
   "title_sidebar": "Contents",
   "toc_cell": false,
   "toc_position": {},
   "toc_section_display": "block",
   "toc_window_display": true
  }
 },
 "nbformat": 4,
 "nbformat_minor": 1
}
