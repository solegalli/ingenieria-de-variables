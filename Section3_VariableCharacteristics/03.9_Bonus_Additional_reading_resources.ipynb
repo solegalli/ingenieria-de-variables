{
 "cells": [
  {
   "cell_type": "markdown",
   "metadata": {},
   "source": [
    "## Bonus: Additional reading resources on variable problems\n",
    "\n",
    "\n",
    "### Overview on Variable Problems\n",
    "\n",
    "- [Identifying common Data Mining Mistakes by SAS](https://www.mwsug.org/proceedings/2007/saspres/MWSUG-2007-SAS01.pdf)\n",
    "\n",
    "\n",
    "### Missing data:\n",
    "\n",
    "- [Missing data imputation, chapter 25](http://www.stat.columbia.edu/~gelman/arm/missing.pdf)\n",
    "\n",
    "\n",
    "\n",
    "### Linear and non-linear models\n",
    "\n",
    "- [An introduction to Statistical Learning](http://www-bcf.usc.edu/~gareth/ISL/ISLR%20First%20Printing.pdf)\n",
    "- [Elements of Statistical Learning](http://www-bcf.usc.edu/~gareth/ISL/ISLR%20First%20Printing.pdf)\n",
    "\n",
    "\n",
    "### Q-Q Plots\n",
    "\n",
    "- [Q-Q Plots in wiki](https://en.wikipedia.org/wiki/Q%E2%80%93Q_plot)\n",
    "- [How to interpret a Q-Q plot](https://en.wikipedia.org/wiki/Q%E2%80%93Q_plot)\n",
    "- [Q-Q Plot visualisation tool](https://xiongge.shinyapps.io/QQplots/)\n",
    "\n",
    "\n",
    "### Outliers:\n",
    "\n",
    "- [Why is AdaBoost algorithm sensitive to noisy data and outliers?](https://www.quora.com/Why-is-AdaBoost-algorithm-sensitive-to-noisy-data-and-outliers-And-how)\n",
    "- [Why is Logistic Regression robust to outliers compared to least squares?](https://www.quora.com/Why-is-logistic-regression-considered-robust-to-outliers-compared-to-a-least-square-method)\n",
    "- [Can Logistic Regression be considered robust to outliers?](https://www.quora.com/Can-Logistic-Regression-be-considered-robust-to-outliers)\n",
    "- [The Effects of Outlier Data on Neural Networks Performance](https://www.researchgate.net/profile/Azme_Khamis/publication/26568300_The_Effects_of_Outliers_Data_on_Neural_Network_Performance/links/564802c908ae54697fbc10de/The-Effects-of-Outliers-Data-on-Neural-Network-Performance.pdf)\n",
    "- [Outlier Analysis by C. Aggarwal](http://charuaggarwal.net/outlierbook.pdf)\n",
    "\n",
    "\n",
    "### Further reading on the importance of feature scaling\n",
    "\n",
    "- [Should I normalize/standardize/rescale the data?](http://www.faqs.org/faqs/ai-faq/neural-nets/part2/section-16.html)\n",
    "- [Efficient BackProp by Yann LeCun](http://yann.lecun.com/exdb/publis/pdf/lecun-98b.pdf)\n",
    "- [Standardization and Its Effects on K -Means Clustering Algorithm](http://maxwellsci.com/print/rjaset/v6-3299-3303.pdf)\n",
    "- [Feature scaling in support vector data description](http://rduin.nl/papers/asci_02_occ.pdf)\n",
    "\n",
    "\n",
    "### Overview and Comparison of Machine Learning Algorithms\n",
    "\n",
    "- [Top 10 Machine Learning Algorithms](https://www.dezyre.com/article/top-10-machine-learning-algorithms/202)\n",
    "- [Choosing the Right Algorithm for Machine Learning](http://www.dummies.com/programming/big-data/data-science/choosing-right-algorithm-machine-learning/)\n",
    "- [Why does Gradient boosting work so well for so many Kaggle problems?](https://www.quora.com/Why-does-Gradient-boosting-work-so-well-for-so-many-Kaggle-problems)\n",
    "\n",
    "\n",
    "### Kaggle kernels:\n",
    "\n",
    "#### Titanic Dataset\n",
    "\n",
    "- [Exploring Survival on the Titanic](https://www.kaggle.com/mrisdal/exploring-survival-on-the-titanic)\n",
    "- [Titanic Data Science Solutions](https://www.kaggle.com/startupsci/titanic-data-science-solutions/notebook)\n",
    "\n",
    "\n",
    "#### Kaggle kernels on the Sale Price dataset\n",
    "\n",
    "- [Comprehensive Data Exploration](https://www.kaggle.com/pmarcelino/comprehensive-data-exploration-with-python)"
   ]
  },
  {
   "cell_type": "code",
   "execution_count": null,
   "metadata": {
    "collapsed": true
   },
   "outputs": [],
   "source": []
  }
 ],
 "metadata": {
  "kernelspec": {
   "display_name": "Python 3",
   "language": "python",
   "name": "python3"
  },
  "language_info": {
   "codemirror_mode": {
    "name": "ipython",
    "version": 3
   },
   "file_extension": ".py",
   "mimetype": "text/x-python",
   "name": "python",
   "nbconvert_exporter": "python",
   "pygments_lexer": "ipython3",
   "version": "3.7.3"
  },
  "toc": {
   "base_numbering": 1,
   "nav_menu": {},
   "number_sections": true,
   "sideBar": true,
   "skip_h1_title": false,
   "title_cell": "Table of Contents",
   "title_sidebar": "Contents",
   "toc_cell": false,
   "toc_position": {},
   "toc_section_display": "block",
   "toc_window_display": false
  }
 },
 "nbformat": 4,
 "nbformat_minor": 2
}
