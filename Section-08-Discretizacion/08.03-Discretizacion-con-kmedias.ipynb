{
 "cells": [
  {
   "cell_type": "markdown",
   "metadata": {},
   "source": [
    "## Discretización usando agrupación K- medias\n",
    "\n",
    "\n",
    "Este método de discretización consiste en aplicar la agrupación k-medias a la variable continua para estimar los limites de los intervalos que se van a usar para el proceso de discretización. \n",
    "\n",
    "El algoritmo funciona así:\n",
    "\n",
    "- 1) Inicialización: creación aleatoria de los k centros \n",
    "- 2) Cada observación está asociada con el centro más cercano \n",
    "- 3) La posición de cada centro se recalcula como el centro de las observaciones asociadas\n",
    "\n",
    "Los pasos 2 y 3 se repiten hasta que el algoritmo converge. El algoritmo minimiza la diferencia de la desviación de cada observación con el centro del mismo grupo.\n",
    "\n",
    "Más detalles sobre k-medias [aquí](https://es.wikipedia.org/wiki/K-medias)\n",
    "\n",
    "Un blog en inglés donde encontrarás explicación gráfica del k-medias [aquí](https://towardsdatascience.com/how-does-k-means-clustering-in-machine-learning-work-fdaaaf5acfa0) \n",
    "\n",
    "El usuario necesita definir el número de grupos, al igual que en la discretización en intervalos igual rango y frecuencia.\n",
    "\n",
    "## Opinión de las instructoras\n",
    "\n",
    "Personalmente no vemos cómo esta técnica es diferente de la discretización de segmentos de igual rango, cuando las variables son continuas en un rango de valores. Potencialmente haría diferencia si los valores estuviesen agrupados o aglomerados en centros reales.\n",
    "\n",
    "\n",
    "Nuestra recomendación es, a no ser que tengas razones para creer que los valores de la variable están agrupados en centros,  que uses la discretización con intervalos de igual rango como una alternativa a este método.\n",
    "\n",
    "\n",
    "## En este demo\n",
    "\n",
    "Aprenderás cómo discretizar variables con el método k-medias usando los datos del Titanic y Scikit-learn"
   ]
  },
  {
   "cell_type": "markdown",
   "metadata": {},
   "source": [
    "## Titanic dataset"
   ]
  },
  {
   "cell_type": "code",
   "execution_count": 2,
   "metadata": {},
   "outputs": [],
   "source": [
    "import pandas as pd\n",
    "import numpy as np\n",
    "\n",
    "import matplotlib.pyplot as plt\n",
    "\n",
    "from sklearn.model_selection import train_test_split\n",
    "\n",
    "from sklearn.preprocessing import KBinsDiscretizer\n",
    "\n",
    "import warnings\n",
    "warnings.filterwarnings('ignore')"
   ]
  },
  {
   "cell_type": "code",
   "execution_count": 3,
   "metadata": {},
   "outputs": [
    {
     "data": {
      "text/html": [
       "<div>\n",
       "<style scoped>\n",
       "    .dataframe tbody tr th:only-of-type {\n",
       "        vertical-align: middle;\n",
       "    }\n",
       "\n",
       "    .dataframe tbody tr th {\n",
       "        vertical-align: top;\n",
       "    }\n",
       "\n",
       "    .dataframe thead th {\n",
       "        text-align: right;\n",
       "    }\n",
       "</style>\n",
       "<table border=\"1\" class=\"dataframe\">\n",
       "  <thead>\n",
       "    <tr style=\"text-align: right;\">\n",
       "      <th></th>\n",
       "      <th>survived</th>\n",
       "      <th>age</th>\n",
       "      <th>fare</th>\n",
       "    </tr>\n",
       "  </thead>\n",
       "  <tbody>\n",
       "    <tr>\n",
       "      <th>0</th>\n",
       "      <td>1</td>\n",
       "      <td>29.0000</td>\n",
       "      <td>211.3375</td>\n",
       "    </tr>\n",
       "    <tr>\n",
       "      <th>1</th>\n",
       "      <td>1</td>\n",
       "      <td>0.9167</td>\n",
       "      <td>151.5500</td>\n",
       "    </tr>\n",
       "    <tr>\n",
       "      <th>2</th>\n",
       "      <td>0</td>\n",
       "      <td>2.0000</td>\n",
       "      <td>151.5500</td>\n",
       "    </tr>\n",
       "    <tr>\n",
       "      <th>3</th>\n",
       "      <td>0</td>\n",
       "      <td>30.0000</td>\n",
       "      <td>151.5500</td>\n",
       "    </tr>\n",
       "    <tr>\n",
       "      <th>4</th>\n",
       "      <td>0</td>\n",
       "      <td>25.0000</td>\n",
       "      <td>151.5500</td>\n",
       "    </tr>\n",
       "  </tbody>\n",
       "</table>\n",
       "</div>"
      ],
      "text/plain": [
       "   survived      age      fare\n",
       "0         1  29.0000  211.3375\n",
       "1         1   0.9167  151.5500\n",
       "2         0   2.0000  151.5500\n",
       "3         0  30.0000  151.5500\n",
       "4         0  25.0000  151.5500"
      ]
     },
     "execution_count": 3,
     "metadata": {},
     "output_type": "execute_result"
    }
   ],
   "source": [
    "# cargar variables numéricas Titanic Dataset\n",
    "\n",
    "data = pd.read_csv('../titanic.csv',\n",
    "                   usecols=['age', 'fare', 'survived'])\n",
    "\n",
    "data.head()"
   ]
  },
  {
   "cell_type": "code",
   "execution_count": 4,
   "metadata": {},
   "outputs": [
    {
     "data": {
      "text/plain": [
       "((916, 2), (393, 2))"
      ]
     },
     "execution_count": 4,
     "metadata": {},
     "output_type": "execute_result"
    }
   ],
   "source": [
    "# separemos sets entrenamiento y prueba \n",
    "\n",
    "X_train, X_test, y_train, y_test = train_test_split(\n",
    "    data[['age', 'fare']],\n",
    "    data['survived'],\n",
    "    test_size=0.3,\n",
    "    random_state=0)\n",
    "\n",
    "X_train.shape, X_test.shape"
   ]
  },
  {
   "cell_type": "markdown",
   "metadata": {},
   "source": [
    "Las variables age y fare contienen datos faltantes. Los vamos a completar extrayendo una muestra aleatoria de la variable."
   ]
  },
  {
   "cell_type": "code",
   "execution_count": 5,
   "metadata": {},
   "outputs": [],
   "source": [
    "def impute_na(data, variable):\n",
    "    \n",
    "    # función para reemplazar NA con una muestra aleatoria\n",
    "\n",
    "    df = data.copy()\n",
    "\n",
    "    # muestra aleatoria\n",
    "    df[variable+'_aleatoria'] = df[variable]\n",
    "\n",
    "     # extraer muestra aleatoria para completar datos faltantes na\n",
    "    random_sample = X_train[variable].dropna().sample(\n",
    "        df[variable].isnull().sum(), random_state=0)\n",
    "\n",
    "    # pandas necesita tener el mismo index para poder \n",
    "    # combinar los dataframes\n",
    "    random_sample.index = df[df[variable].isnull()].index\n",
    "    df.loc[df[variable].isnull(), variable+'_aleatoria'] = random_sample\n",
    "\n",
    "    return df[variable+'_aleatoria']"
   ]
  },
  {
   "cell_type": "code",
   "execution_count": 6,
   "metadata": {},
   "outputs": [],
   "source": [
    "# reemplazar los NA en sets de entrenamiento y prueba\n",
    "\n",
    "X_train['age'] = impute_na(data, 'age')\n",
    "X_test['age'] = impute_na(data, 'age')\n",
    "\n",
    "X_train['fare'] = impute_na(data, 'fare')\n",
    "X_test['fare'] = impute_na(data, 'fare')"
   ]
  },
  {
   "cell_type": "code",
   "execution_count": 7,
   "metadata": {},
   "outputs": [
    {
     "data": {
      "image/png": "[encoded data removed]",
      "text/plain": [
       "<Figure size 576x288 with 2 Axes>"
      ]
     },
     "metadata": {
      "needs_background": "light"
     },
     "output_type": "display_data"
    }
   ],
   "source": [
    "# exploremos la distribución de la variable age\n",
    "\n",
    "X_train[['age', 'fare']].hist(bins=30, figsize=(8,4))\n",
    "plt.show()"
   ]
  },
  {
   "cell_type": "markdown",
   "metadata": {},
   "source": [
    "## Discretización k-medias con Scikit-learn"
   ]
  },
  {
   "cell_type": "code",
   "execution_count": 8,
   "metadata": {},
   "outputs": [
    {
     "data": {
      "text/plain": [
       "KBinsDiscretizer(encode='ordinal', n_bins=5, strategy='kmeans')"
      ]
     },
     "execution_count": 8,
     "metadata": {},
     "output_type": "execute_result"
    }
   ],
   "source": [
    "disc = KBinsDiscretizer(n_bins=5, encode='ordinal', strategy='kmeans')\n",
    "\n",
    "disc.fit(X_train[['age', 'fare']])"
   ]
  },
  {
   "cell_type": "code",
   "execution_count": 9,
   "metadata": {},
   "outputs": [
    {
     "data": {
      "text/plain": [
       "array([array([ 0.1667    , 13.50716125, 26.24501412, 37.58671123, 51.55674859,\n",
       "       74.        ]),\n",
       "       array([  0.        ,  48.38317511, 155.62486898, 371.03119259,\n",
       "       512.3292    ])], dtype=object)"
      ]
     },
     "execution_count": 9,
     "metadata": {},
     "output_type": "execute_result"
    }
   ],
   "source": [
    "disc.bin_edges_"
   ]
  },
  {
   "cell_type": "code",
   "execution_count": 10,
   "metadata": {},
   "outputs": [
    {
     "data": {
      "text/html": [
       "<div>\n",
       "<style scoped>\n",
       "    .dataframe tbody tr th:only-of-type {\n",
       "        vertical-align: middle;\n",
       "    }\n",
       "\n",
       "    .dataframe tbody tr th {\n",
       "        vertical-align: top;\n",
       "    }\n",
       "\n",
       "    .dataframe thead th {\n",
       "        text-align: right;\n",
       "    }\n",
       "</style>\n",
       "<table border=\"1\" class=\"dataframe\">\n",
       "  <thead>\n",
       "    <tr style=\"text-align: right;\">\n",
       "      <th></th>\n",
       "      <th>age</th>\n",
       "      <th>fare</th>\n",
       "    </tr>\n",
       "  </thead>\n",
       "  <tbody>\n",
       "    <tr>\n",
       "      <th>0</th>\n",
       "      <td>0.0</td>\n",
       "      <td>0.0</td>\n",
       "    </tr>\n",
       "    <tr>\n",
       "      <th>1</th>\n",
       "      <td>0.0</td>\n",
       "      <td>0.0</td>\n",
       "    </tr>\n",
       "    <tr>\n",
       "      <th>2</th>\n",
       "      <td>2.0</td>\n",
       "      <td>0.0</td>\n",
       "    </tr>\n",
       "    <tr>\n",
       "      <th>3</th>\n",
       "      <td>1.0</td>\n",
       "      <td>0.0</td>\n",
       "    </tr>\n",
       "    <tr>\n",
       "      <th>4</th>\n",
       "      <td>1.0</td>\n",
       "      <td>0.0</td>\n",
       "    </tr>\n",
       "  </tbody>\n",
       "</table>\n",
       "</div>"
      ],
      "text/plain": [
       "   age  fare\n",
       "0  0.0   0.0\n",
       "1  0.0   0.0\n",
       "2  2.0   0.0\n",
       "3  1.0   0.0\n",
       "4  1.0   0.0"
      ]
     },
     "execution_count": 10,
     "metadata": {},
     "output_type": "execute_result"
    }
   ],
   "source": [
    "train_t = disc.transform(X_train[['age', 'fare']])\n",
    "\n",
    "train_t = pd.DataFrame(train_t, columns = ['age', 'fare'])\n",
    "\n",
    "train_t.head()"
   ]
  },
  {
   "cell_type": "code",
   "execution_count": 11,
   "metadata": {},
   "outputs": [],
   "source": [
    "test_t = disc.transform(X_test[['age', 'fare']])\n",
    "\n",
    "test_t = pd.DataFrame(test_t, columns = ['age', 'fare'])"
   ]
  },
  {
   "cell_type": "code",
   "execution_count": 12,
   "metadata": {},
   "outputs": [
    {
     "data": {
      "text/plain": [
       "Text(0, 0.5, 'Porcentaje de observaciones por intervalo')"
      ]
     },
     "execution_count": 12,
     "metadata": {},
     "output_type": "execute_result"
    },
    {
     "data": {
      "image/png": "[encoded data removed]",
      "text/plain": [
       "<Figure size 432x288 with 1 Axes>"
      ]
     },
     "metadata": {
      "needs_background": "light"
     },
     "output_type": "display_data"
    }
   ],
   "source": [
    "t1 = train_t.groupby(['age'])['age'].count() / len(train_t)\n",
    "t2 = test_t.groupby(['age'])['age'].count() / len(test_t)\n",
    "\n",
    "tmp = pd.concat([t1, t2], axis=1)\n",
    "tmp.columns = ['entranamiento', 'prueba']\n",
    "tmp.plot.bar()\n",
    "plt.xticks(rotation=0)\n",
    "plt.ylabel('Porcentaje de observaciones por intervalo')"
   ]
  },
  {
   "cell_type": "code",
   "execution_count": 13,
   "metadata": {},
   "outputs": [
    {
     "data": {
      "text/plain": [
       "Text(0, 0.5, 'Porcentaje de observaciones por intervalo')"
      ]
     },
     "execution_count": 13,
     "metadata": {},
     "output_type": "execute_result"
    },
    {
     "data": {
      "image/png": "[encoded data removed]",
      "text/plain": [
       "<Figure size 432x288 with 1 Axes>"
      ]
     },
     "metadata": {
      "needs_background": "light"
     },
     "output_type": "display_data"
    }
   ],
   "source": [
    "t1 = train_t.groupby(['fare'])['fare'].count() / len(train_t)\n",
    "t2 = test_t.groupby(['fare'])['fare'].count() / len(test_t)\n",
    "\n",
    "tmp = pd.concat([t1, t2], axis=1)\n",
    "tmp.columns = ['entranamiento', 'prueba']\n",
    "tmp.plot.bar()\n",
    "plt.xticks(rotation=0)\n",
    "plt.ylabel('Porcentaje de observaciones por intervalo')"
   ]
  },
  {
   "cell_type": "code",
   "execution_count": null,
   "metadata": {},
   "outputs": [],
   "source": []
  }
 ],
 "metadata": {
  "kernelspec": {
   "display_name": "feml",
   "language": "python",
   "name": "feml"
  },
  "language_info": {
   "codemirror_mode": {
    "name": "ipython",
    "version": 3
   },
   "file_extension": ".py",
   "mimetype": "text/x-python",
   "name": "python",
   "nbconvert_exporter": "python",
   "pygments_lexer": "ipython3",
   "version": "3.7.3"
  },
  "toc": {
   "base_numbering": 1,
   "nav_menu": {},
   "number_sections": true,
   "sideBar": true,
   "skip_h1_title": false,
   "title_cell": "Table of Contents",
   "title_sidebar": "Contents",
   "toc_cell": false,
   "toc_position": {},
   "toc_section_display": "block",
   "toc_window_display": true
  }
 },
 "nbformat": 4,
 "nbformat_minor": 2
}
