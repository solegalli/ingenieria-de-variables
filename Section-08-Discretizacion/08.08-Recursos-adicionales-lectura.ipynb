{
 "cells": [
  {
   "cell_type": "markdown",
   "metadata": {},
   "source": [
    "##  Recurss adicionales de lectura en inglés\n",
    "\n",
    "### Discretización\n",
    "\n",
    "#### Artículos\n",
    "- [Discretisation: An Enabling Technique -  Discretización: una técnica habilitadora](http://www.public.asu.edu/~huanliu/papers/dmkd02.pdf)\n",
    "- [Supervised and unsupervised discretisation of continuous features - Discretización de variables continuas utilizando métodos con y sin supervisión](http://ai.stanford.edu/~ronnyk/disc.pdf)\n",
    "- [ChiMerge: Discretisation of Numeric Attributes - ChiMerge: Discretización de atributos numéricos](https://www.aaai.org/Papers/AAAI/1992/AAAI92-019.pdf)\n",
    "\n",
    "#### Tesis de Maestría\n",
    "- [Beating Kaggle the easy way - Ganando a Kaggle de una forma fácil](https://www.ke.tu-darmstadt.de/lehre/arbeiten/studien/2015/Dong_Ying.pdf)\n",
    "\n",
    "#### Blog\n",
    "- [Tips for honing logistic regression models - Consejos para modelos ajustar modelos de regresión logística](https://blog.zopa.com/2017/07/20/tips-honing-logistic-regression-models/)\n",
    "- [ChiMerge discretisation algorithm - Algoritmo de discretización ChiMerge](https://alitarhini.wordpress.com/2010/11/02/chimerge-discretization-algorithm/)\n",
    "\n",
    "#### Otros\n",
    "- [Score card development stages: Binning - Etapas de desarollo en tarjetas de puntage: discretización ](https://plug-n-score.com/learning/scorecard-development-stages.htm#Binning)"
   ]
  },
  {
   "cell_type": "code",
   "execution_count": null,
   "metadata": {
    "collapsed": true
   },
   "outputs": [],
   "source": []
  }
 ],
 "metadata": {
  "kernelspec": {
   "display_name": "Python 3",
   "language": "python",
   "name": "python3"
  },
  "language_info": {
   "codemirror_mode": {
    "name": "ipython",
    "version": 3
   },
   "file_extension": ".py",
   "mimetype": "text/x-python",
   "name": "python",
   "nbconvert_exporter": "python",
   "pygments_lexer": "ipython3",
   "version": "3.7.3"
  },
  "toc": {
   "nav_menu": {},
   "number_sections": true,
   "sideBar": true,
   "skip_h1_title": false,
   "toc_cell": false,
   "toc_position": {},
   "toc_section_display": "block",
   "toc_window_display": false
  }
 },
 "nbformat": 4,
 "nbformat_minor": 2
}
