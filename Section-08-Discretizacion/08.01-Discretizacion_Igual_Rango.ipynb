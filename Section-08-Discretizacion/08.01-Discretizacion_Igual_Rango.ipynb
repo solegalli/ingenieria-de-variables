{
 "cells": [
  {
   "cell_type": "markdown",
   "metadata": {},
   "source": [
    "## Discretizando variables numéricas\n",
    "\n",
    "Discretización es el proceso de transformar las variables numéricas en variables discretas creando un conjunto de intervalos o segmentos continuos que abarcan todo el rango de la variable transformada. Los segmentos también se conocen como bins o buckets, de ahí que al proceso de discretizar se le conozca como 'binning' en inglés.  .\n",
    "\n",
    "\n",
    "### Discretización ayuda con el manejo de valores extremos y mejora la distribución de las variables sesgadas.\n",
    "\n",
    "Discretización mitiga el efecto de los valores extremos colocándolos en los intervalos inferiores o superiores, junto con el resto de los valores cercanos en la distribución. Por lo tanto, estos valores extremos ya no son diferentes de los otros y hacen parte del mismo intervalo o bucket. Además, si los segmentos o bins son seleccionados apropiadamente, discretización puede ayudar a escalar las variables sesgadas en un conjunto de intervalos con una mejor distribución\n",
    "\n",
    "\n",
    "### Criterios de segmentación/discretización\n",
    "\n",
    "Hay varios métodos para transformar las variables continuas en variables discretas, y en general se pueden dividir en dos categorías: **supervisados y sin supervisión**. Los métodos sin supervisión no usan ninguna información aparte de la distribución de la variable para crear los segmentos continuos en los cuales los valores van a ser ubicados. Los métodos supervisados típicamente usan la información del target para construir los intervalos o bins.\n",
    "\n",
    "\n",
    "####  Métodos de discretización sin supervisión (unsupervised en inglés)\n",
    "\n",
    "Los criterios de segmentación más comunes son:\n",
    "\n",
    "- Igual rango\n",
    "- Igual frecuencia\n",
    "- K-means\n",
    "\n",
    "####  Métodos de discretización supervisados\n",
    "\n",
    "- Usando árboles de decisión\n",
    "\n",
    "En esta clase vamos a presentar **discretización con igual rango**.\n",
    "\n",
    "\n",
    "## Discretización Igual rango\n",
    "\n",
    "La discretización por igual rango, divide los posibles valores en N segmentos del mismo tamaño/ancho. El tamaño es determinado por el rango de valores presente en la variable y el número de segmentos en los que se quiere dividir la variable.\n",
    "\n",
    "ancho = (max valor - min valor) / N\n",
    "\n",
    "donde N es en número de segmentos o intervalos (bins).\n",
    "\n",
    "Por ejemplo si los valores de la variable varían entre 0 y 100, creamos 5 segmentos así: ancho = (100-0) / 5 = 20. Los segmentos son entonces 0-20, 20-40, 40-60, 80-100. El primer y el último segmento pueden ser expandido to acomodar valores extremos (valores que estan por debajo de 0 o encima de 100 pueden ser contenidos en estos segmentos).\n",
    "\n",
    "No hay una regla para definir el número N de segmentos, esto es algo que se debe determinar probando diferentes valores. \n",
    "\n",
    "Dado que el rango se suele seleccionar de los histogramas que muestran la distribución de cada variable, esta técnica es altamente susceptible a los valores atípicos.\n",
    "\n",
    "\n",
    "## En este demo\n",
    "\n",
    "Vamos a aprender como discretizar variables utilizando el método de igual rango usando los datos del Titanic\n",
    "\n",
    "- pandas y NumPy\n",
    "- Feature-engine\n",
    "- Scikit-learn\n"
   ]
  },
  {
   "cell_type": "code",
   "execution_count": 2,
   "metadata": {},
   "outputs": [],
   "source": [
    "import pandas as pd\n",
    "import numpy as np\n",
    "\n",
    "import matplotlib.pyplot as plt\n",
    "\n",
    "from sklearn.model_selection import train_test_split\n",
    "\n",
    "from sklearn.preprocessing import KBinsDiscretizer\n",
    "\n",
    "from feature_engine.discretisers import EqualWidthDiscretiser"
   ]
  },
  {
   "cell_type": "code",
   "execution_count": 3,
   "metadata": {},
   "outputs": [
    {
     "data": {
      "text/html": [
       "<div>\n",
       "<style scoped>\n",
       "    .dataframe tbody tr th:only-of-type {\n",
       "        vertical-align: middle;\n",
       "    }\n",
       "\n",
       "    .dataframe tbody tr th {\n",
       "        vertical-align: top;\n",
       "    }\n",
       "\n",
       "    .dataframe thead th {\n",
       "        text-align: right;\n",
       "    }\n",
       "</style>\n",
       "<table border=\"1\" class=\"dataframe\">\n",
       "  <thead>\n",
       "    <tr style=\"text-align: right;\">\n",
       "      <th></th>\n",
       "      <th>survived</th>\n",
       "      <th>age</th>\n",
       "      <th>fare</th>\n",
       "    </tr>\n",
       "  </thead>\n",
       "  <tbody>\n",
       "    <tr>\n",
       "      <th>0</th>\n",
       "      <td>1</td>\n",
       "      <td>29.0000</td>\n",
       "      <td>211.3375</td>\n",
       "    </tr>\n",
       "    <tr>\n",
       "      <th>1</th>\n",
       "      <td>1</td>\n",
       "      <td>0.9167</td>\n",
       "      <td>151.5500</td>\n",
       "    </tr>\n",
       "    <tr>\n",
       "      <th>2</th>\n",
       "      <td>0</td>\n",
       "      <td>2.0000</td>\n",
       "      <td>151.5500</td>\n",
       "    </tr>\n",
       "    <tr>\n",
       "      <th>3</th>\n",
       "      <td>0</td>\n",
       "      <td>30.0000</td>\n",
       "      <td>151.5500</td>\n",
       "    </tr>\n",
       "    <tr>\n",
       "      <th>4</th>\n",
       "      <td>0</td>\n",
       "      <td>25.0000</td>\n",
       "      <td>151.5500</td>\n",
       "    </tr>\n",
       "  </tbody>\n",
       "</table>\n",
       "</div>"
      ],
      "text/plain": [
       "   survived      age      fare\n",
       "0         1  29.0000  211.3375\n",
       "1         1   0.9167  151.5500\n",
       "2         0   2.0000  151.5500\n",
       "3         0  30.0000  151.5500\n",
       "4         0  25.0000  151.5500"
      ]
     },
     "execution_count": 3,
     "metadata": {},
     "output_type": "execute_result"
    }
   ],
   "source": [
    "# cargar variables numéricas Titanic Dataset\n",
    "\n",
    "data = pd.read_csv('../titanic.csv',\n",
    "                   usecols=['age', 'fare', 'survived'])\n",
    "\n",
    "data.head()"
   ]
  },
  {
   "cell_type": "code",
   "execution_count": 4,
   "metadata": {},
   "outputs": [
    {
     "data": {
      "text/plain": [
       "((916, 2), (393, 2))"
      ]
     },
     "execution_count": 4,
     "metadata": {},
     "output_type": "execute_result"
    }
   ],
   "source": [
    "# separemos sets entrenamiento y prueba \n",
    "\n",
    "X_train, X_test, y_train, y_test = train_test_split(\n",
    "    data[['age', 'fare']],\n",
    "    data['survived'],\n",
    "    test_size=0.3,\n",
    "    random_state=0)\n",
    "\n",
    "X_train.shape, X_test.shape"
   ]
  },
  {
   "cell_type": "markdown",
   "metadata": {},
   "source": [
    "Las variables age y fare contienen datos faltantes. Los vamos a completar extrayendo una muestra aleatoria de la variable."
   ]
  },
  {
   "cell_type": "code",
   "execution_count": 5,
   "metadata": {},
   "outputs": [],
   "source": [
    "def impute_na(data, variable):\n",
    "    \n",
    "    # función para reemplazar NA con una muestra aleatoria\n",
    "\n",
    "    df = data.copy()\n",
    "\n",
    "    # muestra aleatoria\n",
    "    df[variable+'_aleatoria'] = df[variable]\n",
    "\n",
    "     # extraer muestra aleatoria para completar datos faltantes na\n",
    "    random_sample = X_train[variable].dropna().sample(\n",
    "        df[variable].isnull().sum(), random_state=0)\n",
    "\n",
    "    # pandas necesita tener el mismo index para poder \n",
    "    # combinar los dataframes\n",
    "    random_sample.index = df[df[variable].isnull()].index\n",
    "    df.loc[df[variable].isnull(), variable+'_aleatoria'] = random_sample\n",
    "\n",
    "    return df[variable+'_aleatoria']"
   ]
  },
  {
   "cell_type": "code",
   "execution_count": 6,
   "metadata": {},
   "outputs": [],
   "source": [
    "# reemplazar los NA en sets de entrenamiento y prueba\n",
    "X_train['age'] = impute_na(data, 'age')\n",
    "X_test['age'] = impute_na(data, 'age')\n",
    "\n",
    "X_train['fare'] = impute_na(data, 'fare')\n",
    "X_test['fare'] = impute_na(data, 'fare')"
   ]
  },
  {
   "cell_type": "code",
   "execution_count": 7,
   "metadata": {},
   "outputs": [
    {
     "data": {
      "image/png": "[encoded data removed]",
      "text/plain": [
       "<Figure size 576x288 with 2 Axes>"
      ]
     },
     "metadata": {
      "needs_background": "light"
     },
     "output_type": "display_data"
    }
   ],
   "source": [
    "# exploremos la distribución de la variable age\n",
    "\n",
    "data[['age', 'fare']].hist(bins=30, figsize=(8,4))\n",
    "plt.show()"
   ]
  },
  {
   "cell_type": "markdown",
   "metadata": {},
   "source": [
    "## Discretización Igual rango con pandas y NumPy\n",
    "\n",
    "Primero necesitamos determinar los límites de los intervalos:"
   ]
  },
  {
   "cell_type": "code",
   "execution_count": 8,
   "metadata": {
    "scrolled": true
   },
   "outputs": [
    {
     "data": {
      "text/plain": [
       "73.8333"
      ]
     },
     "execution_count": 8,
     "metadata": {},
     "output_type": "execute_result"
    }
   ],
   "source": [
    "# capturemos el rango de la variable age \n",
    "age_range = X_train['age'].max() - X_train['age'].min()\n",
    "\n",
    "age_range"
   ]
  },
  {
   "cell_type": "code",
   "execution_count": 9,
   "metadata": {},
   "outputs": [
    {
     "data": {
      "text/plain": [
       "7.383329999999999"
      ]
     },
     "execution_count": 9,
     "metadata": {},
     "output_type": "execute_result"
    }
   ],
   "source": [
    "# dividamos el rango en 10 intervalos iguales\n",
    "\n",
    "age_range / 10"
   ]
  },
  {
   "cell_type": "markdown",
   "metadata": {},
   "source": [
    "El rango o ancho de nuestros intervalos será de 8 años:"
   ]
  },
  {
   "cell_type": "code",
   "execution_count": 10,
   "metadata": {},
   "outputs": [
    {
     "data": {
      "text/plain": [
       "(0, 74, 7)"
      ]
     },
     "execution_count": 10,
     "metadata": {},
     "output_type": "execute_result"
    }
   ],
   "source": [
    "# ahora capturemos los límites inferior y superior \n",
    "min_value = int(np.floor( X_train['age'].min()))\n",
    "max_value = int(np.ceil( X_train['age'].max()))\n",
    "\n",
    "# aproximemos el rango de los intervalos\n",
    "inter_value = int(np.round(age_range / 10))\n",
    "\n",
    "min_value, max_value, inter_value"
   ]
  },
  {
   "cell_type": "code",
   "execution_count": 11,
   "metadata": {
    "scrolled": false
   },
   "outputs": [
    {
     "data": {
      "text/plain": [
       "[0, 7, 14, 21, 28, 35, 42, 49, 56, 63, 70, 77]"
      ]
     },
     "execution_count": 11,
     "metadata": {},
     "output_type": "execute_result"
    }
   ],
   "source": [
    "# capturemos los límites de los intervalos, así podemos pasarlos a\n",
    "# la función que genera los intervalos\n",
    "\n",
    "intervals = [i for i in range(min_value, max_value+inter_value, inter_value)]\n",
    "\n",
    "intervals"
   ]
  },
  {
   "cell_type": "code",
   "execution_count": 13,
   "metadata": {},
   "outputs": [
    {
     "data": {
      "text/plain": [
       "['Intervalo_1',\n",
       " 'Intervalo_2',\n",
       " 'Intervalo_3',\n",
       " 'Intervalo_4',\n",
       " 'Intervalo_5',\n",
       " 'Intervalo_6',\n",
       " 'Intervalo_7',\n",
       " 'Intervalo_8',\n",
       " 'Intervalo_9',\n",
       " 'Intervalo_10',\n",
       " 'Intervalo_11']"
      ]
     },
     "execution_count": 13,
     "metadata": {},
     "output_type": "execute_result"
    }
   ],
   "source": [
    "# creemos las etiquetas para cada intervalor\n",
    "\n",
    "labels = ['Intervalo_' + str(i) for i in range(1, len(intervals))]\n",
    "\n",
    "labels"
   ]
  },
  {
   "cell_type": "code",
   "execution_count": 15,
   "metadata": {},
   "outputs": [
    {
     "data": {
      "text/html": [
       "<div>\n",
       "<style scoped>\n",
       "    .dataframe tbody tr th:only-of-type {\n",
       "        vertical-align: middle;\n",
       "    }\n",
       "\n",
       "    .dataframe tbody tr th {\n",
       "        vertical-align: top;\n",
       "    }\n",
       "\n",
       "    .dataframe thead th {\n",
       "        text-align: right;\n",
       "    }\n",
       "</style>\n",
       "<table border=\"1\" class=\"dataframe\">\n",
       "  <thead>\n",
       "    <tr style=\"text-align: right;\">\n",
       "      <th></th>\n",
       "      <th>age</th>\n",
       "      <th>fare</th>\n",
       "      <th>age_disc_etiquetas</th>\n",
       "      <th>age_disc</th>\n",
       "    </tr>\n",
       "  </thead>\n",
       "  <tbody>\n",
       "    <tr>\n",
       "      <th>501</th>\n",
       "      <td>13.0</td>\n",
       "      <td>19.5000</td>\n",
       "      <td>Intervalo_2</td>\n",
       "      <td>(7.0, 14.0]</td>\n",
       "    </tr>\n",
       "    <tr>\n",
       "      <th>588</th>\n",
       "      <td>4.0</td>\n",
       "      <td>23.0000</td>\n",
       "      <td>Intervalo_1</td>\n",
       "      <td>(-0.001, 7.0]</td>\n",
       "    </tr>\n",
       "    <tr>\n",
       "      <th>402</th>\n",
       "      <td>30.0</td>\n",
       "      <td>13.8583</td>\n",
       "      <td>Intervalo_5</td>\n",
       "      <td>(28.0, 35.0]</td>\n",
       "    </tr>\n",
       "    <tr>\n",
       "      <th>1193</th>\n",
       "      <td>21.0</td>\n",
       "      <td>7.7250</td>\n",
       "      <td>Intervalo_3</td>\n",
       "      <td>(14.0, 21.0]</td>\n",
       "    </tr>\n",
       "    <tr>\n",
       "      <th>686</th>\n",
       "      <td>22.0</td>\n",
       "      <td>7.7250</td>\n",
       "      <td>Intervalo_4</td>\n",
       "      <td>(21.0, 28.0]</td>\n",
       "    </tr>\n",
       "  </tbody>\n",
       "</table>\n",
       "</div>"
      ],
      "text/plain": [
       "       age     fare age_disc_etiquetas       age_disc\n",
       "501   13.0  19.5000        Intervalo_2    (7.0, 14.0]\n",
       "588    4.0  23.0000        Intervalo_1  (-0.001, 7.0]\n",
       "402   30.0  13.8583        Intervalo_5   (28.0, 35.0]\n",
       "1193  21.0   7.7250        Intervalo_3   (14.0, 21.0]\n",
       "686   22.0   7.7250        Intervalo_4   (21.0, 28.0]"
      ]
     },
     "execution_count": 15,
     "metadata": {},
     "output_type": "execute_result"
    }
   ],
   "source": [
    "# Discreticemos la variable age\n",
    "\n",
    "# creemos una columna con las etiquetas\n",
    "X_train['age_disc_etiquetas'] = pd.cut(x=X_train['age'],\n",
    "                                    bins=intervals,\n",
    "                                    labels=labels,\n",
    "                                    include_lowest=True)\n",
    "\n",
    "# y una con los límites de los intervalos\n",
    "X_train['age_disc'] = pd.cut(x=X_train['age'],\n",
    "                             bins=intervals,\n",
    "                             include_lowest=True)\n",
    "\n",
    "X_train.head()"
   ]
  },
  {
   "cell_type": "markdown",
   "metadata": {},
   "source": [
    "Podemos ver que en el resultado anterior que al discretizar usando intervalos con el mismo rango, colocamos cada observación en la variable age en un intervalo.\n",
    "Por ejemplo, el valor 23 fué colocado en el intervalo 7-14, mientras que el valor 30 fue colocado en el intervalo 28-35. \n",
    "\n",
    "Cuando discretizamos variables utilizando el mismo rango, garantizamos que todos los intervalos tienen el mismo tamaño, sin embargo, esto no significa que van a tener el mismo número de observaciones. Veamos a continuación:"
   ]
  },
  {
   "cell_type": "code",
   "execution_count": 16,
   "metadata": {},
   "outputs": [
    {
     "data": {
      "text/plain": [
       "age_disc\n",
       "(-0.001, 7.0]     48\n",
       "(7.0, 14.0]       31\n",
       "(14.0, 21.0]     155\n",
       "(21.0, 28.0]     230\n",
       "(28.0, 35.0]     176\n",
       "(35.0, 42.0]     105\n",
       "(42.0, 49.0]      75\n",
       "(49.0, 56.0]      51\n",
       "(56.0, 63.0]      32\n",
       "(63.0, 70.0]      10\n",
       "(70.0, 77.0]       3\n",
       "Name: age, dtype: int64"
      ]
     },
     "execution_count": 16,
     "metadata": {},
     "output_type": "execute_result"
    }
   ],
   "source": [
    "X_train.groupby('age_disc')['age'].count()"
   ]
  },
  {
   "cell_type": "code",
   "execution_count": 17,
   "metadata": {},
   "outputs": [
    {
     "data": {
      "text/plain": [
       "Text(0, 0.5, 'Número de observaciones por intervalos')"
      ]
     },
     "execution_count": 17,
     "metadata": {},
     "output_type": "execute_result"
    },
    {
     "data": {
      "image/png": "[encoded data removed]",
      "text/plain": [
       "<Figure size 432x288 with 1 Axes>"
      ]
     },
     "metadata": {
      "needs_background": "light"
     },
     "output_type": "display_data"
    }
   ],
   "source": [
    "X_train.groupby('age_disc')['age'].count().plot.bar()\n",
    "plt.xticks(rotation=45)\n",
    "plt.ylabel('Número de observaciones por intervalos')"
   ]
  },
  {
   "cell_type": "markdown",
   "metadata": {},
   "source": [
    "La mayoría de los pasajeros del Titanic tenían entre  14-42 años de edad.\n",
    "\n",
    "Ahora, podemos discretizar la variable age en el set de prueba, usando los mismos límites para los intervalos que calculamos en el set de entrenamiento:"
   ]
  },
  {
   "cell_type": "code",
   "execution_count": 18,
   "metadata": {},
   "outputs": [
    {
     "data": {
      "text/html": [
       "<div>\n",
       "<style scoped>\n",
       "    .dataframe tbody tr th:only-of-type {\n",
       "        vertical-align: middle;\n",
       "    }\n",
       "\n",
       "    .dataframe tbody tr th {\n",
       "        vertical-align: top;\n",
       "    }\n",
       "\n",
       "    .dataframe thead th {\n",
       "        text-align: right;\n",
       "    }\n",
       "</style>\n",
       "<table border=\"1\" class=\"dataframe\">\n",
       "  <thead>\n",
       "    <tr style=\"text-align: right;\">\n",
       "      <th></th>\n",
       "      <th>age</th>\n",
       "      <th>fare</th>\n",
       "      <th>age_disc_etiquetas</th>\n",
       "      <th>age_disc</th>\n",
       "    </tr>\n",
       "  </thead>\n",
       "  <tbody>\n",
       "    <tr>\n",
       "      <th>1139</th>\n",
       "      <td>38.0</td>\n",
       "      <td>7.8958</td>\n",
       "      <td>Intervalo_6</td>\n",
       "      <td>(35.0, 42.0]</td>\n",
       "    </tr>\n",
       "    <tr>\n",
       "      <th>533</th>\n",
       "      <td>21.0</td>\n",
       "      <td>21.0000</td>\n",
       "      <td>Intervalo_3</td>\n",
       "      <td>(14.0, 21.0]</td>\n",
       "    </tr>\n",
       "    <tr>\n",
       "      <th>459</th>\n",
       "      <td>42.0</td>\n",
       "      <td>27.0000</td>\n",
       "      <td>Intervalo_6</td>\n",
       "      <td>(35.0, 42.0]</td>\n",
       "    </tr>\n",
       "    <tr>\n",
       "      <th>1150</th>\n",
       "      <td>34.0</td>\n",
       "      <td>14.5000</td>\n",
       "      <td>Intervalo_5</td>\n",
       "      <td>(28.0, 35.0]</td>\n",
       "    </tr>\n",
       "    <tr>\n",
       "      <th>393</th>\n",
       "      <td>25.0</td>\n",
       "      <td>31.5000</td>\n",
       "      <td>Intervalo_4</td>\n",
       "      <td>(21.0, 28.0]</td>\n",
       "    </tr>\n",
       "  </tbody>\n",
       "</table>\n",
       "</div>"
      ],
      "text/plain": [
       "       age     fare age_disc_etiquetas      age_disc\n",
       "1139  38.0   7.8958        Intervalo_6  (35.0, 42.0]\n",
       "533   21.0  21.0000        Intervalo_3  (14.0, 21.0]\n",
       "459   42.0  27.0000        Intervalo_6  (35.0, 42.0]\n",
       "1150  34.0  14.5000        Intervalo_5  (28.0, 35.0]\n",
       "393   25.0  31.5000        Intervalo_4  (21.0, 28.0]"
      ]
     },
     "execution_count": 18,
     "metadata": {},
     "output_type": "execute_result"
    }
   ],
   "source": [
    "X_test['age_disc_etiquetas'] = pd.cut(x=X_test['age'],\n",
    "                                   bins=intervals,\n",
    "                                   labels=labels,\n",
    "                                   include_lowest=True)\n",
    "\n",
    "X_test['age_disc'] = pd.cut(x=X_test['age'],\n",
    "                            bins=intervals,\n",
    "                            include_lowest=True)\n",
    "\n",
    "X_test.head()"
   ]
  },
  {
   "cell_type": "code",
   "execution_count": 19,
   "metadata": {},
   "outputs": [
    {
     "data": {
      "text/plain": [
       "Text(0, 0.5, 'Número de observaciones por intervalo')"
      ]
     },
     "execution_count": 19,
     "metadata": {},
     "output_type": "execute_result"
    },
    {
     "data": {
      "image/png": "[encoded data removed]",
      "text/plain": [
       "<Figure size 432x288 with 1 Axes>"
      ]
     },
     "metadata": {
      "needs_background": "light"
     },
     "output_type": "display_data"
    }
   ],
   "source": [
    "# si las distribuciones de los sets de entrenamiento y prueba son similares,\n",
    "# deberiamos esperar las mismas proporciones de observaciones \n",
    "# en los diferentes intervalos los set de entrenamiento y prueba \n",
    "# veamos\n",
    "\n",
    "t1 = X_train.groupby(['age_disc'])['age'].count() / len(X_train)\n",
    "t2 = X_test.groupby(['age_disc'])['age'].count() / len(X_test)\n",
    "\n",
    "tmp = pd.concat([t1, t2], axis=1)\n",
    "tmp.columns = ['entrenamiento', 'prueba']\n",
    "tmp.plot.bar()\n",
    "plt.xticks(rotation=45)\n",
    "plt.ylabel('Número de observaciones por intervalo')"
   ]
  },
  {
   "cell_type": "markdown",
   "metadata": {},
   "source": [
    "## Discretización Igual rango con Feature-Engine"
   ]
  },
  {
   "cell_type": "code",
   "execution_count": 20,
   "metadata": {},
   "outputs": [
    {
     "data": {
      "text/plain": [
       "((916, 2), (393, 2))"
      ]
     },
     "execution_count": 20,
     "metadata": {},
     "output_type": "execute_result"
    }
   ],
   "source": [
    "# separemos datos en sets de entrenamiento y prueba \n",
    "X_train, X_test, y_train, y_test = train_test_split(\n",
    "    data[['age', 'fare']],\n",
    "    data['survived'],\n",
    "    test_size=0.3,\n",
    "    random_state=0)\n",
    "\n",
    "X_train.shape, X_test.shape"
   ]
  },
  {
   "cell_type": "code",
   "execution_count": 21,
   "metadata": {},
   "outputs": [],
   "source": [
    "# reemplacemos na en ambos sets el de entrenamiento y prueba\n",
    "\n",
    "X_train['age'] = impute_na(data, 'age')\n",
    "X_test['age'] = impute_na(data, 'age')\n",
    "\n",
    "X_train['fare'] = impute_na(data, 'fare')\n",
    "X_test['fare'] = impute_na(data, 'fare')"
   ]
  },
  {
   "cell_type": "code",
   "execution_count": 25,
   "metadata": {},
   "outputs": [
    {
     "data": {
      "text/plain": [
       "EqualWidthDiscretiser(bins=10, return_object=False, variables=['age', 'fare'])"
      ]
     },
     "execution_count": 25,
     "metadata": {},
     "output_type": "execute_result"
    }
   ],
   "source": [
    "# con feature-engine podemos automatizar el proceso de discretización \n",
    "# para muchas variables en una línea de código\n",
    "\n",
    "disc = EqualWidthDiscretiser(bins=10, variables = ['age', 'fare'])\n",
    "\n",
    "disc.fit(X_train)"
   ]
  },
  {
   "cell_type": "code",
   "execution_count": 27,
   "metadata": {},
   "outputs": [
    {
     "data": {
      "text/plain": [
       "{'age': [-inf,\n",
       "  7.550029999999999,\n",
       "  14.933359999999999,\n",
       "  22.316689999999994,\n",
       "  29.700019999999995,\n",
       "  37.083349999999996,\n",
       "  44.46667999999999,\n",
       "  51.85000999999999,\n",
       "  59.23333999999999,\n",
       "  66.61667,\n",
       "  inf],\n",
       " 'fare': [-inf,\n",
       "  51.23292,\n",
       "  102.46584,\n",
       "  153.69876,\n",
       "  204.93168,\n",
       "  256.1646,\n",
       "  307.39752,\n",
       "  358.63044,\n",
       "  409.86336,\n",
       "  461.09628,\n",
       "  inf]}"
      ]
     },
     "execution_count": 27,
     "metadata": {},
     "output_type": "execute_result"
    }
   ],
   "source": [
    "# en el diccionario del binner, podemos ver los límites de los intervalos.\n",
    "# Para la variable age el valor incrementa aproximadamente 7 años \n",
    "# de un intervalo al siguiente.\n",
    "\n",
    "# para la variable fare se incrementa 50 dolares de un intervalo al siguiente,\n",
    "# pero se incrementa siempre con el mismo valor, es decir, el mismo ancho\n",
    "\n",
    "disc.binner_dict_"
   ]
  },
  {
   "cell_type": "code",
   "execution_count": 28,
   "metadata": {},
   "outputs": [],
   "source": [
    "# transformar los sets de entrenamiento y prueba\n",
    "train_t = disc.transform(X_train)\n",
    "test_t = disc.transform(X_test)"
   ]
  },
  {
   "cell_type": "code",
   "execution_count": 29,
   "metadata": {},
   "outputs": [
    {
     "data": {
      "text/html": [
       "<div>\n",
       "<style scoped>\n",
       "    .dataframe tbody tr th:only-of-type {\n",
       "        vertical-align: middle;\n",
       "    }\n",
       "\n",
       "    .dataframe tbody tr th {\n",
       "        vertical-align: top;\n",
       "    }\n",
       "\n",
       "    .dataframe thead th {\n",
       "        text-align: right;\n",
       "    }\n",
       "</style>\n",
       "<table border=\"1\" class=\"dataframe\">\n",
       "  <thead>\n",
       "    <tr style=\"text-align: right;\">\n",
       "      <th></th>\n",
       "      <th>age</th>\n",
       "      <th>fare</th>\n",
       "    </tr>\n",
       "  </thead>\n",
       "  <tbody>\n",
       "    <tr>\n",
       "      <th>501</th>\n",
       "      <td>1</td>\n",
       "      <td>0</td>\n",
       "    </tr>\n",
       "    <tr>\n",
       "      <th>588</th>\n",
       "      <td>0</td>\n",
       "      <td>0</td>\n",
       "    </tr>\n",
       "    <tr>\n",
       "      <th>402</th>\n",
       "      <td>4</td>\n",
       "      <td>0</td>\n",
       "    </tr>\n",
       "    <tr>\n",
       "      <th>1193</th>\n",
       "      <td>2</td>\n",
       "      <td>0</td>\n",
       "    </tr>\n",
       "    <tr>\n",
       "      <th>686</th>\n",
       "      <td>2</td>\n",
       "      <td>0</td>\n",
       "    </tr>\n",
       "  </tbody>\n",
       "</table>\n",
       "</div>"
      ],
      "text/plain": [
       "      age  fare\n",
       "501     1     0\n",
       "588     0     0\n",
       "402     4     0\n",
       "1193    2     0\n",
       "686     2     0"
      ]
     },
     "execution_count": 29,
     "metadata": {},
     "output_type": "execute_result"
    }
   ],
   "source": [
    "train_t.head()"
   ]
  },
  {
   "cell_type": "code",
   "execution_count": 30,
   "metadata": {},
   "outputs": [
    {
     "data": {
      "text/plain": [
       "Text(0, 0.5, 'Número de observaciones por intervalo')"
      ]
     },
     "execution_count": 30,
     "metadata": {},
     "output_type": "execute_result"
    },
    {
     "data": {
      "image/png": "[encoded data removed]",
      "text/plain": [
       "<Figure size 432x288 with 1 Axes>"
      ]
     },
     "metadata": {
      "needs_background": "light"
     },
     "output_type": "display_data"
    }
   ],
   "source": [
    "t1 = train_t.groupby(['age'])['age'].count() / len(train_t)\n",
    "t2 = test_t.groupby(['age'])['age'].count() / len(test_t)\n",
    "\n",
    "tmp = pd.concat([t1, t2], axis=1)\n",
    "tmp.columns = ['entrenamiento', 'prueba']\n",
    "tmp.plot.bar()\n",
    "plt.xticks(rotation=0)\n",
    "plt.ylabel('Número de observaciones por intervalo')"
   ]
  },
  {
   "cell_type": "code",
   "execution_count": 31,
   "metadata": {},
   "outputs": [
    {
     "data": {
      "text/plain": [
       "Text(0, 0.5, 'Número de observaciones por intervalo')"
      ]
     },
     "execution_count": 31,
     "metadata": {},
     "output_type": "execute_result"
    },
    {
     "data": {
      "image/png": "[encoded data removed]",
      "text/plain": [
       "<Figure size 432x288 with 1 Axes>"
      ]
     },
     "metadata": {
      "needs_background": "light"
     },
     "output_type": "display_data"
    }
   ],
   "source": [
    "t1 = train_t.groupby(['fare'])['fare'].count() / len(train_t)\n",
    "t2 = test_t.groupby(['fare'])['fare'].count() / len(test_t)\n",
    "\n",
    "tmp = pd.concat([t1, t2], axis=1)\n",
    "tmp.columns = ['entrenamiento', 'prueba']\n",
    "tmp.plot.bar()\n",
    "plt.xticks(rotation=0)\n",
    "plt.ylabel('Número de observaciones por intervalo')"
   ]
  },
  {
   "cell_type": "markdown",
   "metadata": {
    "collapsed": true
   },
   "source": [
    "Podemos ver que la discretización por igual rango no mejor la distribución de los valores. La variable original fare es sesgada, y la variable discreta también esta sesgada.\n",
    "\n",
    "## Discretización Igual rango con Scikit-learn"
   ]
  },
  {
   "cell_type": "code",
   "execution_count": 25,
   "metadata": {},
   "outputs": [
    {
     "data": {
      "text/plain": [
       "((916, 2), (393, 2))"
      ]
     },
     "execution_count": 25,
     "metadata": {},
     "output_type": "execute_result"
    }
   ],
   "source": [
    "# separemos datos en sets de entrenamiento y prueba \n",
    "\n",
    "X_train, X_test, y_train, y_test = train_test_split(\n",
    "    data[['age', 'fare']],\n",
    "    data['survived'],\n",
    "    test_size=0.3,\n",
    "    random_state=0)\n",
    "\n",
    "X_train.shape, X_test.shape"
   ]
  },
  {
   "cell_type": "code",
   "execution_count": 32,
   "metadata": {},
   "outputs": [],
   "source": [
    "# reemplacemos los na en ambos segmentos\n",
    "\n",
    "X_train['age'] = impute_na(data, 'age')\n",
    "X_test['age'] = impute_na(data, 'age')\n",
    "\n",
    "X_train['fare'] = impute_na(data, 'fare')\n",
    "X_test['fare'] = impute_na(data, 'fare')"
   ]
  },
  {
   "cell_type": "code",
   "execution_count": 33,
   "metadata": {},
   "outputs": [
    {
     "data": {
      "text/plain": [
       "KBinsDiscretizer(encode='ordinal', n_bins=10, strategy='uniform')"
      ]
     },
     "execution_count": 33,
     "metadata": {},
     "output_type": "execute_result"
    }
   ],
   "source": [
    "disc = KBinsDiscretizer(n_bins=10, encode='ordinal', strategy='uniform')\n",
    "\n",
    "disc.fit(X_train[['age', 'fare']])"
   ]
  },
  {
   "cell_type": "code",
   "execution_count": 34,
   "metadata": {},
   "outputs": [
    {
     "data": {
      "text/plain": [
       "array([array([ 0.1667 ,  7.55003, 14.93336, 22.31669, 29.70002, 37.08335,\n",
       "       44.46668, 51.85001, 59.23334, 66.61667, 74.     ]),\n",
       "       array([  0.     ,  51.23292, 102.46584, 153.69876, 204.93168, 256.1646 ,\n",
       "       307.39752, 358.63044, 409.86336, 461.09628, 512.3292 ])],\n",
       "      dtype=object)"
      ]
     },
     "execution_count": 34,
     "metadata": {},
     "output_type": "execute_result"
    }
   ],
   "source": [
    "disc.bin_edges_"
   ]
  },
  {
   "cell_type": "code",
   "execution_count": 35,
   "metadata": {},
   "outputs": [
    {
     "data": {
      "text/html": [
       "<div>\n",
       "<style scoped>\n",
       "    .dataframe tbody tr th:only-of-type {\n",
       "        vertical-align: middle;\n",
       "    }\n",
       "\n",
       "    .dataframe tbody tr th {\n",
       "        vertical-align: top;\n",
       "    }\n",
       "\n",
       "    .dataframe thead th {\n",
       "        text-align: right;\n",
       "    }\n",
       "</style>\n",
       "<table border=\"1\" class=\"dataframe\">\n",
       "  <thead>\n",
       "    <tr style=\"text-align: right;\">\n",
       "      <th></th>\n",
       "      <th>age</th>\n",
       "      <th>fare</th>\n",
       "    </tr>\n",
       "  </thead>\n",
       "  <tbody>\n",
       "    <tr>\n",
       "      <th>0</th>\n",
       "      <td>1.0</td>\n",
       "      <td>0.0</td>\n",
       "    </tr>\n",
       "    <tr>\n",
       "      <th>1</th>\n",
       "      <td>0.0</td>\n",
       "      <td>0.0</td>\n",
       "    </tr>\n",
       "    <tr>\n",
       "      <th>2</th>\n",
       "      <td>4.0</td>\n",
       "      <td>0.0</td>\n",
       "    </tr>\n",
       "    <tr>\n",
       "      <th>3</th>\n",
       "      <td>9.0</td>\n",
       "      <td>0.0</td>\n",
       "    </tr>\n",
       "    <tr>\n",
       "      <th>4</th>\n",
       "      <td>2.0</td>\n",
       "      <td>0.0</td>\n",
       "    </tr>\n",
       "  </tbody>\n",
       "</table>\n",
       "</div>"
      ],
      "text/plain": [
       "   age  fare\n",
       "0  1.0   0.0\n",
       "1  0.0   0.0\n",
       "2  4.0   0.0\n",
       "3  9.0   0.0\n",
       "4  2.0   0.0"
      ]
     },
     "execution_count": 35,
     "metadata": {},
     "output_type": "execute_result"
    }
   ],
   "source": [
    "train_t = disc.transform(X_train[['age', 'fare']])\n",
    "\n",
    "train_t = pd.DataFrame(train_t, columns = ['age', 'fare'])\n",
    "\n",
    "train_t.head()"
   ]
  },
  {
   "cell_type": "code",
   "execution_count": 36,
   "metadata": {},
   "outputs": [],
   "source": [
    "test_t = disc.transform(X_test[['age', 'fare']])\n",
    "\n",
    "test_t = pd.DataFrame(test_t, columns = ['age', 'fare'])"
   ]
  },
  {
   "cell_type": "code",
   "execution_count": 37,
   "metadata": {},
   "outputs": [
    {
     "data": {
      "text/plain": [
       "Text(0, 0.5, 'Número de observaciones por intervalo')"
      ]
     },
     "execution_count": 37,
     "metadata": {},
     "output_type": "execute_result"
    },
    {
     "data": {
      "image/png": "[encoded data removed]",
      "text/plain": [
       "<Figure size 432x288 with 1 Axes>"
      ]
     },
     "metadata": {
      "needs_background": "light"
     },
     "output_type": "display_data"
    }
   ],
   "source": [
    "t1 = train_t.groupby(['age'])['age'].count() / len(train_t)\n",
    "t2 = test_t.groupby(['age'])['age'].count() / len(test_t)\n",
    "\n",
    "tmp = pd.concat([t1, t2], axis=1)\n",
    "tmp.columns = ['entrenamiento', 'prueba']\n",
    "tmp.plot.bar()\n",
    "plt.xticks(rotation=0)\n",
    "plt.ylabel('Número de observaciones por intervalo')\n"
   ]
  },
  {
   "cell_type": "code",
   "execution_count": 38,
   "metadata": {},
   "outputs": [
    {
     "data": {
      "text/plain": [
       "Text(0, 0.5, 'Número de observaciones por intervalo')"
      ]
     },
     "execution_count": 38,
     "metadata": {},
     "output_type": "execute_result"
    },
    {
     "data": {
      "image/png": "[encoded data removed]",
      "text/plain": [
       "<Figure size 432x288 with 1 Axes>"
      ]
     },
     "metadata": {
      "needs_background": "light"
     },
     "output_type": "display_data"
    }
   ],
   "source": [
    "t1 = train_t.groupby(['fare'])['fare'].count() / len(train_t)\n",
    "t2 = test_t.groupby(['fare'])['fare'].count() / len(test_t)\n",
    "\n",
    "tmp = pd.concat([t1, t2], axis=1)\n",
    "tmp.columns = ['entrenamiento', 'prueba']\n",
    "tmp.plot.bar()\n",
    "plt.xticks(rotation=0)\n",
    "plt.ylabel('Número de observaciones por intervalo')"
   ]
  },
  {
   "cell_type": "code",
   "execution_count": null,
   "metadata": {},
   "outputs": [],
   "source": []
  }
 ],
 "metadata": {
  "kernelspec": {
   "display_name": "feml",
   "language": "python",
   "name": "feml"
  },
  "language_info": {
   "codemirror_mode": {
    "name": "ipython",
    "version": 3
   },
   "file_extension": ".py",
   "mimetype": "text/x-python",
   "name": "python",
   "nbconvert_exporter": "python",
   "pygments_lexer": "ipython3",
   "version": "3.7.3"
  },
  "toc": {
   "nav_menu": {
    "height": "52px",
    "width": "244px"
   },
   "number_sections": true,
   "sideBar": true,
   "skip_h1_title": false,
   "toc_cell": false,
   "toc_position": {},
   "toc_section_display": "block",
   "toc_window_display": true
  }
 },
 "nbformat": 4,
 "nbformat_minor": 2
}
