{
 "cells": [
  {
   "cell_type": "markdown",
   "metadata": {},
   "source": [
    "## Valores Faltantes/Ausentes\n",
    "\n",
    "Los datos ausentes o valores vacíos ('missing values') se definen como  __valores__ / __datos__ no disponibles para ciertas observaciones en una variable que serían útiles para el análisis de los resultados.\n",
    "\n",
    "Los valores vacíos aparecen como “NULL” en bases de datos o 'NA' en R o 'NaN' en Python. Los datos incompletos son un problema inevitable en la mayoría de las fuentes de datos, y pueden tener un gran impacto en las conclusiones que se deriven de las mismas.\n",
    "\n",
    "\n",
    "### Por qué faltan datos?\n",
    "\n",
    "Hay muchos tipos de datos faltantes y varias razones por las cuales pueden ocurrir. Estos factores son decisivos al enfrentar la ausencia de datos al momento de analizar los resultados. A continuación algunos ejemplos:\n",
    "\n",
    "- Un valor está ausente porque no se guardó apropiadamente\n",
    "- Para algunas observaciones, los valores no existen\n",
    "- El valor no se sabe o no se puede identificar\n",
    "\n",
    "En muchas organizaciones, la información de clientes es recolectada a través de entrevistas telefónicas o alternativamente, llenando cuestionarios en línea. A menudo sucede que:\n",
    "- Se omiten campos en los formularios al llenar el cuestionario,  ya sea porque no son obligatorios, o porque se decide no responder ciertas preguntas (por ejemplo relacionadas a salario) o porque simplemente una máquina falla al recolectar los datos.\n",
    "-  Hay otros casos en los que los valores para ciertas variables no existen. Por ejemplo, en la variable 'deuda como porcentaje del salario' (una variable bastante común): si la persona no tiene ningún ingreso, el porcentaje de 0 no existe y por lo tanto el valor quedará faltando.\n",
    "- En algunos casos, una variable es medida después de un período de tiempo, por lo que tenemos datos a partir de este momento y NA en las instancias previas.\n",
    "\n",
    "En la sección 4 daremos recomendaciones de cómo manejar los valores ausentes. La idea es siempre probar diferentes enfoques para descubrir cuál es la mejor estrategia para los datos que se están analizando. No existe un “talle único y universal” en esto, y muchas veces es prueba y error.\n",
    "\n",
    "\n",
    "### Mecanismos de valores faltantes \n",
    "\n",
    "Dependiendo del patrón que siguen los datos faltantes, ya sea que las pérdidas son aleatorias, o bien sean debidas a una razón o razones específicas, se pueden clasificar a los mecanismos de introducción de datos faltantes en tres tipos:\n",
    "\n",
    "#### Valores Faltantes completamente al azar, MCAR (por sus siglas en inglés 'Missing Data Completely at Random'):\n",
    "\n",
    "Una variable tiene valores faltantes completamente aleatorios (MCAR) si la probabilidad de que un valor falte es la misma para todas las observaciones. \n",
    "\n",
    "Cuando los datos son de tipo MCAR, no hay relación entre los datos faltantes y cualquier otro valor, ya sea registrado o ausente. En otras palabras, no hay nada sistemático que haga que un valor falte con mayor probabilidad que otro. Si los valores para las observaciones realmente faltan de forma aleatoria, omitir esos casos no sesga las inferencias o conclusiones hechas a partir de los datos filtrados.\n",
    "\n",
    "\n",
    "#### Valores Faltantes  aleatorios, MAR (por sus siglas en inglés 'Missing Data at Random'):\n",
    "\n",
    "MAR ocurre cuando hay una relación entre la probabilidad de ocurrencia de los datos faltantes y los valores existentes. En otras palabras, la probabilidad de que una observación falte depende de la disponibilidad de la información (es decir, de otras variables en los datos). Por ejemplo, si es más probable que los hombres revelen su 'peso' que las mujeres, entonces la variable 'peso' es MAR. La información de peso estará ausente de forma aleatoria  para los hombres y mujeres que no revelan su peso, pero ya que los hombres son más propensos a revelarlo, habrán más valores faltantes para las mujeres que para los hombres.\n",
    "\n",
    "En una situación como la anterior, si decidimos usar la variable con valores faltantes (como en este caso 'peso'), sería aconsejable incluir una variable que incluya el género para controlar el sesgo que existe en las observaciones con valores faltantes.\n",
    "\n",
    "#### Valores Faltantes no aleatorios, MNAR (por sus siglas en inglés 'Missing Data not at Random'):\n",
    "\n",
    "Los valores faltantes no son aleatorios (MNAR) cuando hay un mecanismo o una razón por la cual los valores faltantes son introducidos en los datos. Por ejemplo, MNAR puede ocurrir si las personas dejaron de llenar un cuestionario sobre depresión dado su nivel de depresión. En este caso, los valores faltantes están relacionados con el objetivo del estudio, depresión. En forma similar, cuando una entidad financiera pide documentos bancarios y de identidad de sus clientes para prevenir fraude, típicamente, estafadores haciéndose pasar por alguien más, no presentas los documentos, porque no los tienen por la misma naturaleza de estafadores. Por lo tanto, hay una relación sistemática entre los documentos faltantes y la variable objetivo que se quiere predecir: fraude.\n",
    "\n",
    "Como se pudieron dar cuenta, es importante entender los mecanismos por los cuales datos pueden faltar para poder decidir cuál es la mejor forma de tratar dichos valores nulos.\n",
    "\n",
    "====================================================================================================\n"
   ]
  },
  {
   "cell_type": "markdown",
   "metadata": {},
   "source": [
    "## En este Demo:\n",
    "\n",
    "En las siguientes secciones:\n",
    "\n",
    "- Aprenderemos como detectar y cuantificar valores faltantes\n",
    "\n",
    "- Trataremos de indentificar los 3 mecanismos de valores faltantes discutidos en la introducción.\n",
    "\n",
    "Utilizando los datos de la companía financiera especializada en préstamos peer-to-peer llamada **Lending Club** y el **Titanic**\n",
    "\n",
    "- Para descargar los datos, por favor referirse a la sección de **Datos** de la **Sección 1** del curso."
   ]
  },
  {
   "cell_type": "code",
   "execution_count": 1,
   "metadata": {},
   "outputs": [],
   "source": [
    "import pandas as pd\n",
    "import numpy as np\n",
    "\n",
    "import matplotlib.pyplot as plt\n",
    "\n",
    "# Con este comando informamos a pandas que muestre todas\n",
    "# las columnas cada vez que pedimos un display\n",
    "pd.set_option('display.max_columns', None)"
   ]
  },
  {
   "cell_type": "code",
   "execution_count": 2,
   "metadata": {},
   "outputs": [
    {
     "data": {
      "text/html": [
       "<div>\n",
       "<style scoped>\n",
       "    .dataframe tbody tr th:only-of-type {\n",
       "        vertical-align: middle;\n",
       "    }\n",
       "\n",
       "    .dataframe tbody tr th {\n",
       "        vertical-align: top;\n",
       "    }\n",
       "\n",
       "    .dataframe thead th {\n",
       "        text-align: right;\n",
       "    }\n",
       "</style>\n",
       "<table border=\"1\" class=\"dataframe\">\n",
       "  <thead>\n",
       "    <tr style=\"text-align: right;\">\n",
       "      <th></th>\n",
       "      <th>pclass</th>\n",
       "      <th>survived</th>\n",
       "      <th>name</th>\n",
       "      <th>sex</th>\n",
       "      <th>age</th>\n",
       "      <th>sibsp</th>\n",
       "      <th>parch</th>\n",
       "      <th>ticket</th>\n",
       "      <th>fare</th>\n",
       "      <th>cabin</th>\n",
       "      <th>embarked</th>\n",
       "      <th>boat</th>\n",
       "      <th>body</th>\n",
       "      <th>home.dest</th>\n",
       "    </tr>\n",
       "  </thead>\n",
       "  <tbody>\n",
       "    <tr>\n",
       "      <td>0</td>\n",
       "      <td>1</td>\n",
       "      <td>1</td>\n",
       "      <td>Allen, Miss. Elisabeth Walton</td>\n",
       "      <td>female</td>\n",
       "      <td>29.0000</td>\n",
       "      <td>0</td>\n",
       "      <td>0</td>\n",
       "      <td>24160</td>\n",
       "      <td>211.3375</td>\n",
       "      <td>B5</td>\n",
       "      <td>S</td>\n",
       "      <td>2</td>\n",
       "      <td>NaN</td>\n",
       "      <td>St Louis, MO</td>\n",
       "    </tr>\n",
       "    <tr>\n",
       "      <td>1</td>\n",
       "      <td>1</td>\n",
       "      <td>1</td>\n",
       "      <td>Allison, Master. Hudson Trevor</td>\n",
       "      <td>male</td>\n",
       "      <td>0.9167</td>\n",
       "      <td>1</td>\n",
       "      <td>2</td>\n",
       "      <td>113781</td>\n",
       "      <td>151.5500</td>\n",
       "      <td>C22</td>\n",
       "      <td>S</td>\n",
       "      <td>11</td>\n",
       "      <td>NaN</td>\n",
       "      <td>Montreal, PQ / Chesterville, ON</td>\n",
       "    </tr>\n",
       "    <tr>\n",
       "      <td>2</td>\n",
       "      <td>1</td>\n",
       "      <td>0</td>\n",
       "      <td>Allison, Miss. Helen Loraine</td>\n",
       "      <td>female</td>\n",
       "      <td>2.0000</td>\n",
       "      <td>1</td>\n",
       "      <td>2</td>\n",
       "      <td>113781</td>\n",
       "      <td>151.5500</td>\n",
       "      <td>C22</td>\n",
       "      <td>S</td>\n",
       "      <td>NaN</td>\n",
       "      <td>NaN</td>\n",
       "      <td>Montreal, PQ / Chesterville, ON</td>\n",
       "    </tr>\n",
       "    <tr>\n",
       "      <td>3</td>\n",
       "      <td>1</td>\n",
       "      <td>0</td>\n",
       "      <td>Allison, Mr. Hudson Joshua Creighton</td>\n",
       "      <td>male</td>\n",
       "      <td>30.0000</td>\n",
       "      <td>1</td>\n",
       "      <td>2</td>\n",
       "      <td>113781</td>\n",
       "      <td>151.5500</td>\n",
       "      <td>C22</td>\n",
       "      <td>S</td>\n",
       "      <td>NaN</td>\n",
       "      <td>135.0</td>\n",
       "      <td>Montreal, PQ / Chesterville, ON</td>\n",
       "    </tr>\n",
       "    <tr>\n",
       "      <td>4</td>\n",
       "      <td>1</td>\n",
       "      <td>0</td>\n",
       "      <td>Allison, Mrs. Hudson J C (Bessie Waldo Daniels)</td>\n",
       "      <td>female</td>\n",
       "      <td>25.0000</td>\n",
       "      <td>1</td>\n",
       "      <td>2</td>\n",
       "      <td>113781</td>\n",
       "      <td>151.5500</td>\n",
       "      <td>C22</td>\n",
       "      <td>S</td>\n",
       "      <td>NaN</td>\n",
       "      <td>NaN</td>\n",
       "      <td>Montreal, PQ / Chesterville, ON</td>\n",
       "    </tr>\n",
       "  </tbody>\n",
       "</table>\n",
       "</div>"
      ],
      "text/plain": [
       "   pclass  survived                                             name     sex  \\\n",
       "0       1         1                    Allen, Miss. Elisabeth Walton  female   \n",
       "1       1         1                   Allison, Master. Hudson Trevor    male   \n",
       "2       1         0                     Allison, Miss. Helen Loraine  female   \n",
       "3       1         0             Allison, Mr. Hudson Joshua Creighton    male   \n",
       "4       1         0  Allison, Mrs. Hudson J C (Bessie Waldo Daniels)  female   \n",
       "\n",
       "       age  sibsp  parch  ticket      fare cabin embarked boat   body  \\\n",
       "0  29.0000      0      0   24160  211.3375    B5        S    2    NaN   \n",
       "1   0.9167      1      2  113781  151.5500   C22        S   11    NaN   \n",
       "2   2.0000      1      2  113781  151.5500   C22        S  NaN    NaN   \n",
       "3  30.0000      1      2  113781  151.5500   C22        S  NaN  135.0   \n",
       "4  25.0000      1      2  113781  151.5500   C22        S  NaN    NaN   \n",
       "\n",
       "                         home.dest  \n",
       "0                     St Louis, MO  \n",
       "1  Montreal, PQ / Chesterville, ON  \n",
       "2  Montreal, PQ / Chesterville, ON  \n",
       "3  Montreal, PQ / Chesterville, ON  \n",
       "4  Montreal, PQ / Chesterville, ON  "
      ]
     },
     "execution_count": 2,
     "metadata": {},
     "output_type": "execute_result"
    }
   ],
   "source": [
    "# Carguemos los datos del Titanic\n",
    "data = pd.read_csv('../titanic.csv')\n",
    "\n",
    "# Inspeccionemos las primeras 5 filas\n",
    "data.head()"
   ]
  },
  {
   "cell_type": "markdown",
   "metadata": {},
   "source": [
    "En Python, los valores faltantes se guardan como NaN, mira por ejemplo, los valores para la variable body."
   ]
  },
  {
   "cell_type": "code",
   "execution_count": 3,
   "metadata": {},
   "outputs": [
    {
     "data": {
      "text/plain": [
       "pclass          0\n",
       "survived        0\n",
       "name            0\n",
       "sex             0\n",
       "age           263\n",
       "sibsp           0\n",
       "parch           0\n",
       "ticket          0\n",
       "fare            1\n",
       "cabin        1014\n",
       "embarked        2\n",
       "boat          823\n",
       "body         1188\n",
       "home.dest     564\n",
       "dtype: int64"
      ]
     },
     "execution_count": 3,
     "metadata": {},
     "output_type": "execute_result"
    }
   ],
   "source": [
    "# Podemos cuantificar el número total de valores nulos usando\n",
    "# el método isnull seguido de el método suma en el dataframe\n",
    "\n",
    "data.isnull().sum()"
   ]
  },
  {
   "cell_type": "markdown",
   "metadata": {},
   "source": [
    "Hay 263 valores faltantes para la variable 'Age', 1014 para 'Cabin' y 2 para 'Embarked'."
   ]
  },
  {
   "cell_type": "code",
   "execution_count": 4,
   "metadata": {},
   "outputs": [
    {
     "data": {
      "text/plain": [
       "pclass        0.000000\n",
       "survived      0.000000\n",
       "name          0.000000\n",
       "sex           0.000000\n",
       "age          20.091673\n",
       "sibsp         0.000000\n",
       "parch         0.000000\n",
       "ticket        0.000000\n",
       "fare          0.076394\n",
       "cabin        77.463713\n",
       "embarked      0.152788\n",
       "boat         62.872422\n",
       "body         90.756303\n",
       "home.dest    43.086325\n",
       "dtype: float64"
      ]
     },
     "execution_count": 4,
     "metadata": {},
     "output_type": "execute_result"
    }
   ],
   "source": [
    "# Otra opción, es usar el método promedio 'mean'\n",
    "# para visualizar el porcentage the los valores faltantes\n",
    "# por cada variable\n",
    "\n",
    "data.isnull().mean()*100"
   ]
  },
  {
   "cell_type": "markdown",
   "metadata": {},
   "source": [
    "Hay valores nulos en las variables Age (20% faltantes), Cabin - cabina en la cual el pasajero estaba viajando - (77% faltantes), y Embarked - el puerto en el cual el pasajero subió el Titanic - (0.2%  faltantes)."
   ]
  },
  {
   "cell_type": "markdown",
   "metadata": {},
   "source": [
    "## Mecanismos de Datos Faltantes\n",
    "\n",
    "### Valores Faltantes no aleatorios, MNAR: valores faltantes sistemáticos \n",
    "\n",
    "En los datos del Titanic, los valores faltantes de las variables Cabin y Age fueron introducidos sistemáticamente. \n",
    "Para muchos de los pasajeros que no sobrevivieron, la edad ('Age') que tenían o la cabina ('Cabin') en la que estaban viajando, no pudo ser establecida. A la gente que sobrevivió, por el contrario, se les pudo preguntar dicha información.\n",
    "\n",
    "Qué podemos deducir observando los datos?\n",
    "En una situación como esta, podemos esperar un mayor número de valores faltantes para los pasajeros que no sobrevivieron.\n",
    "\n",
    "Observemos:\n"
   ]
  },
  {
   "cell_type": "code",
   "execution_count": 5,
   "metadata": {},
   "outputs": [],
   "source": [
    "# Creemos una variable binaria que indique\n",
    "# si la información de la cabina esta ausente o no\n",
    "\n",
    "data['cabin_null'] = np.where(data.cabin.isnull(), 1, 0)"
   ]
  },
  {
   "cell_type": "code",
   "execution_count": 6,
   "metadata": {},
   "outputs": [
    {
     "data": {
      "text/plain": [
       "survived\n",
       "0    0.873918\n",
       "1    0.614000\n",
       "Name: cabin_null, dtype: float64"
      ]
     },
     "execution_count": 6,
     "metadata": {},
     "output_type": "execute_result"
    }
   ],
   "source": [
    "# Evaluemos el porcentaje de los valores faltantes \n",
    "# en la cabina por los pasajeros que sobrevivieron vs. los que no sobrevivieron\n",
    "\n",
    "# La variable 'Survived' (Sobreviente) toma valores \n",
    "# de 1 si el pasajero sobrevivió y 0 de lo contrario.\n",
    "\n",
    "# Agrupar los datos para Sobrevivientes vs No-Sobrevivientes\n",
    "# y encontrar el porcentaje de nulos en la cabina \n",
    "data.groupby(['survived'])['cabin_null'].mean()"
   ]
  },
  {
   "cell_type": "code",
   "execution_count": 7,
   "metadata": {},
   "outputs": [
    {
     "data": {
      "text/plain": [
       "survived\n",
       "0    0.873918\n",
       "1    0.614000\n",
       "Name: cabin, dtype: float64"
      ]
     },
     "execution_count": 7,
     "metadata": {},
     "output_type": "execute_result"
    }
   ],
   "source": [
    "# Otra forma de hacer lo mismo, pero con menos líneas de código :)\n",
    "\n",
    "data['cabin'].isnull().groupby(data['survived']).mean()"
   ]
  },
  {
   "cell_type": "markdown",
   "metadata": {},
   "source": [
    "Podemos ver que el porcentaje de valores faltantes es mucho más alto para las personas que no sobrevivieron (87%), con respecto a los que sobrevivieron (60%). Este hallazgo está alineado con nuestra hipótesis sobre los datos faltantes.\n",
    "\n",
    "**Nota**: Para realmente entender si los valores faltantes no son aleatorios, es necesario familiarizarse muy bien con la forma en que los datos fueron recogidos. Analizar los datos, solo puede llevarnos a la dirección correcta o ayudarnos a construir hipótesis.\n"
   ]
  },
  {
   "cell_type": "code",
   "execution_count": 8,
   "metadata": {},
   "outputs": [
    {
     "data": {
      "text/plain": [
       "survived\n",
       "0    0.234858\n",
       "1    0.146000\n",
       "Name: age_null, dtype: float64"
      ]
     },
     "execution_count": 8,
     "metadata": {},
     "output_type": "execute_result"
    }
   ],
   "source": [
    "# Hagamos lo mismo para la variable 'age':\n",
    "\n",
    "# Primero creamos variable binaria que indica\n",
    "# si hay valores faltantes\n",
    "\n",
    "data['age_null'] = np.where(data.age.isnull(), 1, 0)\n",
    "\n",
    "# y luego miremos al promedio por cada uno de los grupos de sobrevivientes:\n",
    "data.groupby(['survived'])['age_null'].mean()"
   ]
  },
  {
   "cell_type": "code",
   "execution_count": 9,
   "metadata": {},
   "outputs": [
    {
     "data": {
      "text/plain": [
       "survived\n",
       "0    0.234858\n",
       "1    0.146000\n",
       "Name: age, dtype: float64"
      ]
     },
     "execution_count": 9,
     "metadata": {},
     "output_type": "execute_result"
    }
   ],
   "source": [
    "# o con menos código :)\n",
    "\n",
    "data['age'].isnull().groupby(data['survived']).mean()"
   ]
  },
  {
   "cell_type": "markdown",
   "metadata": {},
   "source": [
    "Nuevamente podemos observar un porcentaje mayor de datos faltantes para los pasajeros que no sobrevivieron. Este análisis sugiere que hay una pérdida de datos sistemática: la gente que no sobrevivió tiende a tener más datos nulos. \n",
    "\n",
    "Probablemente, el método seleccionado para recoger la información, contribuye a la generación de los datos faltantes.\n"
   ]
  },
  {
   "cell_type": "markdown",
   "metadata": {},
   "source": [
    "### Datos Faltantes Completamente Aleatorios (MCAR)"
   ]
  },
  {
   "cell_type": "code",
   "execution_count": 10,
   "metadata": {},
   "outputs": [
    {
     "data": {
      "text/html": [
       "<div>\n",
       "<style scoped>\n",
       "    .dataframe tbody tr th:only-of-type {\n",
       "        vertical-align: middle;\n",
       "    }\n",
       "\n",
       "    .dataframe tbody tr th {\n",
       "        vertical-align: top;\n",
       "    }\n",
       "\n",
       "    .dataframe thead th {\n",
       "        text-align: right;\n",
       "    }\n",
       "</style>\n",
       "<table border=\"1\" class=\"dataframe\">\n",
       "  <thead>\n",
       "    <tr style=\"text-align: right;\">\n",
       "      <th></th>\n",
       "      <th>pclass</th>\n",
       "      <th>survived</th>\n",
       "      <th>name</th>\n",
       "      <th>sex</th>\n",
       "      <th>age</th>\n",
       "      <th>sibsp</th>\n",
       "      <th>parch</th>\n",
       "      <th>ticket</th>\n",
       "      <th>fare</th>\n",
       "      <th>cabin</th>\n",
       "      <th>embarked</th>\n",
       "      <th>boat</th>\n",
       "      <th>body</th>\n",
       "      <th>home.dest</th>\n",
       "      <th>cabin_null</th>\n",
       "      <th>age_null</th>\n",
       "    </tr>\n",
       "  </thead>\n",
       "  <tbody>\n",
       "    <tr>\n",
       "      <td>168</td>\n",
       "      <td>1</td>\n",
       "      <td>1</td>\n",
       "      <td>Icard, Miss. Amelie</td>\n",
       "      <td>female</td>\n",
       "      <td>38.0</td>\n",
       "      <td>0</td>\n",
       "      <td>0</td>\n",
       "      <td>113572</td>\n",
       "      <td>80.0</td>\n",
       "      <td>B28</td>\n",
       "      <td>NaN</td>\n",
       "      <td>6</td>\n",
       "      <td>NaN</td>\n",
       "      <td>NaN</td>\n",
       "      <td>0</td>\n",
       "      <td>0</td>\n",
       "    </tr>\n",
       "    <tr>\n",
       "      <td>284</td>\n",
       "      <td>1</td>\n",
       "      <td>1</td>\n",
       "      <td>Stone, Mrs. George Nelson (Martha Evelyn)</td>\n",
       "      <td>female</td>\n",
       "      <td>62.0</td>\n",
       "      <td>0</td>\n",
       "      <td>0</td>\n",
       "      <td>113572</td>\n",
       "      <td>80.0</td>\n",
       "      <td>B28</td>\n",
       "      <td>NaN</td>\n",
       "      <td>6</td>\n",
       "      <td>NaN</td>\n",
       "      <td>Cincinatti, OH</td>\n",
       "      <td>0</td>\n",
       "      <td>0</td>\n",
       "    </tr>\n",
       "  </tbody>\n",
       "</table>\n",
       "</div>"
      ],
      "text/plain": [
       "     pclass  survived                                       name     sex  \\\n",
       "168       1         1                        Icard, Miss. Amelie  female   \n",
       "284       1         1  Stone, Mrs. George Nelson (Martha Evelyn)  female   \n",
       "\n",
       "      age  sibsp  parch  ticket  fare cabin embarked boat  body  \\\n",
       "168  38.0      0      0  113572  80.0   B28      NaN    6   NaN   \n",
       "284  62.0      0      0  113572  80.0   B28      NaN    6   NaN   \n",
       "\n",
       "          home.dest  cabin_null  age_null  \n",
       "168             NaN           0         0  \n",
       "284  Cincinatti, OH           0         0  "
      ]
     },
     "execution_count": 10,
     "metadata": {},
     "output_type": "execute_result"
    }
   ],
   "source": [
    "# En los datos del Titanic, tambien hay valores faltantes \n",
    "# para la variable Embarked .\n",
    "\n",
    "# Tomemos solo un segmento del dataframe con solo las observaciones con datos \n",
    "# faltantes para la variable Embarked\n",
    "\n",
    "data[data.embarked.isnull()]"
   ]
  },
  {
   "cell_type": "markdown",
   "metadata": {},
   "source": [
    "Estas dos mujeres viajaban juntas, Miss Icard era la mucama de Mrs Stone.\n",
    "\n",
    "A priori, pareciera que no hay indicios que los valores nulos de variables Embarked dependan de otra variable, y el hecho que ambas de estas mujeres sobrevivieron, quiere decir que hubiesen podido dar esta información.\n",
    "\n",
    "Muy probablemente los valores se perdieron en el momento de crear los datos.\n",
    "\n",
    "Si los valores son MCAR, la probabilidad de los datos faltantes para estas dos mujeres es la misma probabilidad que para cualquier otra persona en el Titanic. Por supuesto, esta hipótesis es difícil de demostrar, pero por lo menos nos sirve como ejemplo de variables MCAR."
   ]
  },
  {
   "cell_type": "markdown",
   "metadata": {},
   "source": [
    "### Valores Faltantes Aleatorios (MAR)\n",
    "\n",
    "Para este ejemplo, usaremos los datos de Lending Club. Vamos a explorar la variable nombre de la ocupacion (emp_title) y los años que lleva empleado para dicho empleador (emp_length), ambos declarados por los prestamistas en el momento de aplicación para un préstamo. \n",
    "En este ejemplo, los valores faltantes en emp_title estan asociados con los valores faltantes en emp_length."
   ]
  },
  {
   "cell_type": "code",
   "execution_count": 11,
   "metadata": {},
   "outputs": [
    {
     "data": {
      "text/html": [
       "<div>\n",
       "<style scoped>\n",
       "    .dataframe tbody tr th:only-of-type {\n",
       "        vertical-align: middle;\n",
       "    }\n",
       "\n",
       "    .dataframe tbody tr th {\n",
       "        vertical-align: top;\n",
       "    }\n",
       "\n",
       "    .dataframe thead th {\n",
       "        text-align: right;\n",
       "    }\n",
       "</style>\n",
       "<table border=\"1\" class=\"dataframe\">\n",
       "  <thead>\n",
       "    <tr style=\"text-align: right;\">\n",
       "      <th></th>\n",
       "      <th>emp_title</th>\n",
       "      <th>emp_length</th>\n",
       "    </tr>\n",
       "  </thead>\n",
       "  <tbody>\n",
       "    <tr>\n",
       "      <td>0</td>\n",
       "      <td>NaN</td>\n",
       "      <td>10+ years</td>\n",
       "    </tr>\n",
       "    <tr>\n",
       "      <td>1</td>\n",
       "      <td>Ryder</td>\n",
       "      <td>&lt; 1 year</td>\n",
       "    </tr>\n",
       "    <tr>\n",
       "      <td>2</td>\n",
       "      <td>NaN</td>\n",
       "      <td>10+ years</td>\n",
       "    </tr>\n",
       "    <tr>\n",
       "      <td>3</td>\n",
       "      <td>AIR RESOURCES BOARD</td>\n",
       "      <td>10+ years</td>\n",
       "    </tr>\n",
       "    <tr>\n",
       "      <td>4</td>\n",
       "      <td>University Medical Group</td>\n",
       "      <td>1 year</td>\n",
       "    </tr>\n",
       "  </tbody>\n",
       "</table>\n",
       "</div>"
      ],
      "text/plain": [
       "                  emp_title emp_length\n",
       "0                       NaN  10+ years\n",
       "1                     Ryder   < 1 year\n",
       "2                       NaN  10+ years\n",
       "3       AIR RESOURCES BOARD  10+ years\n",
       "4  University Medical Group     1 year"
      ]
     },
     "execution_count": 11,
     "metadata": {},
     "output_type": "execute_result"
    }
   ],
   "source": [
    "# Carguemos las columnas que nos interesan de los datos\n",
    "# Lending Club \n",
    "\n",
    "data = pd.read_csv('../loan.csv',\n",
    "                   usecols=['emp_title', 'emp_length'],\n",
    "                   na_values='',\n",
    "                   keep_default_na=False)\n",
    "data.head()"
   ]
  },
  {
   "cell_type": "code",
   "execution_count": 12,
   "metadata": {},
   "outputs": [
    {
     "data": {
      "text/plain": [
       "emp_title     0.057988\n",
       "emp_length    0.000000\n",
       "dtype: float64"
      ]
     },
     "execution_count": 12,
     "metadata": {},
     "output_type": "execute_result"
    }
   ],
   "source": [
    "# Miremos el porcentaje de datos faltantes\n",
    "\n",
    "data.isnull().mean()"
   ]
  },
  {
   "cell_type": "markdown",
   "metadata": {},
   "source": [
    "Aldedor del 7% de las observaciones contienen datos faltantes para emp_title. No faltan valores en la variable emp_length."
   ]
  },
  {
   "cell_type": "code",
   "execution_count": 13,
   "metadata": {},
   "outputs": [
    {
     "name": "stdout",
     "output_type": "stream",
     "text": [
      "Número de los diferentes empleos: 299273\n"
     ]
    },
    {
     "data": {
      "text/plain": [
       "array([nan, 'Ryder', 'AIR RESOURCES BOARD', 'University Medical Group',\n",
       "       'Veolia Transportaton', 'Southern Star Photography',\n",
       "       'MKC Accounting ', 'Starbucks', 'Southwest Rural metro', 'UCLA',\n",
       "       'Va. Dept of Conservation/Recreation', 'Target', 'SFMTA',\n",
       "       'Internal revenue Service', \"Chin's Restaurant\", 'Duracell',\n",
       "       'Connection Inspection', 'Network Interpreting Service',\n",
       "       'Archdiocese of Galveston Houston', 'Osram Sylvania'], dtype=object)"
      ]
     },
     "execution_count": 13,
     "metadata": {},
     "output_type": "execute_result"
    }
   ],
   "source": [
    "# Miremos los valores de los diferentes empleos\n",
    "\n",
    "# Número de los diferentes empleos:\n",
    "print('Número de los diferentes empleos: {}'.format(\n",
    "    len(data.emp_title.unique())))\n",
    "\n",
    "# Veamos unos ejemplos:\n",
    "data.emp_title.unique()[0:20]"
   ]
  },
  {
   "cell_type": "code",
   "execution_count": 14,
   "metadata": {},
   "outputs": [
    {
     "data": {
      "text/plain": [
       "array(['10+ years', '< 1 year', '1 year', '3 years', '8 years', '9 years',\n",
       "       '4 years', '5 years', '6 years', '2 years', '7 years', 'n/a'],\n",
       "      dtype=object)"
      ]
     },
     "execution_count": 14,
     "metadata": {},
     "output_type": "execute_result"
    }
   ],
   "source": [
    "# Veamos la variable emp_length\n",
    "data.emp_length.unique()"
   ]
  },
  {
   "cell_type": "markdown",
   "metadata": {},
   "source": [
    "El valor 'n/a', \"not applicable\" es en el cual estamos interesados. El cliente no puede llenar el campo sobre cuántos años lleva empleado, porque quizás no estén trabajando. Puede ser estudiante, ser pensionado o trabajador independientemente."
   ]
  },
  {
   "cell_type": "code",
   "execution_count": 15,
   "metadata": {},
   "outputs": [
    {
     "data": {
      "text/plain": [
       "10+ years    0.328573\n",
       "2 years      0.088880\n",
       "< 1 year     0.079566\n",
       "3 years      0.078913\n",
       "1 year       0.064341\n",
       "5 years      0.062774\n",
       "4 years      0.059196\n",
       "n/a          0.050514\n",
       "7 years      0.050254\n",
       "8 years      0.049534\n",
       "6 years      0.048401\n",
       "9 years      0.039055\n",
       "Name: emp_length, dtype: float64"
      ]
     },
     "execution_count": 15,
     "metadata": {},
     "output_type": "execute_result"
    }
   ],
   "source": [
    "# Miremos el porcentaje de prestamistas  en \n",
    "# cada categoría de la variable emp_length \n",
    "\n",
    "# value_counts cuenta el número de observaciones por categoría\n",
    "# si dividimos por el número de observaciones totales (len(data))\n",
    "# obtenemos los porcentajes de observaciones por categoría\n",
    "\n",
    "data.emp_length.value_counts() / len(data)"
   ]
  },
  {
   "cell_type": "markdown",
   "metadata": {},
   "source": [
    "5 % de los prestamistas registraron 'n/a' para emp_length. De la celda anterior sabemos que para ~7% de los prestamistas emp_title tiene datos faltantes. Podría haber alguna relación entre los datos faltantes de estas variables?\n",
    "\n",
    "Revisemos!"
   ]
  },
  {
   "cell_type": "code",
   "execution_count": 16,
   "metadata": {},
   "outputs": [
    {
     "data": {
      "text/plain": [
       "{'10+ years': '10+ years',\n",
       " '< 1 year': '0-10 years',\n",
       " '1 year': '0-10 years',\n",
       " '3 years': '0-10 years',\n",
       " '8 years': '0-10 years',\n",
       " '9 years': '0-10 years',\n",
       " '4 years': '0-10 years',\n",
       " '5 years': '0-10 years',\n",
       " '6 years': '0-10 years',\n",
       " '2 years': '0-10 years',\n",
       " '7 years': '0-10 years',\n",
       " 'n/a': 'n/a'}"
      ]
     },
     "execution_count": 16,
     "metadata": {},
     "output_type": "execute_result"
    }
   ],
   "source": [
    "# la variable emp_length tiene muchas categorías.\n",
    "\n",
    "# Resumámoslas en 3 por simplicidad:\n",
    "# '0-10 years' or '10+ years' or 'n/a' -->\n",
    "# '0-10 años' o '10+ años' o 'n/a'\n",
    "\n",
    "# Creemos un diccionarios y re-asignemos los valores de emp_length en 3 categorías:\n",
    "\n",
    "length_dict = {k: '0-10 years' for k in data.emp_length.unique()}\n",
    "length_dict['10+ years'] = '10+ years'\n",
    "length_dict['n/a'] = 'n/a'\n",
    "\n",
    "# miremos el diccionario:\n",
    "length_dict"
   ]
  },
  {
   "cell_type": "code",
   "execution_count": 17,
   "metadata": {},
   "outputs": [
    {
     "data": {
      "text/plain": [
       "array(['10+ years', '0-10 years', 'n/a'], dtype=object)"
      ]
     },
     "execution_count": 17,
     "metadata": {},
     "output_type": "execute_result"
    }
   ],
   "source": [
    "# Re-asignemos los valores de la variable emp_length \n",
    "\n",
    "data['emp_length_redefined'] = data.emp_length.map(length_dict)\n",
    "\n",
    "# revisemos si funciono\n",
    "data.emp_length_redefined.unique()"
   ]
  },
  {
   "cell_type": "markdown",
   "metadata": {},
   "source": [
    "Si funcionó, la variable que creamos solo tiene 3 categorias diferentes.\n"
   ]
  },
  {
   "cell_type": "code",
   "execution_count": 18,
   "metadata": {},
   "outputs": [
    {
     "data": {
      "text/plain": [
       "emp_length_redefined\n",
       "10+ years     0.054006\n",
       "0-10 years    0.082457\n",
       "n/a           0.863537\n",
       "Name: emp_length, dtype: float64"
      ]
     },
     "execution_count": 18,
     "metadata": {},
     "output_type": "execute_result"
    }
   ],
   "source": [
    "# Calculemos la proporción de años de trabajo en la misma ocupación \n",
    "# para aquellos que tienen datos faltantes en la variable emp_title\n",
    "\n",
    "# data[data.emp_title.isnull()] representa las observaciones con \n",
    "# valores faltantes en emp_title. \n",
    "\n",
    "# Cálculos:\n",
    "# número de prestamistas para los cuales la ocupación es nula\n",
    "not_employed = len(data[data.emp_title.isnull()])\n",
    "\n",
    "# % de prestamistas para los cuales la ocupacióon falta\n",
    "# por cada categoría de años de trabajo\n",
    "\n",
    "data[data.emp_title.isnull()].groupby(\n",
    "    ['emp_length_redefined'])['emp_length'].count().sort_values() / not_employed"
   ]
  },
  {
   "cell_type": "markdown",
   "metadata": {},
   "source": [
    "Este resultado nos dice lo siguiente:\n",
    "Para todos los prestamistas que tienen información faltante en emp_title, para aquellos que no están empleados:\n",
    "- 5.4% declaró más de 10 años en emp_length (quizás son empleados independientes)\n",
    "- 8.4% declaró entre 0-10 años en emp_length (igual que el anterior, quizás independientes)\n",
    "- 86.3 % declaró n/a en emp_length (quizás son estudiantes, o trabajan en casa o son pensionados)\n",
    "\n",
    "La mayoría de los datos faltantes en emp_title coinciden con la etiqueta 'n/a' en la variable emp_length (86%). Esto apoya la idea que estas 2 variables están relacionadas. De modo que los datos faltantes en emp_title, son MAR.\n"
   ]
  },
  {
   "cell_type": "code",
   "execution_count": 19,
   "metadata": {},
   "outputs": [
    {
     "data": {
      "text/plain": [
       "emp_length_redefined\n",
       "n/a           0.000467\n",
       "10+ years     0.345475\n",
       "0-10 years    0.654059\n",
       "Name: emp_length, dtype: float64"
      ]
     },
     "execution_count": 19,
     "metadata": {},
     "output_type": "execute_result"
    }
   ],
   "source": [
    "# Hagamos lo mismo para aquellos prestamistas que declaraon una ocupación\n",
    "\n",
    "# número de prestamistas donde el nombre de la ocupación existe:\n",
    "# número de empleados \n",
    "employed = len(data.dropna(subset=['emp_title']))\n",
    "\n",
    "# % de prestamistas en cada categoría\n",
    "data.dropna(subset=['emp_title']).groupby(\n",
    "    ['emp_length_redefined'])['emp_length'].count().sort_values() / employed"
   ]
  },
  {
   "cell_type": "markdown",
   "metadata": {},
   "source": [
    "El número de prestamistas que han reportado el nombre de un empleador (emp_title) y tienen   'n/a' como emp_length son muy pocos. Esto  confirma que los valores faltantes en emp_title están relacionados con 'n/a' en la variable emp_length.\n",
    "\n",
    "'n/a' en emp_length puede ser registrado por personas pensionadas o estudiantes.\n",
    "\n",
    "Valores faltantes en la variable emp_title dependen o están relacionados con la categoría 'n/a' en la variable emp_length. Este es un ejemplo de una variable MAR. El valor en emp_title falta de forma aleatoria para aquellos clientes que no están empleados, pero cuando emp_length falta, emp_title también está ausente."
   ]
  },
  {
   "cell_type": "markdown",
   "metadata": {
    "collapsed": true
   },
   "source": [
    "\n",
    "**Esto es todo por este demo, esperamos lo hayan disfrutado y nos vemos en el siguiente. **"
   ]
  }
 ],
 "metadata": {
  "kernelspec": {
   "display_name": "feml",
   "language": "python",
   "name": "feml"
  },
  "language_info": {
   "codemirror_mode": {
    "name": "ipython",
    "version": 3
   },
   "file_extension": ".py",
   "mimetype": "text/x-python",
   "name": "python",
   "nbconvert_exporter": "python",
   "pygments_lexer": "ipython3",
   "version": "3.7.3"
  },
  "toc": {
   "nav_menu": {},
   "number_sections": true,
   "sideBar": true,
   "skip_h1_title": false,
   "toc_cell": false,
   "toc_position": {},
   "toc_section_display": "block",
   "toc_window_display": true
  }
 },
 "nbformat": 4,
 "nbformat_minor": 1
}
