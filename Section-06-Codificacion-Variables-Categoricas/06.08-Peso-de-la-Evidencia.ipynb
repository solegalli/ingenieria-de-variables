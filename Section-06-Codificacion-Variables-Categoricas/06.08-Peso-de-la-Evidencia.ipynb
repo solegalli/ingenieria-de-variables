{
 "cells": [
  {
   "cell_type": "markdown",
   "metadata": {},
   "source": [
    "## Pesos de Evidencia - Weight of evidence WoE\n",
    "\n",
    "Pesos de Evidencia - Weight of Evidence (WoE) por sus siglas en inglés fue desarrollado principalmente por las industrias de crédito y financieras para construir mejores modelos para la predicción de riesgo de incumplimiento de pago en préstamos. Es decir, predecir que tan probable es que el dinero prestado a una persona o institución no sea devuelto. El Peso de Evidencia, es una medida de la \"fortaleza\" de una técnica de agrupamiento para separar riesgo alto y bajo (riesgo de incumplimiento).\n",
    "\n",
    "- WoE será 0 si P(positivos) / P(negativos) = 1, es decir, si el resultado es aleatorio para ese grupo.\n",
    "- SiP(positivos) > P(negativos)  el índice de probabilidad será < 1 y,\n",
    "- WoE  será < 0 si,  P(positivos) > P(negativos) .\n",
    "\n",
    "WoE es adecuado para Regresiones Logísticas porque la transformación Logit es simplemente el logaritmo de la probabilidad, es decir, ln( P(positivos)/ P(negativos)). Por lo tanto, usando variables codificadas con WoE en los regresores logísticos, genera variables codificadas en la misma escala, y los parámetros de la ecuación en la regresión lineal pueden ser comparados directamente.\n",
    "\n",
    "La transformación WoE tiene tres ventajas:\n",
    "\n",
    "- Crea una relación monotónica entre el target y las variables independientes.\n",
    "- Ordena las categorías en una escala 'logística' lo cual es natural para una regresión logística.\n",
    "- Las variables transformadas pueden ser comparadas porque estan en la misma escala. Por lo tanto, es posible determinar cuales son más predictivas.\n",
    "\n",
    "WoE tiene también una limitación:\n",
    "\n",
    "- Tiende a causar sobre-ajustes\n",
    "- No está definida cuando el denominador es 0\n",
    "\n",
    "Más detalles en este [enlace](http://documentation.statsoft.com/StatisticaHelp.aspx?path=WeightofEvidence/WeightofEvidenceWoEIntroductoryOverview) y este otro [enlace](https://blogs.oracle.com/r/computing-weight-of-evidence-woe-and-information-value-iv)\n",
    "\n",
    "\n",
    "## En este demo:\n",
    "\n",
    "Vamos a aprender como transformar WoE con:\n",
    "- pandas\n",
    "- Feature-engine\n",
    "- Category encoders\n",
    "\n",
    "y vamos a ver las ventajas y limitaciones de cada una de estas implementaciones usando los datos del Titanic.\n"
   ]
  },
  {
   "cell_type": "code",
   "execution_count": 1,
   "metadata": {
    "scrolled": true
   },
   "outputs": [],
   "source": [
    "import numpy as np\n",
    "import pandas as pd\n",
    "\n",
    "import matplotlib.pyplot as plt\n",
    "\n",
    "# separar los datos \n",
    "from sklearn.model_selection import train_test_split\n",
    "\n",
    "# para codificar usando feature-engine\n",
    "from feature_engine.categorical_encoders import WoERatioCategoricalEncoder\n",
    "from category_encoders.woe import WOEEncoder"
   ]
  },
  {
   "cell_type": "code",
   "execution_count": 2,
   "metadata": {},
   "outputs": [
    {
     "data": {
      "text/html": [
       "<div>\n",
       "<style scoped>\n",
       "    .dataframe tbody tr th:only-of-type {\n",
       "        vertical-align: middle;\n",
       "    }\n",
       "\n",
       "    .dataframe tbody tr th {\n",
       "        vertical-align: top;\n",
       "    }\n",
       "\n",
       "    .dataframe thead th {\n",
       "        text-align: right;\n",
       "    }\n",
       "</style>\n",
       "<table border=\"1\" class=\"dataframe\">\n",
       "  <thead>\n",
       "    <tr style=\"text-align: right;\">\n",
       "      <th></th>\n",
       "      <th>survived</th>\n",
       "      <th>sex</th>\n",
       "      <th>cabin</th>\n",
       "      <th>embarked</th>\n",
       "    </tr>\n",
       "  </thead>\n",
       "  <tbody>\n",
       "    <tr>\n",
       "      <th>0</th>\n",
       "      <td>1</td>\n",
       "      <td>female</td>\n",
       "      <td>B5</td>\n",
       "      <td>S</td>\n",
       "    </tr>\n",
       "    <tr>\n",
       "      <th>1</th>\n",
       "      <td>1</td>\n",
       "      <td>male</td>\n",
       "      <td>C22</td>\n",
       "      <td>S</td>\n",
       "    </tr>\n",
       "    <tr>\n",
       "      <th>2</th>\n",
       "      <td>0</td>\n",
       "      <td>female</td>\n",
       "      <td>C22</td>\n",
       "      <td>S</td>\n",
       "    </tr>\n",
       "    <tr>\n",
       "      <th>3</th>\n",
       "      <td>0</td>\n",
       "      <td>male</td>\n",
       "      <td>C22</td>\n",
       "      <td>S</td>\n",
       "    </tr>\n",
       "    <tr>\n",
       "      <th>4</th>\n",
       "      <td>0</td>\n",
       "      <td>female</td>\n",
       "      <td>C22</td>\n",
       "      <td>S</td>\n",
       "    </tr>\n",
       "  </tbody>\n",
       "</table>\n",
       "</div>"
      ],
      "text/plain": [
       "   survived     sex cabin embarked\n",
       "0         1  female    B5        S\n",
       "1         1    male   C22        S\n",
       "2         0  female   C22        S\n",
       "3         0    male   C22        S\n",
       "4         0  female   C22        S"
      ]
     },
     "execution_count": 2,
     "metadata": {},
     "output_type": "execute_result"
    }
   ],
   "source": [
    "# cargar los datos\n",
    "\n",
    "data = pd.read_csv(\n",
    "    '../titanic.csv',\n",
    "    usecols=['cabin', 'sex', 'embarked', 'survived'])\n",
    "\n",
    "data.head()"
   ]
  },
  {
   "cell_type": "code",
   "execution_count": 3,
   "metadata": {},
   "outputs": [
    {
     "data": {
      "text/plain": [
       "(1307, 4)"
      ]
     },
     "execution_count": 3,
     "metadata": {},
     "output_type": "execute_result"
    }
   ],
   "source": [
    "# removamos las observaciones con datos ausentes (na) en embarked\n",
    "\n",
    "data.dropna(subset=['embarked'], inplace=True)\n",
    "data.shape"
   ]
  },
  {
   "cell_type": "code",
   "execution_count": 4,
   "metadata": {},
   "outputs": [],
   "source": [
    "# Ahora reemplazamos los valores de la variable cabin \n",
    "# con la primera letra de cada una de sus etiquetas. \n",
    "# De esta forma simplificamos los valores en la variable \n",
    "# y facilitamos el demo\n",
    "\n",
    "data['cabin'] = data['cabin'].astype(str).str[0]"
   ]
  },
  {
   "cell_type": "code",
   "execution_count": 5,
   "metadata": {},
   "outputs": [
    {
     "data": {
      "text/plain": [
       "(1306, 4)"
      ]
     },
     "execution_count": 5,
     "metadata": {},
     "output_type": "execute_result"
    }
   ],
   "source": [
    "# removemos las observaciones donde cabin = T\n",
    "# ya que solo son unas pocas\n",
    "\n",
    "data = data[data['cabin']!= 'T']\n",
    "data.shape"
   ]
  },
  {
   "cell_type": "code",
   "execution_count": 6,
   "metadata": {},
   "outputs": [
    {
     "name": "stdout",
     "output_type": "stream",
     "text": [
      "survived :  2  etiquetas\n",
      "sex :  2  etiquetas\n",
      "cabin :  8  etiquetas\n",
      "embarked :  3  etiquetas\n"
     ]
    }
   ],
   "source": [
    "# miremos cuantas categorías tiene cada variable\n",
    "\n",
    "for col in data.columns:\n",
    "    print(col, ': ', len(data[col].unique()), ' etiquetas')"
   ]
  },
  {
   "cell_type": "code",
   "execution_count": 7,
   "metadata": {},
   "outputs": [
    {
     "data": {
      "text/plain": [
       "array(['B', 'C', 'E', 'D', 'A', 'n', 'F', 'G'], dtype=object)"
      ]
     },
     "execution_count": 7,
     "metadata": {},
     "output_type": "execute_result"
    }
   ],
   "source": [
    "# exploremos las categorías únicas\n",
    "\n",
    "data['cabin'].unique()"
   ]
  },
  {
   "cell_type": "code",
   "execution_count": 8,
   "metadata": {},
   "outputs": [
    {
     "data": {
      "text/plain": [
       "array(['female', 'male'], dtype=object)"
      ]
     },
     "execution_count": 8,
     "metadata": {},
     "output_type": "execute_result"
    }
   ],
   "source": [
    "data['sex'].unique()"
   ]
  },
  {
   "cell_type": "code",
   "execution_count": 9,
   "metadata": {},
   "outputs": [
    {
     "data": {
      "text/plain": [
       "array(['S', 'C', 'Q'], dtype=object)"
      ]
     },
     "execution_count": 9,
     "metadata": {},
     "output_type": "execute_result"
    }
   ],
   "source": [
    "data['embarked'].unique()"
   ]
  },
  {
   "cell_type": "markdown",
   "metadata": {},
   "source": [
    "### Importante\n",
    "\n",
    "Calculamos los WoE usando el set de entrenamiento, y luego usamos ese mapeo en el set de prueba.\n",
    "\n",
    "Para implementarlo en pandas, tenemos que mantener el target en el set de entrenamiento.\n"
   ]
  },
  {
   "cell_type": "code",
   "execution_count": 10,
   "metadata": {},
   "outputs": [
    {
     "data": {
      "text/plain": [
       "((914, 4), (392, 4))"
      ]
     },
     "execution_count": 10,
     "metadata": {},
     "output_type": "execute_result"
    }
   ],
   "source": [
    "# separemos en sets de prueba y entrenamiento\n",
    "\n",
    "X_train, X_test, y_train, y_test = train_test_split(\n",
    "    data[['cabin', 'sex', 'embarked', 'survived']],  # esta vez mantenemos el target en la variable\n",
    "    data['survived'],  # target\n",
    "    test_size=0.3,  # porcentaje de observaciones en el segmento de prueba\n",
    "    random_state=0)  # semilla para asegurar reproducibilidad\n",
    "\n",
    "X_train.shape, X_test.shape\n"
   ]
  },
  {
   "cell_type": "markdown",
   "metadata": {},
   "source": [
    "### Exploremos la relación original entre las variables categóricas y el target"
   ]
  },
  {
   "cell_type": "code",
   "execution_count": 11,
   "metadata": {},
   "outputs": [
    {
     "data": {
      "image/png": "[encoded data removed]",
      "text/plain": [
       "<Figure size 432x288 with 1 Axes>"
      ]
     },
     "metadata": {
      "needs_background": "light"
     },
     "output_type": "display_data"
    },
    {
     "data": {
      "image/png": "[encoded data removed]",
      "text/plain": [
       "<Figure size 432x288 with 1 Axes>"
      ]
     },
     "metadata": {
      "needs_background": "light"
     },
     "output_type": "display_data"
    },
    {
     "data": {
      "image/png": "[encoded data removed]",
      "text/plain": [
       "<Figure size 432x288 with 1 Axes>"
      ]
     },
     "metadata": {
      "needs_background": "light"
     },
     "output_type": "display_data"
    }
   ],
   "source": [
    "# Exploremos la relación original entre las variables categóricas \n",
    "# y el target survived\n",
    "\n",
    "for var in ['cabin', 'sex', 'embarked']:\n",
    "    \n",
    "    fig = plt.figure()\n",
    "    fig = X_train.groupby([var])['survived'].mean().plot()\n",
    "    fig.set_title('Relación entre {} y target: survived'.format(var))\n",
    "    fig.set_ylabel('Promedio Supervivencia')\n",
    "    plt.show()"
   ]
  },
  {
   "cell_type": "markdown",
   "metadata": {},
   "source": [
    "Podemos ver que la relación entre el target y las variables cabin/embarked sube y baja dependiendo de la categoría. \n",
    "\n",
    "\n",
    "## Pesos de Evidencia - Weight of Evidence con pandas\n",
    "\n",
    "### Ventajas\n",
    "\n",
    "- rápido\n",
    "- retorna un pandas dataframe\n",
    "\n",
    "### Limitaciones de pandas:\n",
    "\n",
    "- no preserva la información del set de entrenamiento para propagarlo al segmento de prueba\n",
    "\n",
    "Necesitamos capturar y guardar los mapeos uno por uno, manualmente, si estamos planeando usarlos en producción\n"
   ]
  },
  {
   "cell_type": "code",
   "execution_count": 12,
   "metadata": {},
   "outputs": [
    {
     "data": {
      "text/plain": [
       "cabin\n",
       "A    0.020408\n",
       "B    0.090379\n",
       "C    0.122449\n",
       "D    0.067055\n",
       "E    0.061224\n",
       "F    0.029155\n",
       "G    0.008746\n",
       "n    0.600583\n",
       "Name: survived, dtype: float64"
      ]
     },
     "execution_count": 12,
     "metadata": {},
     "output_type": "execute_result"
    }
   ],
   "source": [
    "# Calculamos la proporción de pasajeros que sobrevivieron \n",
    "# por categoría de la variable cabin con respecto al \n",
    "# total de sobrevivientes\n",
    "\n",
    "# sobrevivientes totales\n",
    "total_survived = X_train['survived'].sum()\n",
    "\n",
    "# Porcentaje de pasajeros que sobrevivieron, del total de sobrevivientes\n",
    "# por cada categoría de la variable cabin\n",
    "survived = X_train.groupby(['cabin'])['survived'].sum() / total_survived\n",
    "survived"
   ]
  },
  {
   "cell_type": "code",
   "execution_count": 13,
   "metadata": {},
   "outputs": [
    {
     "data": {
      "text/plain": [
       "cabin\n",
       "A    0.017513\n",
       "B    0.019264\n",
       "C    0.049037\n",
       "D    0.017513\n",
       "E    0.015762\n",
       "F    0.005254\n",
       "G    0.001751\n",
       "n    0.873905\n",
       "Name: non_survived, dtype: float64"
      ]
     },
     "execution_count": 13,
     "metadata": {},
     "output_type": "execute_result"
    }
   ],
   "source": [
    "# Calculamos la proporción de pasajeros que no sobrevivieron \n",
    "# por categoría de la variable cabin con respecto al \n",
    "# total de pasajeros que no sobrevivientes\n",
    "\n",
    "# total de pasajeros que no sobrevivieron\n",
    "total_non_survived = len(X_train) - X_train['survived'].sum()\n",
    "\n",
    "# Vamos a crear un marcador para los pasajeros que no sobrevivieron\n",
    "X_train['non_survived'] = np.where(X_train['survived'] == 1, 0, 1)\n",
    "\n",
    "# Ahora vamos a calcular el % de pasajeros que no sobrevivieron\n",
    "# por categoría de la variable cabin\n",
    "non_survived = X_train.groupby(\n",
    "    ['cabin'])['non_survived'].sum() / total_non_survived\n",
    "\n",
    "non_survived"
   ]
  },
  {
   "cell_type": "code",
   "execution_count": 14,
   "metadata": {},
   "outputs": [
    {
     "data": {
      "text/html": [
       "<div>\n",
       "<style scoped>\n",
       "    .dataframe tbody tr th:only-of-type {\n",
       "        vertical-align: middle;\n",
       "    }\n",
       "\n",
       "    .dataframe tbody tr th {\n",
       "        vertical-align: top;\n",
       "    }\n",
       "\n",
       "    .dataframe thead th {\n",
       "        text-align: right;\n",
       "    }\n",
       "</style>\n",
       "<table border=\"1\" class=\"dataframe\">\n",
       "  <thead>\n",
       "    <tr style=\"text-align: right;\">\n",
       "      <th></th>\n",
       "      <th>survived</th>\n",
       "      <th>non_survived</th>\n",
       "      <th>woe</th>\n",
       "    </tr>\n",
       "    <tr>\n",
       "      <th>cabin</th>\n",
       "      <th></th>\n",
       "      <th></th>\n",
       "      <th></th>\n",
       "    </tr>\n",
       "  </thead>\n",
       "  <tbody>\n",
       "    <tr>\n",
       "      <th>A</th>\n",
       "      <td>0.020408</td>\n",
       "      <td>0.017513</td>\n",
       "      <td>0.152984</td>\n",
       "    </tr>\n",
       "    <tr>\n",
       "      <th>B</th>\n",
       "      <td>0.090379</td>\n",
       "      <td>0.019264</td>\n",
       "      <td>1.545751</td>\n",
       "    </tr>\n",
       "    <tr>\n",
       "      <th>C</th>\n",
       "      <td>0.122449</td>\n",
       "      <td>0.049037</td>\n",
       "      <td>0.915124</td>\n",
       "    </tr>\n",
       "    <tr>\n",
       "      <th>D</th>\n",
       "      <td>0.067055</td>\n",
       "      <td>0.017513</td>\n",
       "      <td>1.342568</td>\n",
       "    </tr>\n",
       "    <tr>\n",
       "      <th>E</th>\n",
       "      <td>0.061224</td>\n",
       "      <td>0.015762</td>\n",
       "      <td>1.356957</td>\n",
       "    </tr>\n",
       "    <tr>\n",
       "      <th>F</th>\n",
       "      <td>0.029155</td>\n",
       "      <td>0.005254</td>\n",
       "      <td>1.713632</td>\n",
       "    </tr>\n",
       "    <tr>\n",
       "      <th>G</th>\n",
       "      <td>0.008746</td>\n",
       "      <td>0.001751</td>\n",
       "      <td>1.608271</td>\n",
       "    </tr>\n",
       "    <tr>\n",
       "      <th>n</th>\n",
       "      <td>0.600583</td>\n",
       "      <td>0.873905</td>\n",
       "      <td>-0.375071</td>\n",
       "    </tr>\n",
       "  </tbody>\n",
       "</table>\n",
       "</div>"
      ],
      "text/plain": [
       "       survived  non_survived       woe\n",
       "cabin                                  \n",
       "A      0.020408      0.017513  0.152984\n",
       "B      0.090379      0.019264  1.545751\n",
       "C      0.122449      0.049037  0.915124\n",
       "D      0.067055      0.017513  1.342568\n",
       "E      0.061224      0.015762  1.356957\n",
       "F      0.029155      0.005254  1.713632\n",
       "G      0.008746      0.001751  1.608271\n",
       "n      0.600583      0.873905 -0.375071"
      ]
     },
     "execution_count": 14,
     "metadata": {},
     "output_type": "execute_result"
    }
   ],
   "source": [
    "# Ahora combinemos esas dos series en un marco de datos y calculemos el\n",
    "# WoE\n",
    "\n",
    "# concatenemos la serie en un marco de datos\n",
    "prob_df = pd.concat([survived, non_survived], axis=1)\n",
    "\n",
    "# Vamos a calcular el peso de la evidencia\n",
    "prob_df['woe'] = np.log(prob_df['survived']/prob_df['non_survived'])\n",
    "\n",
    "prob_df"
   ]
  },
  {
   "cell_type": "code",
   "execution_count": 15,
   "metadata": {},
   "outputs": [
    {
     "data": {
      "text/plain": [
       "{'A': 0.1529838185513379,\n",
       " 'B': 1.545750694176846,\n",
       " 'C': 0.9151238705982346,\n",
       " 'D': 1.3425678854251744,\n",
       " 'E': 1.356956622877274,\n",
       " 'F': 1.7136315668160063,\n",
       " 'G': 1.60827105115818,\n",
       " 'n': -0.37507116447186734}"
      ]
     },
     "execution_count": 15,
     "metadata": {},
     "output_type": "execute_result"
    }
   ],
   "source": [
    "# y capturemos el WoE en un diccionario \n",
    "\n",
    "ordered_labels = prob_df['woe'].to_dict()\n",
    "\n",
    "ordered_labels"
   ]
  },
  {
   "cell_type": "code",
   "execution_count": 16,
   "metadata": {},
   "outputs": [],
   "source": [
    "# ahora, reemplazamos cada etiqueta con el valor del WoE\n",
    "\n",
    "X_train['cabin'] = X_train['cabin'].map(ordered_labels)\n",
    "X_test['cabin'] = X_test['cabin'].map(ordered_labels)"
   ]
  },
  {
   "cell_type": "code",
   "execution_count": 17,
   "metadata": {},
   "outputs": [
    {
     "data": {
      "text/plain": [
       "843    -0.375071\n",
       "869    -0.375071\n",
       "430    -0.375071\n",
       "481    -0.375071\n",
       "1308   -0.375071\n",
       "456    -0.375071\n",
       "118     1.342568\n",
       "485     1.342568\n",
       "297    -0.375071\n",
       "263     1.356957\n",
       "Name: cabin, dtype: float64"
      ]
     },
     "execution_count": 17,
     "metadata": {},
     "output_type": "execute_result"
    }
   ],
   "source": [
    "# exporemos el resultado\n",
    "\n",
    "X_train['cabin'].head(10)"
   ]
  },
  {
   "cell_type": "code",
   "execution_count": 18,
   "metadata": {},
   "outputs": [],
   "source": [
    "# agrupemos los comandos anteriores en dos funciones\n",
    "\n",
    "def find_category_mappings(df, variable, target):\n",
    "\n",
    "    # copia del dataframe original, para que no lo modifiquemos\n",
    "    # accidentalmente\n",
    "    tmp = df.copy()\n",
    "\n",
    "    # total classe positiva\n",
    "    total_pos = df[target].sum()\n",
    "\n",
    "    # total clase negativa\n",
    "    total_neg = len(df) - df[target].sum()\n",
    "\n",
    "    # inversa del target\n",
    "    tmp['non-target'] = 1 - tmp[target]\n",
    "\n",
    "    # % de clase positiva por categoría, respecto al total de clase positiva\n",
    "    pos_perc = tmp.groupby([variable])[target].sum() / total_pos\n",
    "\n",
    "    # % de clase negativa por categoría, respecto al total de la clase negativa\n",
    "    neg_perc = tmp.groupby([variable])['non-target'].sum() / total_neg\n",
    "\n",
    "    # concatenemos\n",
    "    prob_tmp = pd.concat([pos_perc, neg_perc], axis=1)\n",
    "\n",
    "    # calculemos el peso de la evidencia\n",
    "    prob_tmp['woe'] = np.log(prob_tmp[target]/prob_tmp['non-target'])\n",
    "\n",
    "    return prob_tmp['woe'].to_dict()\n",
    "\n",
    "\n",
    "def integer_encode(train, test, variable, ordinal_mapping):\n",
    "\n",
    "    X_train[variable] = X_train[variable].map(ordinal_mapping)\n",
    "\n",
    "    X_test[variable] = X_test[variable].map(ordinal_mapping)"
   ]
  },
  {
   "cell_type": "code",
   "execution_count": 19,
   "metadata": {},
   "outputs": [],
   "source": [
    "# ahora repitamos el proceso para cada una de las variables categóricas\n",
    "\n",
    "for variable in ['sex', 'embarked']:\n",
    "    \n",
    "    mappings = find_category_mappings(X_train, variable, 'survived')\n",
    "    \n",
    "    integer_encode(X_train, X_test, variable, mappings)"
   ]
  },
  {
   "cell_type": "code",
   "execution_count": 20,
   "metadata": {},
   "outputs": [
    {
     "data": {
      "text/html": [
       "<div>\n",
       "<style scoped>\n",
       "    .dataframe tbody tr th:only-of-type {\n",
       "        vertical-align: middle;\n",
       "    }\n",
       "\n",
       "    .dataframe tbody tr th {\n",
       "        vertical-align: top;\n",
       "    }\n",
       "\n",
       "    .dataframe thead th {\n",
       "        text-align: right;\n",
       "    }\n",
       "</style>\n",
       "<table border=\"1\" class=\"dataframe\">\n",
       "  <thead>\n",
       "    <tr style=\"text-align: right;\">\n",
       "      <th></th>\n",
       "      <th>cabin</th>\n",
       "      <th>sex</th>\n",
       "      <th>embarked</th>\n",
       "      <th>survived</th>\n",
       "      <th>non_survived</th>\n",
       "    </tr>\n",
       "  </thead>\n",
       "  <tbody>\n",
       "    <tr>\n",
       "      <th>843</th>\n",
       "      <td>-0.375071</td>\n",
       "      <td>-1.013111</td>\n",
       "      <td>-0.164796</td>\n",
       "      <td>0</td>\n",
       "      <td>1</td>\n",
       "    </tr>\n",
       "    <tr>\n",
       "      <th>869</th>\n",
       "      <td>-0.375071</td>\n",
       "      <td>-1.013111</td>\n",
       "      <td>-0.164796</td>\n",
       "      <td>0</td>\n",
       "      <td>1</td>\n",
       "    </tr>\n",
       "    <tr>\n",
       "      <th>430</th>\n",
       "      <td>-0.375071</td>\n",
       "      <td>1.535068</td>\n",
       "      <td>-0.164796</td>\n",
       "      <td>1</td>\n",
       "      <td>0</td>\n",
       "    </tr>\n",
       "    <tr>\n",
       "      <th>481</th>\n",
       "      <td>-0.375071</td>\n",
       "      <td>1.535068</td>\n",
       "      <td>0.658871</td>\n",
       "      <td>1</td>\n",
       "      <td>0</td>\n",
       "    </tr>\n",
       "    <tr>\n",
       "      <th>1308</th>\n",
       "      <td>-0.375071</td>\n",
       "      <td>-1.013111</td>\n",
       "      <td>-0.164796</td>\n",
       "      <td>0</td>\n",
       "      <td>1</td>\n",
       "    </tr>\n",
       "  </tbody>\n",
       "</table>\n",
       "</div>"
      ],
      "text/plain": [
       "         cabin       sex  embarked  survived  non_survived\n",
       "843  -0.375071 -1.013111 -0.164796         0             1\n",
       "869  -0.375071 -1.013111 -0.164796         0             1\n",
       "430  -0.375071  1.535068 -0.164796         1             0\n",
       "481  -0.375071  1.535068  0.658871         1             0\n",
       "1308 -0.375071 -1.013111 -0.164796         0             1"
      ]
     },
     "execution_count": 20,
     "metadata": {},
     "output_type": "execute_result"
    }
   ],
   "source": [
    "# veamos el resultado\n",
    "\n",
    "X_train.head()"
   ]
  },
  {
   "cell_type": "code",
   "execution_count": 21,
   "metadata": {
    "scrolled": false
   },
   "outputs": [
    {
     "data": {
      "image/png": "[encoded data removed]",
      "text/plain": [
       "<Figure size 432x288 with 1 Axes>"
      ]
     },
     "metadata": {
      "needs_background": "light"
     },
     "output_type": "display_data"
    },
    {
     "data": {
      "image/png": "[encoded data removed]",
      "text/plain": [
       "<Figure size 432x288 with 1 Axes>"
      ]
     },
     "metadata": {
      "needs_background": "light"
     },
     "output_type": "display_data"
    },
    {
     "data": {
      "image/png": "[encoded data removed]",
      "text/plain": [
       "<Figure size 432x288 with 1 Axes>"
      ]
     },
     "metadata": {
      "needs_background": "light"
     },
     "output_type": "display_data"
    }
   ],
   "source": [
    "# inspeccionemos la relación monotónica\n",
    "# entre la variable y el target\n",
    "\n",
    "for var in ['cabin', 'sex', 'embarked']:\n",
    "    \n",
    "    fig = plt.figure()\n",
    "    fig = X_train.groupby([var])['survived'].mean().plot()\n",
    "    fig.set_title('Relación monotónica entre {} y target: survived'.format(var))\n",
    "    fig.set_ylabel('Promedio Supervivencia')\n",
    "    plt.show()"
   ]
  },
  {
   "cell_type": "markdown",
   "metadata": {},
   "source": [
    "Podemos ver de las gráficas que la relación entre las categorias y el target ahora es monotónica."
   ]
  },
  {
   "cell_type": "code",
   "execution_count": 22,
   "metadata": {
    "scrolled": false
   },
   "outputs": [
    {
     "data": {
      "image/png": "[encoded data removed]",
      "text/plain": [
       "<Figure size 432x288 with 1 Axes>"
      ]
     },
     "metadata": {
      "needs_background": "light"
     },
     "output_type": "display_data"
    },
    {
     "data": {
      "image/png": "[encoded data removed]",
      "text/plain": [
       "<Figure size 432x288 with 1 Axes>"
      ]
     },
     "metadata": {
      "needs_background": "light"
     },
     "output_type": "display_data"
    },
    {
     "data": {
      "image/png": "[encoded data removed]",
      "text/plain": [
       "<Figure size 432x288 with 1 Axes>"
      ]
     },
     "metadata": {
      "needs_background": "light"
     },
     "output_type": "display_data"
    }
   ],
   "source": [
    "# ahora lo mismo en el test set\n",
    "\n",
    "for var in ['cabin', 'sex', 'embarked']:\n",
    "    \n",
    "    fig = plt.figure()\n",
    "    fig = X_test.groupby([var])['survived'].mean().plot()\n",
    "    fig.set_title('Relación monotónica entre {} y target: survived'.format(var))\n",
    "    fig.set_ylabel('Promedio Supervivencia')\n",
    "    plt.show()"
   ]
  },
  {
   "cell_type": "markdown",
   "metadata": {},
   "source": [
    "La relación monótonica no se mantiene cuando se codifican las variables categóricas del conjunto de pruebas. Esto podría significar que las categorías no son informativas o que la proporción de supervivientes no es homogénea entre las categorías del set de entrenamiento y prueba\n",
    "\n",
    "En situaciones como ésta, podríamos intentar agrupar las etiquetas raras en una nueva categoría antes de aplicar la transformación del peso de la evidencia, como veremos más adelante en esta secció del curso. \n",
    "\n",
    "Traducción realizada con la versión gratuita del traductor www.DeepL.com/Translator\n",
    "\n",
    "### Nota\n",
    "\n",
    "Reemplazar las etiquetas con el código anterior, va a generar valores faltantes para las categorías presentes en el set de prueba pero que no lo están en el set de entrenamiento. \n",
    "\n",
    "Por lo tanto es extremadamente importante, manejar las etiquetas poco comunes con prelación. Explicaremos como hacer esto más adelante en otro notebook.\n",
    "\n",
    "**Además, creará NA o Inf si cualquiera de los 2 términos en la proporción de la fórmula del peso de la evidencia son 0**"
   ]
  },
  {
   "cell_type": "markdown",
   "metadata": {},
   "source": [
    "## Pesos de Evidencia - Weight of Evidence con feature-engine\n",
    "\n",
    "Si usamos Feature-Engine, en lugar de pandas, no necesitamos mantener el target en el set de entrenamiento."
   ]
  },
  {
   "cell_type": "code",
   "execution_count": 23,
   "metadata": {},
   "outputs": [
    {
     "data": {
      "text/plain": [
       "((914, 3), (392, 3))"
      ]
     },
     "execution_count": 23,
     "metadata": {},
     "output_type": "execute_result"
    }
   ],
   "source": [
    "# separemos en set de prueba y entrenamiento\n",
    "\n",
    "X_train, X_test, y_train, y_test = train_test_split(\n",
    "    data[['cabin', 'sex', 'embarked']], # predictores\n",
    "    data['survived'],  # target\n",
    "    test_size=0.3,  # porcentaje de observaciones en el set de prueba\n",
    "    random_state=0)  # semilla asegurar reproducibilidad\n",
    "X_train.shape, X_test.shape"
   ]
  },
  {
   "cell_type": "code",
   "execution_count": 24,
   "metadata": {},
   "outputs": [],
   "source": [
    "woe_enc = WoERatioCategoricalEncoder(\n",
    "    encoding_method = 'woe',\n",
    "    variables=['cabin', 'sex', 'embarked'])"
   ]
  },
  {
   "cell_type": "code",
   "execution_count": 25,
   "metadata": {},
   "outputs": [
    {
     "data": {
      "text/plain": [
       "WoERatioCategoricalEncoder(variables=['cabin', 'sex', 'embarked'])"
      ]
     },
     "execution_count": 25,
     "metadata": {},
     "output_type": "execute_result"
    }
   ],
   "source": [
    "# cuando ajustamos el transformador, necesitamos pasar \n",
    "# el target, al igual que las otras clases de predictores de Scikit-learn \n",
    "woe_enc.fit(X_train, y_train)"
   ]
  },
  {
   "cell_type": "code",
   "execution_count": 26,
   "metadata": {
    "scrolled": true
   },
   "outputs": [
    {
     "data": {
      "text/plain": [
       "{'cabin': {'A': 0.1529838185513379,\n",
       "  'B': 1.545750694176846,\n",
       "  'C': 0.9151238705982346,\n",
       "  'D': 1.3425678854251744,\n",
       "  'E': 1.356956622877274,\n",
       "  'F': 1.7136315668160063,\n",
       "  'G': 1.60827105115818,\n",
       "  'n': -0.37507116447186734},\n",
       " 'sex': {'female': 1.535067647134885, 'male': -1.0131107672983564},\n",
       " 'embarked': {'C': 0.658871160676746,\n",
       "  'Q': -0.3265892617105483,\n",
       "  'S': -0.16479628505772237}}"
      ]
     },
     "execution_count": 26,
     "metadata": {},
     "output_type": "execute_result"
    }
   ],
   "source": [
    "# en el atributo encoder_dict_ del codificador podemos ver el WoE\n",
    "# asignado a cada una de las categoríaas por cada variable\n",
    "\n",
    "woe_enc.encoder_dict_"
   ]
  },
  {
   "cell_type": "code",
   "execution_count": 27,
   "metadata": {},
   "outputs": [
    {
     "data": {
      "text/plain": [
       "['cabin', 'sex', 'embarked']"
      ]
     },
     "execution_count": 27,
     "metadata": {},
     "output_type": "execute_result"
    }
   ],
   "source": [
    "# esta es la lista de variables que el codificador transforma\n",
    "woe_enc.variables"
   ]
  },
  {
   "cell_type": "code",
   "execution_count": 28,
   "metadata": {},
   "outputs": [
    {
     "data": {
      "text/html": [
       "<div>\n",
       "<style scoped>\n",
       "    .dataframe tbody tr th:only-of-type {\n",
       "        vertical-align: middle;\n",
       "    }\n",
       "\n",
       "    .dataframe tbody tr th {\n",
       "        vertical-align: top;\n",
       "    }\n",
       "\n",
       "    .dataframe thead th {\n",
       "        text-align: right;\n",
       "    }\n",
       "</style>\n",
       "<table border=\"1\" class=\"dataframe\">\n",
       "  <thead>\n",
       "    <tr style=\"text-align: right;\">\n",
       "      <th></th>\n",
       "      <th>cabin</th>\n",
       "      <th>sex</th>\n",
       "      <th>embarked</th>\n",
       "    </tr>\n",
       "  </thead>\n",
       "  <tbody>\n",
       "    <tr>\n",
       "      <th>843</th>\n",
       "      <td>-0.375071</td>\n",
       "      <td>-1.013111</td>\n",
       "      <td>-0.164796</td>\n",
       "    </tr>\n",
       "    <tr>\n",
       "      <th>869</th>\n",
       "      <td>-0.375071</td>\n",
       "      <td>-1.013111</td>\n",
       "      <td>-0.164796</td>\n",
       "    </tr>\n",
       "    <tr>\n",
       "      <th>430</th>\n",
       "      <td>-0.375071</td>\n",
       "      <td>1.535068</td>\n",
       "      <td>-0.164796</td>\n",
       "    </tr>\n",
       "    <tr>\n",
       "      <th>481</th>\n",
       "      <td>-0.375071</td>\n",
       "      <td>1.535068</td>\n",
       "      <td>0.658871</td>\n",
       "    </tr>\n",
       "    <tr>\n",
       "      <th>1308</th>\n",
       "      <td>-0.375071</td>\n",
       "      <td>-1.013111</td>\n",
       "      <td>-0.164796</td>\n",
       "    </tr>\n",
       "  </tbody>\n",
       "</table>\n",
       "</div>"
      ],
      "text/plain": [
       "         cabin       sex  embarked\n",
       "843  -0.375071 -1.013111 -0.164796\n",
       "869  -0.375071 -1.013111 -0.164796\n",
       "430  -0.375071  1.535068 -0.164796\n",
       "481  -0.375071  1.535068  0.658871\n",
       "1308 -0.375071 -1.013111 -0.164796"
      ]
     },
     "execution_count": 28,
     "metadata": {},
     "output_type": "execute_result"
    }
   ],
   "source": [
    "X_train = woe_enc.transform(X_train)\n",
    "X_test = woe_enc.transform(X_test)\n",
    "\n",
    "# exploremos el resultado\n",
    "X_train.head()"
   ]
  },
  {
   "cell_type": "markdown",
   "metadata": {},
   "source": [
    "**Nota**\n",
    "\n",
    "Si el argmento 'variables' se fija en 'None' (ninguno), entonces el codificador automáticamente indentificará  **todas las variables categóricas**. Maravilloso verdad?\n",
    "\n",
    "El codificador no codificará las variables numéricas. Por lo tanto, si algunas de tus variables categóricas son de hecho numéricas, necesitas hacer el 're-cast' o cambio a tipo 'object' antes de usar el codificador.\n",
    "\n",
    "Si hay una variable en el set de prueba, para el cual el codificador no tiene un número para asignar ( la categoría no estaba presente en el set de entrenamiento), el codificador devolverá un error para alertarte del problema.\n",
    "\n",
    "Finalmente, si la probabilidad del target = 0 es cero para cualquier categoría, el codificador devolverá un error ya que la división por cero no esta definida."
   ]
  },
  {
   "cell_type": "markdown",
   "metadata": {},
   "source": [
    "## Peso de Evidencia - Weight of Evidence with Category Encoders\n",
    "\n",
    "Si usamos Categoru encoders, en lugar de pandas, no necesitamos mantener el target en el set de entrenamiento."
   ]
  },
  {
   "cell_type": "code",
   "execution_count": 29,
   "metadata": {},
   "outputs": [
    {
     "data": {
      "text/plain": [
       "((914, 3), (392, 3))"
      ]
     },
     "execution_count": 29,
     "metadata": {},
     "output_type": "execute_result"
    }
   ],
   "source": [
    "# separemos en set de prueba y entrenamiento\n",
    "\n",
    "X_train, X_test, y_train, y_test = train_test_split(\n",
    "    data[['cabin', 'sex', 'embarked']], # predictores\n",
    "    data['survived'],  # target\n",
    "    test_size=0.3,  # porcentaje de observaciones en el set de prueba\n",
    "    random_state=0)  # semilla asegurar reproducibilidad\n",
    "X_train.shape, X_test.shape"
   ]
  },
  {
   "cell_type": "code",
   "execution_count": 30,
   "metadata": {},
   "outputs": [],
   "source": [
    "woe_enc = WOEEncoder(cols=['cabin', 'sex', 'embarked'])"
   ]
  },
  {
   "cell_type": "code",
   "execution_count": 31,
   "metadata": {},
   "outputs": [
    {
     "data": {
      "text/plain": [
       "WOEEncoder(cols=['cabin', 'sex', 'embarked'])"
      ]
     },
     "execution_count": 31,
     "metadata": {},
     "output_type": "execute_result"
    }
   ],
   "source": [
    "woe_enc.fit(X_train, y_train)"
   ]
  },
  {
   "cell_type": "code",
   "execution_count": 32,
   "metadata": {},
   "outputs": [
    {
     "data": {
      "text/plain": [
       "{'cabin': cabin\n",
       "  1   -0.374548\n",
       "  2    1.287500\n",
       "  3    1.295799\n",
       "  4    0.901246\n",
       "  5    1.518942\n",
       "  6    0.188888\n",
       "  7    1.488171\n",
       "  8    1.200488\n",
       " -1    0.000000\n",
       " -2    0.000000\n",
       " dtype: float64, 'sex': sex\n",
       "  1   -1.008094\n",
       "  2    1.525265\n",
       " -1    0.000000\n",
       " -2    0.000000\n",
       " dtype: float64, 'embarked': embarked\n",
       "  1   -0.164851\n",
       "  2    0.654977\n",
       "  3   -0.307696\n",
       " -1    0.000000\n",
       " -2    0.000000\n",
       " dtype: float64}"
      ]
     },
     "execution_count": 32,
     "metadata": {},
     "output_type": "execute_result"
    }
   ],
   "source": [
    "# los mapeos en los codificadores de categorías no son tan fáciles de interpretar\n",
    "woe_enc.mapping"
   ]
  },
  {
   "cell_type": "code",
   "execution_count": 33,
   "metadata": {},
   "outputs": [
    {
     "data": {
      "text/html": [
       "<div>\n",
       "<style scoped>\n",
       "    .dataframe tbody tr th:only-of-type {\n",
       "        vertical-align: middle;\n",
       "    }\n",
       "\n",
       "    .dataframe tbody tr th {\n",
       "        vertical-align: top;\n",
       "    }\n",
       "\n",
       "    .dataframe thead th {\n",
       "        text-align: right;\n",
       "    }\n",
       "</style>\n",
       "<table border=\"1\" class=\"dataframe\">\n",
       "  <thead>\n",
       "    <tr style=\"text-align: right;\">\n",
       "      <th></th>\n",
       "      <th>cabin</th>\n",
       "      <th>sex</th>\n",
       "      <th>embarked</th>\n",
       "    </tr>\n",
       "  </thead>\n",
       "  <tbody>\n",
       "    <tr>\n",
       "      <th>843</th>\n",
       "      <td>-0.374548</td>\n",
       "      <td>-1.008094</td>\n",
       "      <td>-0.164851</td>\n",
       "    </tr>\n",
       "    <tr>\n",
       "      <th>869</th>\n",
       "      <td>-0.374548</td>\n",
       "      <td>-1.008094</td>\n",
       "      <td>-0.164851</td>\n",
       "    </tr>\n",
       "    <tr>\n",
       "      <th>430</th>\n",
       "      <td>-0.374548</td>\n",
       "      <td>1.525265</td>\n",
       "      <td>-0.164851</td>\n",
       "    </tr>\n",
       "    <tr>\n",
       "      <th>481</th>\n",
       "      <td>-0.374548</td>\n",
       "      <td>1.525265</td>\n",
       "      <td>0.654977</td>\n",
       "    </tr>\n",
       "    <tr>\n",
       "      <th>1308</th>\n",
       "      <td>-0.374548</td>\n",
       "      <td>-1.008094</td>\n",
       "      <td>-0.164851</td>\n",
       "    </tr>\n",
       "  </tbody>\n",
       "</table>\n",
       "</div>"
      ],
      "text/plain": [
       "         cabin       sex  embarked\n",
       "843  -0.374548 -1.008094 -0.164851\n",
       "869  -0.374548 -1.008094 -0.164851\n",
       "430  -0.374548  1.525265 -0.164851\n",
       "481  -0.374548  1.525265  0.654977\n",
       "1308 -0.374548 -1.008094 -0.164851"
      ]
     },
     "execution_count": 33,
     "metadata": {},
     "output_type": "execute_result"
    }
   ],
   "source": [
    "X_train = woe_enc.transform(X_train)\n",
    "X_test = woe_enc.transform(X_test)\n",
    "\n",
    "# exploremos el resultado\n",
    "X_train.head()"
   ]
  }
 ],
 "metadata": {
  "kernelspec": {
   "display_name": "feml",
   "language": "python",
   "name": "feml"
  },
  "language_info": {
   "codemirror_mode": {
    "name": "ipython",
    "version": 3
   },
   "file_extension": ".py",
   "mimetype": "text/x-python",
   "name": "python",
   "nbconvert_exporter": "python",
   "pygments_lexer": "ipython3",
   "version": "3.7.3"
  },
  "toc": {
   "base_numbering": 1,
   "nav_menu": {},
   "number_sections": true,
   "sideBar": true,
   "skip_h1_title": false,
   "title_cell": "Table of Contents",
   "title_sidebar": "Contents",
   "toc_cell": false,
   "toc_position": {},
   "toc_section_display": "block",
   "toc_window_display": true
  }
 },
 "nbformat": 4,
 "nbformat_minor": 2
}
