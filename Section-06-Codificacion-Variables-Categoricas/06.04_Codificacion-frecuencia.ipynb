{
 "cells": [
  {
   "cell_type": "markdown",
   "metadata": {},
   "source": [
    "## Codificación por número de observaciones o frecuencia \n",
    "\n",
    "\n",
    "En la primera codificación reemplazamos las categorías por el número de observaciones por categoría en los datos. Similarmente, podemos reemplazar la categoría por la frecuencia -o porcentaje- de observaciones en los datos. Eso es, si 10 de nuestras 100 observaciones muestran el color azul, entonces reemplazamos el color azul por 10 o por 0.1 si reemplazamos por la frecuencia. Estas técnicas capturan la representación de cada etiqueta en los datos, pero la codificación puede que no necesariamente tenga poder predictivo en el target. Sin embargo, estos métodos son bastante populares en las competiciones de Kaggle.\n",
    "\n",
    "El supuesto de esta técnica es que el número de observaciones presentes en cada una de las categorías de una variable es de alguna forma representativo del poder predictivo de dicha etiqueta.\n",
    "\n",
    "### Ventajas\n",
    "\n",
    "- Simple\n",
    "- No extiende el espacio de los datos (número de variables)\n",
    "\n",
    "### Desventajas\n",
    "\n",
    "- Si dos categorías aparecen el mismo número de veces u observaciones en los datos, serán reemplazadas por el mismo númer; la consecuencia es que puede que perdamos información importante.\n",
    "\n",
    "Por ejemplo, si hay 10 observaciones para la categoría azul y 10 observaciones para la categoría roja, ambas serán reemplazadas por 10, y por lo tanto, luego de codificarlas, parecerán ser la misma cosa\n",
    "\n",
    "\n",
    "Sigue esta conversación en [en Kaggle](https://www.kaggle.com/general/16927) para más información.\n",
    "\n",
    "\n",
    "\n",
    "## En este demo:\n",
    "\n",
    "Vamos a realizar codificación one hot con:\n",
    "- pandas\n",
    "- Feature-Engine\n",
    "\n",
    "y las ventajas y limitaciones de cada una de estas implementaciones usando los datos House Prices dataset.\n",
    "\n"
   ]
  },
  {
   "cell_type": "code",
   "execution_count": 1,
   "metadata": {},
   "outputs": [],
   "source": [
    "import numpy as np\n",
    "import pandas as pd\n",
    "\n",
    "# separar datos\n",
    "from sklearn.model_selection import train_test_split\n",
    "\n",
    "# codificar con feature-engine\n",
    "from feature_engine.categorical_encoders import CountFrequencyCategoricalEncoder"
   ]
  },
  {
   "cell_type": "code",
   "execution_count": 2,
   "metadata": {},
   "outputs": [
    {
     "data": {
      "text/html": [
       "<div>\n",
       "<style scoped>\n",
       "    .dataframe tbody tr th:only-of-type {\n",
       "        vertical-align: middle;\n",
       "    }\n",
       "\n",
       "    .dataframe tbody tr th {\n",
       "        vertical-align: top;\n",
       "    }\n",
       "\n",
       "    .dataframe thead th {\n",
       "        text-align: right;\n",
       "    }\n",
       "</style>\n",
       "<table border=\"1\" class=\"dataframe\">\n",
       "  <thead>\n",
       "    <tr style=\"text-align: right;\">\n",
       "      <th></th>\n",
       "      <th>Neighborhood</th>\n",
       "      <th>Exterior1st</th>\n",
       "      <th>Exterior2nd</th>\n",
       "      <th>SalePrice</th>\n",
       "    </tr>\n",
       "  </thead>\n",
       "  <tbody>\n",
       "    <tr>\n",
       "      <th>0</th>\n",
       "      <td>CollgCr</td>\n",
       "      <td>VinylSd</td>\n",
       "      <td>VinylSd</td>\n",
       "      <td>208500</td>\n",
       "    </tr>\n",
       "    <tr>\n",
       "      <th>1</th>\n",
       "      <td>Veenker</td>\n",
       "      <td>MetalSd</td>\n",
       "      <td>MetalSd</td>\n",
       "      <td>181500</td>\n",
       "    </tr>\n",
       "    <tr>\n",
       "      <th>2</th>\n",
       "      <td>CollgCr</td>\n",
       "      <td>VinylSd</td>\n",
       "      <td>VinylSd</td>\n",
       "      <td>223500</td>\n",
       "    </tr>\n",
       "    <tr>\n",
       "      <th>3</th>\n",
       "      <td>Crawfor</td>\n",
       "      <td>Wd Sdng</td>\n",
       "      <td>Wd Shng</td>\n",
       "      <td>140000</td>\n",
       "    </tr>\n",
       "    <tr>\n",
       "      <th>4</th>\n",
       "      <td>NoRidge</td>\n",
       "      <td>VinylSd</td>\n",
       "      <td>VinylSd</td>\n",
       "      <td>250000</td>\n",
       "    </tr>\n",
       "  </tbody>\n",
       "</table>\n",
       "</div>"
      ],
      "text/plain": [
       "  Neighborhood Exterior1st Exterior2nd  SalePrice\n",
       "0      CollgCr     VinylSd     VinylSd     208500\n",
       "1      Veenker     MetalSd     MetalSd     181500\n",
       "2      CollgCr     VinylSd     VinylSd     223500\n",
       "3      Crawfor     Wd Sdng     Wd Shng     140000\n",
       "4      NoRidge     VinylSd     VinylSd     250000"
      ]
     },
     "execution_count": 2,
     "metadata": {},
     "output_type": "execute_result"
    }
   ],
   "source": [
    "# cargar dataset\n",
    "\n",
    "data = pd.read_csv(\n",
    "    '../houseprice.csv',\n",
    "    usecols=['Neighborhood', 'Exterior1st', 'Exterior2nd', 'SalePrice'])\n",
    "\n",
    "data.head()"
   ]
  },
  {
   "cell_type": "code",
   "execution_count": 3,
   "metadata": {},
   "outputs": [
    {
     "name": "stdout",
     "output_type": "stream",
     "text": [
      "Neighborhood :  25  etiquetas\n",
      "Exterior1st :  15  etiquetas\n",
      "Exterior2nd :  16  etiquetas\n",
      "SalePrice :  663  etiquetas\n"
     ]
    }
   ],
   "source": [
    "# miremos cuantas etiquetas tiene cada variable\n",
    "\n",
    "for col in data.columns:\n",
    "    print(col, ': ', len(data[col].unique()), ' etiquetas')"
   ]
  },
  {
   "cell_type": "markdown",
   "metadata": {},
   "source": [
    "### Importante sobre codificación\n",
    "\n",
    "Cuando hacemos el conteo de observaciones para transformar las variables categóricas, es importante calcular el número ( o frecuencia =  número observaciones /  observaciones totales)  usando el set de entrenamiento; y luego usar estos números para codificar las variables en el set de prueba\n",
    "\n"
   ]
  },
  {
   "cell_type": "code",
   "execution_count": 4,
   "metadata": {},
   "outputs": [
    {
     "data": {
      "text/plain": [
       "((1022, 3), (438, 3))"
      ]
     },
     "execution_count": 4,
     "metadata": {},
     "output_type": "execute_result"
    }
   ],
   "source": [
    "# separemos en sets de prueba y entrenamiento\n",
    "\n",
    "X_train, X_test, y_train, y_test = train_test_split(\n",
    "    data[['Neighborhood', 'Exterior1st', 'Exterior2nd']],  # predictores\n",
    "    data['SalePrice'],  # target\n",
    "    test_size=0.3,  # porcentaje observaciones prueba\n",
    "    random_state=0)  # semilla para asegurar reproducibilidad\n",
    "\n",
    "X_train.shape, X_test.shape"
   ]
  },
  {
   "cell_type": "markdown",
   "metadata": {},
   "source": [
    "## Codificación por número de observaciones o frecuencia con pandas"
   ]
  },
  {
   "cell_type": "code",
   "execution_count": 5,
   "metadata": {
    "scrolled": true
   },
   "outputs": [
    {
     "data": {
      "text/plain": [
       "{'NAmes': 151,\n",
       " 'CollgCr': 105,\n",
       " 'OldTown': 73,\n",
       " 'Edwards': 71,\n",
       " 'Sawyer': 61,\n",
       " 'Somerst': 56,\n",
       " 'Gilbert': 55,\n",
       " 'NWAmes': 51,\n",
       " 'NridgHt': 51,\n",
       " 'SawyerW': 45,\n",
       " 'BrkSide': 41,\n",
       " 'Mitchel': 36,\n",
       " 'Crawfor': 35,\n",
       " 'NoRidge': 30,\n",
       " 'Timber': 30,\n",
       " 'IDOTRR': 24,\n",
       " 'ClearCr': 24,\n",
       " 'SWISU': 18,\n",
       " 'StoneBr': 16,\n",
       " 'Blmngtn': 12,\n",
       " 'MeadowV': 12,\n",
       " 'BrDale': 10,\n",
       " 'NPkVill': 7,\n",
       " 'Veenker': 6,\n",
       " 'Blueste': 2}"
      ]
     },
     "execution_count": 5,
     "metadata": {},
     "output_type": "execute_result"
    }
   ],
   "source": [
    "# calculemos para cada una de las etiquetas el número de observaciones\n",
    "# para la variable Neigbourhood\n",
    "\n",
    "count_map = X_train['Neighborhood'].value_counts().to_dict()\n",
    "\n",
    "count_map"
   ]
  },
  {
   "cell_type": "markdown",
   "metadata": {},
   "source": [
    "El diccionario contiene el número de observaciones por cada categoría de la variable Neighbourhood."
   ]
  },
  {
   "cell_type": "code",
   "execution_count": 6,
   "metadata": {},
   "outputs": [],
   "source": [
    "# reemplacemos las etiquetas con el conteo que hicimos\n",
    "\n",
    "X_train['Neighborhood'] = X_train['Neighborhood'].map(count_map)\n",
    "X_test['Neighborhood'] = X_test['Neighborhood'].map(count_map)"
   ]
  },
  {
   "cell_type": "code",
   "execution_count": 7,
   "metadata": {},
   "outputs": [
    {
     "data": {
      "text/plain": [
       "64      105\n",
       "682      24\n",
       "960      41\n",
       "1384     71\n",
       "1100     18\n",
       "416      61\n",
       "1034     35\n",
       "853     151\n",
       "472      71\n",
       "1011     71\n",
       "Name: Neighborhood, dtype: int64"
      ]
     },
     "execution_count": 7,
     "metadata": {},
     "output_type": "execute_result"
    }
   ],
   "source": [
    "# exploremos los resultados\n",
    "\n",
    "X_train['Neighborhood'].head(10)"
   ]
  },
  {
   "cell_type": "code",
   "execution_count": 8,
   "metadata": {},
   "outputs": [
    {
     "data": {
      "text/plain": [
       "{'VinylSd': 0.3561643835616438,\n",
       " 'HdBoard': 0.149706457925636,\n",
       " 'Wd Sdng': 0.14481409001956946,\n",
       " 'MetalSd': 0.1350293542074364,\n",
       " 'Plywood': 0.08414872798434442,\n",
       " 'CemntBd': 0.03816046966731898,\n",
       " 'BrkFace': 0.03424657534246575,\n",
       " 'WdShing': 0.02054794520547945,\n",
       " 'Stucco': 0.016634050880626222,\n",
       " 'AsbShng': 0.014677103718199608,\n",
       " 'Stone': 0.0019569471624266144,\n",
       " 'ImStucc': 0.0009784735812133072,\n",
       " 'BrkComm': 0.0009784735812133072,\n",
       " 'AsphShn': 0.0009784735812133072,\n",
       " 'CBlock': 0.0009784735812133072}"
      ]
     },
     "execution_count": 8,
     "metadata": {},
     "output_type": "execute_result"
    }
   ],
   "source": [
    "# si en lugar del número de observaciones queremos reemplazar por la frecuencia\n",
    "# solo necesitamos dividir el conteo por el número total de observaciones\n",
    "\n",
    "frequency_map = (X_train['Exterior1st'].value_counts() / len(X_train) ).to_dict()\n",
    "frequency_map"
   ]
  },
  {
   "cell_type": "code",
   "execution_count": 9,
   "metadata": {},
   "outputs": [],
   "source": [
    "# reemplacemos las categorías por las frecuencias\n",
    "\n",
    "X_train['Exterior1st'] = X_train['Exterior1st'].map(frequency_map)\n",
    "X_test['Exterior1st'] = X_test['Exterior1st'].map(frequency_map)"
   ]
  },
  {
   "cell_type": "markdown",
   "metadata": {},
   "source": [
    "Podemos agrupar estos comandos en dos funciones como hiciemos en los notebooks anteriores y  repetir el proceso (con un ciclo) para cada una de las variables categóricas. Si no sabes como hacer eso, revisa los notebooks anteriores.\n",
    "\n",
    "## Codificación por número de observaciones o frecuencia con Feature-Engine"
   ]
  },
  {
   "cell_type": "code",
   "execution_count": 10,
   "metadata": {},
   "outputs": [
    {
     "data": {
      "text/plain": [
       "((1022, 3), (438, 3))"
      ]
     },
     "execution_count": 10,
     "metadata": {},
     "output_type": "execute_result"
    }
   ],
   "source": [
    "# separemos en sets de prueba y entrenamiento\n",
    "\n",
    "X_train, X_test, y_train, y_test = train_test_split(\n",
    "    data[['Neighborhood', 'Exterior1st', 'Exterior2nd']],  # variables\n",
    "    data['SalePrice'],  # target\n",
    "    test_size=0.3,  # porcentaje observaciones prueba\n",
    "    random_state=0)  # semilla para asegurar reproducibilidad\n",
    "\n",
    "X_train.shape, X_test.shape"
   ]
  },
  {
   "cell_type": "code",
   "execution_count": 11,
   "metadata": {},
   "outputs": [
    {
     "data": {
      "text/plain": [
       "CountFrequencyCategoricalEncoder(encoding_method='count',\n",
       "                                 variables=['Neighborhood', 'Exterior1st',\n",
       "                                            'Exterior2nd'])"
      ]
     },
     "execution_count": 11,
     "metadata": {},
     "output_type": "execute_result"
    }
   ],
   "source": [
    "count_enc = CountFrequencyCategoricalEncoder(\n",
    "    encoding_method='count', # para codificar por frecuencia ==> encoding_method='frequency'\n",
    "    variables=['Neighborhood', 'Exterior1st', 'Exterior2nd'])\n",
    "\n",
    "count_enc.fit(X_train)"
   ]
  },
  {
   "cell_type": "code",
   "execution_count": 12,
   "metadata": {
    "scrolled": true
   },
   "outputs": [
    {
     "data": {
      "text/plain": [
       "{'Neighborhood': {'NAmes': 151,\n",
       "  'CollgCr': 105,\n",
       "  'OldTown': 73,\n",
       "  'Edwards': 71,\n",
       "  'Sawyer': 61,\n",
       "  'Somerst': 56,\n",
       "  'Gilbert': 55,\n",
       "  'NWAmes': 51,\n",
       "  'NridgHt': 51,\n",
       "  'SawyerW': 45,\n",
       "  'BrkSide': 41,\n",
       "  'Mitchel': 36,\n",
       "  'Crawfor': 35,\n",
       "  'NoRidge': 30,\n",
       "  'Timber': 30,\n",
       "  'IDOTRR': 24,\n",
       "  'ClearCr': 24,\n",
       "  'SWISU': 18,\n",
       "  'StoneBr': 16,\n",
       "  'Blmngtn': 12,\n",
       "  'MeadowV': 12,\n",
       "  'BrDale': 10,\n",
       "  'NPkVill': 7,\n",
       "  'Veenker': 6,\n",
       "  'Blueste': 2},\n",
       " 'Exterior1st': {'VinylSd': 364,\n",
       "  'HdBoard': 153,\n",
       "  'Wd Sdng': 148,\n",
       "  'MetalSd': 138,\n",
       "  'Plywood': 86,\n",
       "  'CemntBd': 39,\n",
       "  'BrkFace': 35,\n",
       "  'WdShing': 21,\n",
       "  'Stucco': 17,\n",
       "  'AsbShng': 15,\n",
       "  'Stone': 2,\n",
       "  'ImStucc': 1,\n",
       "  'BrkComm': 1,\n",
       "  'AsphShn': 1,\n",
       "  'CBlock': 1},\n",
       " 'Exterior2nd': {'VinylSd': 353,\n",
       "  'Wd Sdng': 142,\n",
       "  'HdBoard': 141,\n",
       "  'MetalSd': 136,\n",
       "  'Plywood': 112,\n",
       "  'CmentBd': 39,\n",
       "  'Wd Shng': 29,\n",
       "  'BrkFace': 18,\n",
       "  'AsbShng': 17,\n",
       "  'Stucco': 16,\n",
       "  'ImStucc': 8,\n",
       "  'Stone': 4,\n",
       "  'Brk Cmn': 4,\n",
       "  'Other': 1,\n",
       "  'AsphShn': 1,\n",
       "  'CBlock': 1}}"
      ]
     },
     "execution_count": 12,
     "metadata": {},
     "output_type": "execute_result"
    }
   ],
   "source": [
    "# en en atributo encoder_dictdel codificador \n",
    "# podemos ver el número de observaciones por categoría de cada variable\n",
    "\n",
    "count_enc.encoder_dict_"
   ]
  },
  {
   "cell_type": "code",
   "execution_count": 13,
   "metadata": {},
   "outputs": [
    {
     "data": {
      "text/html": [
       "<div>\n",
       "<style scoped>\n",
       "    .dataframe tbody tr th:only-of-type {\n",
       "        vertical-align: middle;\n",
       "    }\n",
       "\n",
       "    .dataframe tbody tr th {\n",
       "        vertical-align: top;\n",
       "    }\n",
       "\n",
       "    .dataframe thead th {\n",
       "        text-align: right;\n",
       "    }\n",
       "</style>\n",
       "<table border=\"1\" class=\"dataframe\">\n",
       "  <thead>\n",
       "    <tr style=\"text-align: right;\">\n",
       "      <th></th>\n",
       "      <th>Neighborhood</th>\n",
       "      <th>Exterior1st</th>\n",
       "      <th>Exterior2nd</th>\n",
       "    </tr>\n",
       "  </thead>\n",
       "  <tbody>\n",
       "    <tr>\n",
       "      <th>64</th>\n",
       "      <td>105</td>\n",
       "      <td>364</td>\n",
       "      <td>353</td>\n",
       "    </tr>\n",
       "    <tr>\n",
       "      <th>682</th>\n",
       "      <td>24</td>\n",
       "      <td>148</td>\n",
       "      <td>142</td>\n",
       "    </tr>\n",
       "    <tr>\n",
       "      <th>960</th>\n",
       "      <td>41</td>\n",
       "      <td>148</td>\n",
       "      <td>112</td>\n",
       "    </tr>\n",
       "    <tr>\n",
       "      <th>1384</th>\n",
       "      <td>71</td>\n",
       "      <td>21</td>\n",
       "      <td>29</td>\n",
       "    </tr>\n",
       "    <tr>\n",
       "      <th>1100</th>\n",
       "      <td>18</td>\n",
       "      <td>148</td>\n",
       "      <td>142</td>\n",
       "    </tr>\n",
       "  </tbody>\n",
       "</table>\n",
       "</div>"
      ],
      "text/plain": [
       "      Neighborhood  Exterior1st  Exterior2nd\n",
       "64             105          364          353\n",
       "682             24          148          142\n",
       "960             41          148          112\n",
       "1384            71           21           29\n",
       "1100            18          148          142"
      ]
     },
     "execution_count": 13,
     "metadata": {},
     "output_type": "execute_result"
    }
   ],
   "source": [
    "X_train = count_enc.transform(X_train)\n",
    "X_test = count_enc.transform(X_test)\n",
    "\n",
    "# exploremos el resultado\n",
    "X_train.head()"
   ]
  },
  {
   "cell_type": "markdown",
   "metadata": {},
   "source": [
    "**Nota**\n",
    "\n",
    "Si el argumento 'variables' se fija en 'None' (ninguno). entonces el codificador automáticamente identificará  **todas las variables categóricas**. Maravilloso verdad?\n",
    "\n",
    "El codificador no codificará las variables numéricas. Entonces si algunas de tus variables categóricas son de hecho numéricas, necesitas hacer el 're-cast' o cambio a tipo 'object' antes de usar el codificador.\n",
    "\n",
    "Si hay una variable en el set de prueba, para el cual el codificador no tiene un número para asignar ( la categoría no estaba presente en el set de entrenamiento), el codificador devolverá un error.\n",
    "\n"
   ]
  },
  {
   "cell_type": "code",
   "execution_count": null,
   "metadata": {},
   "outputs": [],
   "source": []
  }
 ],
 "metadata": {
  "kernelspec": {
   "display_name": "feml",
   "language": "python",
   "name": "feml"
  },
  "language_info": {
   "codemirror_mode": {
    "name": "ipython",
    "version": 3
   },
   "file_extension": ".py",
   "mimetype": "text/x-python",
   "name": "python",
   "nbconvert_exporter": "python",
   "pygments_lexer": "ipython3",
   "version": "3.7.3"
  },
  "toc": {
   "nav_menu": {},
   "number_sections": true,
   "sideBar": true,
   "skip_h1_title": false,
   "toc_cell": false,
   "toc_position": {},
   "toc_section_display": "block",
   "toc_window_display": true
  }
 },
 "nbformat": 4,
 "nbformat_minor": 2
}
