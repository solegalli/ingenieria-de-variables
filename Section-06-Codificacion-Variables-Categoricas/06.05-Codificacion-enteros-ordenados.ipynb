{
 "cells": [
  {
   "cell_type": "markdown",
   "metadata": {},
   "source": [
    "## Codificación guiada por la variable objetivo o target\n",
    "\n",
    "En las lecciones anteriores de esta sección, vimos como convertir una etiqueta en un número usando codificación one-hot, reemplazando por un dígito o reemplazando por la frecuencia o número de observaciones. Estos métodos son sencillos, y no (o casi nunca) hacen supuestos sobre los datos y funcionan generalmente bien en una variedad de escenarios.\n",
    "\n",
    "Hay métodos que por el contrario si permiten capturar  información y a la vez pre-procesar las etiquetas de una variable categórica. Estos métodos incluyen:\n",
    "\n",
    "- Ordenar las etiquetas de acuerdo al target\n",
    "- Reemplazar las etiquetas por el promedio del target (codificación por la media / por el target) \n",
    "- Reemplazar las etiquetas por el radio de probabilidad del target - ya sea 1 o 0\n",
    "- Pesos de evidencia (Weight of evidence)\n",
    "\n",
    "Todos estos métodos tienen algo en común:\n",
    "- la codificación es **guiada por el target**, y\n",
    "- crean una **relación monotónica** entre la variable y el target\n",
    "\n",
    "\n",
    "### Monotonicidad\n",
    "\n",
    "Una relación monotónica es una relación que tiene lo siguiente:\n",
    "\n",
    "- (1) cuando el valor de una variable incrementa, asi mismo sucede con la otra variable; o\n",
    "- (2) cuando el valor de una variable incrementa, el valor de la otra variable decrece.\n",
    "\n",
    "En este caso, si el valor de la variable independiente (predictor) incrementa, lo mismo sucede con el target (variable objetivo), o por el contrario, si la variable incrementa, el valor del target decrece.\n",
    "\n",
    "\n",
    "### Ventajas \n",
    "\n",
    "- Captura la información dentro de la categoría, por lo tanto incrementa el poder predictivo de las variables.\n",
    "- Crea una relación monotónica entre la variable y el target, por lo tanto es adecuada para modelos lineales.\n",
    "- No expande el espacio de las variables\n",
    "\n",
    "\n",
    "### Limitaciones\n",
    "\n",
    "- Tiende a causar sobreajustes\n",
    "- Es difícil de validar usando las librerías existentes\n",
    "\n",
    "### Nota\n",
    "\n",
    "Los métodos discutidos en esta y las próximas 3 lecciones pueden ser usados con variables numéricas, luego de discretizarlas. Esto crea una relación monotónica entre la variable numérica y el target y por lo tanto mejora el desempeño de los modelos lineales. Discutiremos esto en más detalle en la sección \"Discretización\"\n",
    "\n",
    "===============================================================================\n",
    "\n",
    "\n",
    "## Codificación por números ordinales\n",
    "\n",
    "En la codificación por números ordinales,  las categorías en una variable se ordenan de acuerdo al promedio del target, y se les asigna un número de 1 a k, donde k es el número de cateogorías. En este tipo de codificación los números se asignan de acuerdo al orden de las categorías. \n",
    "\n",
    "Por ejemplo, si tenemos la variable ciudad, con las categorías  Londres, Manchester y Bristol, y tenemos que la tasa promedio de incumplimiento en pagos de préstamos es  30% para Londres, 20% para Manchester, y 10% para Bristol, reemplazamos Londres con el número 1, Manchester con el número 2 y Bristol con el 3.\n",
    "\n",
    "En este demo vamos a realizar codificación por números ordinales usando:\n",
    "- pandas\n",
    "- Feature-Engine\n",
    "\n",
    "y veremos las ventajas y limitaciones de cada una de estas implementaciones usando los datos del Titanic.\n"
   ]
  },
  {
   "cell_type": "code",
   "execution_count": 25,
   "metadata": {},
   "outputs": [],
   "source": [
    "import numpy as np\n",
    "import pandas as pd\n",
    "\n",
    "import matplotlib.pyplot as plt\n",
    "\n",
    "# separar datasets\n",
    "from sklearn.model_selection import train_test_split\n",
    "\n",
    "# codificar con feature-engine\n",
    "from feature_engine.categorical_encoders import OrdinalCategoricalEncoder"
   ]
  },
  {
   "cell_type": "code",
   "execution_count": 26,
   "metadata": {},
   "outputs": [
    {
     "data": {
      "text/html": [
       "<div>\n",
       "<style scoped>\n",
       "    .dataframe tbody tr th:only-of-type {\n",
       "        vertical-align: middle;\n",
       "    }\n",
       "\n",
       "    .dataframe tbody tr th {\n",
       "        vertical-align: top;\n",
       "    }\n",
       "\n",
       "    .dataframe thead th {\n",
       "        text-align: right;\n",
       "    }\n",
       "</style>\n",
       "<table border=\"1\" class=\"dataframe\">\n",
       "  <thead>\n",
       "    <tr style=\"text-align: right;\">\n",
       "      <th></th>\n",
       "      <th>Neighborhood</th>\n",
       "      <th>Exterior1st</th>\n",
       "      <th>Exterior2nd</th>\n",
       "      <th>SalePrice</th>\n",
       "    </tr>\n",
       "  </thead>\n",
       "  <tbody>\n",
       "    <tr>\n",
       "      <th>0</th>\n",
       "      <td>CollgCr</td>\n",
       "      <td>VinylSd</td>\n",
       "      <td>VinylSd</td>\n",
       "      <td>208500</td>\n",
       "    </tr>\n",
       "    <tr>\n",
       "      <th>1</th>\n",
       "      <td>Veenker</td>\n",
       "      <td>MetalSd</td>\n",
       "      <td>MetalSd</td>\n",
       "      <td>181500</td>\n",
       "    </tr>\n",
       "    <tr>\n",
       "      <th>2</th>\n",
       "      <td>CollgCr</td>\n",
       "      <td>VinylSd</td>\n",
       "      <td>VinylSd</td>\n",
       "      <td>223500</td>\n",
       "    </tr>\n",
       "    <tr>\n",
       "      <th>3</th>\n",
       "      <td>Crawfor</td>\n",
       "      <td>Wd Sdng</td>\n",
       "      <td>Wd Shng</td>\n",
       "      <td>140000</td>\n",
       "    </tr>\n",
       "    <tr>\n",
       "      <th>4</th>\n",
       "      <td>NoRidge</td>\n",
       "      <td>VinylSd</td>\n",
       "      <td>VinylSd</td>\n",
       "      <td>250000</td>\n",
       "    </tr>\n",
       "  </tbody>\n",
       "</table>\n",
       "</div>"
      ],
      "text/plain": [
       "  Neighborhood Exterior1st Exterior2nd  SalePrice\n",
       "0      CollgCr     VinylSd     VinylSd     208500\n",
       "1      Veenker     MetalSd     MetalSd     181500\n",
       "2      CollgCr     VinylSd     VinylSd     223500\n",
       "3      Crawfor     Wd Sdng     Wd Shng     140000\n",
       "4      NoRidge     VinylSd     VinylSd     250000"
      ]
     },
     "execution_count": 26,
     "metadata": {},
     "output_type": "execute_result"
    }
   ],
   "source": [
    "# cargar dataset\n",
    "\n",
    "data = pd.read_csv(\n",
    "    '../houseprice.csv',\n",
    "    usecols=['Neighborhood', 'Exterior1st', 'Exterior2nd', 'SalePrice'])\n",
    "\n",
    "data.head()"
   ]
  },
  {
   "cell_type": "code",
   "execution_count": 27,
   "metadata": {},
   "outputs": [
    {
     "name": "stdout",
     "output_type": "stream",
     "text": [
      "Neighborhood :  25  labels\n",
      "Exterior1st :  15  labels\n",
      "Exterior2nd :  16  labels\n",
      "SalePrice :  663  labels\n"
     ]
    }
   ],
   "source": [
    "# miremos cuantas etiquetas tiene cada variable\n",
    "\n",
    "for col in data.columns:\n",
    "    print(col, ': ', len(data[col].unique()), ' labels')"
   ]
  },
  {
   "cell_type": "code",
   "execution_count": 28,
   "metadata": {},
   "outputs": [
    {
     "data": {
      "text/plain": [
       "array(['CollgCr', 'Veenker', 'Crawfor', 'NoRidge', 'Mitchel', 'Somerst',\n",
       "       'NWAmes', 'OldTown', 'BrkSide', 'Sawyer', 'NridgHt', 'NAmes',\n",
       "       'SawyerW', 'IDOTRR', 'MeadowV', 'Edwards', 'Timber', 'Gilbert',\n",
       "       'StoneBr', 'ClearCr', 'NPkVill', 'Blmngtn', 'BrDale', 'SWISU',\n",
       "       'Blueste'], dtype=object)"
      ]
     },
     "execution_count": 28,
     "metadata": {},
     "output_type": "execute_result"
    }
   ],
   "source": [
    "# exploremos las categorías de cada variable\n",
    "data['Neighborhood'].unique()"
   ]
  },
  {
   "cell_type": "code",
   "execution_count": 29,
   "metadata": {},
   "outputs": [
    {
     "data": {
      "text/plain": [
       "array(['VinylSd', 'MetalSd', 'Wd Sdng', 'HdBoard', 'BrkFace', 'WdShing',\n",
       "       'CemntBd', 'Plywood', 'AsbShng', 'Stucco', 'BrkComm', 'AsphShn',\n",
       "       'Stone', 'ImStucc', 'CBlock'], dtype=object)"
      ]
     },
     "execution_count": 29,
     "metadata": {},
     "output_type": "execute_result"
    }
   ],
   "source": [
    "data['Exterior1st'].unique()"
   ]
  },
  {
   "cell_type": "code",
   "execution_count": 30,
   "metadata": {},
   "outputs": [
    {
     "data": {
      "text/plain": [
       "array(['VinylSd', 'MetalSd', 'Wd Shng', 'HdBoard', 'Plywood', 'Wd Sdng',\n",
       "       'CmentBd', 'BrkFace', 'Stucco', 'AsbShng', 'Brk Cmn', 'ImStucc',\n",
       "       'AsphShn', 'Stone', 'Other', 'CBlock'], dtype=object)"
      ]
     },
     "execution_count": 30,
     "metadata": {},
     "output_type": "execute_result"
    }
   ],
   "source": [
    "data['Exterior2nd'].unique()"
   ]
  },
  {
   "cell_type": "markdown",
   "metadata": {},
   "source": [
    "### Nota importante sobre codificación\n",
    "\n",
    "El dígito a asignar a cada categorías se selecciona usando el set de entrenamiento; y luego estos números se usan para codificar las variables en el set de prueba\n",
    "\n",
    "**Para usar esta técnica con pandas, necesitamos mantener el target en el set de entrenamiento**"
   ]
  },
  {
   "cell_type": "code",
   "execution_count": 31,
   "metadata": {},
   "outputs": [
    {
     "data": {
      "text/plain": [
       "((1022, 4), (438, 4))"
      ]
     },
     "execution_count": 31,
     "metadata": {},
     "output_type": "execute_result"
    }
   ],
   "source": [
    "# separemos en sets de prueba y entrenamiento\n",
    "\n",
    "X_train, X_test, y_train, y_test = train_test_split(\n",
    "    data[['Neighborhood', 'Exterior1st', 'Exterior2nd', 'SalePrice']],  # esta vez mantenemos el target en la variable\n",
    "    data['SalePrice'],  # target\n",
    "    test_size=0.3,  # porcentaje de observaciones segmento prueba\n",
    "    random_state=0)  # semilla para asegurar reproducibilidad\n",
    "\n",
    "X_train.shape, X_test.shape"
   ]
  },
  {
   "cell_type": "markdown",
   "metadata": {},
   "source": [
    "### Exploremos la relación original entre las variables categóricas y el target"
   ]
  },
  {
   "cell_type": "code",
   "execution_count": 32,
   "metadata": {},
   "outputs": [
    {
     "data": {
      "image/png": "[encoded data removed]",
      "text/plain": [
       "<Figure size 432x288 with 1 Axes>"
      ]
     },
     "metadata": {
      "needs_background": "light"
     },
     "output_type": "display_data"
    },
    {
     "data": {
      "image/png": "[encoded data removed]",
      "text/plain": [
       "<Figure size 432x288 with 1 Axes>"
      ]
     },
     "metadata": {
      "needs_background": "light"
     },
     "output_type": "display_data"
    },
    {
     "data": {
      "image/png": "[encoded data removed]",
      "text/plain": [
       "<Figure size 432x288 with 1 Axes>"
      ]
     },
     "metadata": {
      "needs_background": "light"
     },
     "output_type": "display_data"
    }
   ],
   "source": [
    "# Exploremos la relación original entre las variables categóricas y el target\n",
    "\n",
    "for var in ['Neighborhood', 'Exterior1st', 'Exterior2nd']:\n",
    "    \n",
    "    fig= plt.figure()\n",
    "    fig = X_train.groupby([var])['SalePrice'].mean().plot()\n",
    "    fig.set_title('Relación entre {} y SalePrice'.format(var))\n",
    "    fig.set_ylabel('Media SalePrice (target)')\n",
    "    plt.xticks(rotation=45)\n",
    "    plt.show()"
   ]
  },
  {
   "cell_type": "markdown",
   "metadata": {},
   "source": [
    "Podemos ver que la relación entre la variable target y las variables categóricas sube y baja, dependiendo de la categoria\n",
    "\n",
    "\n",
    "## Codificación por números ordinales con pandas\n",
    "\n",
    "\n",
    "### Ventajas\n",
    "\n",
    "- rápido\n",
    "- devuelve un dataframe de pandas\n",
    "\n",
    "### Limitaciones:\n",
    "\n",
    "- no preserva la información del set de entrenamiento para propagarlo al set de prueba\n",
    "\n",
    "Necesitamos capturar y guardar los mapeos uno por uno, manualmente, si estamos planeando usarlos en producción"
   ]
  },
  {
   "cell_type": "code",
   "execution_count": 33,
   "metadata": {},
   "outputs": [
    {
     "data": {
      "text/plain": [
       "Neighborhood\n",
       "IDOTRR      92174.166667\n",
       "BrDale      99440.000000\n",
       "MeadowV    104441.666667\n",
       "Edwards    125082.676056\n",
       "BrkSide    125438.414634\n",
       "OldTown    130958.328767\n",
       "Sawyer     136596.442623\n",
       "Blueste    137500.000000\n",
       "SWISU      139154.666667\n",
       "NPkVill    140107.142857\n",
       "NAmes      146435.264901\n",
       "Mitchel    153070.444444\n",
       "SawyerW    179463.088889\n",
       "Gilbert    192662.290909\n",
       "NWAmes     192788.235294\n",
       "Blmngtn    198164.500000\n",
       "CollgCr    203086.371429\n",
       "ClearCr    210034.666667\n",
       "Crawfor    217453.914286\n",
       "Somerst    226644.196429\n",
       "Veenker    229500.000000\n",
       "Timber     238700.100000\n",
       "NridgHt    307418.137255\n",
       "StoneBr    309105.937500\n",
       "NoRidge    336264.666667\n",
       "Name: SalePrice, dtype: float64"
      ]
     },
     "execution_count": 33,
     "metadata": {},
     "output_type": "execute_result"
    }
   ],
   "source": [
    "# ordenemos las etiquetas de acuerdo al promedio de los valores del target\n",
    "\n",
    "X_train.groupby(['Neighborhood'])['SalePrice'].mean().sort_values()"
   ]
  },
  {
   "cell_type": "markdown",
   "metadata": {},
   "source": [
    "En la celda anterior, ordenamos las categorías de la variable Neighbourhood de acuerdo al valor del target (SalePrice) comenzando por los precios de las casas más baratos (IDOTRR) hasta el barrio donde las casas son más costosas, o en promedio más costosas (NoRidge).\n",
    "\n",
    "En las siguientes celdas, vamos a reemplazar todas las categorías, ordenadas como están, por los números del 0 a k-1, donde k es el número de las diferentes categorías, en este caso 25 - 1 = 24.\n",
    "\n",
    "Por lo tanto IDOTRR será reemplazado por 0 y NoRidge por 24."
   ]
  },
  {
   "cell_type": "code",
   "execution_count": 34,
   "metadata": {},
   "outputs": [
    {
     "data": {
      "text/plain": [
       "Index(['IDOTRR', 'BrDale', 'MeadowV', 'Edwards', 'BrkSide', 'OldTown',\n",
       "       'Sawyer', 'Blueste', 'SWISU', 'NPkVill', 'NAmes', 'Mitchel', 'SawyerW',\n",
       "       'Gilbert', 'NWAmes', 'Blmngtn', 'CollgCr', 'ClearCr', 'Crawfor',\n",
       "       'Somerst', 'Veenker', 'Timber', 'NridgHt', 'StoneBr', 'NoRidge'],\n",
       "      dtype='object', name='Neighborhood')"
      ]
     },
     "execution_count": 34,
     "metadata": {},
     "output_type": "execute_result"
    }
   ],
   "source": [
    "# primero generamos la lista de las etiquetas ordenadas\n",
    "\n",
    "ordered_labels = X_train.groupby(['Neighborhood'\n",
    "                                  ])['SalePrice'].mean().sort_values().index\n",
    "\n",
    "ordered_labels"
   ]
  },
  {
   "cell_type": "code",
   "execution_count": 35,
   "metadata": {
    "scrolled": true
   },
   "outputs": [
    {
     "data": {
      "text/plain": [
       "{'IDOTRR': 0,\n",
       " 'BrDale': 1,\n",
       " 'MeadowV': 2,\n",
       " 'Edwards': 3,\n",
       " 'BrkSide': 4,\n",
       " 'OldTown': 5,\n",
       " 'Sawyer': 6,\n",
       " 'Blueste': 7,\n",
       " 'SWISU': 8,\n",
       " 'NPkVill': 9,\n",
       " 'NAmes': 10,\n",
       " 'Mitchel': 11,\n",
       " 'SawyerW': 12,\n",
       " 'Gilbert': 13,\n",
       " 'NWAmes': 14,\n",
       " 'Blmngtn': 15,\n",
       " 'CollgCr': 16,\n",
       " 'ClearCr': 17,\n",
       " 'Crawfor': 18,\n",
       " 'Somerst': 19,\n",
       " 'Veenker': 20,\n",
       " 'Timber': 21,\n",
       " 'NridgHt': 22,\n",
       " 'StoneBr': 23,\n",
       " 'NoRidge': 24}"
      ]
     },
     "execution_count": 35,
     "metadata": {},
     "output_type": "execute_result"
    }
   ],
   "source": [
    "# ahora creamos un diccionario con el mapeo entre las categorías y números\n",
    "\n",
    "ordinal_mapping = {k: i for i, k in enumerate(ordered_labels, 0)}\n",
    "\n",
    "ordinal_mapping"
   ]
  },
  {
   "cell_type": "code",
   "execution_count": 36,
   "metadata": {},
   "outputs": [],
   "source": [
    "# ahora reemplazamos las etiquetas con los números enteros\n",
    "\n",
    "X_train['Neighborhood'] = X_train['Neighborhood'].map(ordinal_mapping)\n",
    "X_test['Neighborhood'] = X_test['Neighborhood'].map(ordinal_mapping)"
   ]
  },
  {
   "cell_type": "code",
   "execution_count": 37,
   "metadata": {},
   "outputs": [
    {
     "data": {
      "text/plain": [
       "64      16\n",
       "682     17\n",
       "960      4\n",
       "1384     3\n",
       "1100     8\n",
       "416      6\n",
       "1034    18\n",
       "853     10\n",
       "472      3\n",
       "1011     3\n",
       "Name: Neighborhood, dtype: int64"
      ]
     },
     "execution_count": 37,
     "metadata": {},
     "output_type": "execute_result"
    }
   ],
   "source": [
    "# miremos los resultados\n",
    "\n",
    "X_train['Neighborhood'].head(10)"
   ]
  },
  {
   "cell_type": "code",
   "execution_count": 38,
   "metadata": {},
   "outputs": [],
   "source": [
    "# agrupemos los comandos anteriores en dos funciones\n",
    "\n",
    "def find_category_mappings(df, variable, target):\n",
    "\n",
    "    # primero generar la lista de las etiquetas ordenadas\n",
    "    ordered_labels = X_train.groupby([variable\n",
    "                                      ])[target].mean().sort_values().index\n",
    "\n",
    "    # devolver el diccionario con el mapeo\n",
    "    return {k: i for i, k in enumerate(ordered_labels, 0)}\n",
    "\n",
    "\n",
    "def integer_encode(train, test, variable, ordinal_mapping):\n",
    "\n",
    "    X_train[variable] = X_train[variable].map(ordinal_mapping)\n",
    "    X_test[variable] = X_test[variable].map(ordinal_mapping)"
   ]
  },
  {
   "cell_type": "code",
   "execution_count": 39,
   "metadata": {},
   "outputs": [],
   "source": [
    "# ahora repitamos el proceso para cada una de las variables categóricas\n",
    "\n",
    "for variable in ['Exterior1st', 'Exterior2nd']:\n",
    "\n",
    "    mappings = find_category_mappings(X_train, variable, 'SalePrice')\n",
    "\n",
    "    integer_encode(X_train, X_test, variable, mappings)"
   ]
  },
  {
   "cell_type": "code",
   "execution_count": 40,
   "metadata": {},
   "outputs": [
    {
     "data": {
      "text/html": [
       "<div>\n",
       "<style scoped>\n",
       "    .dataframe tbody tr th:only-of-type {\n",
       "        vertical-align: middle;\n",
       "    }\n",
       "\n",
       "    .dataframe tbody tr th {\n",
       "        vertical-align: top;\n",
       "    }\n",
       "\n",
       "    .dataframe thead th {\n",
       "        text-align: right;\n",
       "    }\n",
       "</style>\n",
       "<table border=\"1\" class=\"dataframe\">\n",
       "  <thead>\n",
       "    <tr style=\"text-align: right;\">\n",
       "      <th></th>\n",
       "      <th>Neighborhood</th>\n",
       "      <th>Exterior1st</th>\n",
       "      <th>Exterior2nd</th>\n",
       "      <th>SalePrice</th>\n",
       "    </tr>\n",
       "  </thead>\n",
       "  <tbody>\n",
       "    <tr>\n",
       "      <th>64</th>\n",
       "      <td>16</td>\n",
       "      <td>11</td>\n",
       "      <td>13</td>\n",
       "      <td>219500</td>\n",
       "    </tr>\n",
       "    <tr>\n",
       "      <th>682</th>\n",
       "      <td>17</td>\n",
       "      <td>5</td>\n",
       "      <td>7</td>\n",
       "      <td>173000</td>\n",
       "    </tr>\n",
       "    <tr>\n",
       "      <th>960</th>\n",
       "      <td>4</td>\n",
       "      <td>5</td>\n",
       "      <td>8</td>\n",
       "      <td>116500</td>\n",
       "    </tr>\n",
       "    <tr>\n",
       "      <th>1384</th>\n",
       "      <td>3</td>\n",
       "      <td>4</td>\n",
       "      <td>4</td>\n",
       "      <td>105000</td>\n",
       "    </tr>\n",
       "    <tr>\n",
       "      <th>1100</th>\n",
       "      <td>8</td>\n",
       "      <td>5</td>\n",
       "      <td>7</td>\n",
       "      <td>60000</td>\n",
       "    </tr>\n",
       "  </tbody>\n",
       "</table>\n",
       "</div>"
      ],
      "text/plain": [
       "      Neighborhood  Exterior1st  Exterior2nd  SalePrice\n",
       "64              16           11           13     219500\n",
       "682             17            5            7     173000\n",
       "960              4            5            8     116500\n",
       "1384             3            4            4     105000\n",
       "1100             8            5            7      60000"
      ]
     },
     "execution_count": 40,
     "metadata": {},
     "output_type": "execute_result"
    }
   ],
   "source": [
    "# veamos el resultado\n",
    "\n",
    "X_train.head()"
   ]
  },
  {
   "cell_type": "code",
   "execution_count": 41,
   "metadata": {},
   "outputs": [
    {
     "data": {
      "image/png": "[encoded data removed]",
      "text/plain": [
       "<Figure size 432x288 with 1 Axes>"
      ]
     },
     "metadata": {
      "needs_background": "light"
     },
     "output_type": "display_data"
    },
    {
     "data": {
      "image/png": "[encoded data removed]",
      "text/plain": [
       "<Figure size 432x288 with 1 Axes>"
      ]
     },
     "metadata": {
      "needs_background": "light"
     },
     "output_type": "display_data"
    },
    {
     "data": {
      "image/png": "[encoded data removed]",
      "text/plain": [
       "<Figure size 432x288 with 1 Axes>"
      ]
     },
     "metadata": {
      "needs_background": "light"
     },
     "output_type": "display_data"
    }
   ],
   "source": [
    "# inspeccionemos la relación monotónica\n",
    "# entre la variable y el target\n",
    "\n",
    "for var in ['Neighborhood', 'Exterior1st', 'Exterior2nd']:\n",
    "    \n",
    "    fig = plt.figure()\n",
    "    fig = X_train.groupby([var])['SalePrice'].mean().plot()\n",
    "    fig.set_title('Relación monotónica entre{} y SalePrice'.format(var))\n",
    "    fig.set_ylabel('Media SalePrice (target)')\n",
    "    plt.show()"
   ]
  },
  {
   "cell_type": "markdown",
   "metadata": {},
   "source": [
    "Como podemos ver en las gráficas, la relación entre las categorías y el target ahora es monotónica, y para las primeras dos variables es casi lineal, lo cual ayuda a mejorar el desempeño de los modelos lineales.\n",
    "\n",
    "### Nota\n",
    "\n",
    "Monotonía no significa estrictamente lineal. Monotonía significa que se incrementa (o decrece) constantemente.\n",
    "\n",
    "Reemplazar las etiquetas con el código anterior, va a generar valores faltantes para las categorías presentes en el set de prueba pero que no lo están en el set de entrenamiento.\n",
    "\n",
    "Por lo tanto es extremadamente importante, manejar las etiquetas poco comunes con prelación. Explicaremos como hacer esto más adelante en otro notebook.\n"
   ]
  },
  {
   "cell_type": "markdown",
   "metadata": {},
   "source": [
    "##  Codificación por números ordinales con Feature-Engine\n",
    "\n",
    "Si usamos Feature-Engine, en lugar de pandas, no tenemos que mantener la variable target en los datos.\n"
   ]
  },
  {
   "cell_type": "code",
   "execution_count": 42,
   "metadata": {},
   "outputs": [
    {
     "data": {
      "text/plain": [
       "((1022, 3), (438, 3))"
      ]
     },
     "execution_count": 42,
     "metadata": {},
     "output_type": "execute_result"
    }
   ],
   "source": [
    "# separemos en sets de prueba y entrenamiento\n",
    "\n",
    "X_train, X_test, y_train, y_test = train_test_split(\n",
    "    data[['Neighborhood', 'Exterior1st', 'Exterior2nd']],  # predictores\n",
    "    data['SalePrice'],  # target\n",
    "    test_size=0.3,  # porcentaje observaciones prueba\n",
    "    random_state=0)  # semilla para asegurar reproducibilidad\n",
    "\n",
    "X_train.shape, X_test.shape"
   ]
  },
  {
   "cell_type": "code",
   "execution_count": 43,
   "metadata": {},
   "outputs": [],
   "source": [
    "ordinal_enc = OrdinalCategoricalEncoder(\n",
    "    # NOTA necesitamos fijar el parámetro encoding_method con el \n",
    "    # valor 'ordered', de lo contrario los números\n",
    "    # serán asignados arbitrariamente\n",
    "    encoding_method='ordered',\n",
    "    variables=['Neighborhood', 'Exterior1st', 'Exterior2nd'])"
   ]
  },
  {
   "cell_type": "code",
   "execution_count": 44,
   "metadata": {},
   "outputs": [
    {
     "data": {
      "text/plain": [
       "OrdinalCategoricalEncoder(encoding_method='ordered',\n",
       "                          variables=['Neighborhood', 'Exterior1st',\n",
       "                                     'Exterior2nd'])"
      ]
     },
     "execution_count": 44,
     "metadata": {},
     "output_type": "execute_result"
    }
   ],
   "source": [
    "# cuando ajustamos el transformador, necesitamos pasar también el target\n",
    "# al igual que cuando usamos un predictor en Scikit-learn \n",
    "\n",
    "ordinal_enc.fit(X_train, y_train)"
   ]
  },
  {
   "cell_type": "code",
   "execution_count": 45,
   "metadata": {
    "scrolled": true
   },
   "outputs": [
    {
     "data": {
      "text/plain": [
       "{'Neighborhood': {'IDOTRR': 0,\n",
       "  'BrDale': 1,\n",
       "  'MeadowV': 2,\n",
       "  'Edwards': 3,\n",
       "  'BrkSide': 4,\n",
       "  'OldTown': 5,\n",
       "  'Sawyer': 6,\n",
       "  'Blueste': 7,\n",
       "  'SWISU': 8,\n",
       "  'NPkVill': 9,\n",
       "  'NAmes': 10,\n",
       "  'Mitchel': 11,\n",
       "  'SawyerW': 12,\n",
       "  'Gilbert': 13,\n",
       "  'NWAmes': 14,\n",
       "  'Blmngtn': 15,\n",
       "  'CollgCr': 16,\n",
       "  'ClearCr': 17,\n",
       "  'Crawfor': 18,\n",
       "  'Somerst': 19,\n",
       "  'Veenker': 20,\n",
       "  'Timber': 21,\n",
       "  'NridgHt': 22,\n",
       "  'StoneBr': 23,\n",
       "  'NoRidge': 24},\n",
       " 'Exterior1st': {'BrkComm': 0,\n",
       "  'AsphShn': 1,\n",
       "  'CBlock': 2,\n",
       "  'AsbShng': 3,\n",
       "  'WdShing': 4,\n",
       "  'Wd Sdng': 5,\n",
       "  'MetalSd': 6,\n",
       "  'HdBoard': 7,\n",
       "  'Plywood': 8,\n",
       "  'Stucco': 9,\n",
       "  'BrkFace': 10,\n",
       "  'VinylSd': 11,\n",
       "  'CemntBd': 12,\n",
       "  'Stone': 13,\n",
       "  'ImStucc': 14},\n",
       " 'Exterior2nd': {'AsphShn': 0,\n",
       "  'CBlock': 1,\n",
       "  'AsbShng': 2,\n",
       "  'Brk Cmn': 3,\n",
       "  'Wd Shng': 4,\n",
       "  'MetalSd': 5,\n",
       "  'Stone': 6,\n",
       "  'Wd Sdng': 7,\n",
       "  'Plywood': 8,\n",
       "  'HdBoard': 9,\n",
       "  'Stucco': 10,\n",
       "  'BrkFace': 11,\n",
       "  'ImStucc': 12,\n",
       "  'VinylSd': 13,\n",
       "  'CmentBd': 14,\n",
       "  'Other': 15}}"
      ]
     },
     "execution_count": 45,
     "metadata": {},
     "output_type": "execute_result"
    }
   ],
   "source": [
    "# en el atributo encoder_dict_ del codificador podemos ver cada una \n",
    "# de las categorías más importantes seleccionadas por cada variable\n",
    "\n",
    "ordinal_enc.encoder_dict_"
   ]
  },
  {
   "cell_type": "code",
   "execution_count": 46,
   "metadata": {},
   "outputs": [
    {
     "data": {
      "text/plain": [
       "['Neighborhood', 'Exterior1st', 'Exterior2nd']"
      ]
     },
     "execution_count": 46,
     "metadata": {},
     "output_type": "execute_result"
    }
   ],
   "source": [
    "# esta es la lista de variables que el codificador transforma\n",
    "ordinal_enc.variables"
   ]
  },
  {
   "cell_type": "code",
   "execution_count": 47,
   "metadata": {},
   "outputs": [
    {
     "data": {
      "text/html": [
       "<div>\n",
       "<style scoped>\n",
       "    .dataframe tbody tr th:only-of-type {\n",
       "        vertical-align: middle;\n",
       "    }\n",
       "\n",
       "    .dataframe tbody tr th {\n",
       "        vertical-align: top;\n",
       "    }\n",
       "\n",
       "    .dataframe thead th {\n",
       "        text-align: right;\n",
       "    }\n",
       "</style>\n",
       "<table border=\"1\" class=\"dataframe\">\n",
       "  <thead>\n",
       "    <tr style=\"text-align: right;\">\n",
       "      <th></th>\n",
       "      <th>Neighborhood</th>\n",
       "      <th>Exterior1st</th>\n",
       "      <th>Exterior2nd</th>\n",
       "    </tr>\n",
       "  </thead>\n",
       "  <tbody>\n",
       "    <tr>\n",
       "      <th>64</th>\n",
       "      <td>16</td>\n",
       "      <td>11</td>\n",
       "      <td>13</td>\n",
       "    </tr>\n",
       "    <tr>\n",
       "      <th>682</th>\n",
       "      <td>17</td>\n",
       "      <td>5</td>\n",
       "      <td>7</td>\n",
       "    </tr>\n",
       "    <tr>\n",
       "      <th>960</th>\n",
       "      <td>4</td>\n",
       "      <td>5</td>\n",
       "      <td>8</td>\n",
       "    </tr>\n",
       "    <tr>\n",
       "      <th>1384</th>\n",
       "      <td>3</td>\n",
       "      <td>4</td>\n",
       "      <td>4</td>\n",
       "    </tr>\n",
       "    <tr>\n",
       "      <th>1100</th>\n",
       "      <td>8</td>\n",
       "      <td>5</td>\n",
       "      <td>7</td>\n",
       "    </tr>\n",
       "  </tbody>\n",
       "</table>\n",
       "</div>"
      ],
      "text/plain": [
       "      Neighborhood  Exterior1st  Exterior2nd\n",
       "64              16           11           13\n",
       "682             17            5            7\n",
       "960              4            5            8\n",
       "1384             3            4            4\n",
       "1100             8            5            7"
      ]
     },
     "execution_count": 47,
     "metadata": {},
     "output_type": "execute_result"
    }
   ],
   "source": [
    "X_train = ordinal_enc.transform(X_train)\n",
    "X_test = ordinal_enc.transform(X_test)\n",
    "\n",
    "# exploremos el resutado\n",
    "X_train.head()"
   ]
  },
  {
   "cell_type": "markdown",
   "metadata": {},
   "source": [
    "**Nota**\n",
    "\n",
    "Si el argmento 'variables' se fija en 'None' (ninguno), entonces el codificador automáticamente indentificará  **todas las variables categóricas**. Maravilloso verdad?\n",
    "\n",
    "El codificador no codificará las variables numéricas. Por lo tanto, si algunas de tus variables categóricas son de hecho numéricas, necesitas hacer el 're-cast' o cambio a tipo 'object' antes de usar el codificador.\n",
    "\n",
    "Si hay una variable en el set de prueba, para el cual el codificador no tiene un número para asignar ( la categoría no estaba presente en el set de entrenamiento), el codificador devolverá un error para alertarte del problema\n",
    "\n"
   ]
  }
 ],
 "metadata": {
  "kernelspec": {
   "display_name": "feml",
   "language": "python",
   "name": "feml"
  },
  "language_info": {
   "codemirror_mode": {
    "name": "ipython",
    "version": 3
   },
   "file_extension": ".py",
   "mimetype": "text/x-python",
   "name": "python",
   "nbconvert_exporter": "python",
   "pygments_lexer": "ipython3",
   "version": "3.8.2"
  },
  "toc": {
   "base_numbering": 1,
   "nav_menu": {},
   "number_sections": true,
   "sideBar": true,
   "skip_h1_title": false,
   "title_cell": "Table of Contents",
   "title_sidebar": "Contents",
   "toc_cell": false,
   "toc_position": {},
   "toc_section_display": "block",
   "toc_window_display": true
  }
 },
 "nbformat": 4,
 "nbformat_minor": 2
}
